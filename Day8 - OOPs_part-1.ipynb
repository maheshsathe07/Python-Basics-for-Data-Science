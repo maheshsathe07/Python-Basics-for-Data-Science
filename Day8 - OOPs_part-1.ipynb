{
 "cells": [
  {
   "cell_type": "code",
   "execution_count": 2,
   "id": "28560dc7-65ed-4349-83b3-4c721eb15051",
   "metadata": {},
   "outputs": [],
   "source": [
    "# class - denotes blueprint of reallife object\n",
    "#- classification of the reallife entity\n",
    "#- able to understand about properties but not detailed specification"
   ]
  },
  {
   "cell_type": "code",
   "execution_count": 3,
   "id": "c9d9c6c7-db21-41fb-bcd5-4126859a1b70",
   "metadata": {},
   "outputs": [],
   "source": [
    "# why to use class? - when there are n no. of things then it is better segreagate them that what the classes do in case of programming\n",
    "# so that code is simpler, clear, better, improve reusability, modular coding.\n",
    "# for that we use OOPs concept."
   ]
  },
  {
   "cell_type": "code",
   "execution_count": 1,
   "id": "c1712534-a486-454c-ac9f-100f7489b129",
   "metadata": {},
   "outputs": [],
   "source": [
    "# create a class\n",
    "class test :\n",
    "    pass # if we dont want to define anything"
   ]
  },
  {
   "cell_type": "code",
   "execution_count": 5,
   "id": "54b98ba5-7449-43e3-b49c-b377d8d5b081",
   "metadata": {},
   "outputs": [
    {
     "name": "stdout",
     "output_type": "stream",
     "text": [
      "<class '__main__.test'>\n"
     ]
    }
   ],
   "source": [
    "a = test() # a is called object realworld entity\n",
    "# a is called variable/instance/object of class test\n",
    "print(type(a))"
   ]
  },
  {
   "cell_type": "code",
   "execution_count": 9,
   "id": "fd422726-fa2d-42e0-a628-3458a3615ed3",
   "metadata": {},
   "outputs": [],
   "source": [
    "# using object we can invoke properties of class\n",
    "class pwskills:\n",
    "    \n",
    "    def welcome_msg(self):  #self is reference  so that class knows that this method belong it (class)\n",
    "        print(\"welcome to pw\")"
   ]
  },
  {
   "cell_type": "code",
   "execution_count": 8,
   "id": "2257d2c7-9484-4acd-9e61-45d50d426763",
   "metadata": {},
   "outputs": [
    {
     "name": "stdout",
     "output_type": "stream",
     "text": [
      "welcome to pw\n"
     ]
    }
   ],
   "source": [
    "obj1 = pwskills()\n",
    "obj1.welcome_msg()"
   ]
  },
  {
   "cell_type": "code",
   "execution_count": 16,
   "id": "61e77446-e514-4f53-9286-a9184a7122e9",
   "metadata": {},
   "outputs": [],
   "source": [
    "class pw1:\n",
    "    def __init__(self, phone_no, email_id, stud_id):\n",
    "  #__init__ is a constructor always trying to take data created during object creation.\n",
    "  #it will pass this data to class.\n",
    "        self.phone_no = phone_no\n",
    "        self.email_id = email_id\n",
    "        self.stud_id = stud_id\n",
    "        \n",
    "    #internal method\n",
    "    def return_stud_details(self):\n",
    "        return self.phone_no, self.email_id, self.stud_id"
   ]
  },
  {
   "cell_type": "code",
   "execution_count": 14,
   "id": "ff7a557b-af1f-408c-a8cc-672bc435a721",
   "metadata": {},
   "outputs": [],
   "source": [
    "rohan = pw1(546464, 'rohan@gmail.com', 101)"
   ]
  },
  {
   "cell_type": "code",
   "execution_count": 20,
   "id": "85b868e0-823b-4f20-b245-9d7bbc3ac28a",
   "metadata": {},
   "outputs": [
    {
     "data": {
      "text/plain": [
       "546464"
      ]
     },
     "execution_count": 20,
     "metadata": {},
     "output_type": "execute_result"
    }
   ],
   "source": [
    "# accessing data outside the class by creating objects.\n",
    "rohan.phone_no"
   ]
  },
  {
   "cell_type": "code",
   "execution_count": 18,
   "id": "ec8c4ac6-1d48-4c86-9993-22b0d534f0c5",
   "metadata": {},
   "outputs": [
    {
     "data": {
      "text/plain": [
       "'rohan@gmail.com'"
      ]
     },
     "execution_count": 18,
     "metadata": {},
     "output_type": "execute_result"
    }
   ],
   "source": [
    "rohan.email_id"
   ]
  },
  {
   "cell_type": "code",
   "execution_count": 19,
   "id": "f1666eed-1c5a-4539-a63b-1f13ea0485a0",
   "metadata": {},
   "outputs": [
    {
     "data": {
      "text/plain": [
       "101"
      ]
     },
     "execution_count": 19,
     "metadata": {},
     "output_type": "execute_result"
    }
   ],
   "source": [
    "rohan.stud_id"
   ]
  },
  {
   "cell_type": "code",
   "execution_count": 21,
   "id": "32d2da49-2b58-491b-bedb-566b23bb657e",
   "metadata": {},
   "outputs": [
    {
     "data": {
      "text/plain": [
       "(546464, 'rohan@gmail.com', 101)"
      ]
     },
     "execution_count": 21,
     "metadata": {},
     "output_type": "execute_result"
    }
   ],
   "source": [
    "# accessing class method- \n",
    "rohan.return_stud_details()"
   ]
  },
  {
   "cell_type": "code",
   "execution_count": 22,
   "id": "850a6d89-8d4d-4df1-9102-68e47ad5b967",
   "metadata": {},
   "outputs": [],
   "source": [
    "sohan = pw1(46365545, 'sohan@gmail.com', 102)"
   ]
  },
  {
   "cell_type": "code",
   "execution_count": 23,
   "id": "4ea2ac4c-e8af-427e-a789-b8d9f6995811",
   "metadata": {},
   "outputs": [
    {
     "data": {
      "text/plain": [
       "'sohan@gmail.com'"
      ]
     },
     "execution_count": 23,
     "metadata": {},
     "output_type": "execute_result"
    }
   ],
   "source": [
    "sohan.email_id"
   ]
  },
  {
   "cell_type": "markdown",
   "id": "c8264552-4934-47cb-b418-57c3ac251020",
   "metadata": {},
   "source": [
    "#### accessing data inside class is done using 'self'. it is not the keyword it is refernce to the class"
   ]
  },
  {
   "cell_type": "code",
   "execution_count": 25,
   "id": "1392205e-f879-4108-ba74-254e5088c1a7",
   "metadata": {},
   "outputs": [],
   "source": [
    "class pw2:\n",
    "    def __init__(sudh, phone_no, email_id, stud_id):\n",
    "  #__init__ is a constructor always trying to take data created during object creation.\n",
    "  #it will pass this data to class.\n",
    "        sudh.phone_no = phone_no\n",
    "        sudh.email_id = email_id\n",
    "        sudh.stud_id = stud_id\n",
    "        \n",
    "    #internal method\n",
    "    def return_stud_details(self):\n",
    "        return sudh.phone_no, sudh.email_id, sudh.stud_id\n",
    "    "
   ]
  },
  {
   "cell_type": "code",
   "execution_count": 26,
   "id": "a7c0fa17-275c-4bda-a721-776e1b754921",
   "metadata": {},
   "outputs": [],
   "source": [
    "mohan = pw2(46456544545, 'mohan@gmail.com', 1212)"
   ]
  },
  {
   "cell_type": "code",
   "execution_count": 27,
   "id": "879dbbf1-3bbf-4f13-964b-a99b9f7e440e",
   "metadata": {},
   "outputs": [
    {
     "data": {
      "text/plain": [
       "46456544545"
      ]
     },
     "execution_count": 27,
     "metadata": {},
     "output_type": "execute_result"
    }
   ],
   "source": [
    "mohan.phone_no"
   ]
  },
  {
   "cell_type": "markdown",
   "id": "8d6ab327-8c78-4f9a-b049-b636b63210cc",
   "metadata": {},
   "source": [
    "#### instead of using 'self' keyword we are able to give class refernce so 'self' in not the keyword it is only refernce to class."
   ]
  },
  {
   "cell_type": "code",
   "execution_count": 28,
   "id": "1f1e0e4b-9a6c-49a7-9adc-b3133dd8da11",
   "metadata": {},
   "outputs": [],
   "source": [
    "# something must have to written on behalf of self."
   ]
  },
  {
   "cell_type": "code",
   "execution_count": 38,
   "id": "0f717434-658d-4f09-88a4-670a760830e3",
   "metadata": {},
   "outputs": [],
   "source": [
    "class pw3:\n",
    "    def __init__(sudh, phone_no, email_id, stud_id):\n",
    "  #__init__ is a constructor always trying to take data created during object creation.\n",
    "  #it will pass this data to class.\n",
    "        sudh.phone_no1 = phone_no\n",
    "        sudh.email_id = email_id\n",
    "        sudh.stud_id = stud_id\n",
    "        \n",
    "    #internal method\n",
    "    def return_stud_details(sudh):\n",
    "        return sudh.phone_no1, sudh.email_id, sudh.stud_id\n",
    "    "
   ]
  },
  {
   "cell_type": "code",
   "execution_count": 41,
   "id": "5dfa188d-d80c-482d-add3-6ef193b81d3b",
   "metadata": {},
   "outputs": [],
   "source": [
    "rohan = pw3(665555, 'r@gmail.com', 123) # assigning values using constructor"
   ]
  },
  {
   "cell_type": "code",
   "execution_count": 33,
   "id": "870bbcd3-51e0-4b17-848c-822e2f7aac1c",
   "metadata": {},
   "outputs": [
    {
     "data": {
      "text/plain": [
       "665555"
      ]
     },
     "execution_count": 33,
     "metadata": {},
     "output_type": "execute_result"
    }
   ],
   "source": [
    "rohan.phone_no1  # always keep properties related class as it understand that only"
   ]
  },
  {
   "cell_type": "code",
   "execution_count": 40,
   "id": "f0a47868-3ad6-48c8-a761-eeadd20d68c3",
   "metadata": {},
   "outputs": [
    {
     "data": {
      "text/plain": [
       "(665555, 'r@gmail.com', 123)"
      ]
     },
     "execution_count": 40,
     "metadata": {},
     "output_type": "execute_result"
    }
   ],
   "source": [
    "rohan.return_stud_details()"
   ]
  }
 ],
 "metadata": {
  "kernelspec": {
   "display_name": "Python 3 (ipykernel)",
   "language": "python",
   "name": "python3"
  },
  "language_info": {
   "codemirror_mode": {
    "name": "ipython",
    "version": 3
   },
   "file_extension": ".py",
   "mimetype": "text/x-python",
   "name": "python",
   "nbconvert_exporter": "python",
   "pygments_lexer": "ipython3",
   "version": "3.10.8"
  }
 },
 "nbformat": 4,
 "nbformat_minor": 5
}
