{
 "cells": [
  {
   "cell_type": "code",
   "execution_count": 1,
   "id": "36c37e67-c207-4f32-9627-da6dca7a38b6",
   "metadata": {},
   "outputs": [],
   "source": [
    "#Q1, Create a vehicle class with an init method having instance variables as name_of_vehicle, max_speed and average_of_vehicle. "
   ]
  },
  {
   "cell_type": "code",
   "execution_count": 5,
   "id": "3586155e-722e-4b34-b6fa-f5071550020d",
   "metadata": {},
   "outputs": [],
   "source": [
    "class vehicle :\n",
    "    def __init__(self, name_of_vehicle, max_speed, average_of_vehicle) :\n",
    "        self.name_of_vehicle = name_of_vehicle\n",
    "        self.max_speed = max_speed\n",
    "        self.average_of_vehicle = average_of_vehicle\n",
    "        \n",
    "    def return_vehicle_details(self) : \n",
    "        return self.name_of_vehicle, self.max_speed, self.average_of_vehicle\n",
    "        "
   ]
  },
  {
   "cell_type": "code",
   "execution_count": 10,
   "id": "fd70fd9a-88e9-4234-87e0-16937291eef5",
   "metadata": {},
   "outputs": [],
   "source": [
    "#Q2.  Create a child class car from the vehicle class created in Que 1, which will inherit the vehicle class.\n",
    "#Create a method named seating_capacity which takes capacity as an argument and returns the name of\n",
    "#the vehicle and its seating capacity."
   ]
  },
  {
   "cell_type": "code",
   "execution_count": 11,
   "id": "bb7b310d-a38b-4f2b-9236-5a617367475f",
   "metadata": {},
   "outputs": [],
   "source": [
    "class car(vehicle):\n",
    "    def seating_capacity(self,a):\n",
    "        return self.name_of_vehicle,a"
   ]
  },
  {
   "cell_type": "code",
   "execution_count": 16,
   "id": "71e04dad-96e3-4f47-8a85-5500ae1f7f1b",
   "metadata": {},
   "outputs": [],
   "source": [
    "obj_car = car('Innova', 100, 20)"
   ]
  },
  {
   "cell_type": "code",
   "execution_count": 17,
   "id": "ed3f0c05-4fb4-46da-b479-3bb9ca1c3b92",
   "metadata": {},
   "outputs": [
    {
     "data": {
      "text/plain": [
       "('Innova', 7)"
      ]
     },
     "execution_count": 17,
     "metadata": {},
     "output_type": "execute_result"
    }
   ],
   "source": [
    "obj_car.seating_capacity(7)"
   ]
  },
  {
   "cell_type": "code",
   "execution_count": 18,
   "id": "2238b1f3-fbc9-4ca5-ae9b-64cc0fd00cb6",
   "metadata": {},
   "outputs": [],
   "source": [
    "# Q3. What is multiple inheritance? Write a python code to demonstrate multiple inheritance."
   ]
  },
  {
   "cell_type": "code",
   "execution_count": 19,
   "id": "507aeb5c-3303-407b-a6a2-00b6e264a7d7",
   "metadata": {},
   "outputs": [],
   "source": [
    "#Ans - deriving a class from more than one class"
   ]
  },
  {
   "cell_type": "code",
   "execution_count": 22,
   "id": "0470dc00-0ddf-4e01-9379-2c58d1b1409c",
   "metadata": {},
   "outputs": [],
   "source": [
    "#code\n",
    "class A:\n",
    "    def print1(self):\n",
    "        return \"class A\""
   ]
  },
  {
   "cell_type": "code",
   "execution_count": 23,
   "id": "430fe040-33fc-40fc-929c-dc608ee97580",
   "metadata": {},
   "outputs": [],
   "source": [
    "class B:\n",
    "    def print2(self):\n",
    "        return \"classB\""
   ]
  },
  {
   "cell_type": "code",
   "execution_count": 24,
   "id": "0e2da5ec-8fdd-4580-8fc9-6b34c9bb45bb",
   "metadata": {},
   "outputs": [],
   "source": [
    "class C(A,B):\n",
    "    def print3(self):\n",
    "        return \"class C\""
   ]
  },
  {
   "cell_type": "code",
   "execution_count": 26,
   "id": "0275e2cd-afbf-4385-bcf2-b7e180f38907",
   "metadata": {},
   "outputs": [],
   "source": [
    "obj_c = C()"
   ]
  },
  {
   "cell_type": "code",
   "execution_count": 29,
   "id": "8ba02af4-8789-450a-9820-77b01fef98bf",
   "metadata": {},
   "outputs": [
    {
     "data": {
      "text/plain": [
       "'class A'"
      ]
     },
     "execution_count": 29,
     "metadata": {},
     "output_type": "execute_result"
    }
   ],
   "source": [
    "obj_c.print1()"
   ]
  },
  {
   "cell_type": "code",
   "execution_count": 30,
   "id": "61a6f762-d71a-42e9-96aa-89dc4a86b07b",
   "metadata": {},
   "outputs": [
    {
     "data": {
      "text/plain": [
       "'classB'"
      ]
     },
     "execution_count": 30,
     "metadata": {},
     "output_type": "execute_result"
    }
   ],
   "source": [
    "obj_c.print2()"
   ]
  },
  {
   "cell_type": "code",
   "execution_count": 31,
   "id": "05856753-4c57-4710-bbc2-2352df4edfe5",
   "metadata": {},
   "outputs": [
    {
     "data": {
      "text/plain": [
       "'class C'"
      ]
     },
     "execution_count": 31,
     "metadata": {},
     "output_type": "execute_result"
    }
   ],
   "source": [
    "obj_c.print3()"
   ]
  },
  {
   "cell_type": "code",
   "execution_count": 33,
   "id": "29c0dd30-c737-4c3f-ba2e-d80350c97c7e",
   "metadata": {},
   "outputs": [],
   "source": [
    "# Q4. What are getter and setter in python? Create a class and create a getter and a setter method in this class"
   ]
  },
  {
   "cell_type": "code",
   "execution_count": 40,
   "id": "54f482ed-e603-4a65-aff7-a1aecec212e1",
   "metadata": {},
   "outputs": [],
   "source": [
    "#Ans -  the main purpose of using getters and setters in object-oriented programs is to ensure data encapsulation.\n",
    "#Private variables in python are not actually hidden fields like in other object oriented languages. \n",
    "#Getters and Setters in python are often used when:\n",
    "#1. We use getters & setters to add validation logic around getting and setting a value.\n",
    "#2. To avoid direct access of a class field i.e. private variables cannot be accessed directly or modified by external user."
   ]
  },
  {
   "cell_type": "code",
   "execution_count": 41,
   "id": "c0009da8-7498-4956-a2ff-a52dd36b5105",
   "metadata": {},
   "outputs": [],
   "source": [
    "class age :\n",
    "    def __init__(self, age):\n",
    "        self.__age = age\n",
    "    \n",
    "    def get_age(self) :\n",
    "        return self.__age\n",
    "    \n",
    "    def set_age(self, a):\n",
    "        self.__age = a"
   ]
  },
  {
   "cell_type": "code",
   "execution_count": 42,
   "id": "d391d11b-a04d-4ef3-88d3-ffad2f2e73aa",
   "metadata": {},
   "outputs": [],
   "source": [
    "obj_age = age(18)"
   ]
  },
  {
   "cell_type": "code",
   "execution_count": 43,
   "id": "7c630bd4-4e8e-44bf-aa9a-22c0f149239e",
   "metadata": {},
   "outputs": [],
   "source": [
    "obj_age.set_age(19)"
   ]
  },
  {
   "cell_type": "code",
   "execution_count": 44,
   "id": "a1f6818e-610a-4291-8f8c-3a0bd58d9e7c",
   "metadata": {},
   "outputs": [
    {
     "data": {
      "text/plain": [
       "19"
      ]
     },
     "execution_count": 44,
     "metadata": {},
     "output_type": "execute_result"
    }
   ],
   "source": [
    "obj_age.get_age()"
   ]
  },
  {
   "cell_type": "code",
   "execution_count": 45,
   "id": "77530efc-ba6a-4cb4-ac18-8fdc8513cdf6",
   "metadata": {},
   "outputs": [],
   "source": [
    "#Q5.What is method overriding in python? Write a python code to demonstrate method overriding."
   ]
  },
  {
   "cell_type": "code",
   "execution_count": 55,
   "id": "3194defd-27e4-4322-a7f7-a37d869ca1fc",
   "metadata": {},
   "outputs": [],
   "source": [
    "# Ans - Method Overriding in Python is an OOPs concept closely related to inheritance.\n",
    "# When a child class has the method with same name that present in parent class then parent class method is not avaiable to child class.\n",
    "# The child class's method is called the overriding method and the parent class's method is called the overriden method."
   ]
  },
  {
   "cell_type": "code",
   "execution_count": 49,
   "id": "c0133355-822b-460f-ae46-42959e105fbd",
   "metadata": {},
   "outputs": [],
   "source": [
    "# Parent class - \n",
    "class Shape:\n",
    "    data1 = \"abc\"\n",
    "    \n",
    "    def no_of_sides(self):\n",
    "        print(\"from shape class\")\n",
    "              \n",
    "    def two_dimensional(self):\n",
    "              print(\"I'm 2D object\")"
   ]
  },
  {
   "cell_type": "code",
   "execution_count": 51,
   "id": "4a77bdfb-4214-4de2-aacf-f04ea003ee12",
   "metadata": {},
   "outputs": [],
   "source": [
    "class Square(Shape) :\n",
    "    data2 = \"XYZ\"\n",
    "    \n",
    "    def no_of_sides(self):\n",
    "        print(\"I have 4 sides\")\n",
    "        \n",
    "    def color(self):\n",
    "        print(\"I have red color\")"
   ]
  },
  {
   "cell_type": "code",
   "execution_count": 52,
   "id": "5604ad1a-ea6e-4067-9ea2-28f0e0d1f840",
   "metadata": {},
   "outputs": [],
   "source": [
    "sq = Square()"
   ]
  },
  {
   "cell_type": "code",
   "execution_count": 53,
   "id": "199c597d-71b5-4312-bd53-535876722d62",
   "metadata": {},
   "outputs": [
    {
     "name": "stdout",
     "output_type": "stream",
     "text": [
      "I have 4 sides\n"
     ]
    }
   ],
   "source": [
    "sq.no_of_sides()      #here child class method overrides that of parent class."
   ]
  }
 ],
 "metadata": {
  "kernelspec": {
   "display_name": "Python 3 (ipykernel)",
   "language": "python",
   "name": "python3"
  },
  "language_info": {
   "codemirror_mode": {
    "name": "ipython",
    "version": 3
   },
   "file_extension": ".py",
   "mimetype": "text/x-python",
   "name": "python",
   "nbconvert_exporter": "python",
   "pygments_lexer": "ipython3",
   "version": "3.10.8"
  }
 },
 "nbformat": 4,
 "nbformat_minor": 5
}
