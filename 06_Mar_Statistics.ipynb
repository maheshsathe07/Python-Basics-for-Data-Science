{
 "cells": [
  {
   "cell_type": "markdown",
   "id": "e4cae73f-601e-4277-b2f4-a6246e188812",
   "metadata": {},
   "source": [
    "Q1. What is Statistics?\n",
    "Ans - Statistics is the science of collecting, analyzing, presenting, and interpreting data. It is a branch of mathematics that deals with the collection, organization, analysis, interpretation, and presentation of data. Statistics is used in a wide variety of fields, including business, economics, government, education, and social sciences."
   ]
  },
  {
   "cell_type": "markdown",
   "id": "1124d0a2-821b-4106-bcc5-b94c7e515bf2",
   "metadata": {},
   "source": [
    "Q2. Define the different types of statistics and give an example of when each type might be used.\n",
    "Ans - \n",
    "The different types of statistics are as follows:\n",
    "\n",
    "i. Descriptive statistics: Descriptive statistics are used to describe the characteristics of a population. They can be used to summarize data, to find patterns, and to identify outliers. Some common descriptive statistics include the mean, median, mode, range, standard deviation, and variance.\n",
    "Ex- A company might use descriptive statistics to summarize the results of a customer satisfaction survey. This would help the company to identify areas where it could improve its customer service.\n",
    "\n",
    "ii. Inferential statistics: Inferential statistics are used to make inferences about a population based on data from a sample. They can be used to test hypotheses, to make predictions, and to estimate the size of an effect. Some common inferential statistics include the t-test, the ANOVA, and the chi-squared test.\n",
    "Ex - A researcher might use inferential statistics to test the hypothesis that a new drug is effective in treating a disease. This would help the researcher to determine whether the drug is safe and effective enough to be approved for use by the general public."
   ]
  },
  {
   "cell_type": "markdown",
   "id": "58646432-2923-47ef-90fd-6038f1d04e65",
   "metadata": {},
   "source": [
    "Q3. What are the different types of data and how do they differ from each other? Provide an example of\n",
    "each type of data.\n",
    "Ans - There are two main types of data: quantitative and qualitative.\n",
    "\n",
    "i. Quantitative data is data that can be measured and expressed in numbers. It can be further classified into discrete and continuous data.\n",
    "a. Discrete data is data that can only take on certain values, such as the number of students in a class or the number of cars sold in a month.\n",
    "Ex - The number of students in a class is discrete data because it can only take on certain values, such as 1, 2, 3, 4, and so on.\n",
    "\n",
    "b. Continuous data is data that can take on any value within a given range, such as the height of a person or the weight of an object.\n",
    "Ex -  The height of a person is continuous data because it can take on any value within a given range, such as 5 feet 10 inches, 5 feet 11 inches, and so on.\n",
    "\n",
    "ii. Qualitative data is data that cannot be measured or expressed in numbers. It can be further classified into nominal, ordinal, and interval data.\n",
    "a. Nominal data is data that is used to classify or categorize objects, such as the color of a car or the type of pet someone owns.\n",
    "Ex - The color of a car is nominal data because it is used to classify or categorize objects.\n",
    "\n",
    "b. Ordinal data is data that can be ordered, but the intervals between the values are not necessarily equal, such as the ranking of students in a class or the rating of a movie.\n",
    "Ex - The ranking of students in a class is ordinal data because the students can be ordered from highest to lowest, but the intervals between the rankings are not necessarily equal."
   ]
  },
  {
   "cell_type": "markdown",
   "id": "42fc9ce4-771c-4657-94e5-96d2cc8155da",
   "metadata": {},
   "source": [
    "Q4. Categorise the following datasets with respect to quantitative and qualitative data types:\n",
    "(i) Grading in exam: A+, A, B+, B, C+, C, D, E\n",
    "(ii) Colour of mangoes: yellow, green, orange, red\n",
    "(iii) Height data of a class: [178.9, 179, 179.5, 176, 177.2, 178.3, 175.8,...]\n",
    "(iv) Number of mangoes exported by a farm: [500, 600, 478, 672, ...]\n",
    "\n",
    "Ans - i. Grading in exam is a Qualitative data type with ranking so it is ordinal data.\n",
    "ii. Colour of mangoes is a Qualitative data type without ranking so it is nominal data.\n",
    "iii. Height data of a class is a Quantitative data type a and it has continuous data.\n",
    "iv. Number of mangoes exported by a farm is a Quantitative data type a and it has discrete data."
   ]
  },
  {
   "cell_type": "markdown",
   "id": "be05305c-8aaa-4bcd-9956-23db7f5cbea9",
   "metadata": {},
   "source": [
    "Q5. Explain the concept of levels of measurement and give an example of a variable for each level.\n",
    "Ans - The levels of measurement are a way of classifying data based on the amount of information that is contained in the data. There are four levels of measurement: nominal, ordinal, interval, and ratio.\n",
    "\n",
    "i. Nominal scale data is the least informative level of measurement. It is used to classify or categorize data into mutually exclusive categories. For example, the variable \"gender\" is nominal data because it can be categorized into two mutually exclusive categories: male and female.\n",
    "\n",
    "ii. Ordinal scale data is a more informative level of measurement than nominal data. It can be ordered or ranked, but the intervals between the values are not necessarily equal. For example, the variable \"test scores\" is ordinal data because the students can be ranked from highest to lowest, but the difference between a score of 90 and a score of 95 is not necessarily the same as the difference between a score of 80 and a score of 85.\n",
    "\n",
    "iii. Interval scale data is a still more informative level of measurement than ordinal data. It has equal intervals between the values, but there is no true zero point. For example, the variable \"temperature\" is interval data because the difference between 20 degrees Celsius and 30 degrees Celsius is the same as the difference between 30 degrees Celsius and 40 degrees Celsius.\n",
    "\n",
    "iv. Ratio scale data is the most informative level of measurement. It has all of the properties of interval data, plus it has a true zero point. For example, the variable \"weight\" is ratio data because it has a true zero point. A weight of 0 kilograms means that there is no weight at all."
   ]
  },
  {
   "cell_type": "markdown",
   "id": "baf82303-c24d-4a8a-832b-0c463ae61462",
   "metadata": {},
   "source": [
    "Q6. Why is it important to understand the level of measurement when analyzing data? Provide an\n",
    "example to illustrate your answer.\n",
    "Ans - It is important to understand the level of measurement when analyzing data because the level of measurement determines the type of statistical analysis that can be used on the data. \n",
    "For example - Suppose you are interested in the relationship between gender and income. You collect data on the gender and income of a sample of people. The gender variable is nominal data, and the income variable is interval data. If you use a statistical test that is not appropriate for the level of measurement of your data, you may get a false positive result. A false positive result is a result that suggests that there is a relationship between two variables when there is actually no relationship. In this case, a false positive result would mean that you would conclude that there is a relationship between gender and income when there actually is no relationship."
   ]
  },
  {
   "cell_type": "markdown",
   "id": "84743518-4ab6-43cc-adbe-8c9887cc5c05",
   "metadata": {},
   "source": [
    "Q7. How nominal data type is different from ordinal data type.\n",
    "Ans - Nominal and ordinal data are both categorical data. However, there is a key difference between the two types of data. Nominal data does not have any inherent order/ranking, whereas ordinal data has."
   ]
  },
  {
   "cell_type": "markdown",
   "id": "892dad45-fdb8-4190-abbd-17baaf4c60ae",
   "metadata": {},
   "source": [
    "Q8. Which type of plot can be used to display data in terms of range?\n",
    "Ans - \n",
    "There are a few different types of plots that can be used to display data in terms of range. Two common options are box plots and histograms.\n",
    "\n",
    "i. Box plots are a type of chart that shows the distribution of data by displaying the median, quartiles, and outliers. The median is the middle value in the data set, and the quartiles divide the data into four equal parts. Outliers are data points that are significantly different from the rest of the data set.\n",
    "\n",
    "ii. Histograms are a type of chart that shows the distribution of data by displaying the frequency of data points within a range. The data is divided into bins, and the height of each bin represents the number of data points in that bin.\n",
    "\n",
    "The best type of plot to use to display data in terms of range will depend on the specific data set and the goals of the analysis. Box plots are a good option for showing the distribution of data and identifying outliers. Histograms are a good option for showing the frequency of data points within a range."
   ]
  },
  {
   "cell_type": "markdown",
   "id": "7ed56c5e-1a15-4b56-a5e5-3417bdca4cb5",
   "metadata": {},
   "source": [
    "Q9. Describe the difference between descriptive and inferential statistics. Give an example of each\n",
    "type of statistics and explain how they are used.\n",
    "Ans - \n",
    "Descriptive statistics are used to summarize data and describe its main features, such as its central tendency, variability, and distribution.\n",
    "Inferential statistics are used to make inferences about a population based on data from a sample.\n",
    "\n",
    "Here are some examples of descriptive statistics:\n",
    "Mean: The mean is the average of a set of data. It is calculated by adding up all the values in the data set and dividing by the number of values.\n",
    "Median: The median is the middle value in a data set. It is calculated by arranging the data set in ascending order and finding the value in the middle.\n",
    "Mode: The mode is the most frequent value in a data set. It is calculated by counting the number of times each value appears in the data set and finding the value that appears the most often.\n",
    "\n",
    "Here are some examples of inferential statistics:\n",
    "t-test: A t-test is used to compare the means of two groups. It is a parametric test, which means that it assumes that the data is normally distributed.\n",
    "ANOVA: ANOVA is used to compare the means of three or more groups. It is also a parametric test.\n",
    "Chi-squared test: A chi-squared test is used to compare the distribution of data in two or more groups. It is a non-parametric test, which means that it does not assume that the data is normally distributed.\n",
    "Descriptive statistics are used to describe the data that you have collected. Inferential statistics are used to make inferences about a population based on the data that you have collected.\n",
    "\n",
    "For example, descriptive statistics use to describe the heights of a group of students.\n",
    "\n",
    "inferential statistics use to make inferences about the heights of all students in a school based on the heights of the students in your sample. You could use a t-test to compare the mean heights of the students in your sample to the mean heights of all students in the school."
   ]
  },
  {
   "cell_type": "markdown",
   "id": "fdd39074-5948-43fc-be25-5679cebfb10b",
   "metadata": {},
   "source": [
    "Q10. What are some common measures of central tendency and variability used in statistics? Explain\n",
    "how each measure can be used to describe a dataset.\n",
    "Ans - Meansure of Central Tendency- Mean, median, mode.\n",
    "Measure of Variability - range, variance, standard deviation and IQR(interquartile range).\n",
    "\n",
    "Each of these measures can be used to describe a dataset in different ways. The mean, median, and mode can all be used to describe the central tendency of a dataset. The range, variance, and standard deviation can all be used to describe the variability of a dataset.\n",
    "\n",
    "The mean is the most commonly used measure of central tendency. It is easy to calculate and understand. However, it can be sensitive to outliers, which are data points that are significantly different from the rest of the data set.\n",
    "\n",
    "The median is not as sensitive to outliers as the mean. It is also a good measure of central tendency for data sets that are not normally distributed.\n",
    "\n",
    "The mode is the least commonly used measure of central tendency. It is easy to calculate, but it can be misleading if there are multiple modes in a data set.\n",
    "\n",
    "The range is the simplest measure of variability. It is easy to calculate, but it does not take into account the spread of the data around the mean.\n",
    "\n",
    "The variance is a more robust measure of variability than the range. It takes into account the spread of the data around the mean. However, it can be difficult to interpret.\n",
    "\n",
    "The standard deviation is the most commonly used measure of variability. It is easy to interpret and it is more robust than the range and the variance.\n",
    "\n",
    "The InterQuartile Range is a measure of variability, based on dividing a data set into quartiles. Quartiles divide a rank-ordered data set into four equal parts, with each part containing 25% of the data."
   ]
  }
 ],
 "metadata": {
  "kernelspec": {
   "display_name": "Python 3 (ipykernel)",
   "language": "python",
   "name": "python3"
  },
  "language_info": {
   "codemirror_mode": {
    "name": "ipython",
    "version": 3
   },
   "file_extension": ".py",
   "mimetype": "text/x-python",
   "name": "python",
   "nbconvert_exporter": "python",
   "pygments_lexer": "ipython3",
   "version": "3.10.8"
  }
 },
 "nbformat": 4,
 "nbformat_minor": 5
}
