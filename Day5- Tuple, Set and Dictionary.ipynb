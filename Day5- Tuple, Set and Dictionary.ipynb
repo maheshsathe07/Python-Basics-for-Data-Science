{
 "cells": [
  {
   "cell_type": "markdown",
   "id": "ac9ab5f2-dab4-4135-9609-d80b59d5b8cb",
   "metadata": {},
   "source": [
    "## Tuple"
   ]
  },
  {
   "cell_type": "code",
   "execution_count": 1,
   "id": "ad84d634-3d4b-4e6a-b99c-fc4e53c7864b",
   "metadata": {},
   "outputs": [
    {
     "data": {
      "text/plain": [
       "tuple"
      ]
     },
     "execution_count": 1,
     "metadata": {},
     "output_type": "execute_result"
    }
   ],
   "source": [
    "t = ()\n",
    "type(t)"
   ]
  },
  {
   "cell_type": "code",
   "execution_count": 2,
   "id": "753fd9dc-4266-4f27-97c8-9721607f553d",
   "metadata": {},
   "outputs": [
    {
     "data": {
      "text/plain": [
       "tuple"
      ]
     },
     "execution_count": 2,
     "metadata": {},
     "output_type": "execute_result"
    }
   ],
   "source": [
    "t1 = (1,2,3,4,45.45,45+7j,'Mahesh',True)\n",
    "type(t1)"
   ]
  },
  {
   "cell_type": "code",
   "execution_count": 3,
   "id": "f035986f-5363-4006-9ec4-64f0b7c9f033",
   "metadata": {},
   "outputs": [],
   "source": [
    "# list created using [] and tuple using ()\n",
    "# both may have element of different datatypes\n"
   ]
  },
  {
   "cell_type": "code",
   "execution_count": 4,
   "id": "70dfb7fb-8610-40b7-b030-bd7c558a37b5",
   "metadata": {},
   "outputs": [
    {
     "data": {
      "text/plain": [
       "(1, 2, 3, 4, 45.45, (45+7j), 'Mahesh', True)"
      ]
     },
     "execution_count": 4,
     "metadata": {},
     "output_type": "execute_result"
    }
   ],
   "source": [
    "t1"
   ]
  },
  {
   "cell_type": "code",
   "execution_count": 5,
   "id": "9ad9657b-2200-46e8-b791-5ec1a6d46af4",
   "metadata": {},
   "outputs": [
    {
     "data": {
      "text/plain": [
       "1"
      ]
     },
     "execution_count": 5,
     "metadata": {},
     "output_type": "execute_result"
    }
   ],
   "source": [
    "# tuple allows indexing\n",
    "t1[0]"
   ]
  },
  {
   "cell_type": "code",
   "execution_count": 6,
   "id": "3ab45980-b4b9-4613-9c39-51850323a8c5",
   "metadata": {},
   "outputs": [
    {
     "data": {
      "text/plain": [
       "True"
      ]
     },
     "execution_count": 6,
     "metadata": {},
     "output_type": "execute_result"
    }
   ],
   "source": [
    "t1[7]"
   ]
  },
  {
   "cell_type": "code",
   "execution_count": 8,
   "id": "324fa659-9ec1-487a-bf03-7544bf2d1280",
   "metadata": {},
   "outputs": [
    {
     "data": {
      "text/plain": [
       "(True, 'Mahesh', (45+7j), 45.45, 4, 3, 2, 1)"
      ]
     },
     "execution_count": 8,
     "metadata": {},
     "output_type": "execute_result"
    }
   ],
   "source": [
    "# Reversing tuple\n",
    "t1[::-1]"
   ]
  },
  {
   "cell_type": "code",
   "execution_count": 9,
   "id": "82160888-e72e-43d0-985f-f1512d57bf4e",
   "metadata": {},
   "outputs": [
    {
     "data": {
      "text/plain": [
       "(True, 'Mahesh', (45+7j), 45.45, 4, 3, 2, 1)"
      ]
     },
     "execution_count": 9,
     "metadata": {},
     "output_type": "execute_result"
    }
   ],
   "source": [
    "# Original tuple get reversed\n",
    "t1 = t1[::-1]\n",
    "t1"
   ]
  },
  {
   "cell_type": "code",
   "execution_count": 11,
   "id": "a65c044e-72b0-4fc6-b9b4-bcacdffe7987",
   "metadata": {},
   "outputs": [
    {
     "data": {
      "text/plain": [
       "(True, 'Mahesh', (45+7j))"
      ]
     },
     "execution_count": 11,
     "metadata": {},
     "output_type": "execute_result"
    }
   ],
   "source": [
    "# getting element till index = 2\n",
    "t1[0:3]"
   ]
  },
  {
   "cell_type": "code",
   "execution_count": 13,
   "id": "1530a8c2-e2cb-49d0-8e99-a65d6e0fd3da",
   "metadata": {},
   "outputs": [
    {
     "data": {
      "text/plain": [
       "1"
      ]
     },
     "execution_count": 13,
     "metadata": {},
     "output_type": "execute_result"
    }
   ],
   "source": [
    "# counting number of occurrences of element\n",
    "t1.count(3)"
   ]
  },
  {
   "cell_type": "code",
   "execution_count": 14,
   "id": "397a4bba-1250-4031-aa78-be8a09056785",
   "metadata": {},
   "outputs": [
    {
     "data": {
      "text/plain": [
       "2"
      ]
     },
     "execution_count": 14,
     "metadata": {},
     "output_type": "execute_result"
    }
   ],
   "source": [
    "t2 = (1,1,3,2,2,4,5,6,4,\"Mahesh\")\n",
    "t2.count(2)"
   ]
  },
  {
   "cell_type": "code",
   "execution_count": 15,
   "id": "fb4b4679-1fcb-476d-9c66-4a8c023b71b3",
   "metadata": {},
   "outputs": [
    {
     "data": {
      "text/plain": [
       "3"
      ]
     },
     "execution_count": 15,
     "metadata": {},
     "output_type": "execute_result"
    }
   ],
   "source": [
    "# it gives index very first occurrences \n",
    "t2.index(2)"
   ]
  },
  {
   "cell_type": "code",
   "execution_count": 16,
   "id": "2c3930dd-5519-44fb-b11b-04a91dc98283",
   "metadata": {},
   "outputs": [
    {
     "data": {
      "text/plain": [
       "0"
      ]
     },
     "execution_count": 16,
     "metadata": {},
     "output_type": "execute_result"
    }
   ],
   "source": [
    "# here first value in t1 is True and it considers it as 1 so it gives 0 index as answer\n",
    "t1.index(1)"
   ]
  },
  {
   "cell_type": "code",
   "execution_count": 17,
   "id": "64fd3633-2148-4f76-a91d-853ae8eba16f",
   "metadata": {},
   "outputs": [
    {
     "data": {
      "text/plain": [
       "2"
      ]
     },
     "execution_count": 17,
     "metadata": {},
     "output_type": "execute_result"
    }
   ],
   "source": [
    "# here it considers 1 as True\n",
    "t1.count(True)"
   ]
  },
  {
   "cell_type": "markdown",
   "id": "74414412-861c-43e0-9894-0566fc3cdd38",
   "metadata": {},
   "source": [
    "### Note - Compiler considers True as 1 and False as 0 internally."
   ]
  },
  {
   "cell_type": "code",
   "execution_count": 20,
   "id": "dda6143f-29a3-47b6-be2b-e812e5e138f3",
   "metadata": {},
   "outputs": [],
   "source": [
    "l = [1,2,3,4]"
   ]
  },
  {
   "cell_type": "code",
   "execution_count": 23,
   "id": "36e8a5d0-1fcf-4571-ad63-d84ad998debe",
   "metadata": {},
   "outputs": [],
   "source": [
    "# t1[0] = 23 - gives typeerror"
   ]
  },
  {
   "cell_type": "code",
   "execution_count": 21,
   "id": "f517dcee-1f88-4dc4-b130-b18172bdd967",
   "metadata": {},
   "outputs": [],
   "source": [
    "l[0] = 12"
   ]
  },
  {
   "cell_type": "code",
   "execution_count": 22,
   "id": "1237f48d-893c-4a62-874c-855036730f8c",
   "metadata": {},
   "outputs": [
    {
     "data": {
      "text/plain": [
       "[12, 2, 3, 4]"
      ]
     },
     "execution_count": 22,
     "metadata": {},
     "output_type": "execute_result"
    }
   ],
   "source": [
    "l"
   ]
  },
  {
   "cell_type": "markdown",
   "id": "39106e2f-bba8-4317-8cfd-e98cff4ae9d3",
   "metadata": {},
   "source": [
    "### it mean that list are mutable and tuple are immutable entity"
   ]
  },
  {
   "cell_type": "code",
   "execution_count": 30,
   "id": "3353ab8b-597b-4106-8c89-9341feb341dc",
   "metadata": {},
   "outputs": [
    {
     "name": "stdout",
     "output_type": "stream",
     "text": [
      "True <class 'bool'>\n",
      "Mahesh <class 'str'>\n",
      "(45+7j) <class 'complex'>\n",
      "45.45 <class 'float'>\n",
      "4 <class 'int'>\n",
      "3 <class 'int'>\n",
      "2 <class 'int'>\n",
      "1 <class 'int'>\n"
     ]
    }
   ],
   "source": [
    "# iterating using for loop over tuple\n",
    "for i in t1:\n",
    "    print(i , type(i))"
   ]
  },
  {
   "cell_type": "code",
   "execution_count": 27,
   "id": "131b2dbd-d392-49fb-91a1-327992ba6b2e",
   "metadata": {},
   "outputs": [
    {
     "data": {
      "text/plain": [
       "(1, 2, 3, 3, 4, 1, 2, 3, 3, 4, 1, 2, 3, 3, 4)"
      ]
     },
     "execution_count": 27,
     "metadata": {},
     "output_type": "execute_result"
    }
   ],
   "source": [
    "t2 = (1,2,3,3,4)\n",
    "t2 * 3  # replicate element 3 times"
   ]
  },
  {
   "cell_type": "code",
   "execution_count": 28,
   "id": "b1ba8312-28c0-4961-aca6-45e78d4264ee",
   "metadata": {},
   "outputs": [
    {
     "data": {
      "text/plain": [
       "4"
      ]
     },
     "execution_count": 28,
     "metadata": {},
     "output_type": "execute_result"
    }
   ],
   "source": [
    "max(t2)"
   ]
  },
  {
   "cell_type": "code",
   "execution_count": 29,
   "id": "64db74a7-85fd-477f-856a-30fbb1dddde5",
   "metadata": {},
   "outputs": [
    {
     "data": {
      "text/plain": [
       "1"
      ]
     },
     "execution_count": 29,
     "metadata": {},
     "output_type": "execute_result"
    }
   ],
   "source": [
    "min(t2)"
   ]
  },
  {
   "cell_type": "markdown",
   "id": "b11abfe9-f1e4-42d9-bf50-4c1308ae0ec1",
   "metadata": {},
   "source": [
    "### if i want to store series of password which no one can change we use tuple there."
   ]
  },
  {
   "cell_type": "code",
   "execution_count": 32,
   "id": "c98baea7-b116-439a-86b0-d4a9bb9db8b4",
   "metadata": {},
   "outputs": [
    {
     "data": {
      "text/plain": [
       "((1, 2, 32, 4), (4, 5, 6, 7, 8))"
      ]
     },
     "execution_count": 32,
     "metadata": {},
     "output_type": "execute_result"
    }
   ],
   "source": [
    "#tuple inside a tuple\n",
    "t1 = (1,2,32,4)\n",
    "t2 = (4,5,6,7,8)\n",
    "t3 = (t1,t2)\n",
    "t3"
   ]
  },
  {
   "cell_type": "code",
   "execution_count": 39,
   "id": "615d1993-eea5-4d16-9bdf-3d06e5d4f5b3",
   "metadata": {},
   "outputs": [
    {
     "data": {
      "text/plain": [
       "((1, 2, 3, 4, 5), [1, 3, 5, 7])"
      ]
     },
     "execution_count": 39,
     "metadata": {},
     "output_type": "execute_result"
    }
   ],
   "source": [
    "# tuple inside list and vice-cersa is possible\n",
    "t4 = ((1,2,3,4,5), [1,3,5,7])\n",
    "t4"
   ]
  },
  {
   "cell_type": "code",
   "execution_count": 40,
   "id": "087b715a-bea6-44e6-b51c-2ded77d5b16c",
   "metadata": {},
   "outputs": [],
   "source": [
    "# update and insert operation is not possible\n",
    "# delete is possible\n",
    "del t4  # entire t4 get deleted"
   ]
  },
  {
   "cell_type": "code",
   "execution_count": 36,
   "id": "d2ffc1fd-0f03-42a1-a8b7-b73a1c4e5bb9",
   "metadata": {},
   "outputs": [],
   "source": [
    "#t4 - wont exists"
   ]
  },
  {
   "cell_type": "code",
   "execution_count": 38,
   "id": "7788f726-60ff-4daf-a6a5-50099ee2a7db",
   "metadata": {},
   "outputs": [
    {
     "data": {
      "text/plain": [
       "4"
      ]
     },
     "execution_count": 38,
     "metadata": {},
     "output_type": "execute_result"
    }
   ],
   "source": [
    "# length of tupe\n",
    "t1 = (1,2,3,4)\n",
    "len(t1)"
   ]
  },
  {
   "cell_type": "code",
   "execution_count": 41,
   "id": "895d6af7-e00b-4eb3-bd7e-acac13a715b8",
   "metadata": {},
   "outputs": [
    {
     "data": {
      "text/plain": [
       "False"
      ]
     },
     "execution_count": 41,
     "metadata": {},
     "output_type": "execute_result"
    }
   ],
   "source": [
    "# checking element is inside a tuple or not\n",
    "\"Mahesh\" in t1"
   ]
  },
  {
   "cell_type": "code",
   "execution_count": 42,
   "id": "7167e7d2-2794-42ee-b465-c493c6f68052",
   "metadata": {},
   "outputs": [
    {
     "data": {
      "text/plain": [
       "True"
      ]
     },
     "execution_count": 42,
     "metadata": {},
     "output_type": "execute_result"
    }
   ],
   "source": [
    "2 in t1"
   ]
  },
  {
   "cell_type": "markdown",
   "id": "777baf7a-4457-445f-92c2-506ffbbab3f9",
   "metadata": {},
   "source": [
    "## Set"
   ]
  },
  {
   "cell_type": "code",
   "execution_count": 43,
   "id": "f2a5a9f4-f690-41c5-825a-a2d4453d066e",
   "metadata": {},
   "outputs": [],
   "source": [
    "s = {}"
   ]
  },
  {
   "cell_type": "code",
   "execution_count": 45,
   "id": "63c70fd0-3839-4fdb-9f22-b5ce61574079",
   "metadata": {},
   "outputs": [
    {
     "data": {
      "text/plain": [
       "dict"
      ]
     },
     "execution_count": 45,
     "metadata": {},
     "output_type": "execute_result"
    }
   ],
   "source": [
    "type(s)  # in this case it is dictionary"
   ]
  },
  {
   "cell_type": "code",
   "execution_count": 46,
   "id": "23d65ac1-02c6-44c9-896c-4bbc99a449ac",
   "metadata": {},
   "outputs": [
    {
     "data": {
      "text/plain": [
       "set"
      ]
     },
     "execution_count": 46,
     "metadata": {},
     "output_type": "execute_result"
    }
   ],
   "source": [
    "s1 = {1,2,3,4}\n",
    "type(s1)"
   ]
  },
  {
   "cell_type": "markdown",
   "id": "8524718d-91d6-409a-b8ca-2cbd960fd208",
   "metadata": {},
   "source": [
    "### Note - when set is empty python considers it as dictionary otherwise it is set only."
   ]
  },
  {
   "cell_type": "code",
   "execution_count": 47,
   "id": "2186ad72-6346-4a4f-9198-6bd9b8326b8d",
   "metadata": {},
   "outputs": [],
   "source": [
    "s2 = {1,1,12,3,3,3,4,5,5,5,55,523,34,3,45,6,67}"
   ]
  },
  {
   "cell_type": "code",
   "execution_count": 48,
   "id": "53468b13-abd8-4fac-9295-94c29a4a1038",
   "metadata": {},
   "outputs": [
    {
     "data": {
      "text/plain": [
       "{1, 3, 4, 5, 6, 12, 34, 45, 55, 67, 523}"
      ]
     },
     "execution_count": 48,
     "metadata": {},
     "output_type": "execute_result"
    }
   ],
   "source": [
    "# it removes all duplicates it keeps no duplicates.\n",
    "s2"
   ]
  },
  {
   "cell_type": "markdown",
   "id": "28f97de4-3cf3-4781-8e4b-a770f5ce2259",
   "metadata": {},
   "source": [
    "### Set always try to remove all duplicates from your dataset and always try to hold unique element"
   ]
  },
  {
   "cell_type": "code",
   "execution_count": 50,
   "id": "12f453bf-5ff6-47e1-a0a4-67f096999415",
   "metadata": {},
   "outputs": [
    {
     "data": {
      "text/plain": [
       "[1, 34, 3, 4, 5, 6, 67, 523, 12, 45, 55]"
      ]
     },
     "execution_count": 50,
     "metadata": {},
     "output_type": "execute_result"
    }
   ],
   "source": [
    "# converting to list\n",
    "l = list(s2)"
   ]
  },
  {
   "cell_type": "code",
   "execution_count": 51,
   "id": "74ea9991-3bb1-4d96-8f0b-7cb3117a4fd1",
   "metadata": {},
   "outputs": [
    {
     "data": {
      "text/plain": [
       "(1, 34, 3, 4, 5, 6, 67, 523, 12, 45, 55)"
      ]
     },
     "execution_count": 51,
     "metadata": {},
     "output_type": "execute_result"
    }
   ],
   "source": [
    "# converting to tuple\n",
    "t = tuple(s2)"
   ]
  },
  {
   "cell_type": "code",
   "execution_count": 53,
   "id": "02447a60-93fb-458b-925d-b787136cf44e",
   "metadata": {},
   "outputs": [
    {
     "data": {
      "text/plain": [
       "{2, 3, 4, 12}"
      ]
     },
     "execution_count": 53,
     "metadata": {},
     "output_type": "execute_result"
    }
   ],
   "source": [
    "# if we want to remove duplicates from list convert it to sets and againg convert it back to list\n",
    "set(l)"
   ]
  },
  {
   "cell_type": "code",
   "execution_count": 59,
   "id": "420fecbf-063d-4800-89bd-8bd930b39f9d",
   "metadata": {},
   "outputs": [],
   "source": [
    "# set stores all information by converting it in hashable indexes that is the reason sets dont allows to store list inside it \n",
    "# this is due lists allows to make the changes whereas tuples not hence it allows tuple inside it\n",
    "#s4 = {1,2,3,4,[1,2,3,4]}"
   ]
  },
  {
   "cell_type": "code",
   "execution_count": 57,
   "id": "3b3b0674-7e36-4c17-b351-5bc78fa2083a",
   "metadata": {},
   "outputs": [],
   "source": [
    "# it allows to store tuple inside sets\n",
    "s5 = {1,2,3,4,(1,2,3,4)}"
   ]
  },
  {
   "cell_type": "code",
   "execution_count": 58,
   "id": "a48147bc-6855-4c83-aab1-c4a299a92d28",
   "metadata": {},
   "outputs": [
    {
     "data": {
      "text/plain": [
       "{(1, 2, 3, 4), 1, 2, 3, 4}"
      ]
     },
     "execution_count": 58,
     "metadata": {},
     "output_type": "execute_result"
    }
   ],
   "source": [
    "s5"
   ]
  },
  {
   "cell_type": "code",
   "execution_count": 63,
   "id": "7a6ca9f5-2411-41d0-8c93-b64748249c60",
   "metadata": {},
   "outputs": [
    {
     "data": {
      "text/plain": [
       "{2, 3, 4, 5, 'Mahesh', 'mahesh'}"
      ]
     },
     "execution_count": 63,
     "metadata": {},
     "output_type": "execute_result"
    }
   ],
   "source": [
    "# as python is case sensitive language it allows both strings\n",
    "s6 = {\"mahesh\", \"Mahesh\", 2,3,4,5}\n",
    "s6"
   ]
  },
  {
   "cell_type": "code",
   "execution_count": 64,
   "id": "d051f35d-a15a-469b-a3da-c4b1dc75b242",
   "metadata": {},
   "outputs": [
    {
     "data": {
      "text/plain": [
       "{2, 3, 4, 5, 'mahesh'}"
      ]
     },
     "execution_count": 64,
     "metadata": {},
     "output_type": "execute_result"
    }
   ],
   "source": [
    "# here it keeps only one string\n",
    "s7 = {\"mahesh\", \"mahesh\", 2,3,4,5}\n",
    "s7"
   ]
  },
  {
   "cell_type": "code",
   "execution_count": 66,
   "id": "f0c6fa89-adee-4634-b4a0-40adebbb5429",
   "metadata": {},
   "outputs": [],
   "source": [
    "# sets are not subscriptable i.e index based subscription wont work\n",
    "#s7[0]"
   ]
  },
  {
   "cell_type": "code",
   "execution_count": 67,
   "id": "6627479f-f3d4-4730-9eaf-ef6d71761304",
   "metadata": {},
   "outputs": [],
   "source": [
    "# slicing not possible with sets as it doesnt try to hold elements in sequential order.\n",
    "#s7[::-1]"
   ]
  },
  {
   "cell_type": "code",
   "execution_count": 68,
   "id": "9b3db8f1-b464-4851-92f9-f092ec2209f2",
   "metadata": {},
   "outputs": [
    {
     "data": {
      "text/plain": [
       "{2, 3, 4, 5, 'mahesh'}"
      ]
     },
     "execution_count": 68,
     "metadata": {},
     "output_type": "execute_result"
    }
   ],
   "source": [
    "s7"
   ]
  },
  {
   "cell_type": "code",
   "execution_count": 70,
   "id": "a99942bc-510e-47ac-b19b-44367884bb8e",
   "metadata": {},
   "outputs": [
    {
     "name": "stdout",
     "output_type": "stream",
     "text": [
      "2\n",
      "3\n",
      "4\n",
      "5\n",
      "mahesh\n"
     ]
    }
   ],
   "source": [
    "# this way to extract element from sets.\n",
    "for i in s7:\n",
    "    print(i)"
   ]
  },
  {
   "cell_type": "code",
   "execution_count": 71,
   "id": "b43cce9b-346c-44de-b8a2-fb116cf98231",
   "metadata": {},
   "outputs": [
    {
     "data": {
      "text/plain": [
       "{2, 3, 34, 4, 5, 'mahesh'}"
      ]
     },
     "execution_count": 71,
     "metadata": {},
     "output_type": "execute_result"
    }
   ],
   "source": [
    "# adds element ot sets\n",
    "s7.add(34)\n",
    "s7"
   ]
  },
  {
   "cell_type": "code",
   "execution_count": 81,
   "id": "a4b67727-bba0-440f-b5af-e1a457e3145e",
   "metadata": {},
   "outputs": [
    {
     "data": {
      "text/plain": [
       "{2, 34, 'mahesh'}"
      ]
     },
     "execution_count": 81,
     "metadata": {},
     "output_type": "execute_result"
    }
   ],
   "source": [
    "# as 2 is already present in sets.\n",
    "s7.add(2)\n",
    "s7"
   ]
  },
  {
   "cell_type": "code",
   "execution_count": 74,
   "id": "7b3eb8a8-b868-4f9d-9928-c3ce9bac46f0",
   "metadata": {},
   "outputs": [
    {
     "data": {
      "text/plain": [
       "6"
      ]
     },
     "execution_count": 74,
     "metadata": {},
     "output_type": "execute_result"
    }
   ],
   "source": [
    "len(s7)"
   ]
  },
  {
   "cell_type": "code",
   "execution_count": 75,
   "id": "6b2c82b7-d1ff-40dd-af5a-9fd17b869a54",
   "metadata": {},
   "outputs": [
    {
     "data": {
      "text/plain": [
       "2"
      ]
     },
     "execution_count": 75,
     "metadata": {},
     "output_type": "execute_result"
    }
   ],
   "source": [
    "# popping element is based on hashing it has created\n",
    "s7.pop()"
   ]
  },
  {
   "cell_type": "code",
   "execution_count": 76,
   "id": "07f8dd60-aa82-498f-a0a8-fbd2d5cd9aea",
   "metadata": {},
   "outputs": [
    {
     "data": {
      "text/plain": [
       "{3, 34, 4, 5, 'mahesh'}"
      ]
     },
     "execution_count": 76,
     "metadata": {},
     "output_type": "execute_result"
    }
   ],
   "source": [
    "s7"
   ]
  },
  {
   "cell_type": "code",
   "execution_count": 77,
   "id": "3e2a557a-9829-4ced-8c7b-30d66b3e6b78",
   "metadata": {},
   "outputs": [
    {
     "data": {
      "text/plain": [
       "3"
      ]
     },
     "execution_count": 77,
     "metadata": {},
     "output_type": "execute_result"
    }
   ],
   "source": [
    "s7.pop()"
   ]
  },
  {
   "cell_type": "code",
   "execution_count": 78,
   "id": "16413182-253a-41ab-885b-015230d8ba08",
   "metadata": {},
   "outputs": [
    {
     "data": {
      "text/plain": [
       "4"
      ]
     },
     "execution_count": 78,
     "metadata": {},
     "output_type": "execute_result"
    }
   ],
   "source": [
    "s7.pop()"
   ]
  },
  {
   "cell_type": "code",
   "execution_count": 79,
   "id": "b7c6cb40-aaa8-4240-ba1b-c0a9b3881edd",
   "metadata": {},
   "outputs": [
    {
     "data": {
      "text/plain": [
       "5"
      ]
     },
     "execution_count": 79,
     "metadata": {},
     "output_type": "execute_result"
    }
   ],
   "source": [
    "s7.pop()"
   ]
  },
  {
   "cell_type": "code",
   "execution_count": 80,
   "id": "bc35597e-c82d-4f51-8de9-ddac66753a5b",
   "metadata": {},
   "outputs": [
    {
     "data": {
      "text/plain": [
       "{34, 'mahesh'}"
      ]
     },
     "execution_count": 80,
     "metadata": {},
     "output_type": "execute_result"
    }
   ],
   "source": [
    "s7"
   ]
  },
  {
   "cell_type": "code",
   "execution_count": 82,
   "id": "714dc696-5fca-4cae-b2f2-af81d56e7c69",
   "metadata": {},
   "outputs": [],
   "source": [
    "# if no element in sets it raises a keyerror"
   ]
  },
  {
   "cell_type": "code",
   "execution_count": 83,
   "id": "ee22f36a-8a6c-4bb7-b773-0d0b3041663d",
   "metadata": {},
   "outputs": [],
   "source": [
    "# removes all elements from the sets \n",
    "s7.clear()"
   ]
  },
  {
   "cell_type": "code",
   "execution_count": 84,
   "id": "d033a1be-bce1-4ed5-bcec-be126c869870",
   "metadata": {},
   "outputs": [
    {
     "data": {
      "text/plain": [
       "set()"
      ]
     },
     "execution_count": 84,
     "metadata": {},
     "output_type": "execute_result"
    }
   ],
   "source": [
    "s7"
   ]
  },
  {
   "cell_type": "code",
   "execution_count": 85,
   "id": "a9922bba-f159-4873-a321-ed943d4d589e",
   "metadata": {},
   "outputs": [],
   "source": [
    "s8 = {1,2,3,4}"
   ]
  },
  {
   "cell_type": "code",
   "execution_count": 86,
   "id": "3959e1ac-1f79-49d5-9050-d1f84f9b62c0",
   "metadata": {},
   "outputs": [],
   "source": [
    "s9 = {1,2,3,5}"
   ]
  },
  {
   "cell_type": "code",
   "execution_count": 87,
   "id": "ecd9fe94-b420-44fa-8ea9-fda8f734f25d",
   "metadata": {},
   "outputs": [
    {
     "data": {
      "text/plain": [
       "{4}"
      ]
     },
     "execution_count": 87,
     "metadata": {},
     "output_type": "execute_result"
    }
   ],
   "source": [
    "s8.difference(s9)"
   ]
  },
  {
   "cell_type": "code",
   "execution_count": 88,
   "id": "7e6c21d0-a54d-413e-8712-d0c45d87ef46",
   "metadata": {},
   "outputs": [
    {
     "data": {
      "text/plain": [
       "{5}"
      ]
     },
     "execution_count": 88,
     "metadata": {},
     "output_type": "execute_result"
    }
   ],
   "source": [
    "s9.difference(s8)"
   ]
  },
  {
   "cell_type": "markdown",
   "id": "71352f18-b623-421f-858d-c65fb69e2849",
   "metadata": {},
   "source": [
    "### Dictionary"
   ]
  },
  {
   "cell_type": "code",
   "execution_count": 1,
   "id": "ce1ce41c-73b1-41e1-8dfa-cfb41ed29d62",
   "metadata": {},
   "outputs": [
    {
     "data": {
      "text/plain": [
       "dict"
      ]
     },
     "execution_count": 1,
     "metadata": {},
     "output_type": "execute_result"
    }
   ],
   "source": [
    "d ={}\n",
    "type(d)"
   ]
  },
  {
   "cell_type": "code",
   "execution_count": 2,
   "id": "4f3e76c0-6739-4d83-b5db-3bbee7a11feb",
   "metadata": {},
   "outputs": [
    {
     "data": {
      "text/plain": [
       "dict"
      ]
     },
     "execution_count": 2,
     "metadata": {},
     "output_type": "execute_result"
    }
   ],
   "source": [
    "d1 = {\"name\" : \"Mahesh\", \"email_id\" : \"ms@gmail.com\", \"number\":22132133}\n",
    "type(d1)"
   ]
  },
  {
   "cell_type": "code",
   "execution_count": 3,
   "id": "9dead140-c48d-4611-9dc1-66bb45e651da",
   "metadata": {},
   "outputs": [
    {
     "data": {
      "text/plain": [
       "{'name': 'Mahesh', 'email_id': 'ms@gmail.com', 'number': 22132133}"
      ]
     },
     "execution_count": 3,
     "metadata": {},
     "output_type": "execute_result"
    }
   ],
   "source": [
    "d1"
   ]
  },
  {
   "cell_type": "code",
   "execution_count": 4,
   "id": "bd66bcd2-d5f7-46d1-91b0-0fdb7cb9d7d3",
   "metadata": {},
   "outputs": [],
   "source": [
    "d2 = {\"name\" : \"mahesh\", \"name\" : \"sathe\"}"
   ]
  },
  {
   "cell_type": "code",
   "execution_count": 5,
   "id": "11a30b42-1d49-43e4-84e6-6ffc4baf39a2",
   "metadata": {},
   "outputs": [
    {
     "data": {
      "text/plain": [
       "{'name': 'sathe'}"
      ]
     },
     "execution_count": 5,
     "metadata": {},
     "output_type": "execute_result"
    }
   ],
   "source": [
    "# it will update name here so key can't be repeated\n",
    "d2"
   ]
  },
  {
   "cell_type": "code",
   "execution_count": 6,
   "id": "bd9bc76b-c37c-471a-937e-2d52f5369de6",
   "metadata": {},
   "outputs": [],
   "source": [
    "d3 = {23213 : \"abs\"}"
   ]
  },
  {
   "cell_type": "code",
   "execution_count": 7,
   "id": "1fb4ee09-f076-4bd2-ae85-0721486beb95",
   "metadata": {},
   "outputs": [
    {
     "data": {
      "text/plain": [
       "{23213: 'abs'}"
      ]
     },
     "execution_count": 7,
     "metadata": {},
     "output_type": "execute_result"
    }
   ],
   "source": [
    "d3"
   ]
  },
  {
   "cell_type": "code",
   "execution_count": 9,
   "id": "b90a458c-8ffa-4562-a603-d5042b70ac83",
   "metadata": {},
   "outputs": [],
   "source": [
    "d4 = {23.332:'abc'}"
   ]
  },
  {
   "cell_type": "code",
   "execution_count": 10,
   "id": "9255bbc3-1ee0-4900-af27-d16e09982fa3",
   "metadata": {},
   "outputs": [
    {
     "data": {
      "text/plain": [
       "{23.332: 'abc'}"
      ]
     },
     "execution_count": 10,
     "metadata": {},
     "output_type": "execute_result"
    }
   ],
   "source": [
    "d4"
   ]
  },
  {
   "cell_type": "code",
   "execution_count": 11,
   "id": "af65c16e-d278-4da0-98eb-7f94874ff955",
   "metadata": {},
   "outputs": [
    {
     "data": {
      "text/plain": [
       "{True: 'abc'}"
      ]
     },
     "execution_count": 11,
     "metadata": {},
     "output_type": "execute_result"
    }
   ],
   "source": [
    "d5 = {True : 'abc'}\n",
    "d5"
   ]
  },
  {
   "cell_type": "code",
   "execution_count": 12,
   "id": "b5d03e2f-dd4d-4511-97a5-f32815542612",
   "metadata": {},
   "outputs": [],
   "source": [
    "#d6 = {# : 'abc'}\n",
    "# this is not acceptable"
   ]
  },
  {
   "cell_type": "code",
   "execution_count": 13,
   "id": "33acc661-4d8c-4046-9c88-70b567ccad99",
   "metadata": {},
   "outputs": [],
   "source": [
    "# dont take special case character as key"
   ]
  },
  {
   "cell_type": "code",
   "execution_count": 15,
   "id": "5218fb34-0f84-4801-95db-0404fc3f198b",
   "metadata": {},
   "outputs": [],
   "source": [
    "# list cannot be used as key\n",
    "# d8 = {[1,2,3] : \"abc\"}\n",
    "# as list is unhasable"
   ]
  },
  {
   "cell_type": "code",
   "execution_count": 16,
   "id": "64580e36-cd54-4251-bdb6-3c3a1f2df0ad",
   "metadata": {},
   "outputs": [],
   "source": [
    "d9 = {(1,2,3):'abc'}"
   ]
  },
  {
   "cell_type": "code",
   "execution_count": 17,
   "id": "0c07b4d7-34c3-4f4c-b088-bd3e37462388",
   "metadata": {},
   "outputs": [
    {
     "data": {
      "text/plain": [
       "{(1, 2, 3): 'abc'}"
      ]
     },
     "execution_count": 17,
     "metadata": {},
     "output_type": "execute_result"
    }
   ],
   "source": [
    "d9"
   ]
  },
  {
   "cell_type": "code",
   "execution_count": 19,
   "id": "937f56ff-a24a-4d29-bec6-1a5c6fb52c9e",
   "metadata": {},
   "outputs": [
    {
     "ename": "TypeError",
     "evalue": "unhashable type: 'set'",
     "output_type": "error",
     "traceback": [
      "\u001b[0;31m---------------------------------------------------------------------------\u001b[0m",
      "\u001b[0;31mTypeError\u001b[0m                                 Traceback (most recent call last)",
      "Cell \u001b[0;32mIn[19], line 1\u001b[0m\n\u001b[0;32m----> 1\u001b[0m d10 \u001b[38;5;241m=\u001b[39m {{\u001b[38;5;241m1\u001b[39m,\u001b[38;5;241m2\u001b[39m,\u001b[38;5;241m3\u001b[39m} : \u001b[38;5;124m'\u001b[39m\u001b[38;5;124mabs\u001b[39m\u001b[38;5;124m'\u001b[39m}\n",
      "\u001b[0;31mTypeError\u001b[0m: unhashable type: 'set'"
     ]
    }
   ],
   "source": [
    "# d10 = {{1,2,3} : 'abs'}\n",
    "# set cannot be consider as key"
   ]
  },
  {
   "cell_type": "code",
   "execution_count": 18,
   "id": "924f9b32-a96f-4298-9e81-addc2539e9dd",
   "metadata": {},
   "outputs": [],
   "source": [
    "### tuple can be considered as key "
   ]
  },
  {
   "cell_type": "code",
   "execution_count": 20,
   "id": "e2f2292a-a92b-4530-bab4-85f4c560fb63",
   "metadata": {},
   "outputs": [],
   "source": [
    "#d11 = {{'key':232} : 'abc'}\n",
    "# dict is also not allowed as key"
   ]
  },
  {
   "cell_type": "code",
   "execution_count": 21,
   "id": "9e7bc4a8-b106-4a7f-8e20-4930a5811b0b",
   "metadata": {},
   "outputs": [],
   "source": [
    "d12 = {\"course_name\" : [\"datascience masters\", \"web dev\", \"java\"]}"
   ]
  },
  {
   "cell_type": "code",
   "execution_count": 22,
   "id": "e3252a73-7f43-4abb-8f60-e46da888c7c1",
   "metadata": {},
   "outputs": [
    {
     "data": {
      "text/plain": [
       "{'course_name': ['datascience masters', 'web dev', 'java']}"
      ]
     },
     "execution_count": 22,
     "metadata": {},
     "output_type": "execute_result"
    }
   ],
   "source": [
    "d12"
   ]
  },
  {
   "cell_type": "code",
   "execution_count": 23,
   "id": "979e2536-71b8-46f3-ae12-2aaa6c6b2445",
   "metadata": {},
   "outputs": [],
   "source": [
    "# there may be multiple values for a key"
   ]
  },
  {
   "cell_type": "code",
   "execution_count": 24,
   "id": "698a3827-827b-4f44-a9b4-d36ad134b039",
   "metadata": {},
   "outputs": [
    {
     "data": {
      "text/plain": [
       "{'key': (1, 2, 3, 4)}"
      ]
     },
     "execution_count": 24,
     "metadata": {},
     "output_type": "execute_result"
    }
   ],
   "source": [
    "d13 = {\"key\":(1,2,3,4)}\n",
    "d13"
   ]
  },
  {
   "cell_type": "code",
   "execution_count": 25,
   "id": "12bbc9d1-9f04-4372-a95b-14dfb8664a5b",
   "metadata": {},
   "outputs": [],
   "source": [
    "d14 = {\"key\":{1,2,3,4}}"
   ]
  },
  {
   "cell_type": "code",
   "execution_count": 26,
   "id": "a6f6e227-4b4b-400b-96dd-b87638492378",
   "metadata": {},
   "outputs": [],
   "source": [
    "# list, tuple , sets , dict can used as value."
   ]
  },
  {
   "cell_type": "code",
   "execution_count": 27,
   "id": "22b5d86f-9942-495f-9d44-1688840523f3",
   "metadata": {},
   "outputs": [
    {
     "data": {
      "text/plain": [
       "{'key': {'name': 'mahesh', 'class': 'DSM'}}"
      ]
     },
     "execution_count": 27,
     "metadata": {},
     "output_type": "execute_result"
    }
   ],
   "source": [
    "# nested dictionary \n",
    "d15 = {\"key\" : {\"name\" :\"mahesh\", \"class\" : \"DSM\"}}\n",
    "d15"
   ]
  },
  {
   "cell_type": "code",
   "execution_count": 28,
   "id": "ea4b9019-905a-4c66-8595-3ad420b544f6",
   "metadata": {},
   "outputs": [],
   "source": [
    "d16 = {\"batch_name\" : [\"data science masters\", \"web dev\", \"JDS\"] , \"start_date\" : (28, 14, 21), \"mentor_name\" : {\"krish_Nik\", \"sudhanshu\", \"hitesh\"}}"
   ]
  },
  {
   "cell_type": "code",
   "execution_count": 29,
   "id": "d64f81d2-6b92-4ac8-bb4a-6ebe5c613020",
   "metadata": {},
   "outputs": [
    {
     "data": {
      "text/plain": [
       "{'batch_name': ['data science masters', 'web dev', 'JDS'],\n",
       " 'start_date': (28, 14, 21),\n",
       " 'mentor_name': {'hitesh', 'krish_Nik', 'sudhanshu'}}"
      ]
     },
     "execution_count": 29,
     "metadata": {},
     "output_type": "execute_result"
    }
   ],
   "source": [
    "d16"
   ]
  },
  {
   "cell_type": "code",
   "execution_count": 30,
   "id": "22e406bc-f0c5-4733-9f98-716d51202180",
   "metadata": {},
   "outputs": [],
   "source": [
    "# Add element in dictionary"
   ]
  },
  {
   "cell_type": "code",
   "execution_count": 31,
   "id": "0b63af41-14df-4404-aba4-02663005edde",
   "metadata": {},
   "outputs": [],
   "source": [
    "# new key is inserted\n",
    "d16[\"timing\"] = (8,8,8)"
   ]
  },
  {
   "cell_type": "code",
   "execution_count": 32,
   "id": "643006a8-5d71-4026-8e86-bad88d105b77",
   "metadata": {},
   "outputs": [
    {
     "data": {
      "text/plain": [
       "{'batch_name': ['data science masters', 'web dev', 'JDS'],\n",
       " 'start_date': (28, 14, 21),\n",
       " 'mentor_name': {'hitesh', 'krish_Nik', 'sudhanshu'},\n",
       " 'timing': (8, 8, 8)}"
      ]
     },
     "execution_count": 32,
     "metadata": {},
     "output_type": "execute_result"
    }
   ],
   "source": [
    "d16"
   ]
  },
  {
   "cell_type": "code",
   "execution_count": 33,
   "id": "346893e6-50b3-4279-9389-6254dff34b82",
   "metadata": {},
   "outputs": [],
   "source": [
    "# if existing key is added it get updated"
   ]
  },
  {
   "cell_type": "code",
   "execution_count": 34,
   "id": "881fe441-a080-480c-969d-661b1d023bb5",
   "metadata": {},
   "outputs": [
    {
     "data": {
      "text/plain": [
       "['data science masters', 'web dev', 'JDS']"
      ]
     },
     "execution_count": 34,
     "metadata": {},
     "output_type": "execute_result"
    }
   ],
   "source": [
    "# for getting value of a key\n",
    "d16['batch_name']"
   ]
  },
  {
   "cell_type": "code",
   "execution_count": 35,
   "id": "2ea8bd81-4783-47b8-946f-bb7d704ce258",
   "metadata": {},
   "outputs": [
    {
     "data": {
      "text/plain": [
       "set"
      ]
     },
     "execution_count": 35,
     "metadata": {},
     "output_type": "execute_result"
    }
   ],
   "source": [
    "type(d16['mentor_name'])"
   ]
  },
  {
   "cell_type": "code",
   "execution_count": 36,
   "id": "a08ac06e-3016-4e1b-90e6-d4ed54785464",
   "metadata": {},
   "outputs": [],
   "source": [
    "#d16[\"key\"]\n",
    "#gives keyerror"
   ]
  },
  {
   "cell_type": "code",
   "execution_count": 37,
   "id": "c6abf182-0bfa-4a7f-ab1a-adc8ce1ae57e",
   "metadata": {},
   "outputs": [],
   "source": [
    "d16[\"name\"] = \"Mahesh\""
   ]
  },
  {
   "cell_type": "code",
   "execution_count": 38,
   "id": "605e1dfa-4ac1-43dc-ad4f-39e3074df68b",
   "metadata": {},
   "outputs": [
    {
     "data": {
      "text/plain": [
       "{'batch_name': ['data science masters', 'web dev', 'JDS'],\n",
       " 'start_date': (28, 14, 21),\n",
       " 'mentor_name': {'hitesh', 'krish_Nik', 'sudhanshu'},\n",
       " 'timing': (8, 8, 8),\n",
       " 'name': 'Mahesh'}"
      ]
     },
     "execution_count": 38,
     "metadata": {},
     "output_type": "execute_result"
    }
   ],
   "source": [
    "d16"
   ]
  },
  {
   "cell_type": "code",
   "execution_count": 39,
   "id": "f056a8cb-c3fc-4cdf-8fbb-69c8b78ea412",
   "metadata": {},
   "outputs": [
    {
     "data": {
      "text/plain": [
       "'MAHESH'"
      ]
     },
     "execution_count": 39,
     "metadata": {},
     "output_type": "execute_result"
    }
   ],
   "source": [
    "d16[\"name\"].upper()"
   ]
  },
  {
   "cell_type": "code",
   "execution_count": 40,
   "id": "4e078a19-e796-4144-a8db-5f47d64b6462",
   "metadata": {},
   "outputs": [],
   "source": [
    "# dictionary inside dict"
   ]
  },
  {
   "cell_type": "code",
   "execution_count": 42,
   "id": "32e30060-9fdb-49c0-aefa-15361ad1193f",
   "metadata": {},
   "outputs": [
    {
     "data": {
      "text/plain": [
       "{'key': {'name': 'mahesh', 'class': 'DSM'}}"
      ]
     },
     "execution_count": 42,
     "metadata": {},
     "output_type": "execute_result"
    }
   ],
   "source": [
    "d15"
   ]
  },
  {
   "cell_type": "code",
   "execution_count": 43,
   "id": "064cdf93-0f95-4217-8c67-7608a743430d",
   "metadata": {},
   "outputs": [
    {
     "data": {
      "text/plain": [
       "{'name': 'mahesh', 'class': 'DSM'}"
      ]
     },
     "execution_count": 43,
     "metadata": {},
     "output_type": "execute_result"
    }
   ],
   "source": [
    "d15['key']"
   ]
  },
  {
   "cell_type": "code",
   "execution_count": 44,
   "id": "6664857e-1ffd-4cbb-b624-5e008ca7ff97",
   "metadata": {},
   "outputs": [
    {
     "data": {
      "text/plain": [
       "dict"
      ]
     },
     "execution_count": 44,
     "metadata": {},
     "output_type": "execute_result"
    }
   ],
   "source": [
    "type(d15['key'])"
   ]
  },
  {
   "cell_type": "code",
   "execution_count": 45,
   "id": "c7d679b6-408e-46a5-88ad-798e30b535a7",
   "metadata": {},
   "outputs": [
    {
     "data": {
      "text/plain": [
       "'DSM'"
      ]
     },
     "execution_count": 45,
     "metadata": {},
     "output_type": "execute_result"
    }
   ],
   "source": [
    "d15['key']['class']"
   ]
  },
  {
   "cell_type": "code",
   "execution_count": 46,
   "id": "0fb6f532-6f98-4fbd-aef6-01f77a73f7aa",
   "metadata": {},
   "outputs": [],
   "source": [
    "d15[\"key1\"] = 'abc'"
   ]
  },
  {
   "cell_type": "code",
   "execution_count": 47,
   "id": "d364406f-a46e-4448-881c-3d6829cba986",
   "metadata": {},
   "outputs": [
    {
     "data": {
      "text/plain": [
       "{'key': {'name': 'mahesh', 'class': 'DSM'}, 'key1': 'abc'}"
      ]
     },
     "execution_count": 47,
     "metadata": {},
     "output_type": "execute_result"
    }
   ],
   "source": [
    "d15"
   ]
  },
  {
   "cell_type": "code",
   "execution_count": 48,
   "id": "bce5891b-5c78-4101-aa61-47efef983ec5",
   "metadata": {},
   "outputs": [],
   "source": [
    "del d15['key1']"
   ]
  },
  {
   "cell_type": "code",
   "execution_count": 50,
   "id": "d129fb49-1d26-4c4c-849a-efbfa1663e79",
   "metadata": {},
   "outputs": [
    {
     "data": {
      "text/plain": [
       "{'key': {'name': 'mahesh', 'class': 'DSM'}}"
      ]
     },
     "execution_count": 50,
     "metadata": {},
     "output_type": "execute_result"
    }
   ],
   "source": [
    "d15"
   ]
  },
  {
   "cell_type": "code",
   "execution_count": 51,
   "id": "a2d59c4a-11f1-4d2d-b1b1-23d821178119",
   "metadata": {},
   "outputs": [],
   "source": [
    "d15.clear() # clearout entire dict"
   ]
  },
  {
   "cell_type": "code",
   "execution_count": 52,
   "id": "3717737d-4caf-4f5c-a431-15aef1c87c23",
   "metadata": {},
   "outputs": [
    {
     "data": {
      "text/plain": [
       "{}"
      ]
     },
     "execution_count": 52,
     "metadata": {},
     "output_type": "execute_result"
    }
   ],
   "source": [
    "d15"
   ]
  },
  {
   "cell_type": "code",
   "execution_count": 53,
   "id": "3f938526-d228-450c-8e52-3adfd9680ff7",
   "metadata": {},
   "outputs": [
    {
     "data": {
      "text/plain": [
       "5"
      ]
     },
     "execution_count": 53,
     "metadata": {},
     "output_type": "execute_result"
    }
   ],
   "source": [
    "len(d16) # total no. of key value pair"
   ]
  },
  {
   "cell_type": "code",
   "execution_count": 54,
   "id": "f600cd42-9109-409d-bf47-d9d30c31cf4f",
   "metadata": {},
   "outputs": [
    {
     "data": {
      "text/plain": [
       "dict_keys(['batch_name', 'start_date', 'mentor_name', 'timing', 'name'])"
      ]
     },
     "execution_count": 54,
     "metadata": {},
     "output_type": "execute_result"
    }
   ],
   "source": [
    "# extracting all dictionary keys\n",
    "\n",
    "d16.keys()"
   ]
  },
  {
   "cell_type": "code",
   "execution_count": 56,
   "id": "1310fb7e-e979-4fbc-9410-3357d2183d0d",
   "metadata": {},
   "outputs": [
    {
     "data": {
      "text/plain": [
       "dict_values([['data science masters', 'web dev', 'JDS'], (28, 14, 21), {'krish_Nik', 'sudhanshu', 'hitesh'}, (8, 8, 8), 'Mahesh'])"
      ]
     },
     "execution_count": 56,
     "metadata": {},
     "output_type": "execute_result"
    }
   ],
   "source": [
    "d16.values() # all values in a dict."
   ]
  },
  {
   "cell_type": "code",
   "execution_count": 58,
   "id": "2d1a83bd-5471-46cf-a9f3-efb72d8f8c30",
   "metadata": {},
   "outputs": [
    {
     "data": {
      "text/plain": [
       "[['data science masters', 'web dev', 'JDS'],\n",
       " (28, 14, 21),\n",
       " {'hitesh', 'krish_Nik', 'sudhanshu'},\n",
       " (8, 8, 8),\n",
       " 'Mahesh']"
      ]
     },
     "execution_count": 58,
     "metadata": {},
     "output_type": "execute_result"
    }
   ],
   "source": [
    "list(d16.values())  # converting to list"
   ]
  },
  {
   "cell_type": "code",
   "execution_count": 59,
   "id": "ab3083ad-2f28-4aa3-921b-a19762d8f005",
   "metadata": {},
   "outputs": [
    {
     "data": {
      "text/plain": [
       "['batch_name', 'start_date', 'mentor_name', 'timing', 'name']"
      ]
     },
     "execution_count": 59,
     "metadata": {},
     "output_type": "execute_result"
    }
   ],
   "source": [
    "list(d16.keys())"
   ]
  },
  {
   "cell_type": "code",
   "execution_count": 60,
   "id": "080d8e6b-b5e5-4d3a-8ea3-c16a69a4f329",
   "metadata": {},
   "outputs": [
    {
     "data": {
      "text/plain": [
       "dict_items([('batch_name', ['data science masters', 'web dev', 'JDS']), ('start_date', (28, 14, 21)), ('mentor_name', {'krish_Nik', 'sudhanshu', 'hitesh'}), ('timing', (8, 8, 8)), ('name', 'Mahesh')])"
      ]
     },
     "execution_count": 60,
     "metadata": {},
     "output_type": "execute_result"
    }
   ],
   "source": [
    "# extract key and value pair both.\n",
    "d16.items()"
   ]
  },
  {
   "cell_type": "code",
   "execution_count": 62,
   "id": "b92192d0-b883-4de2-b467-7fa6f9c8fd18",
   "metadata": {},
   "outputs": [
    {
     "data": {
      "text/plain": [
       "[('batch_name', ['data science masters', 'web dev', 'JDS']),\n",
       " ('start_date', (28, 14, 21)),\n",
       " ('mentor_name', {'hitesh', 'krish_Nik', 'sudhanshu'}),\n",
       " ('timing', (8, 8, 8)),\n",
       " ('name', 'Mahesh')]"
      ]
     },
     "execution_count": 62,
     "metadata": {},
     "output_type": "execute_result"
    }
   ],
   "source": [
    "list(d16.items())  # list inside it tuple of key and value"
   ]
  },
  {
   "cell_type": "code",
   "execution_count": 63,
   "id": "87145409-ff25-4f92-b4f3-00d2674d48cb",
   "metadata": {},
   "outputs": [],
   "source": [
    "# replica creation\n",
    "\n",
    "d17 = d16.copy()  # both have different memory locations"
   ]
  },
  {
   "cell_type": "code",
   "execution_count": 64,
   "id": "3dbec69f-8a6b-4ecd-995c-31a770e7eb86",
   "metadata": {},
   "outputs": [
    {
     "data": {
      "text/plain": [
       "{'batch_name': ['data science masters', 'web dev', 'JDS'],\n",
       " 'start_date': (28, 14, 21),\n",
       " 'mentor_name': {'hitesh', 'krish_Nik', 'sudhanshu'},\n",
       " 'timing': (8, 8, 8),\n",
       " 'name': 'Mahesh'}"
      ]
     },
     "execution_count": 64,
     "metadata": {},
     "output_type": "execute_result"
    }
   ],
   "source": [
    "d17"
   ]
  },
  {
   "cell_type": "code",
   "execution_count": 65,
   "id": "64cee2c2-7175-4a0a-95dd-2bb6f3eaa7c4",
   "metadata": {},
   "outputs": [],
   "source": [
    "d18 = d16  # if any key value pair deleted from d16 it also be deleted from d18"
   ]
  },
  {
   "cell_type": "code",
   "execution_count": 66,
   "id": "cd05b8b9-389a-435e-b6c8-07858422fe65",
   "metadata": {},
   "outputs": [],
   "source": [
    "# by using copy() it do deep copy it place data to newer place\n",
    "#if there is any change in d16 it will not affect d17"
   ]
  },
  {
   "cell_type": "code",
   "execution_count": 67,
   "id": "3182328d-3cf9-41d0-a79a-e8927ceb2f50",
   "metadata": {},
   "outputs": [
    {
     "data": {
      "text/plain": [
       "{'batch_name': ['data science masters', 'web dev', 'JDS'],\n",
       " 'start_date': (28, 14, 21),\n",
       " 'mentor_name': {'hitesh', 'krish_Nik', 'sudhanshu'},\n",
       " 'timing': (8, 8, 8),\n",
       " 'name': 'Mahesh'}"
      ]
     },
     "execution_count": 67,
     "metadata": {},
     "output_type": "execute_result"
    }
   ],
   "source": [
    "d16"
   ]
  },
  {
   "cell_type": "code",
   "execution_count": 68,
   "id": "f414d8bf-a41c-4a0f-ab5e-3983e765bc07",
   "metadata": {},
   "outputs": [
    {
     "data": {
      "text/plain": [
       "{'batch_name': ['data science masters', 'web dev', 'JDS'],\n",
       " 'start_date': (28, 14, 21),\n",
       " 'mentor_name': {'hitesh', 'krish_Nik', 'sudhanshu'},\n",
       " 'timing': (8, 8, 8),\n",
       " 'name': 'Mahesh'}"
      ]
     },
     "execution_count": 68,
     "metadata": {},
     "output_type": "execute_result"
    }
   ],
   "source": [
    "d17"
   ]
  },
  {
   "cell_type": "code",
   "execution_count": 69,
   "id": "5044adc6-a1b5-4968-b741-0df257f24d9e",
   "metadata": {},
   "outputs": [
    {
     "data": {
      "text/plain": [
       "{'batch_name': ['data science masters', 'web dev', 'JDS'],\n",
       " 'start_date': (28, 14, 21),\n",
       " 'mentor_name': {'hitesh', 'krish_Nik', 'sudhanshu'},\n",
       " 'timing': (8, 8, 8),\n",
       " 'name': 'Mahesh'}"
      ]
     },
     "execution_count": 69,
     "metadata": {},
     "output_type": "execute_result"
    }
   ],
   "source": [
    "d18"
   ]
  },
  {
   "cell_type": "code",
   "execution_count": 73,
   "id": "76a378f4-8a2f-4def-975e-6c333f384395",
   "metadata": {},
   "outputs": [],
   "source": [
    "del d16['name']"
   ]
  },
  {
   "cell_type": "code",
   "execution_count": 74,
   "id": "329e4276-3d2c-4a6b-8f76-e08d136b70a8",
   "metadata": {},
   "outputs": [
    {
     "data": {
      "text/plain": [
       "{'batch_name': ['data science masters', 'web dev', 'JDS'],\n",
       " 'start_date': (28, 14, 21),\n",
       " 'mentor_name': {'hitesh', 'krish_Nik', 'sudhanshu'},\n",
       " 'timing': (8, 8, 8)}"
      ]
     },
     "execution_count": 74,
     "metadata": {},
     "output_type": "execute_result"
    }
   ],
   "source": [
    "d16"
   ]
  },
  {
   "cell_type": "code",
   "execution_count": 75,
   "id": "80e23939-47d8-4103-905f-0ff7004e82f8",
   "metadata": {},
   "outputs": [
    {
     "data": {
      "text/plain": [
       "{'batch_name': ['data science masters', 'web dev', 'JDS'],\n",
       " 'start_date': (28, 14, 21),\n",
       " 'mentor_name': {'hitesh', 'krish_Nik', 'sudhanshu'},\n",
       " 'timing': (8, 8, 8),\n",
       " 'name': 'Mahesh'}"
      ]
     },
     "execution_count": 75,
     "metadata": {},
     "output_type": "execute_result"
    }
   ],
   "source": [
    "d17"
   ]
  },
  {
   "cell_type": "code",
   "execution_count": 76,
   "id": "54cc48a6-931a-44ea-bf82-4da36b929624",
   "metadata": {},
   "outputs": [
    {
     "data": {
      "text/plain": [
       "{'batch_name': ['data science masters', 'web dev', 'JDS'],\n",
       " 'start_date': (28, 14, 21),\n",
       " 'mentor_name': {'hitesh', 'krish_Nik', 'sudhanshu'},\n",
       " 'timing': (8, 8, 8)}"
      ]
     },
     "execution_count": 76,
     "metadata": {},
     "output_type": "execute_result"
    }
   ],
   "source": [
    "d18"
   ]
  },
  {
   "cell_type": "code",
   "execution_count": 78,
   "id": "7fb84f69-fc3c-476b-9e2e-3a8f97159ac1",
   "metadata": {},
   "outputs": [
    {
     "data": {
      "text/plain": [
       "(8, 8, 8)"
      ]
     },
     "execution_count": 78,
     "metadata": {},
     "output_type": "execute_result"
    }
   ],
   "source": [
    "d16.pop('timing')   # in case of dict argument is essential."
   ]
  },
  {
   "cell_type": "code",
   "execution_count": 79,
   "id": "343f97c2-f5c6-47db-b193-21a39b3d06a3",
   "metadata": {},
   "outputs": [
    {
     "data": {
      "text/plain": [
       "{'batch_name': ['data science masters', 'web dev', 'JDS'],\n",
       " 'start_date': (28, 14, 21),\n",
       " 'mentor_name': {'hitesh', 'krish_Nik', 'sudhanshu'}}"
      ]
     },
     "execution_count": 79,
     "metadata": {},
     "output_type": "execute_result"
    }
   ],
   "source": [
    "d16"
   ]
  },
  {
   "cell_type": "code",
   "execution_count": 80,
   "id": "0a0fe091-ac31-4787-8b3a-a0e25fc3fcec",
   "metadata": {},
   "outputs": [
    {
     "data": {
      "text/plain": [
       "{'hitesh', 'krish_Nik', 'sudhanshu'}"
      ]
     },
     "execution_count": 80,
     "metadata": {},
     "output_type": "execute_result"
    }
   ],
   "source": [
    "d16.pop('mentor_name')"
   ]
  },
  {
   "cell_type": "code",
   "execution_count": 81,
   "id": "e25081fa-48d7-4ded-88cd-de0bd8090124",
   "metadata": {},
   "outputs": [
    {
     "data": {
      "text/plain": [
       "{'batch_name': ['data science masters', 'web dev', 'JDS'],\n",
       " 'start_date': (28, 14, 21)}"
      ]
     },
     "execution_count": 81,
     "metadata": {},
     "output_type": "execute_result"
    }
   ],
   "source": [
    "d16"
   ]
  },
  {
   "cell_type": "code",
   "execution_count": 82,
   "id": "d35d89a2-c529-4b09-bbb8-c8547598cd1c",
   "metadata": {},
   "outputs": [
    {
     "data": {
      "text/plain": [
       "{'batch_name': ['data science masters', 'web dev', 'JDS'],\n",
       " 'start_date': (28, 14, 21)}"
      ]
     },
     "execution_count": 82,
     "metadata": {},
     "output_type": "execute_result"
    }
   ],
   "source": [
    "d18  # similar changes in d18 "
   ]
  },
  {
   "cell_type": "code",
   "execution_count": 84,
   "id": "d3edaf4b-3dab-4446-923a-942132eb4f99",
   "metadata": {},
   "outputs": [
    {
     "data": {
      "text/plain": [
       "{1: ('a', 'b', 'c'), 2: ('a', 'b', 'c'), 3: ('a', 'b', 'c')}"
      ]
     },
     "execution_count": 84,
     "metadata": {},
     "output_type": "execute_result"
    }
   ],
   "source": [
    "d.fromkeys((1,2,3) , ('a','b','c'))  #string can also be use, 2nd arg as value"
   ]
  },
  {
   "cell_type": "code",
   "execution_count": 85,
   "id": "82e6e984-f868-4a57-8525-015622df0b37",
   "metadata": {},
   "outputs": [],
   "source": [
    "d19 = {\"key1\" : \"value\", \"key2\" : \"value2\"}\n",
    "d20 = {\"key3\" : \"value3\", \"key4\" : \" value4\"}"
   ]
  },
  {
   "cell_type": "code",
   "execution_count": 86,
   "id": "c5ae3c1d-6ff4-4796-853d-8f0f79aae9ef",
   "metadata": {},
   "outputs": [
    {
     "data": {
      "text/plain": [
       "({'key1': 'value', 'key2': 'value2'}, {'key3': 'value3', 'key4': ' value4'})"
      ]
     },
     "execution_count": 86,
     "metadata": {},
     "output_type": "execute_result"
    }
   ],
   "source": [
    "(d19, d20) # dict inside tuple is possible"
   ]
  },
  {
   "cell_type": "code",
   "execution_count": 87,
   "id": "0d907059-a1aa-4d1a-80b8-6b4dbec20ed6",
   "metadata": {},
   "outputs": [],
   "source": [
    "d19.update(d20)"
   ]
  },
  {
   "cell_type": "code",
   "execution_count": 88,
   "id": "64a707d3-313c-4937-aae6-3fa0f073db9a",
   "metadata": {},
   "outputs": [
    {
     "data": {
      "text/plain": [
       "{'key1': 'value', 'key2': 'value2', 'key3': 'value3', 'key4': ' value4'}"
      ]
     },
     "execution_count": 88,
     "metadata": {},
     "output_type": "execute_result"
    }
   ],
   "source": [
    "d19"
   ]
  },
  {
   "cell_type": "code",
   "execution_count": 89,
   "id": "25da7ef1-9769-479b-83f4-a3e0f9060191",
   "metadata": {},
   "outputs": [
    {
     "data": {
      "text/plain": [
       "{'key3': 'value3', 'key4': ' value4'}"
      ]
     },
     "execution_count": 89,
     "metadata": {},
     "output_type": "execute_result"
    }
   ],
   "source": [
    "d20"
   ]
  },
  {
   "cell_type": "code",
   "execution_count": 92,
   "id": "652dd8f9-48f9-46fb-9011-5179fb245ff7",
   "metadata": {},
   "outputs": [],
   "source": [
    "# key value pairs of d20 copies that in d19"
   ]
  },
  {
   "cell_type": "code",
   "execution_count": 91,
   "id": "6546a921-b705-4cfd-acbe-e8b78e118905",
   "metadata": {},
   "outputs": [],
   "source": [
    "# d19 get updated"
   ]
  },
  {
   "cell_type": "code",
   "execution_count": 93,
   "id": "ac0f910e-1192-45fc-91dc-3e7ff08e2310",
   "metadata": {},
   "outputs": [],
   "source": [
    "d20.update(d19)"
   ]
  },
  {
   "cell_type": "code",
   "execution_count": 95,
   "id": "e4748848-c767-4243-ace6-aebb1b3fb5da",
   "metadata": {},
   "outputs": [
    {
     "data": {
      "text/plain": [
       "{'key3': 'value3', 'key4': ' value4', 'key1': 'value', 'key2': 'value2'}"
      ]
     },
     "execution_count": 95,
     "metadata": {},
     "output_type": "execute_result"
    }
   ],
   "source": [
    "d20  # updated only with those value which are not in d20"
   ]
  },
  {
   "cell_type": "code",
   "execution_count": 97,
   "id": "6e96abc4-9459-48ed-bd96-280a9af626b2",
   "metadata": {},
   "outputs": [
    {
     "data": {
      "text/plain": [
       "'value3'"
      ]
     },
     "execution_count": 97,
     "metadata": {},
     "output_type": "execute_result"
    }
   ],
   "source": [
    " d20.get(\"key3\") #returns value if it is in dict else doesnt return anything"
   ]
  },
  {
   "cell_type": "code",
   "execution_count": 99,
   "id": "d0202e8a-6e0d-4700-999d-c29bbf166bef",
   "metadata": {},
   "outputs": [],
   "source": [
    "d20.get('key5') # as it is not present it wont print anything"
   ]
  },
  {
   "cell_type": "code",
   "execution_count": 101,
   "id": "897260e2-6913-4f6c-b25b-11f9aa1f6e17",
   "metadata": {},
   "outputs": [
    {
     "data": {
      "text/plain": [
       "'value3'"
      ]
     },
     "execution_count": 101,
     "metadata": {},
     "output_type": "execute_result"
    }
   ],
   "source": [
    "d20[\"key3\"]  # in this case if key not present it gives keyerror"
   ]
  },
  {
   "cell_type": "markdown",
   "id": "abbbd3fa-7297-45ad-aa7b-8b771261ca74",
   "metadata": {},
   "source": [
    "### Dictionary Comprehensions"
   ]
  },
  {
   "cell_type": "code",
   "execution_count": 102,
   "id": "caceece6-279a-4ebf-9bcd-e65484940ade",
   "metadata": {},
   "outputs": [],
   "source": [
    "#if key can be 1 to 10 and their values can square of no. from 1 to 10"
   ]
  },
  {
   "cell_type": "code",
   "execution_count": 104,
   "id": "de062a92-3bc9-4be6-b900-dbe11f062799",
   "metadata": {},
   "outputs": [
    {
     "data": {
      "text/plain": [
       "[1, 2, 3, 4, 5, 6, 7, 8, 9, 10]"
      ]
     },
     "execution_count": 104,
     "metadata": {},
     "output_type": "execute_result"
    }
   ],
   "source": [
    "list(range(1,11))"
   ]
  },
  {
   "cell_type": "code",
   "execution_count": 106,
   "id": "75673b58-e878-46ea-b069-8158ae3dda0e",
   "metadata": {},
   "outputs": [
    {
     "data": {
      "text/plain": [
       "{1: 1, 2: 4, 3: 9, 4: 16, 5: 25, 6: 36, 7: 49, 8: 64, 9: 81, 10: 100}"
      ]
     },
     "execution_count": 106,
     "metadata": {},
     "output_type": "execute_result"
    }
   ],
   "source": [
    "{i : i**2 for i in range(1,11)}  # key : value"
   ]
  },
  {
   "cell_type": "code",
   "execution_count": 107,
   "id": "42d1e586-bfe7-40da-9905-f5b12bc5fe8e",
   "metadata": {},
   "outputs": [
    {
     "data": {
      "text/plain": [
       "{1: 11, 2: 12, 3: 13, 4: 14, 5: 15, 6: 16, 7: 17, 8: 18, 9: 19, 10: 20}"
      ]
     },
     "execution_count": 107,
     "metadata": {},
     "output_type": "execute_result"
    }
   ],
   "source": [
    "{i : i+10 for i in range(1, 11)}"
   ]
  },
  {
   "cell_type": "code",
   "execution_count": 112,
   "id": "3c2ce81b-c5f3-492c-92f2-8b04efa82e31",
   "metadata": {},
   "outputs": [
    {
     "data": {
      "text/plain": [
       "{1: 0.0,\n",
       " 2: 0.3010299956639812,\n",
       " 3: 0.47712125471966244,\n",
       " 4: 0.6020599913279624,\n",
       " 5: 0.6989700043360189,\n",
       " 6: 0.7781512503836436,\n",
       " 7: 0.8450980400142568,\n",
       " 8: 0.9030899869919435,\n",
       " 9: 0.9542425094393249,\n",
       " 10: 1.0}"
      ]
     },
     "execution_count": 112,
     "metadata": {},
     "output_type": "execute_result"
    }
   ],
   "source": [
    "import math\n",
    "d21 = {i : math.log10(i)for i in range(1,11)}\n",
    "d21"
   ]
  },
  {
   "cell_type": "code",
   "execution_count": 110,
   "id": "53906477-e049-496a-ab4a-3c058639a40a",
   "metadata": {},
   "outputs": [
    {
     "data": {
      "text/plain": [
       "{'batch_name': ['data science masters', 'web dev', 'JDS'],\n",
       " 'start_date': (28, 14, 21)}"
      ]
     },
     "execution_count": 110,
     "metadata": {},
     "output_type": "execute_result"
    }
   ],
   "source": [
    "d16"
   ]
  },
  {
   "cell_type": "code",
   "execution_count": 111,
   "id": "ba2a0542-d0b6-4a76-b00d-0b519326556d",
   "metadata": {},
   "outputs": [
    {
     "data": {
      "text/plain": [
       "True"
      ]
     },
     "execution_count": 111,
     "metadata": {},
     "output_type": "execute_result"
    }
   ],
   "source": [
    "'batch_name' in d16"
   ]
  },
  {
   "cell_type": "code",
   "execution_count": 113,
   "id": "40415685-7c38-487d-b411-9340a3897b7f",
   "metadata": {},
   "outputs": [
    {
     "data": {
      "text/plain": [
       "{1: 0.0,\n",
       " 2: 0.3010299956639812,\n",
       " 3: 0.47712125471966244,\n",
       " 4: 0.6020599913279624,\n",
       " 5: 0.6989700043360189,\n",
       " 6: 0.7781512503836436,\n",
       " 7: 0.8450980400142568,\n",
       " 8: 0.9030899869919435,\n",
       " 9: 0.9542425094393249,\n",
       " 10: 1.0}"
      ]
     },
     "execution_count": 113,
     "metadata": {},
     "output_type": "execute_result"
    }
   ],
   "source": [
    "d21"
   ]
  },
  {
   "cell_type": "code",
   "execution_count": 114,
   "id": "0bc20884-8df2-4ebc-8add-69b5176bf3a2",
   "metadata": {},
   "outputs": [],
   "source": [
    "# filter values with even keys"
   ]
  },
  {
   "cell_type": "code",
   "execution_count": 115,
   "id": "dd77c8c4-e845-4fc6-8070-e42ad45a5f0e",
   "metadata": {},
   "outputs": [
    {
     "name": "stdout",
     "output_type": "stream",
     "text": [
      "0.3010299956639812\n",
      "0.6020599913279624\n",
      "0.7781512503836436\n",
      "0.9030899869919435\n",
      "1.0\n"
     ]
    }
   ],
   "source": [
    "for i in d21.keys():\n",
    "    if i%2 == 0:\n",
    "        print(d21[i])"
   ]
  }
 ],
 "metadata": {
  "kernelspec": {
   "display_name": "Python 3 (ipykernel)",
   "language": "python",
   "name": "python3"
  },
  "language_info": {
   "codemirror_mode": {
    "name": "ipython",
    "version": 3
   },
   "file_extension": ".py",
   "mimetype": "text/x-python",
   "name": "python",
   "nbconvert_exporter": "python",
   "pygments_lexer": "ipython3",
   "version": "3.10.8"
  }
 },
 "nbformat": 4,
 "nbformat_minor": 5
}
