{
 "cells": [
  {
   "cell_type": "markdown",
   "id": "8e6f6832-6996-457a-9ac5-956bdf13f7c1",
   "metadata": {},
   "source": [
    "## String"
   ]
  },
  {
   "cell_type": "code",
   "execution_count": 1,
   "id": "e73b888c-c62a-4148-a93f-e481f0146390",
   "metadata": {},
   "outputs": [],
   "source": [
    "name = \"Data Science masters\""
   ]
  },
  {
   "cell_type": "code",
   "execution_count": 2,
   "id": "2a3f9299-981b-4b3c-baff-9291ac0fc9c7",
   "metadata": {},
   "outputs": [
    {
     "data": {
      "text/plain": [
       "'dATA sCIENCE mASTERS'"
      ]
     },
     "execution_count": 2,
     "metadata": {},
     "output_type": "execute_result"
    }
   ],
   "source": [
    "#only first letter of each word in string changes its case.\n",
    "name.swapcase()"
   ]
  },
  {
   "cell_type": "code",
   "execution_count": 3,
   "id": "15f85cd2-8c06-4b70-b9b3-d10f75d330c2",
   "metadata": {},
   "outputs": [
    {
     "data": {
      "text/plain": [
       "'Data Science Masters'"
      ]
     },
     "execution_count": 3,
     "metadata": {},
     "output_type": "execute_result"
    }
   ],
   "source": [
    "# every word's fisrt letter become uppercase\n",
    "name.title()"
   ]
  },
  {
   "cell_type": "code",
   "execution_count": 158,
   "id": "1b624c5b-ae02-43d1-a69a-b5c53544ed8e",
   "metadata": {},
   "outputs": [
    {
     "data": {
      "text/plain": [
       "'Mahesh'"
      ]
     },
     "execution_count": 158,
     "metadata": {},
     "output_type": "execute_result"
    }
   ],
   "source": [
    "# only first letter of sentence is capital rest get small case\n",
    "name.capitalize()"
   ]
  },
  {
   "cell_type": "markdown",
   "id": "c5e66d94-c449-4b43-aa23-124c962ab08a",
   "metadata": {},
   "source": [
    "### Reversing String"
   ]
  },
  {
   "cell_type": "code",
   "execution_count": 5,
   "id": "53a6db78-5a5e-495d-99d2-918bc6cb85c8",
   "metadata": {},
   "outputs": [
    {
     "data": {
      "text/plain": [
       "'sretsaM ecneicS ataD'"
      ]
     },
     "execution_count": 5,
     "metadata": {},
     "output_type": "execute_result"
    }
   ],
   "source": [
    "name[::-1]"
   ]
  },
  {
   "cell_type": "code",
   "execution_count": 16,
   "id": "d7c3635b-a4b0-486f-9642-ee681f9e88a5",
   "metadata": {},
   "outputs": [
    {
     "data": {
      "text/plain": [
       "['h', 's', 'e', 'h', 'a', 'M']"
      ]
     },
     "execution_count": 16,
     "metadata": {},
     "output_type": "execute_result"
    }
   ],
   "source": [
    "list(reversed(\"Mahesh\"))"
   ]
  },
  {
   "cell_type": "code",
   "execution_count": 9,
   "id": "b2e43df4-bd3c-4ad0-adc9-0ec04757633d",
   "metadata": {},
   "outputs": [
    {
     "data": {
      "text/plain": [
       "'a b c d'"
      ]
     },
     "execution_count": 9,
     "metadata": {},
     "output_type": "execute_result"
    }
   ],
   "source": [
    "\" \".join(\"abcd\")"
   ]
  },
  {
   "cell_type": "code",
   "execution_count": 11,
   "id": "c0b34ea9-b023-4495-a4d4-058e6cbc079d",
   "metadata": {},
   "outputs": [
    {
     "data": {
      "text/plain": [
       "'a-b-c-d'"
      ]
     },
     "execution_count": 11,
     "metadata": {},
     "output_type": "execute_result"
    }
   ],
   "source": [
    "'-'.join(\"abcd\")"
   ]
  },
  {
   "cell_type": "code",
   "execution_count": 12,
   "id": "ce1bd717-4e8b-4e23-a748-b840c714d537",
   "metadata": {},
   "outputs": [
    {
     "data": {
      "text/plain": [
       "'t n a'"
      ]
     },
     "execution_count": 12,
     "metadata": {},
     "output_type": "execute_result"
    }
   ],
   "source": [
    "' '.join(reversed(\"ant\"))"
   ]
  },
  {
   "cell_type": "code",
   "execution_count": 15,
   "id": "9e14fba2-e63c-4af3-852e-d31ca21a8eed",
   "metadata": {},
   "outputs": [
    {
     "data": {
      "text/plain": [
       "'t Pwskills n Pwskills a'"
      ]
     },
     "execution_count": 15,
     "metadata": {},
     "output_type": "execute_result"
    }
   ],
   "source": [
    "' Pwskills '.join(reversed(\"ant\"))"
   ]
  },
  {
   "cell_type": "code",
   "execution_count": 17,
   "id": "a7fbc0cb-574e-4002-b04e-0a6380f3cacf",
   "metadata": {},
   "outputs": [
    {
     "data": {
      "text/plain": [
       "'PSkillsWSkills SkillsiSkillssSkills SkillsgSkillsoSkillsoSkillsdSkills SkillscSkillsoSkillsmSkillspSkillsaSkillsnSkillsy'"
      ]
     },
     "execution_count": 17,
     "metadata": {},
     "output_type": "execute_result"
    }
   ],
   "source": [
    "str1 = \"PW is good company\"\n",
    "\n",
    "\"Skills\".join(\"PW is good company\")"
   ]
  },
  {
   "cell_type": "code",
   "execution_count": 18,
   "id": "6dee4f02-589f-4fcc-9733-5f8898c13bef",
   "metadata": {},
   "outputs": [
    {
     "name": "stdout",
     "output_type": "stream",
     "text": [
      "sretsaM ecneicS ataD"
     ]
    }
   ],
   "source": [
    "for i in list(reversed(name)):\n",
    "    print(i, end='')"
   ]
  },
  {
   "cell_type": "markdown",
   "id": "4d6ff58a-21df-41b8-8b00-3abfaab4a385",
   "metadata": {},
   "source": [
    "### Removing Characters from end of string"
   ]
  },
  {
   "cell_type": "code",
   "execution_count": 20,
   "id": "b176d7c6-4525-4a63-990a-6351a961d1b4",
   "metadata": {},
   "outputs": [],
   "source": [
    "str1 = \" pwskills \""
   ]
  },
  {
   "cell_type": "code",
   "execution_count": 21,
   "id": "7ac66fd2-ad09-41a3-9a48-6a543e0072c8",
   "metadata": {},
   "outputs": [
    {
     "data": {
      "text/plain": [
       "'pwskills'"
      ]
     },
     "execution_count": 21,
     "metadata": {},
     "output_type": "execute_result"
    }
   ],
   "source": [
    "## removing front and end whitespaces\n",
    "str1.strip(\" \")"
   ]
  },
  {
   "cell_type": "code",
   "execution_count": 24,
   "id": "daee8f78-74ff-4a37-92ac-8c58320634ef",
   "metadata": {},
   "outputs": [
    {
     "data": {
      "text/plain": [
       "'pwskills '"
      ]
     },
     "execution_count": 24,
     "metadata": {},
     "output_type": "execute_result"
    }
   ],
   "source": [
    "## remove left front whitespace\n",
    "str1.lstrip(\" \")"
   ]
  },
  {
   "cell_type": "code",
   "execution_count": 25,
   "id": "b7c38e3e-3616-461e-a313-9ce7941a756e",
   "metadata": {},
   "outputs": [
    {
     "data": {
      "text/plain": [
       "' pwskills'"
      ]
     },
     "execution_count": 25,
     "metadata": {},
     "output_type": "execute_result"
    }
   ],
   "source": [
    "## remove right front whitespace\n",
    "str1.rstrip(\" \")"
   ]
  },
  {
   "cell_type": "code",
   "execution_count": 27,
   "id": "1fa11c20-f658-40d8-862c-3ca07c51dfad",
   "metadata": {},
   "outputs": [
    {
     "data": {
      "text/plain": [
       "'Greetings from from Pwskills'"
      ]
     },
     "execution_count": 27,
     "metadata": {},
     "output_type": "execute_result"
    }
   ],
   "source": [
    "## replace all occurences of enterd substring\n",
    "str2 = \"Greetings to to Pwskills\"\n",
    "str2.replace(\"to\", \"from\")"
   ]
  },
  {
   "cell_type": "code",
   "execution_count": 29,
   "id": "14ab6f82-2b63-4859-9178-02c0af54b188",
   "metadata": {},
   "outputs": [
    {
     "data": {
      "text/plain": [
       "'Pw'"
      ]
     },
     "execution_count": 29,
     "metadata": {},
     "output_type": "execute_result"
    }
   ],
   "source": [
    "# string is immutable means can't change its characters but we can change whole string\n",
    "name = \"Mahesh\"\n",
    "name = \"Pw\"\n",
    "name"
   ]
  },
  {
   "cell_type": "code",
   "execution_count": 31,
   "id": "1202cfcd-e982-443f-9574-3982d5ad805c",
   "metadata": {},
   "outputs": [],
   "source": [
    "name = \"mahesh\"\n",
    "## name[0] = \"n\" - gives not support item assignment."
   ]
  },
  {
   "cell_type": "code",
   "execution_count": 32,
   "id": "dc346119-1ee2-4de5-9db8-923cb1cccca3",
   "metadata": {},
   "outputs": [
    {
     "data": {
      "text/plain": [
       "'test gmail.com'"
      ]
     },
     "execution_count": 32,
     "metadata": {},
     "output_type": "execute_result"
    }
   ],
   "source": [
    "str_n = \"test@gmail.com\"\n",
    "var_a=str_n.replace(\"@\", \" \")\n",
    "var_a"
   ]
  },
  {
   "cell_type": "code",
   "execution_count": 34,
   "id": "d81b1233-af20-4f02-a8a3-5f4a223361c3",
   "metadata": {},
   "outputs": [
    {
     "data": {
      "text/plain": [
       "'hello    world'"
      ]
     },
     "execution_count": 34,
     "metadata": {},
     "output_type": "execute_result"
    }
   ],
   "source": [
    "'hello \\t world'.expandtabs()"
   ]
  },
  {
   "cell_type": "code",
   "execution_count": 35,
   "id": "70735416-dada-4c87-949e-bce316e30c3d",
   "metadata": {},
   "outputs": [
    {
     "data": {
      "text/plain": [
       "'Welcome to pwskills.Welcome to Data Science Masters'"
      ]
     },
     "execution_count": 35,
     "metadata": {},
     "output_type": "execute_result"
    }
   ],
   "source": [
    "str3 = \"Welcome to pwskills.Welcome to Dat cience Masters\"\n",
    "#replace Dat with Data and cience with Science\n",
    "str3.replace(\"Dat\", \"Data\").replace(\"cience\", \"Science\")"
   ]
  },
  {
   "cell_type": "code",
   "execution_count": 36,
   "id": "e82eab45-4d8b-4fd6-b0a1-7340c429ae3a",
   "metadata": {},
   "outputs": [
    {
     "data": {
      "text/plain": [
       "False"
      ]
     },
     "execution_count": 36,
     "metadata": {},
     "output_type": "execute_result"
    }
   ],
   "source": [
    "str3.isupper()"
   ]
  },
  {
   "cell_type": "code",
   "execution_count": 37,
   "id": "c73de7b7-69e1-4ae0-9fb0-0849ceb0534a",
   "metadata": {},
   "outputs": [
    {
     "data": {
      "text/plain": [
       "True"
      ]
     },
     "execution_count": 37,
     "metadata": {},
     "output_type": "execute_result"
    }
   ],
   "source": [
    "\"MAHESH\".isupper()"
   ]
  },
  {
   "cell_type": "code",
   "execution_count": 38,
   "id": "9559b6d1-5013-414e-a195-31d3ab017faf",
   "metadata": {},
   "outputs": [
    {
     "data": {
      "text/plain": [
       "True"
      ]
     },
     "execution_count": 38,
     "metadata": {},
     "output_type": "execute_result"
    }
   ],
   "source": [
    "' '.isspace()"
   ]
  },
  {
   "cell_type": "code",
   "execution_count": 44,
   "id": "068f2e6f-f853-4e9c-95e4-44dee224d30c",
   "metadata": {},
   "outputs": [
    {
     "data": {
      "text/plain": [
       "False"
      ]
     },
     "execution_count": 44,
     "metadata": {},
     "output_type": "execute_result"
    }
   ],
   "source": [
    "## to string is empty or not\n",
    "''.isspace()"
   ]
  },
  {
   "cell_type": "code",
   "execution_count": 42,
   "id": "7a8568a7-3e13-4c7c-953e-1ff7aa4e5cbe",
   "metadata": {},
   "outputs": [
    {
     "name": "stdout",
     "output_type": "stream",
     "text": [
      "Hello\n"
     ]
    }
   ],
   "source": [
    "if \" \".isspace():\n",
    "    print(\"Hello\")"
   ]
  },
  {
   "cell_type": "code",
   "execution_count": 45,
   "id": "3f5e08c1-a637-4626-a40b-bca6a9d7d2fd",
   "metadata": {},
   "outputs": [
    {
     "data": {
      "text/plain": [
       "True"
      ]
     },
     "execution_count": 45,
     "metadata": {},
     "output_type": "execute_result"
    }
   ],
   "source": [
    "## checks end letter of string\n",
    "str5 = \"Mahesh Sathe\"\n",
    "str5.endswith('e')"
   ]
  },
  {
   "cell_type": "code",
   "execution_count": 46,
   "id": "7568170b-6ad5-4d17-8d17-d8770a71acf0",
   "metadata": {},
   "outputs": [
    {
     "data": {
      "text/plain": [
       "True"
      ]
     },
     "execution_count": 46,
     "metadata": {},
     "output_type": "execute_result"
    }
   ],
   "source": [
    "str5.startswith('M')"
   ]
  },
  {
   "cell_type": "code",
   "execution_count": 47,
   "id": "2787715e-7802-49a5-b36b-88db4c349ea0",
   "metadata": {},
   "outputs": [
    {
     "data": {
      "text/plain": [
       "True"
      ]
     },
     "execution_count": 47,
     "metadata": {},
     "output_type": "execute_result"
    }
   ],
   "source": [
    "## checks if all char in string is alphanumeric or not\n",
    "a=\"abssc1233\"\n",
    "a.isalnum()"
   ]
  },
  {
   "cell_type": "markdown",
   "id": "283d499a-a353-42de-b8a9-5c28549f233c",
   "metadata": {},
   "source": [
    "#### to count no. of character in string"
   ]
  },
  {
   "cell_type": "code",
   "execution_count": 50,
   "id": "46e2c4f0-aace-45d1-8489-c334ee8e58de",
   "metadata": {},
   "outputs": [
    {
     "data": {
      "text/plain": [
       "'Mahesh Sathe'"
      ]
     },
     "execution_count": 50,
     "metadata": {},
     "output_type": "execute_result"
    }
   ],
   "source": [
    "str5"
   ]
  },
  {
   "cell_type": "code",
   "execution_count": 48,
   "id": "fc32ee8b-c82d-455e-b461-62b18af9833a",
   "metadata": {},
   "outputs": [
    {
     "name": "stdout",
     "output_type": "stream",
     "text": [
      "12\n"
     ]
    }
   ],
   "source": [
    "count = 0\n",
    "for i in str5:\n",
    "    count=count+1\n",
    "    \n",
    "print(count)"
   ]
  },
  {
   "cell_type": "code",
   "execution_count": 49,
   "id": "c6a0c37d-4b9b-43a2-96e2-76879ce7f427",
   "metadata": {},
   "outputs": [
    {
     "data": {
      "text/plain": [
       "12"
      ]
     },
     "execution_count": 49,
     "metadata": {},
     "output_type": "execute_result"
    }
   ],
   "source": [
    "len(str5)"
   ]
  },
  {
   "cell_type": "code",
   "execution_count": 53,
   "id": "80b3a83e-391a-4cab-a7bd-306ed6739e05",
   "metadata": {},
   "outputs": [
    {
     "name": "stdout",
     "output_type": "stream",
     "text": [
      "0 = M\n",
      "1 = a\n",
      "2 = h\n",
      "3 = e\n",
      "4 = s\n",
      "5 = h\n",
      "6 =  \n",
      "7 = S\n",
      "8 = a\n",
      "9 = t\n",
      "10 = h\n",
      "11 = e\n"
     ]
    }
   ],
   "source": [
    "for i in range(len(str5)):\n",
    "    print(i, \"=\", str5[i])"
   ]
  },
  {
   "cell_type": "code",
   "execution_count": 54,
   "id": "c45721c4-bc85-47ae-8c19-f4b9ed636b92",
   "metadata": {},
   "outputs": [
    {
     "name": "stdout",
     "output_type": "stream",
     "text": [
      "e\n",
      "h\n",
      "t\n",
      "a\n",
      "S\n",
      " \n",
      "h\n",
      "s\n",
      "e\n",
      "h\n",
      "a\n",
      "M\n"
     ]
    }
   ],
   "source": [
    "## use index to iterate string reverse direction\n",
    "\n",
    "for i in range(len(str5)-1, -1, -1):\n",
    "    print(str5[i])"
   ]
  },
  {
   "cell_type": "code",
   "execution_count": 57,
   "id": "ffe4f65a-0df4-410f-9258-a75e662baf4b",
   "metadata": {},
   "outputs": [
    {
     "name": "stdout",
     "output_type": "stream",
     "text": [
      "e\n",
      "h\n",
      "t\n",
      "a\n",
      "S\n",
      " \n",
      "h\n",
      "s\n",
      "e\n",
      "h\n",
      "a\n",
      "M\n"
     ]
    }
   ],
   "source": [
    "ch=len(str5)-1\n",
    "while ch>=0:\n",
    "    print(str5[ch])\n",
    "    ch=ch-1"
   ]
  },
  {
   "cell_type": "code",
   "execution_count": 59,
   "id": "4f3e9f43-a535-4091-b834-3dcbbedb60fc",
   "metadata": {},
   "outputs": [
    {
     "name": "stdout",
     "output_type": "stream",
     "text": [
      "ehtaS hsehaM"
     ]
    }
   ],
   "source": [
    "for i in range(len(str5)):\n",
    "    print(str5[len(str5) - (i+1)], end=\"\")"
   ]
  },
  {
   "cell_type": "code",
   "execution_count": 60,
   "id": "17ea0a5d-f8f2-4545-8700-bf555c1b02af",
   "metadata": {},
   "outputs": [],
   "source": [
    "name1 = \"pwskills\"\n",
    "vowels = \"AaEeIiOoUu\""
   ]
  },
  {
   "cell_type": "code",
   "execution_count": 62,
   "id": "f5623075-1a5c-44d8-8cc6-ee84c3576582",
   "metadata": {},
   "outputs": [
    {
     "name": "stdout",
     "output_type": "stream",
     "text": [
      "p is not a vowel\n",
      "w is not a vowel\n",
      "s is not a vowel\n",
      "k is not a vowel\n",
      "i is a vowel\n",
      "l is not a vowel\n",
      "l is not a vowel\n",
      "s is not a vowel\n"
     ]
    }
   ],
   "source": [
    "for ch in name1:\n",
    "    if ch in vowels:\n",
    "        print(\"{} is a vowel\".format(ch))\n",
    "    else:\n",
    "        print(\"{} is not a vowel\".format(ch))"
   ]
  },
  {
   "cell_type": "markdown",
   "id": "09c57695-40ab-4f57-8c67-97185953faa9",
   "metadata": {},
   "source": [
    "## List"
   ]
  },
  {
   "cell_type": "code",
   "execution_count": 63,
   "id": "4b34b368-3b6e-414b-b8dd-083204abf183",
   "metadata": {},
   "outputs": [
    {
     "data": {
      "text/plain": [
       "['Krish', 'Rahul', 'Pwskills', 32]"
      ]
     },
     "execution_count": 63,
     "metadata": {},
     "output_type": "execute_result"
    }
   ],
   "source": [
    "[\"Krish\", \"Rahul\", \"Pwskills\", 32]"
   ]
  },
  {
   "cell_type": "code",
   "execution_count": 64,
   "id": "59b3cec4-91e7-43c2-a3b8-19c291ab1c01",
   "metadata": {},
   "outputs": [
    {
     "data": {
      "text/plain": [
       "'Greetings to to Pwskills'"
      ]
     },
     "execution_count": 64,
     "metadata": {},
     "output_type": "execute_result"
    }
   ],
   "source": [
    "str2"
   ]
  },
  {
   "cell_type": "code",
   "execution_count": 65,
   "id": "7c9a2f01-b0f9-4c76-93af-7745953b2293",
   "metadata": {},
   "outputs": [
    {
     "data": {
      "text/plain": [
       "['G',\n",
       " 'r',\n",
       " 'e',\n",
       " 'e',\n",
       " 't',\n",
       " 'i',\n",
       " 'n',\n",
       " 'g',\n",
       " 's',\n",
       " ' ',\n",
       " 't',\n",
       " 'o',\n",
       " ' ',\n",
       " 't',\n",
       " 'o',\n",
       " ' ',\n",
       " 'P',\n",
       " 'w',\n",
       " 's',\n",
       " 'k',\n",
       " 'i',\n",
       " 'l',\n",
       " 'l',\n",
       " 's']"
      ]
     },
     "execution_count": 65,
     "metadata": {},
     "output_type": "execute_result"
    }
   ],
   "source": [
    "list(str2)"
   ]
  },
  {
   "cell_type": "code",
   "execution_count": 69,
   "id": "a7a48bce-055b-4725-8c12-c70765fffc31",
   "metadata": {},
   "outputs": [],
   "source": [
    "lst1 = list(str5.split(\" \"))"
   ]
  },
  {
   "cell_type": "code",
   "execution_count": 67,
   "id": "f21c0aa6-bf67-4cf5-bf11-7a74b2a41245",
   "metadata": {},
   "outputs": [],
   "source": [
    "## List is ordered collection of elements it can be any elements"
   ]
  },
  {
   "cell_type": "code",
   "execution_count": 70,
   "id": "52f674fa-7f0d-4f60-8126-d3e85cef9e96",
   "metadata": {},
   "outputs": [
    {
     "data": {
      "text/plain": [
       "'Sathe'"
      ]
     },
     "execution_count": 70,
     "metadata": {},
     "output_type": "execute_result"
    }
   ],
   "source": [
    "lst1[1]"
   ]
  },
  {
   "cell_type": "code",
   "execution_count": 71,
   "id": "02302e2a-e0de-460e-aed9-daa465daba3e",
   "metadata": {},
   "outputs": [
    {
     "data": {
      "text/plain": [
       "'Sathe'"
      ]
     },
     "execution_count": 71,
     "metadata": {},
     "output_type": "execute_result"
    }
   ],
   "source": [
    "lst1[-1]"
   ]
  },
  {
   "cell_type": "code",
   "execution_count": 72,
   "id": "0aa6ebb1-f591-4a92-9b04-aff4131ae2b0",
   "metadata": {},
   "outputs": [],
   "source": [
    "str6 = \"PW Skills Data science masters\""
   ]
  },
  {
   "cell_type": "code",
   "execution_count": 74,
   "id": "d40cecba-1665-434e-a9e7-6537f8113e58",
   "metadata": {},
   "outputs": [],
   "source": [
    "lst2 = list(str6.split(\" \"))"
   ]
  },
  {
   "cell_type": "code",
   "execution_count": 75,
   "id": "4f7c1d0f-10da-4b77-825a-3e6401475990",
   "metadata": {},
   "outputs": [
    {
     "data": {
      "text/plain": [
       "['PW',\n",
       " 'Skills',\n",
       " 'Data',\n",
       " 'science',\n",
       " 'masters',\n",
       " 'PW',\n",
       " 'Skills',\n",
       " 'Data',\n",
       " 'science',\n",
       " 'masters']"
      ]
     },
     "execution_count": 75,
     "metadata": {},
     "output_type": "execute_result"
    }
   ],
   "source": [
    "lst2 * 2"
   ]
  },
  {
   "cell_type": "code",
   "execution_count": 76,
   "id": "9b9c3d41-05e8-4fd2-b5b3-eaf848025201",
   "metadata": {},
   "outputs": [
    {
     "data": {
      "text/plain": [
       "['PW', 'Skills', 'Data', 'science', 'masters', 'new Element', 5]"
      ]
     },
     "execution_count": 76,
     "metadata": {},
     "output_type": "execute_result"
    }
   ],
   "source": [
    "#concat\n",
    "lst2 + ['new Element', 5]"
   ]
  },
  {
   "cell_type": "code",
   "execution_count": 80,
   "id": "809249d9-1162-413a-981b-508f62c89c6f",
   "metadata": {},
   "outputs": [],
   "source": [
    "lst1=['Data', 5]"
   ]
  },
  {
   "cell_type": "code",
   "execution_count": 82,
   "id": "44ddd3e0-5953-4065-bcbc-8d127fc055d6",
   "metadata": {},
   "outputs": [
    {
     "name": "stdout",
     "output_type": "stream",
     "text": [
      "Data\n"
     ]
    }
   ],
   "source": [
    "for element in lst2:\n",
    "    if element in lst1:\n",
    "        print(element)"
   ]
  },
  {
   "cell_type": "code",
   "execution_count": 79,
   "id": "ff56ab24-0766-4592-b5f5-74e3cba2f73b",
   "metadata": {},
   "outputs": [
    {
     "data": {
      "text/plain": [
       "True"
      ]
     },
     "execution_count": 79,
     "metadata": {},
     "output_type": "execute_result"
    }
   ],
   "source": [
    "lst=[1,2,3,4]\n",
    "4 in lst"
   ]
  },
  {
   "cell_type": "code",
   "execution_count": 83,
   "id": "9d6e60d1-211b-4472-bf63-945afc7bf66c",
   "metadata": {},
   "outputs": [
    {
     "data": {
      "text/plain": [
       "True"
      ]
     },
     "execution_count": 83,
     "metadata": {},
     "output_type": "execute_result"
    }
   ],
   "source": [
    "2.0 in lst"
   ]
  },
  {
   "cell_type": "code",
   "execution_count": 84,
   "id": "047f7ac0-e982-47ac-9acb-40da46b7a640",
   "metadata": {},
   "outputs": [],
   "source": [
    "lst1=[\"Zebra\", \"Monkey\", \"Donkey\", \"Lion\"]\n",
    "lst2=[5,6,2,9,5,8,6]"
   ]
  },
  {
   "cell_type": "code",
   "execution_count": 85,
   "id": "bef12232-e92a-44c6-a13a-83c3e4cc3804",
   "metadata": {},
   "outputs": [
    {
     "name": "stdout",
     "output_type": "stream",
     "text": [
      "Zebra\n"
     ]
    }
   ],
   "source": [
    "print(max(lst1))"
   ]
  },
  {
   "cell_type": "code",
   "execution_count": 86,
   "id": "63c86455-70b7-4eef-85cf-0420c30c0d58",
   "metadata": {},
   "outputs": [
    {
     "data": {
      "text/plain": [
       "9"
      ]
     },
     "execution_count": 86,
     "metadata": {},
     "output_type": "execute_result"
    }
   ],
   "source": [
    "max(lst2)"
   ]
  },
  {
   "cell_type": "code",
   "execution_count": 87,
   "id": "d24e517e-c6d2-499d-9633-7dcf2be11e6d",
   "metadata": {},
   "outputs": [
    {
     "data": {
      "text/plain": [
       "'Donkey'"
      ]
     },
     "execution_count": 87,
     "metadata": {},
     "output_type": "execute_result"
    }
   ],
   "source": [
    "min(lst1)"
   ]
  },
  {
   "cell_type": "code",
   "execution_count": 88,
   "id": "aad98e60-07d7-4158-9e5d-0b1867702658",
   "metadata": {},
   "outputs": [
    {
     "data": {
      "text/plain": [
       "2"
      ]
     },
     "execution_count": 88,
     "metadata": {},
     "output_type": "execute_result"
    }
   ],
   "source": [
    "min(lst2)"
   ]
  },
  {
   "cell_type": "code",
   "execution_count": 98,
   "id": "d39d39e1-534f-4b0d-968e-8a5479ba4a9b",
   "metadata": {},
   "outputs": [],
   "source": [
    "lst2 = ['Skills', 'PW']"
   ]
  },
  {
   "cell_type": "code",
   "execution_count": 100,
   "id": "45fef018-8a61-47b9-a2d5-98676e977de6",
   "metadata": {},
   "outputs": [
    {
     "name": "stdout",
     "output_type": "stream",
     "text": [
      "Present\n"
     ]
    }
   ],
   "source": [
    "if 'Skills' in lst2:\n",
    "    print(\"Present\")"
   ]
  },
  {
   "cell_type": "markdown",
   "id": "8180135d-31cd-453a-b9a9-f2ef7aeaf269",
   "metadata": {},
   "source": [
    "## Functions in List"
   ]
  },
  {
   "cell_type": "code",
   "execution_count": 101,
   "id": "b73a9a7f-1b36-4566-8fd8-7da79aabe2ec",
   "metadata": {},
   "outputs": [],
   "source": [
    "l= [1,2,3,4,5,6]"
   ]
  },
  {
   "cell_type": "code",
   "execution_count": 102,
   "id": "673ea7b9-bd85-49cd-af40-e8c77bf4d121",
   "metadata": {},
   "outputs": [],
   "source": [
    "#append is an inplace function means it makes changes in original list\n",
    "l.append(\"Hi\")"
   ]
  },
  {
   "cell_type": "code",
   "execution_count": 103,
   "id": "800a1714-0100-414b-90a9-be3159920a66",
   "metadata": {},
   "outputs": [
    {
     "data": {
      "text/plain": [
       "[1, 2, 3, 4, 5, 6, 'Hi']"
      ]
     },
     "execution_count": 103,
     "metadata": {},
     "output_type": "execute_result"
    }
   ],
   "source": [
    "l"
   ]
  },
  {
   "cell_type": "code",
   "execution_count": 104,
   "id": "9591a9ef-d594-4b05-bf80-2ba4f643fcc0",
   "metadata": {},
   "outputs": [],
   "source": [
    "l.append(['Data', 'Science'])"
   ]
  },
  {
   "cell_type": "code",
   "execution_count": 105,
   "id": "0843b8b6-4292-46e6-bc13-52c710759842",
   "metadata": {},
   "outputs": [
    {
     "data": {
      "text/plain": [
       "[1, 2, 3, 4, 5, 6, 'Hi', ['Data', 'Science']]"
      ]
     },
     "execution_count": 105,
     "metadata": {},
     "output_type": "execute_result"
    }
   ],
   "source": [
    "#nested list\n",
    "l"
   ]
  },
  {
   "cell_type": "code",
   "execution_count": 106,
   "id": "15d9230f-2a02-4e55-8173-95e91d05c679",
   "metadata": {},
   "outputs": [
    {
     "data": {
      "text/plain": [
       "['Data', 'Science']"
      ]
     },
     "execution_count": 106,
     "metadata": {},
     "output_type": "execute_result"
    }
   ],
   "source": [
    "## it is an inplace operation\n",
    "## by default it removes from last\n",
    "l.pop()"
   ]
  },
  {
   "cell_type": "code",
   "execution_count": 107,
   "id": "8ebce90a-ee5e-4bfa-b9b6-e90ef667f8fc",
   "metadata": {},
   "outputs": [
    {
     "data": {
      "text/plain": [
       "[1, 2, 3, 4, 5, 6, 'Hi']"
      ]
     },
     "execution_count": 107,
     "metadata": {},
     "output_type": "execute_result"
    }
   ],
   "source": [
    "l"
   ]
  },
  {
   "cell_type": "code",
   "execution_count": 108,
   "id": "30c79056-7a95-4eca-961d-e80775d0c120",
   "metadata": {},
   "outputs": [
    {
     "data": {
      "text/plain": [
       "3"
      ]
     },
     "execution_count": 108,
     "metadata": {},
     "output_type": "execute_result"
    }
   ],
   "source": [
    "## for deleting from particular index\n",
    "l.pop(2)"
   ]
  },
  {
   "cell_type": "code",
   "execution_count": 109,
   "id": "0dd8f67d-6bde-4cee-966d-a24dbb49ab20",
   "metadata": {},
   "outputs": [
    {
     "data": {
      "text/plain": [
       "[1, 2, 4, 5, 6, 'Hi']"
      ]
     },
     "execution_count": 109,
     "metadata": {},
     "output_type": "execute_result"
    }
   ],
   "source": [
    "l"
   ]
  },
  {
   "cell_type": "code",
   "execution_count": 110,
   "id": "f4d30053-a1e4-41c6-a03f-e0ac5e14af03",
   "metadata": {},
   "outputs": [],
   "source": [
    "l = ['monkey', 'zebra', 'donkey', 'lion']"
   ]
  },
  {
   "cell_type": "code",
   "execution_count": 111,
   "id": "e8b390bc-405f-432a-8634-22d20e6b61a0",
   "metadata": {},
   "outputs": [],
   "source": [
    "removed_element = l.pop(0)"
   ]
  },
  {
   "cell_type": "code",
   "execution_count": 112,
   "id": "0765bcac-c044-4923-8122-1a8092cae267",
   "metadata": {},
   "outputs": [
    {
     "data": {
      "text/plain": [
       "'monkey'"
      ]
     },
     "execution_count": 112,
     "metadata": {},
     "output_type": "execute_result"
    }
   ],
   "source": [
    "removed_element"
   ]
  },
  {
   "cell_type": "markdown",
   "id": "b2fd7732-78f0-4abe-9300-5d155931ec19",
   "metadata": {},
   "source": [
    "### Sorting and reverse methods in list"
   ]
  },
  {
   "cell_type": "code",
   "execution_count": 113,
   "id": "8582b08a-17c4-4b6c-8285-947712734d3d",
   "metadata": {},
   "outputs": [
    {
     "data": {
      "text/plain": [
       "['q', 'e', 'f', 's', 't', 'u']"
      ]
     },
     "execution_count": 113,
     "metadata": {},
     "output_type": "execute_result"
    }
   ],
   "source": [
    "nl = ['q','e','f','s','t','u']\n",
    "nl"
   ]
  },
  {
   "cell_type": "code",
   "execution_count": 114,
   "id": "bc98648c-508a-4e53-82f8-7192a4535fec",
   "metadata": {},
   "outputs": [
    {
     "data": {
      "text/plain": [
       "['u', 't', 's', 'f', 'e', 'q']"
      ]
     },
     "execution_count": 114,
     "metadata": {},
     "output_type": "execute_result"
    }
   ],
   "source": [
    "## reverse\n",
    "nl[::-1]"
   ]
  },
  {
   "cell_type": "code",
   "execution_count": 123,
   "id": "fb8e1cab-0cda-4c32-a4c4-fc630d8c8295",
   "metadata": {},
   "outputs": [
    {
     "data": {
      "text/plain": [
       "['u', 't', 's', 'f', 'e', 'q']"
      ]
     },
     "execution_count": 123,
     "metadata": {},
     "output_type": "execute_result"
    }
   ],
   "source": [
    "## it also an inplace op.\n",
    "nl.reverse()\n",
    "nl"
   ]
  },
  {
   "cell_type": "code",
   "execution_count": 119,
   "id": "d5bda72b-c882-4e55-b237-b432d7095ad2",
   "metadata": {},
   "outputs": [],
   "source": [
    "l2 = [1,2,3,6,7,5,9,8]\n",
    "l2.sort()"
   ]
  },
  {
   "cell_type": "code",
   "execution_count": 120,
   "id": "dd165e35-e446-40d8-9b6c-f9981394de53",
   "metadata": {},
   "outputs": [
    {
     "data": {
      "text/plain": [
       "[1, 2, 3, 5, 6, 7, 8, 9]"
      ]
     },
     "execution_count": 120,
     "metadata": {},
     "output_type": "execute_result"
    }
   ],
   "source": [
    "l2"
   ]
  },
  {
   "cell_type": "code",
   "execution_count": 125,
   "id": "65d84bfe-057c-4121-b15a-15c42b025aed",
   "metadata": {},
   "outputs": [
    {
     "data": {
      "text/plain": [
       "[1, 2, 3, 5, 6, 7, 8, 9, ['Pw', 'skills'], ['Pw', 'skills']]"
      ]
     },
     "execution_count": 125,
     "metadata": {},
     "output_type": "execute_result"
    }
   ],
   "source": [
    "l2.append([\"Pw\", \"skills\"])\n",
    "l2"
   ]
  },
  {
   "cell_type": "code",
   "execution_count": 126,
   "id": "b8d6119f-ca34-47d3-9573-406ce13ee6f5",
   "metadata": {},
   "outputs": [
    {
     "data": {
      "text/plain": [
       "[1, 2, 3, 5, 6, 7, 8, 9, ['Pw', 'skills'], ['Pw', 'skills'], 'Pw', 'skills']"
      ]
     },
     "execution_count": 126,
     "metadata": {},
     "output_type": "execute_result"
    }
   ],
   "source": [
    "l2.extend([\"Pw\", \"skills\"])\n",
    "l2"
   ]
  },
  {
   "cell_type": "markdown",
   "id": "b4f7c4d2-a3f9-4584-ae35-6a15414f7a54",
   "metadata": {},
   "source": [
    "### Nested List"
   ]
  },
  {
   "cell_type": "code",
   "execution_count": 127,
   "id": "6139052e-6c06-4cc5-b466-0a17932a08f7",
   "metadata": {},
   "outputs": [
    {
     "data": {
      "text/plain": [
       "[[1, 2, 3], [4, 5, 6], [7, 8, 9]]"
      ]
     },
     "execution_count": 127,
     "metadata": {},
     "output_type": "execute_result"
    }
   ],
   "source": [
    "l1 = [1,2,3]\n",
    "l2 = [4,5,6]\n",
    "l3 = [7,8,9]\n",
    "\n",
    "#make a list of lists to form a matrix\n",
    "\n",
    "matrix = [l1, l2, l3]\n",
    "matrix"
   ]
  },
  {
   "cell_type": "code",
   "execution_count": 129,
   "id": "782cef11-43ad-4d03-9f77-22de9431602e",
   "metadata": {},
   "outputs": [
    {
     "data": {
      "text/plain": [
       "6"
      ]
     },
     "execution_count": 129,
     "metadata": {},
     "output_type": "execute_result"
    }
   ],
   "source": [
    "matrix[1][2]"
   ]
  },
  {
   "cell_type": "code",
   "execution_count": 130,
   "id": "f8205621-479c-4ea6-a118-a54e8b7a74bb",
   "metadata": {},
   "outputs": [
    {
     "data": {
      "text/plain": [
       "[8, 9]"
      ]
     },
     "execution_count": 130,
     "metadata": {},
     "output_type": "execute_result"
    }
   ],
   "source": [
    "matrix[2][1:]"
   ]
  },
  {
   "cell_type": "code",
   "execution_count": 131,
   "id": "8e38013b-ea6a-4a4e-876c-43809798065c",
   "metadata": {},
   "outputs": [
    {
     "data": {
      "text/plain": [
       "2"
      ]
     },
     "execution_count": 131,
     "metadata": {},
     "output_type": "execute_result"
    }
   ],
   "source": [
    "matrix[0][1]"
   ]
  },
  {
   "cell_type": "code",
   "execution_count": 132,
   "id": "af18b71a-035c-4b86-a1c9-13e99424ea20",
   "metadata": {},
   "outputs": [
    {
     "data": {
      "text/plain": [
       "[1, 2, 3]"
      ]
     },
     "execution_count": 132,
     "metadata": {},
     "output_type": "execute_result"
    }
   ],
   "source": [
    "matrix[0][0:]"
   ]
  },
  {
   "cell_type": "code",
   "execution_count": 133,
   "id": "918ad5f4-002b-4ff4-b2e5-eb5f76166473",
   "metadata": {},
   "outputs": [
    {
     "data": {
      "text/plain": [
       "[1, 2, 3]"
      ]
     },
     "execution_count": 133,
     "metadata": {},
     "output_type": "execute_result"
    }
   ],
   "source": [
    "matrix[0:][0]"
   ]
  },
  {
   "cell_type": "markdown",
   "id": "f606c1a6-0e8b-49e1-a3c9-17d7909b7256",
   "metadata": {},
   "source": [
    "## List Comprehension"
   ]
  },
  {
   "cell_type": "code",
   "execution_count": 134,
   "id": "9e120ac3-dc38-4eb2-8818-0782fe62ae6e",
   "metadata": {},
   "outputs": [
    {
     "data": {
      "text/plain": [
       "[0, 1, 2, 3, 4, 5, 6, 7, 8, 9, 10, 11, 12, 13, 14, 15, 16, 17, 18, 19]"
      ]
     },
     "execution_count": 134,
     "metadata": {},
     "output_type": "execute_result"
    }
   ],
   "source": [
    "[i for i in range(20)]"
   ]
  },
  {
   "cell_type": "code",
   "execution_count": 138,
   "id": "432c7906-e532-4b3b-810f-18d6fd3abfd5",
   "metadata": {},
   "outputs": [
    {
     "data": {
      "text/plain": [
       "[0, '', 2, '', 4, '', 6, '', 8, '', 10, '', 12, '', 14, '', 16, '', 18, '']"
      ]
     },
     "execution_count": 138,
     "metadata": {},
     "output_type": "execute_result"
    }
   ],
   "source": [
    "[i if i%2==0 else \"\" for i in range(20)]"
   ]
  },
  {
   "cell_type": "code",
   "execution_count": 139,
   "id": "491b6fc9-66d1-4845-815d-2470e5646270",
   "metadata": {},
   "outputs": [],
   "source": [
    "## Assignment\n",
    "## Sum of even no. and odd no.\n",
    "lst=[1,2,3,4,5,6,7,8]"
   ]
  },
  {
   "cell_type": "code",
   "execution_count": 140,
   "id": "576d0690-42fb-4944-8431-0da7d4de4b89",
   "metadata": {},
   "outputs": [
    {
     "data": {
      "text/plain": [
       "20"
      ]
     },
     "execution_count": 140,
     "metadata": {},
     "output_type": "execute_result"
    }
   ],
   "source": [
    "even_sum = sum([num for num in lst if num%2==0])\n",
    "even_sum"
   ]
  },
  {
   "cell_type": "code",
   "execution_count": 141,
   "id": "a68c96d9-f0a3-4860-b7f9-79314bbd0662",
   "metadata": {},
   "outputs": [
    {
     "data": {
      "text/plain": [
       "16"
      ]
     },
     "execution_count": 141,
     "metadata": {},
     "output_type": "execute_result"
    }
   ],
   "source": [
    "odd_sum = sum([num for num in lst if num%2!=0])\n",
    "odd_sum"
   ]
  },
  {
   "cell_type": "code",
   "execution_count": 142,
   "id": "32248324-34e8-4132-9553-ec4fc17d2304",
   "metadata": {},
   "outputs": [
    {
     "data": {
      "text/plain": [
       "[1, 4, 9, 16, 25, 36, 49, 64, 81, 0]"
      ]
     },
     "execution_count": 142,
     "metadata": {},
     "output_type": "execute_result"
    }
   ],
   "source": [
    "## find square of each element\n",
    "lst=[1,2,3,4,5,6,7,8,9,0]\n",
    "[num**2 for num in lst]"
   ]
  },
  {
   "cell_type": "code",
   "execution_count": 143,
   "id": "a3edf6b3-8785-4d38-a4b2-c34a1758ccfc",
   "metadata": {},
   "outputs": [
    {
     "data": {
      "text/plain": [
       "[1, 2, 3, 4]"
      ]
     },
     "execution_count": 143,
     "metadata": {},
     "output_type": "execute_result"
    }
   ],
   "source": [
    "lst = [-2,-1,0,1,2,3,4]\n",
    "[num for num in lst if num>0]"
   ]
  },
  {
   "cell_type": "code",
   "execution_count": 145,
   "id": "cd73f26b-c6aa-4ec8-8a8f-d5752f3e06b5",
   "metadata": {},
   "outputs": [
    {
     "data": {
      "text/plain": [
       "['a', 'b', 'c', 'd']"
      ]
     },
     "execution_count": 145,
     "metadata": {},
     "output_type": "execute_result"
    }
   ],
   "source": [
    "##EX-3: Create a list of only the first letters of words in list\n",
    "words = ['apple', 'banana', 'cherry', 'date']\n",
    "[word[0] for word in words]"
   ]
  },
  {
   "cell_type": "code",
   "execution_count": 150,
   "id": "0f087b4b-1104-482d-8b63-1ed7b2b810c7",
   "metadata": {},
   "outputs": [
    {
     "data": {
      "text/plain": [
       "[32.0, 33.8, 35.6, 37.4, 39.2, 41.0]"
      ]
     },
     "execution_count": 150,
     "metadata": {},
     "output_type": "execute_result"
    }
   ],
   "source": [
    "## Ex -4 Convert list of of temperatures fro Celsius to Faeenheit using list Comprehension\n",
    "ct = [0, 10, 20, 30, 40, 50]\n",
    "[9/50*temp + 32 for temp in ct]"
   ]
  },
  {
   "cell_type": "code",
   "execution_count": 148,
   "id": "c9420cae-1750-45bb-8811-4317472a051c",
   "metadata": {},
   "outputs": [
    {
     "data": {
      "text/plain": [
       "[1, 2, 3, 4, 5, 6, 7, 8, 9]"
      ]
     },
     "execution_count": 148,
     "metadata": {},
     "output_type": "execute_result"
    }
   ],
   "source": [
    "## Ex5: Flatten a list into a single list\n",
    "lists = [[1,2,3],[4,5,6],[7,8,9]]\n",
    "[num for sublist in lists for num in sublist]"
   ]
  },
  {
   "cell_type": "code",
   "execution_count": 157,
   "id": "f7d5258e-fe23-4b8a-8fab-1e43ceb4dd88",
   "metadata": {},
   "outputs": [],
   "source": [
    "## Assignment\n",
    "## do using both code and list comprehension\n",
    "## Ex 2: Create a list of only the prime no. from a given list\n",
    "numbers = [1,2,3,4,5,6,7,8,9,10]"
   ]
  },
  {
   "cell_type": "code",
   "execution_count": 161,
   "id": "0f3596a7-1535-4dd6-9338-2b9c2a211073",
   "metadata": {},
   "outputs": [],
   "source": [
    "## ex = 3 : Create a list of all the possible combinations of 2 elements from a list.\n",
    "numbers = [1,2,3,4,5]    "
   ]
  }
 ],
 "metadata": {
  "kernelspec": {
   "display_name": "Python 3 (ipykernel)",
   "language": "python",
   "name": "python3"
  },
  "language_info": {
   "codemirror_mode": {
    "name": "ipython",
    "version": 3
   },
   "file_extension": ".py",
   "mimetype": "text/x-python",
   "name": "python",
   "nbconvert_exporter": "python",
   "pygments_lexer": "ipython3",
   "version": "3.10.8"
  }
 },
 "nbformat": 4,
 "nbformat_minor": 5
}
