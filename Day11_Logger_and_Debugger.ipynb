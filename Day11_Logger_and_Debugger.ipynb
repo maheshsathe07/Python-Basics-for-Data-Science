{
 "cells": [
  {
   "cell_type": "markdown",
   "id": "487fa2c6-59ac-4c8f-95aa-1d8bea760b5b",
   "metadata": {},
   "source": [
    "### Logging And Debugger"
   ]
  },
  {
   "cell_type": "code",
   "execution_count": 1,
   "id": "97c4f5ed-ba4f-4102-b5d6-bf1fd65ce6ef",
   "metadata": {},
   "outputs": [],
   "source": [
    "import logging"
   ]
  },
  {
   "cell_type": "code",
   "execution_count": 2,
   "id": "7ca6b6dd-e278-432f-b12b-577b599c2d10",
   "metadata": {},
   "outputs": [],
   "source": [
    "# 1. NOSET\n",
    "# 2. DEBUG\n",
    "# 3. INFO\n",
    "# 4. WARNING\n",
    "# 5. ERROR \n",
    "# 6. CRITICAL\n",
    "\n",
    "# as in below example level = info so level above info which is NOSET and DEBUG wont get logged."
   ]
  },
  {
   "cell_type": "code",
   "execution_count": 3,
   "id": "b19f47d5-5a16-4c37-9e9c-726310b6efb5",
   "metadata": {},
   "outputs": [],
   "source": [
    "logging.basicConfig(filename = \"test1.log\", level = logging.INFO)"
   ]
  },
  {
   "cell_type": "code",
   "execution_count": 4,
   "id": "8f5f0417-4f8f-4fd7-b7d6-39def1e9aaa0",
   "metadata": {},
   "outputs": [],
   "source": [
    "logging.basicConfig(filename = \"test2.log\", level = logging.INFO)"
   ]
  },
  {
   "cell_type": "code",
   "execution_count": 5,
   "id": "2575a51e-80fd-49ca-8c22-6e80e09977cc",
   "metadata": {},
   "outputs": [],
   "source": [
    "l = [1,2,3,4,[4,5,6], 'Mahesh', 'Sathe']"
   ]
  },
  {
   "cell_type": "code",
   "execution_count": 16,
   "id": "0713c10f-dea5-4dbb-b37c-147914d1a1da",
   "metadata": {},
   "outputs": [],
   "source": [
    "l1_int = []\n",
    "l2_str = []\n",
    "for i in l:\n",
    "    logging.info(\"this is start of 1st for loop {}\".format(l))\n",
    "    logging.info(\"this is the value of i: {}\".format(i))\n",
    "    if type(i) == list:\n",
    "        for j in i:\n",
    "            logging.info(\"logging my j {j} and i {i}\".format(i = i, j = j))\n",
    "            if type(j) == int:\n",
    "                l1_int.append(j)\n",
    "    elif type(i) == int:\n",
    "        l1_int.append(i)\n",
    "        \n",
    "    else:\n",
    "        if type(i) == str:\n",
    "            l2_str.append(i)\n",
    "logging.info(\"this is my final result with all int {l1} , with all str {l2}\".format(l1 = l1_int, l2 = l2_str))"
   ]
  },
  {
   "cell_type": "code",
   "execution_count": 7,
   "id": "02662865-640f-4514-ac46-2b0bf3fc46b6",
   "metadata": {},
   "outputs": [
    {
     "data": {
      "text/plain": [
       "[1, 2, 3, 4, 4, 5, 6]"
      ]
     },
     "execution_count": 7,
     "metadata": {},
     "output_type": "execute_result"
    }
   ],
   "source": [
    "l1_int"
   ]
  },
  {
   "cell_type": "code",
   "execution_count": 8,
   "id": "3a7c610f-2a1f-47c4-823b-d5385d5dfe51",
   "metadata": {},
   "outputs": [
    {
     "data": {
      "text/plain": [
       "['Mahesh', 'Sathe']"
      ]
     },
     "execution_count": 8,
     "metadata": {},
     "output_type": "execute_result"
    }
   ],
   "source": [
    "l2_str"
   ]
  },
  {
   "cell_type": "code",
   "execution_count": null,
   "id": "76094610-0e2a-4faa-ab82-eccbc0ba1cde",
   "metadata": {},
   "outputs": [],
   "source": [
    "# at any point program crash using logging we can detect reason of crashing"
   ]
  }
 ],
 "metadata": {
  "kernelspec": {
   "display_name": "Python 3 (ipykernel)",
   "language": "python",
   "name": "python3"
  },
  "language_info": {
   "codemirror_mode": {
    "name": "ipython",
    "version": 3
   },
   "file_extension": ".py",
   "mimetype": "text/x-python",
   "name": "python",
   "nbconvert_exporter": "python",
   "pygments_lexer": "ipython3",
   "version": "3.10.8"
  }
 },
 "nbformat": 4,
 "nbformat_minor": 5
}
