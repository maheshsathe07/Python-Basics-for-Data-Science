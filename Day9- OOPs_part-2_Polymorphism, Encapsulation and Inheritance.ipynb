{
 "cells": [
  {
   "cell_type": "markdown",
   "id": "3f6df616-c7e5-480c-b16a-eb6f3eda3787",
   "metadata": {},
   "source": [
    "### Polymorphism"
   ]
  },
  {
   "cell_type": "code",
   "execution_count": 1,
   "id": "81348d1f-9b92-4d6c-8dcb-0554f3343a3f",
   "metadata": {},
   "outputs": [],
   "source": [
    " def test(a,b) :\n",
    "        return a+b"
   ]
  },
  {
   "cell_type": "code",
   "execution_count": 2,
   "id": "244b4ce4-9bb8-4e00-9df7-e6b90454a840",
   "metadata": {},
   "outputs": [
    {
     "data": {
      "text/plain": [
       "9"
      ]
     },
     "execution_count": 2,
     "metadata": {},
     "output_type": "execute_result"
    }
   ],
   "source": [
    "test(4,5)"
   ]
  },
  {
   "cell_type": "code",
   "execution_count": 3,
   "id": "1f458df3-6f52-4a30-8e17-c9ee7ce935be",
   "metadata": {},
   "outputs": [
    {
     "data": {
      "text/plain": [
       "'MaheshSathe'"
      ]
     },
     "execution_count": 3,
     "metadata": {},
     "output_type": "execute_result"
    }
   ],
   "source": [
    "test(\"Mahesh\", \"Sathe\")"
   ]
  },
  {
   "cell_type": "code",
   "execution_count": 6,
   "id": "ddfb5546-c4c8-444b-a827-a5c8aa789294",
   "metadata": {},
   "outputs": [],
   "source": [
    "# test() - example of polymorphism - it having multiple characteristics or states based on the data which we give."
   ]
  },
  {
   "cell_type": "code",
   "execution_count": 5,
   "id": "511aff80-9bb3-4758-8dfd-5e9d485c6c72",
   "metadata": {},
   "outputs": [
    {
     "data": {
      "text/plain": [
       "[2, 3, 4, 5, 6, 4, 5, 6, 7]"
      ]
     },
     "execution_count": 5,
     "metadata": {},
     "output_type": "execute_result"
    }
   ],
   "source": [
    "test([2,3,4,5,6], [4,5,6,7])"
   ]
  },
  {
   "cell_type": "code",
   "execution_count": null,
   "id": "ad6a3600-a0fe-4992-ab91-c876d69c3c91",
   "metadata": {},
   "outputs": [],
   "source": [
    "# here in below example - one single entity,  but its behaviour is keep on changing as per the object which is passed inside fuction here in below example it is class_parcer."
   ]
  },
  {
   "cell_type": "code",
   "execution_count": 7,
   "id": "cf0f0604-1501-4f57-be7a-f151fff08d7e",
   "metadata": {},
   "outputs": [],
   "source": [
    "class data_science:\n",
    "    def syllabus(self) :\n",
    "        print(\"this is my method for data science syllabus \")"
   ]
  },
  {
   "cell_type": "code",
   "execution_count": 8,
   "id": "10bfc1ad-a2da-48e6-9d51-39129d8e38e8",
   "metadata": {},
   "outputs": [],
   "source": [
    "class web_dev :\n",
    "    def syllabus(self) :\n",
    "        print(\"this is my method for web dev \")"
   ]
  },
  {
   "cell_type": "code",
   "execution_count": 14,
   "id": "24182198-0eba-400a-bbbe-6ea5237e8330",
   "metadata": {},
   "outputs": [],
   "source": [
    "def class_parcer(class_obj) :\n",
    "    for i in class_obj :\n",
    "        i.syllabus()  # data_science.syllabus and web_dev.syllabus"
   ]
  },
  {
   "cell_type": "code",
   "execution_count": 10,
   "id": "db50db57-985a-47bd-a357-90e263c4e5d1",
   "metadata": {},
   "outputs": [],
   "source": [
    "obj_data_science = data_science()"
   ]
  },
  {
   "cell_type": "code",
   "execution_count": 11,
   "id": "6cca3896-4df0-4846-bafa-37e80d5560c9",
   "metadata": {},
   "outputs": [],
   "source": [
    "obj_web_dev = web_dev()"
   ]
  },
  {
   "cell_type": "code",
   "execution_count": 12,
   "id": "73baf878-93ce-4528-9cca-c97ecccad006",
   "metadata": {},
   "outputs": [],
   "source": [
    "class_obj = [obj_data_science, obj_web_dev]"
   ]
  },
  {
   "cell_type": "code",
   "execution_count": 13,
   "id": "b5037801-e159-4ab4-a799-8fd4a1347bff",
   "metadata": {},
   "outputs": [
    {
     "name": "stdout",
     "output_type": "stream",
     "text": [
      "this is my method for data science syllabus \n",
      "this is my method for web dev \n"
     ]
    }
   ],
   "source": [
    "class_parcer(class_obj)"
   ]
  },
  {
   "cell_type": "markdown",
   "id": "b214c8d6-7f9b-4d17-bdac-54f296e6eea0",
   "metadata": {},
   "source": [
    "### Encapsulation"
   ]
  },
  {
   "cell_type": "code",
   "execution_count": 15,
   "id": "478739b5-9df5-4cf4-8ded-a9f31eaa52aa",
   "metadata": {},
   "outputs": [],
   "source": [
    "class test :\n",
    "    def __init__(self, a,b) :\n",
    "        self.a = a\n",
    "        self.b = b"
   ]
  },
  {
   "cell_type": "code",
   "execution_count": 16,
   "id": "adcec003-589d-4a58-9f4d-9abb52e6073f",
   "metadata": {},
   "outputs": [],
   "source": [
    "t = test(45,56)"
   ]
  },
  {
   "cell_type": "code",
   "execution_count": 17,
   "id": "fe4595a9-9ca6-4f5c-bc97-7cb434320bc8",
   "metadata": {},
   "outputs": [
    {
     "data": {
      "text/plain": [
       "45"
      ]
     },
     "execution_count": 17,
     "metadata": {},
     "output_type": "execute_result"
    }
   ],
   "source": [
    "t.a"
   ]
  },
  {
   "cell_type": "code",
   "execution_count": 18,
   "id": "9aac4367-ec55-46d0-b35c-028cb50eb905",
   "metadata": {},
   "outputs": [
    {
     "data": {
      "text/plain": [
       "56"
      ]
     },
     "execution_count": 18,
     "metadata": {},
     "output_type": "execute_result"
    }
   ],
   "source": [
    "t.b"
   ]
  },
  {
   "cell_type": "code",
   "execution_count": 19,
   "id": "84ff1ad5-50c8-4515-87ff-98c34d868a12",
   "metadata": {},
   "outputs": [],
   "source": [
    "t.a = 3434"
   ]
  },
  {
   "cell_type": "code",
   "execution_count": 20,
   "id": "e21c319b-1fd9-4245-86c2-3aa352531680",
   "metadata": {},
   "outputs": [
    {
     "data": {
      "text/plain": [
       "3434"
      ]
     },
     "execution_count": 20,
     "metadata": {},
     "output_type": "execute_result"
    }
   ],
   "source": [
    "t.a"
   ]
  },
  {
   "cell_type": "code",
   "execution_count": 21,
   "id": "8d7d678a-16aa-472a-8edd-ece97510682d",
   "metadata": {},
   "outputs": [],
   "source": [
    "# here we are able to access our class member.\n",
    "# sometime we have to restrict user from accessing or modifying the class member \n",
    "# so to prevent such modifyication or updation.\n",
    "# capsule kind of strucuture where used cant update or modify data directly, can do it by our own define method."
   ]
  },
  {
   "cell_type": "code",
   "execution_count": null,
   "id": "637e4c0f-b3f6-4ba9-862f-d679afc1c47f",
   "metadata": {},
   "outputs": [],
   "source": [
    "class car:\n",
    "    \n",
    "    def __init__(self, year, make, model, speed) :\n",
    "        self.__year = year \n",
    "        self.__make = make\n",
    "        self.__model = model\n",
    "        self.__speed = 0\n",
    "    #above variables are not access by user directly\n",
    "        \n",
    "    #for allow user to modify creaing method\n",
    "    def set_speed(self, speed) :\n",
    "        self.__speed = 0 if speed < 0 else speed\n",
    "        \n",
    "    def get_speed(self) :\n",
    "        return self.__speed"
   ]
  },
  {
   "cell_type": "code",
   "execution_count": 38,
   "id": "1c1ea89b-1d68-47be-a1ed-c15fa45cf5ec",
   "metadata": {},
   "outputs": [],
   "source": [
    "#from outside how to do\n",
    "#here user able to update speed but not able to see it\n",
    "obj_car = car(2021, \"Toyota\", \"innova\", 12)"
   ]
  },
  {
   "cell_type": "code",
   "execution_count": 40,
   "id": "29963ed6-d33e-4be6-8c08-4faf2151ab4c",
   "metadata": {},
   "outputs": [],
   "source": [
    "obj_car.set_speed(1112)"
   ]
  },
  {
   "cell_type": "code",
   "execution_count": 41,
   "id": "8d608166-df45-4ea9-88e8-8ee7a0213737",
   "metadata": {},
   "outputs": [
    {
     "data": {
      "text/plain": [
       "1112"
      ]
     },
     "execution_count": 41,
     "metadata": {},
     "output_type": "execute_result"
    }
   ],
   "source": [
    "obj_car.get_speed()"
   ]
  },
  {
   "cell_type": "code",
   "execution_count": 42,
   "id": "c7a65bf9-f88d-4f85-aa98-624520d7b7f7",
   "metadata": {},
   "outputs": [],
   "source": [
    "# in this way we are able to change encapsulated class members using same class methods."
   ]
  },
  {
   "cell_type": "code",
   "execution_count": 24,
   "id": "4d35b2a6-6fba-44a7-a47a-1cc4f523bd25",
   "metadata": {},
   "outputs": [
    {
     "data": {
      "text/plain": [
       "2021"
      ]
     },
     "execution_count": 24,
     "metadata": {},
     "output_type": "execute_result"
    }
   ],
   "source": [
    "# we are not able to access class member\n",
    "#obj_car.__year\n",
    "obj_car._car__year"
   ]
  },
  {
   "cell_type": "code",
   "execution_count": 25,
   "id": "1e7717a8-0137-43e3-9b0f-c1b93c55f88c",
   "metadata": {},
   "outputs": [],
   "source": [
    "obj_car._car__year = 2023 # its value changes for us only not for external user"
   ]
  },
  {
   "cell_type": "code",
   "execution_count": 27,
   "id": "3b9a07c3-7cba-4269-ac37-c12e7d895d70",
   "metadata": {},
   "outputs": [
    {
     "data": {
      "text/plain": [
       "2023"
      ]
     },
     "execution_count": 27,
     "metadata": {},
     "output_type": "execute_result"
    }
   ],
   "source": [
    "obj_car._car__year #outsider not able to see"
   ]
  },
  {
   "cell_type": "code",
   "execution_count": 43,
   "id": "18329382-dab0-4945-aee7-b8716c5e4d3c",
   "metadata": {},
   "outputs": [],
   "source": [
    " class bank_account:\n",
    "        # balance is private variable and can be accesing using fllowing methods\n",
    "        def __init__(self, balance) :\n",
    "            self.__balance = balance #keeping it private\n",
    "        \n",
    "        def deposit(self, amount) :\n",
    "            self.__balance = self.__balance + amount\n",
    "            \n",
    "        def withdraw(self, amount) :\n",
    "            if self.__balance >= amount :\n",
    "                self.__balance = self.__balance - amount\n",
    "                return True\n",
    "            else:\n",
    "                return False\n",
    "        def get_balance(self) :\n",
    "            return self.__balance"
   ]
  },
  {
   "cell_type": "code",
   "execution_count": 46,
   "id": "da78a153-183d-4913-9b7e-bf9b9d6468c3",
   "metadata": {},
   "outputs": [],
   "source": [
    "obj_bank_account = bank_account(1000)"
   ]
  },
  {
   "cell_type": "code",
   "execution_count": 47,
   "id": "621f833f-8877-4e6d-bcdd-def54597254d",
   "metadata": {},
   "outputs": [
    {
     "data": {
      "text/plain": [
       "1000"
      ]
     },
     "execution_count": 47,
     "metadata": {},
     "output_type": "execute_result"
    }
   ],
   "source": [
    "obj_bank_account.get_balance()"
   ]
  },
  {
   "cell_type": "code",
   "execution_count": 48,
   "id": "f98d3be0-a951-40a1-9b0d-8c9051c99d65",
   "metadata": {},
   "outputs": [],
   "source": [
    "obj_bank_account.deposit(6000)"
   ]
  },
  {
   "cell_type": "code",
   "execution_count": 50,
   "id": "93fe17cb-7e57-4594-9579-fafe60e593eb",
   "metadata": {},
   "outputs": [
    {
     "data": {
      "text/plain": [
       "7000"
      ]
     },
     "execution_count": 50,
     "metadata": {},
     "output_type": "execute_result"
    }
   ],
   "source": [
    "obj_bank_account.get_balance()"
   ]
  },
  {
   "cell_type": "code",
   "execution_count": 51,
   "id": "811eff88-a10e-495a-b82a-0debc7be17a0",
   "metadata": {},
   "outputs": [
    {
     "data": {
      "text/plain": [
       "False"
      ]
     },
     "execution_count": 51,
     "metadata": {},
     "output_type": "execute_result"
    }
   ],
   "source": [
    "obj_bank_account.withdraw(10000)"
   ]
  },
  {
   "cell_type": "code",
   "execution_count": 52,
   "id": "ba8e28b5-c3ed-45c8-bdd8-f7bff7a7297f",
   "metadata": {},
   "outputs": [
    {
     "data": {
      "text/plain": [
       "True"
      ]
     },
     "execution_count": 52,
     "metadata": {},
     "output_type": "execute_result"
    }
   ],
   "source": [
    "obj_bank_account.withdraw(2000)"
   ]
  },
  {
   "cell_type": "code",
   "execution_count": 53,
   "id": "4665d24a-a25b-4286-803d-fbd1de192102",
   "metadata": {},
   "outputs": [
    {
     "data": {
      "text/plain": [
       "5000"
      ]
     },
     "execution_count": 53,
     "metadata": {},
     "output_type": "execute_result"
    }
   ],
   "source": [
    "obj_bank_account.get_balance()"
   ]
  },
  {
   "cell_type": "code",
   "execution_count": 54,
   "id": "f9dc74fd-03f3-4f5f-b990-2ee8c7ff3a4f",
   "metadata": {},
   "outputs": [],
   "source": [
    "## here we are accessing using methods, noone will be able to see internal composition"
   ]
  },
  {
   "cell_type": "markdown",
   "id": "a0d17f00-56d6-451a-bbbc-516b7f9e5b70",
   "metadata": {},
   "source": [
    "#### Inheritance"
   ]
  },
  {
   "cell_type": "code",
   "execution_count": 55,
   "id": "49165f37-5a76-4c48-81d6-a583c01a8a54",
   "metadata": {},
   "outputs": [],
   "source": [
    "# one class inherit the property of another classes"
   ]
  },
  {
   "cell_type": "code",
   "execution_count": 56,
   "id": "6ea4cdfe-7609-4e32-97de-e6d5389ee5da",
   "metadata": {},
   "outputs": [],
   "source": [
    "class parent:\n",
    "    \n",
    "    def test_parent(self) :\n",
    "        print(\"this is my parent class\")"
   ]
  },
  {
   "cell_type": "code",
   "execution_count": 57,
   "id": "93f3a80c-7f50-4b00-bcd2-f00a5380e523",
   "metadata": {},
   "outputs": [],
   "source": [
    "class child(parent) :     # method define in parent is availble in child class\n",
    "    pass"
   ]
  },
  {
   "cell_type": "code",
   "execution_count": 58,
   "id": "635959f5-97a9-46fb-a949-ba0bfac62f26",
   "metadata": {},
   "outputs": [],
   "source": [
    "child_obj = child()"
   ]
  },
  {
   "cell_type": "code",
   "execution_count": 60,
   "id": "24d6a649-e6e0-4a84-8d40-847d070311ea",
   "metadata": {},
   "outputs": [
    {
     "name": "stdout",
     "output_type": "stream",
     "text": [
      "this is my parent class\n"
     ]
    }
   ],
   "source": [
    "child_obj.test_parent()  # able to access something from another class"
   ]
  },
  {
   "cell_type": "markdown",
   "id": "05902781-d30b-4c6d-8dec-6a36be08079f",
   "metadata": {},
   "source": [
    "#### multi label inheritance"
   ]
  },
  {
   "cell_type": "code",
   "execution_count": 62,
   "id": "fd4efba3-9db4-4d2b-a3c7-a5ef7657b18c",
   "metadata": {},
   "outputs": [],
   "source": [
    "class class1 :\n",
    "    def test_class1(self):\n",
    "        print(\"This is my class1\")"
   ]
  },
  {
   "cell_type": "code",
   "execution_count": 66,
   "id": "5fecfa23-b58e-416f-8464-5e685b2e4a69",
   "metadata": {},
   "outputs": [],
   "source": [
    "class class2(class1) : # inherit property of class1\n",
    "    def test_class2(self) :\n",
    "        print(\"Class2\")"
   ]
  },
  {
   "cell_type": "code",
   "execution_count": 69,
   "id": "20d2f952-63dc-42ad-af2c-d57815018031",
   "metadata": {},
   "outputs": [],
   "source": [
    "class class3(class2) : # inherit property of class2 directly and that of class1 indirectly\n",
    "    def test_class3(self) :\n",
    "        print(\"Class3\")"
   ]
  },
  {
   "cell_type": "code",
   "execution_count": 68,
   "id": "06128b2f-adf5-4915-85bc-fbc6537f84e4",
   "metadata": {},
   "outputs": [],
   "source": [
    "obj_class3 = class3()"
   ]
  },
  {
   "cell_type": "code",
   "execution_count": 70,
   "id": "1706bde6-f9c2-45cd-b8bf-616666965954",
   "metadata": {},
   "outputs": [
    {
     "name": "stdout",
     "output_type": "stream",
     "text": [
      "This is my class1\n"
     ]
    }
   ],
   "source": [
    "obj_class3.test_class1()"
   ]
  },
  {
   "cell_type": "code",
   "execution_count": 72,
   "id": "02d13d60-a40f-4b66-ab4f-22a2c1391110",
   "metadata": {},
   "outputs": [
    {
     "name": "stdout",
     "output_type": "stream",
     "text": [
      "Class2\n"
     ]
    }
   ],
   "source": [
    "obj_class3.test_class2()"
   ]
  },
  {
   "cell_type": "markdown",
   "id": "c8ef781f-0eae-483d-a18a-3214af44c5a5",
   "metadata": {},
   "source": [
    "#### multiple inheritance"
   ]
  },
  {
   "cell_type": "code",
   "execution_count": 73,
   "id": "f0d3ea7b-33dc-4d24-ad6c-71a9a2014527",
   "metadata": {},
   "outputs": [],
   "source": [
    "# from multiple classes inheriting properties to one class"
   ]
  },
  {
   "cell_type": "code",
   "execution_count": 74,
   "id": "8e293c1b-1a6d-4545-a5d6-49aee42e06aa",
   "metadata": {},
   "outputs": [],
   "source": [
    "class class1 :\n",
    "    def test_class1(self):\n",
    "        print(\"Class1\")"
   ]
  },
  {
   "cell_type": "code",
   "execution_count": 75,
   "id": "4520b059-63a4-4d5d-9b11-644d137e8f2a",
   "metadata": {},
   "outputs": [],
   "source": [
    "class class2 :\n",
    "    def test_class2(self):\n",
    "        print(\"Class2\")"
   ]
  },
  {
   "cell_type": "code",
   "execution_count": 76,
   "id": "316fa4e6-91b5-4d69-8942-d1802bbb7d58",
   "metadata": {},
   "outputs": [],
   "source": [
    "class class3 (class1, class2) :\n",
    "    pass"
   ]
  },
  {
   "cell_type": "code",
   "execution_count": 77,
   "id": "9728462b-6df2-4e99-8554-942450887ef4",
   "metadata": {},
   "outputs": [],
   "source": [
    "obj_class3 = class3()"
   ]
  },
  {
   "cell_type": "code",
   "execution_count": 79,
   "id": "cbcc0ab7-9914-4a2c-a509-785d5c7ccf6d",
   "metadata": {},
   "outputs": [
    {
     "name": "stdout",
     "output_type": "stream",
     "text": [
      "Class1\n"
     ]
    }
   ],
   "source": [
    "obj_class3.test_class1()"
   ]
  },
  {
   "cell_type": "code",
   "execution_count": 80,
   "id": "9c0c4caa-27b5-4b86-8b52-8a601c05e68e",
   "metadata": {},
   "outputs": [
    {
     "name": "stdout",
     "output_type": "stream",
     "text": [
      "Class2\n"
     ]
    }
   ],
   "source": [
    "obj_class3.test_class2()"
   ]
  },
  {
   "cell_type": "code",
   "execution_count": 81,
   "id": "0a90ba54-1678-4589-975b-c34863c2c7ac",
   "metadata": {},
   "outputs": [],
   "source": [
    "# class 3 has access of both the classes"
   ]
  }
 ],
 "metadata": {
  "kernelspec": {
   "display_name": "Python 3 (ipykernel)",
   "language": "python",
   "name": "python3"
  },
  "language_info": {
   "codemirror_mode": {
    "name": "ipython",
    "version": 3
   },
   "file_extension": ".py",
   "mimetype": "text/x-python",
   "name": "python",
   "nbconvert_exporter": "python",
   "pygments_lexer": "ipython3",
   "version": "3.10.8"
  }
 },
 "nbformat": 4,
 "nbformat_minor": 5
}
