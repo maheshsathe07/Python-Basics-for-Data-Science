{
 "cells": [
  {
   "cell_type": "code",
   "execution_count": 1,
   "id": "9f4400ce-5a32-426a-b05c-cfd13a316f0b",
   "metadata": {},
   "outputs": [],
   "source": [
    "#Q1. Explain Class and Object with respect to Object-Oriented Programming. Give a suitable example."
   ]
  },
  {
   "cell_type": "code",
   "execution_count": 2,
   "id": "f5afc7dc-c102-422c-8f4e-e894f780f090",
   "metadata": {},
   "outputs": [],
   "source": [
    "#Ans - Objects Have States and Behaviors.\n",
    "# ex. - A dog has states likes color, breed, etc.\n",
    "# A Class can be defined as template/blueprint that describe the behavior/state of that object or its type support.\n",
    "# ex. Lets say Animal is class has properties like behavior, breed , state, etc. of which dog is a object."
   ]
  },
  {
   "cell_type": "code",
   "execution_count": 3,
   "id": "68841a2a-174f-4d18-8d78-91e3bdd90242",
   "metadata": {},
   "outputs": [],
   "source": [
    "#Q2. Name the four pillars of OOPs."
   ]
  },
  {
   "cell_type": "code",
   "execution_count": 5,
   "id": "560beb45-f98f-40a7-a615-993dcac52d7c",
   "metadata": {},
   "outputs": [],
   "source": [
    "# Ans - Four Pillars of OOPs are - Inheritance, Polymorphism, Encapsulation and Abstraction."
   ]
  },
  {
   "cell_type": "code",
   "execution_count": 6,
   "id": "289b95d3-f226-47de-9d01-9ab8fd41f33c",
   "metadata": {},
   "outputs": [],
   "source": [
    "#Q3. Explain why the __init__() function is used. Give a suitable example."
   ]
  },
  {
   "cell_type": "code",
   "execution_count": 8,
   "id": "ed203f5f-181d-4ec2-8a16-0f09acfac318",
   "metadata": {},
   "outputs": [],
   "source": [
    "# Ans - It is used as Default Constructor, which are used to initializing the object's state.\n",
    "#The task of the constructors is to initialize(assign values) to data members of the class when object of that class is created."
   ]
  },
  {
   "cell_type": "code",
   "execution_count": 11,
   "id": "35d16ac5-29ad-4dd2-a985-b53d5475b1b2",
   "metadata": {},
   "outputs": [
    {
     "name": "stdout",
     "output_type": "stream",
     "text": [
      "hello!, My self Mahesh\n"
     ]
    }
   ],
   "source": [
    "#ex - \n",
    "class person:\n",
    "    #init method or constructor\n",
    "    def __init__(self, name):\n",
    "        self.name = name\n",
    "        \n",
    "    #sample method\n",
    "    def hello(self):\n",
    "        print(\"hello!, My self\", self.name)\n",
    "        \n",
    "\n",
    "p = person(\"Mahesh\")\n",
    "p.hello()"
   ]
  },
  {
   "cell_type": "code",
   "execution_count": 12,
   "id": "309a4102-9a1e-4525-a715-d9552de3f46d",
   "metadata": {},
   "outputs": [],
   "source": [
    "#Q4. Why self is used in OOPs?"
   ]
  },
  {
   "cell_type": "code",
   "execution_count": 13,
   "id": "e1eda975-4b03-4786-bc49-06ac27ff9963",
   "metadata": {},
   "outputs": [],
   "source": [
    "# Ans - The self variable is used to represent the instance of the class which works as reference to the Object.\n",
    "#Python uses self parameter to refer to instance attributes and methods of the class."
   ]
  },
  {
   "cell_type": "code",
   "execution_count": 14,
   "id": "99d134f9-5bd7-4c15-b1ea-5a63d0bb85a1",
   "metadata": {},
   "outputs": [],
   "source": [
    "#Q5. What is inheritance? Give an example for each type of inheritance."
   ]
  },
  {
   "cell_type": "code",
   "execution_count": 1,
   "id": "88a32723-bf8b-41fa-854b-3a07d8b037f0",
   "metadata": {},
   "outputs": [],
   "source": [
    "# Ans - Inheritance is used to to inherit the propeties from base class to child class."
   ]
  },
  {
   "cell_type": "code",
   "execution_count": 3,
   "id": "41ef60fe-1b07-40ca-9b96-f8b0c7afcf66",
   "metadata": {},
   "outputs": [
    {
     "name": "stdout",
     "output_type": "stream",
     "text": [
      "class Animal\n",
      "Class Child\n"
     ]
    }
   ],
   "source": [
    "#1 Single level Inheritance - \n",
    "class Animal:\n",
    "    def hello(self):\n",
    "        print(\"class Animal\")\n",
    "        \n",
    "class Child(Animal):\n",
    "    def hello1(self):\n",
    "        print(\"Class Child\")\n",
    "        \n",
    "obj = Child()\n",
    "obj.hello()\n",
    "obj.hello1()"
   ]
  },
  {
   "cell_type": "code",
   "execution_count": 4,
   "id": "69097a9f-6ee6-4650-a197-2dd67b5d20ca",
   "metadata": {},
   "outputs": [
    {
     "name": "stdout",
     "output_type": "stream",
     "text": [
      "Base 1\n",
      "Base 2\n",
      "Child\n"
     ]
    }
   ],
   "source": [
    "#2 Multiple inheritance\n",
    "class Base1:\n",
    "    def hello1(self):\n",
    "        print(\"Base 1\")\n",
    "\n",
    "class Base2:\n",
    "    def hello2(self):\n",
    "        print(\"Base 2\")\n",
    "        \n",
    "class Child(Base1, Base2):\n",
    "    def hello3(self):\n",
    "        print(\"Child\")\n",
    "        \n",
    "obj = Child()\n",
    "obj.hello1()\n",
    "obj.hello2()\n",
    "obj.hello3()"
   ]
  },
  {
   "cell_type": "code",
   "execution_count": 5,
   "id": "8912c722-8c02-4c0c-9feb-6ca2f9d2b631",
   "metadata": {},
   "outputs": [
    {
     "name": "stdout",
     "output_type": "stream",
     "text": [
      "Base 1\n",
      "Base 2\n",
      "Child\n"
     ]
    }
   ],
   "source": [
    "# 3 Multilevel inheritance\n",
    "class Base1:\n",
    "    def hello1(self):\n",
    "        print(\"Base 1\")\n",
    "\n",
    "class Base2(Base1):\n",
    "    def hello2(self):\n",
    "        print(\"Base 2\")\n",
    "        \n",
    "class Child(Base2):\n",
    "    def hello3(self):\n",
    "        print(\"Child\")\n",
    "        \n",
    "obj = Child()\n",
    "obj.hello1()\n",
    "obj.hello2()\n",
    "obj.hello3()"
   ]
  },
  {
   "cell_type": "code",
   "execution_count": 1,
   "id": "0b58d536-15b1-438b-8e66-97a608963e62",
   "metadata": {},
   "outputs": [
    {
     "name": "stdout",
     "output_type": "stream",
     "text": [
      "Parent class\n",
      "Child1 class\n",
      "Parent class\n",
      "Child2 class\n"
     ]
    }
   ],
   "source": [
    "# 4 Hierarchical Inheritance - \n",
    "class Parent:\n",
    "    def func1(self):\n",
    "        print(\"Parent class\")\n",
    "        \n",
    "class Child1(Parent):\n",
    "    def func2(self):\n",
    "        print(\"Child1 class\")\n",
    "        \n",
    "class Child2(Parent):\n",
    "    def func3(self):\n",
    "        print(\"Child2 class\")\n",
    "        \n",
    "obj1 = Child1()\n",
    "obj2 = Child2()\n",
    "obj1.func1()\n",
    "obj1.func2()\n",
    "obj2.func1()\n",
    "obj2.func3()"
   ]
  },
  {
   "cell_type": "code",
   "execution_count": 2,
   "id": "24619a9d-ea30-4d18-b538-afd06a9f6718",
   "metadata": {},
   "outputs": [
    {
     "name": "stdout",
     "output_type": "stream",
     "text": [
      "Parent1\n",
      "Parent2\n",
      "Child1\n",
      "Child2\n",
      "Parent1\n",
      "Child3\n"
     ]
    }
   ],
   "source": [
    "#5 Hybrid class - \n",
    "class Parent1:\n",
    "    def func1(self):\n",
    "        print(\"Parent1\")\n",
    "        \n",
    "class Parent2:\n",
    "    def func2(self):\n",
    "        print(\"Parent2\")\n",
    "        \n",
    "class Child1(Parent1, Parent2):\n",
    "    def func3(self):\n",
    "        print(\"Child1\")\n",
    "        \n",
    "class Child2(Parent1):\n",
    "    def Func4(self):\n",
    "        print(\"Child2\")\n",
    "\n",
    "class Child3(Child1):\n",
    "    def func5(self):\n",
    "        print(\"Child3\")\n",
    "        \n",
    "        \n",
    "obj1 = Child1()\n",
    "obj2 = Child2()\n",
    "obj3 = Child3()\n",
    "\n",
    "obj1.func1()\n",
    "obj1.func2()\n",
    "obj1.func3()\n",
    "obj2.Func4()\n",
    "obj2.func1()\n",
    "obj3.func5()"
   ]
  }
 ],
 "metadata": {
  "kernelspec": {
   "display_name": "Python 3 (ipykernel)",
   "language": "python",
   "name": "python3"
  },
  "language_info": {
   "codemirror_mode": {
    "name": "ipython",
    "version": 3
   },
   "file_extension": ".py",
   "mimetype": "text/x-python",
   "name": "python",
   "nbconvert_exporter": "python",
   "pygments_lexer": "ipython3",
   "version": "3.10.8"
  }
 },
 "nbformat": 4,
 "nbformat_minor": 5
}
