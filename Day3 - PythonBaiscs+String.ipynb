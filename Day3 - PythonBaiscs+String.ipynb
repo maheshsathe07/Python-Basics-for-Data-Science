{
 "cells": [
  {
   "cell_type": "markdown",
   "id": "4207e141-6349-459d-b146-f0ecdb5661b1",
   "metadata": {},
   "source": [
    "## Boolean"
   ]
  },
  {
   "cell_type": "code",
   "execution_count": 1,
   "id": "eb239ee1-212c-44a2-b695-a4009a70d767",
   "metadata": {},
   "outputs": [
    {
     "name": "stdout",
     "output_type": "stream",
     "text": [
      "boolean value of no. 0 is False\n"
     ]
    }
   ],
   "source": [
    "zero = 0\n",
    "one = 1\n",
    "\n",
    "print(f\"boolean value of no. {zero} is {bool(zero)}\")"
   ]
  },
  {
   "cell_type": "code",
   "execution_count": 3,
   "id": "1881c9ac-e1b2-4e7d-a6e5-15e83e124928",
   "metadata": {},
   "outputs": [
    {
     "name": "stdout",
     "output_type": "stream",
     "text": [
      "boolean value of no. -5 is True\n",
      "boolean value of no. 5 is True\n",
      "megation of -5 is False and negation of 5 is False\n"
     ]
    }
   ],
   "source": [
    "sn = -5\n",
    "sp = 5\n",
    "\n",
    "print(f\"boolean value of no. {sn} is {bool(sn)}\")\n",
    "print(f\"boolean value of no. {sp} is {bool(sp)}\")\n",
    "#print(f\"boolean value of no. {sn} is {bool(sn)}\")\n",
    "print(f\"megation of {sn} is {not sn} \\\n",
    "and negation of {sp} is {not sp}\")"
   ]
  },
  {
   "cell_type": "markdown",
   "id": "40957f03-e848-4c12-ac88-61f3b4c9200d",
   "metadata": {},
   "source": [
    "## Logical And"
   ]
  },
  {
   "cell_type": "code",
   "execution_count": 4,
   "id": "89b8d327-e7c6-4002-8df0-cd5e48aa8a24",
   "metadata": {},
   "outputs": [
    {
     "name": "stdout",
     "output_type": "stream",
     "text": [
      "Dish contains Veg: True\n",
      "Dish contains Salt: False\n",
      "Dish prepared was goog: False\n",
      "\n"
     ]
    }
   ],
   "source": [
    "Veg = True\n",
    "Salt = False\n",
    "Dish = Veg and Salt\n",
    "\n",
    "print(f\"Dish contains Veg: {Veg}\")\n",
    "print(f\"Dish contains Salt: {Salt}\")\n",
    "print(f\"Dish prepared was goog: {Dish}\\n\")\n"
   ]
  },
  {
   "cell_type": "markdown",
   "id": "a0cf64dd-440d-427a-b05b-7dd914a779d8",
   "metadata": {},
   "source": [
    "## Not operation"
   ]
  },
  {
   "cell_type": "code",
   "execution_count": 5,
   "id": "147f448f-0af0-4c5f-9dfe-2b653ff01124",
   "metadata": {},
   "outputs": [
    {
     "data": {
      "text/plain": [
       "True"
      ]
     },
     "execution_count": 5,
     "metadata": {},
     "output_type": "execute_result"
    }
   ],
   "source": [
    "not(False) * True"
   ]
  },
  {
   "cell_type": "code",
   "execution_count": 6,
   "id": "f60ad749-c272-4218-8bbd-0e960373f8f7",
   "metadata": {},
   "outputs": [
    {
     "data": {
      "text/plain": [
       "0"
      ]
     },
     "execution_count": 6,
     "metadata": {},
     "output_type": "execute_result"
    }
   ],
   "source": [
    "False * (not(False))"
   ]
  },
  {
   "cell_type": "code",
   "execution_count": 15,
   "id": "611fc19a-f5be-40bc-9a29-058750a15a9d",
   "metadata": {},
   "outputs": [
    {
     "data": {
      "text/plain": [
       "True"
      ]
     },
     "execution_count": 15,
     "metadata": {},
     "output_type": "execute_result"
    }
   ],
   "source": [
    "not(True) * False\n",
    "# here True * False execute and then not of that is printed"
   ]
  },
  {
   "cell_type": "code",
   "execution_count": 8,
   "id": "834be34d-d224-475e-a6e4-516b90f341b9",
   "metadata": {},
   "outputs": [
    {
     "data": {
      "text/plain": [
       "0"
      ]
     },
     "execution_count": 8,
     "metadata": {},
     "output_type": "execute_result"
    }
   ],
   "source": [
    "False * False"
   ]
  },
  {
   "cell_type": "code",
   "execution_count": 9,
   "id": "6c6aaa4f-ef23-4de6-a6c4-60f80a14934f",
   "metadata": {},
   "outputs": [
    {
     "data": {
      "text/plain": [
       "0"
      ]
     },
     "execution_count": 9,
     "metadata": {},
     "output_type": "execute_result"
    }
   ],
   "source": [
    "(not(False)) * False"
   ]
  },
  {
   "cell_type": "code",
   "execution_count": 10,
   "id": "29e8051e-6232-44c2-bccb-f3c748099182",
   "metadata": {},
   "outputs": [
    {
     "data": {
      "text/plain": [
       "True"
      ]
     },
     "execution_count": 10,
     "metadata": {},
     "output_type": "execute_result"
    }
   ],
   "source": [
    "not False * False \n",
    "#here due to precedence False * False execute first then not of it get print"
   ]
  },
  {
   "cell_type": "code",
   "execution_count": 12,
   "id": "7152bd69-6f79-45a9-a393-36ec96d5134d",
   "metadata": {},
   "outputs": [],
   "source": [
    "#not(False) * False, has same meaning as not False * False"
   ]
  },
  {
   "cell_type": "code",
   "execution_count": 13,
   "id": "ca1f138d-9958-418a-a519-f6c0c1b880d4",
   "metadata": {},
   "outputs": [
    {
     "data": {
      "text/plain": [
       "True"
      ]
     },
     "execution_count": 13,
     "metadata": {},
     "output_type": "execute_result"
    }
   ],
   "source": [
    "not False"
   ]
  },
  {
   "cell_type": "code",
   "execution_count": 14,
   "id": "e08fc1a3-131e-4357-b68c-cd40ffa9c405",
   "metadata": {},
   "outputs": [
    {
     "data": {
      "text/plain": [
       "True"
      ]
     },
     "execution_count": 14,
     "metadata": {},
     "output_type": "execute_result"
    }
   ],
   "source": [
    "not(False)"
   ]
  },
  {
   "cell_type": "markdown",
   "id": "ddbc8d4b-3fef-4163-a0c2-9208f27150ab",
   "metadata": {},
   "source": [
    "## Equality Operators\n",
    "### is, is not, ==, !=\n",
    "### id gives memory address"
   ]
  },
  {
   "cell_type": "code",
   "execution_count": 16,
   "id": "8c92e5be-c1cd-4f07-b4f0-d9c39660db13",
   "metadata": {},
   "outputs": [],
   "source": [
    "lst1 = [1, 2, 3, 4]\n",
    "lst2 = [1, 2, 3, 4]"
   ]
  },
  {
   "cell_type": "code",
   "execution_count": 18,
   "id": "e22979b7-8bd4-41ea-987b-3ce6121b3e40",
   "metadata": {},
   "outputs": [
    {
     "name": "stdout",
     "output_type": "stream",
     "text": [
      "139809911996928\n",
      "139809911922112\n"
     ]
    }
   ],
   "source": [
    "print(id(lst1))\n",
    "print(id(lst2))\n",
    "# id gives memory address"
   ]
  },
  {
   "cell_type": "code",
   "execution_count": 19,
   "id": "ee6a1ef4-a997-4822-a80e-9032e7d18f34",
   "metadata": {},
   "outputs": [
    {
     "data": {
      "text/plain": [
       "False"
      ]
     },
     "execution_count": 19,
     "metadata": {},
     "output_type": "execute_result"
    }
   ],
   "source": [
    "lst1 is lst2"
   ]
  },
  {
   "cell_type": "code",
   "execution_count": 20,
   "id": "a25ae30e-f475-406c-87aa-05633b5af416",
   "metadata": {},
   "outputs": [
    {
     "name": "stdout",
     "output_type": "stream",
     "text": [
      "139809911972480\n",
      "139809911972480\n"
     ]
    }
   ],
   "source": [
    "lst1 = [1,2,3,4]\n",
    "lst2=lst1\n",
    "\n",
    "print(id(lst1))\n",
    "print(id(lst1))"
   ]
  },
  {
   "cell_type": "code",
   "execution_count": 21,
   "id": "9dda1c77-523a-4c49-b1c3-955de37c14f9",
   "metadata": {},
   "outputs": [
    {
     "data": {
      "text/plain": [
       "True"
      ]
     },
     "execution_count": 21,
     "metadata": {},
     "output_type": "execute_result"
    }
   ],
   "source": [
    "lst1 is lst2\n",
    "# it checks memory address of both is same or not if same then prints True"
   ]
  },
  {
   "cell_type": "code",
   "execution_count": 22,
   "id": "2ea5e741-dae0-4fd4-844c-8f5fd0af09d1",
   "metadata": {},
   "outputs": [
    {
     "data": {
      "text/plain": [
       "True"
      ]
     },
     "execution_count": 22,
     "metadata": {},
     "output_type": "execute_result"
    }
   ],
   "source": [
    "lst1 = [1, 2, 3, 4]\n",
    "lst2 = [1, 2, 3, 4]\n",
    "\n",
    "lst1 is not lst2 # it checks memory address of both is same or not if not then prints True"
   ]
  },
  {
   "cell_type": "code",
   "execution_count": 24,
   "id": "3fb40d04-99c1-42e1-861b-c7267143ec67",
   "metadata": {},
   "outputs": [
    {
     "data": {
      "text/plain": [
       "True"
      ]
     },
     "execution_count": 24,
     "metadata": {},
     "output_type": "execute_result"
    }
   ],
   "source": [
    "lst1 == lst2\n",
    "# it checks corresponding element are same or not."
   ]
  },
  {
   "cell_type": "code",
   "execution_count": 88,
   "id": "d35ba25c-8696-4d63-9664-b73add7893ae",
   "metadata": {},
   "outputs": [
    {
     "data": {
      "text/plain": [
       "False"
      ]
     },
     "execution_count": 88,
     "metadata": {},
     "output_type": "execute_result"
    }
   ],
   "source": [
    "lst1 != lst2"
   ]
  },
  {
   "cell_type": "code",
   "execution_count": 25,
   "id": "afc09954-39c7-4c9d-8f20-d82798fb9b34",
   "metadata": {},
   "outputs": [
    {
     "name": "stdout",
     "output_type": "stream",
     "text": [
      "139809987690768\n",
      "139809987690768\n"
     ]
    }
   ],
   "source": [
    "a = 2\n",
    "b = 2\n",
    "\n",
    "print(id(a))\n",
    "print(id(b))"
   ]
  },
  {
   "cell_type": "code",
   "execution_count": 26,
   "id": "4d04e626-eb27-4958-8ef4-11a04c212e2e",
   "metadata": {},
   "outputs": [
    {
     "name": "stdout",
     "output_type": "stream",
     "text": [
      "139809911973744\n",
      "139809911973744\n"
     ]
    }
   ],
   "source": [
    "str1 = \"Mahesh\"\n",
    "str2 = \"Mahesh\"\n",
    "print(id(str1))\n",
    "print(id(str2))"
   ]
  },
  {
   "cell_type": "code",
   "execution_count": 28,
   "id": "a8746390-157f-446d-b71d-69a093ef0801",
   "metadata": {},
   "outputs": [
    {
     "name": "stdout",
     "output_type": "stream",
     "text": [
      "139809911973744\n",
      "139809912079088\n"
     ]
    }
   ],
   "source": [
    "str1 = \"Mahesh\"\n",
    "str2 = \"MaheshS\"\n",
    "print(id(str1))\n",
    "print(id(str2))"
   ]
  },
  {
   "cell_type": "markdown",
   "id": "1cc4b31c-ac34-4b9d-9fb1-57ce8352d7cf",
   "metadata": {},
   "source": [
    "#### Here in above example we see lists with same element value have different address in memory.\n",
    "#### But in case of int and string variable with same element/value have same memory address."
   ]
  },
  {
   "cell_type": "markdown",
   "id": "304bc114-177a-462a-b2be-40d44534f68e",
   "metadata": {},
   "source": [
    "### Comparison operator\n",
    "#### <, <=, >, >="
   ]
  },
  {
   "cell_type": "markdown",
   "id": "5683a39a-4547-4851-b71a-b34bfc86217e",
   "metadata": {},
   "source": [
    "### Arithmrtic Operators\n",
    "#### +, -, *, /(true divsion), //(integer division), %"
   ]
  },
  {
   "cell_type": "code",
   "execution_count": 36,
   "id": "6d796876-95da-4261-a94f-177eae9c356d",
   "metadata": {},
   "outputs": [],
   "source": [
    "a = 10"
   ]
  },
  {
   "cell_type": "code",
   "execution_count": 31,
   "id": "299b2f1b-c417-4056-a49e-7584836d6670",
   "metadata": {},
   "outputs": [],
   "source": [
    "b = 2"
   ]
  },
  {
   "cell_type": "code",
   "execution_count": 32,
   "id": "cc978cbc-d858-4935-8cb5-174f873f694c",
   "metadata": {},
   "outputs": [
    {
     "data": {
      "text/plain": [
       "5"
      ]
     },
     "execution_count": 32,
     "metadata": {},
     "output_type": "execute_result"
    }
   ],
   "source": [
    "a//b\n",
    "# gives output in integer."
   ]
  },
  {
   "cell_type": "code",
   "execution_count": 33,
   "id": "1219abc5-b925-4d9a-ba78-1e933942a328",
   "metadata": {},
   "outputs": [
    {
     "data": {
      "text/plain": [
       "5.0"
      ]
     },
     "execution_count": 33,
     "metadata": {},
     "output_type": "execute_result"
    }
   ],
   "source": [
    "a/b"
   ]
  },
  {
   "cell_type": "code",
   "execution_count": 34,
   "id": "1fd21714-ca71-44a2-8c11-31e39e0b5938",
   "metadata": {},
   "outputs": [
    {
     "data": {
      "text/plain": [
       "0"
      ]
     },
     "execution_count": 34,
     "metadata": {},
     "output_type": "execute_result"
    }
   ],
   "source": [
    "a % b"
   ]
  },
  {
   "cell_type": "markdown",
   "id": "d709365f-f3a9-4442-ac8a-7fc8b14653ef",
   "metadata": {},
   "source": [
    "### Binary of no."
   ]
  },
  {
   "cell_type": "code",
   "execution_count": 37,
   "id": "38b11acf-c9e7-4c40-8240-a52dc926bd0d",
   "metadata": {},
   "outputs": [
    {
     "data": {
      "text/plain": [
       "'0b1010'"
      ]
     },
     "execution_count": 37,
     "metadata": {},
     "output_type": "execute_result"
    }
   ],
   "source": [
    "var = 10\n",
    "bin(var)"
   ]
  },
  {
   "cell_type": "markdown",
   "id": "67a1393d-be3a-4839-a165-12b3595c8396",
   "metadata": {},
   "source": [
    "### Bitwise Operators\n",
    "#### ~, &, |, >>, <<, ^"
   ]
  },
  {
   "cell_type": "raw",
   "id": "1b95f72c-d662-40ab-a86f-d7acb0655e26",
   "metadata": {},
   "source": []
  },
  {
   "cell_type": "code",
   "execution_count": 51,
   "id": "2c62aa20-26aa-4eea-80e0-481766608570",
   "metadata": {},
   "outputs": [
    {
     "data": {
      "text/plain": [
       "-6"
      ]
     },
     "execution_count": 51,
     "metadata": {},
     "output_type": "execute_result"
    }
   ],
   "source": [
    "# 1.  ~ (bitwise compliment)\n",
    "var=5\n",
    "~ var"
   ]
  },
  {
   "cell_type": "code",
   "execution_count": 41,
   "id": "4b7ef87e-a62f-490a-ac65-88d4af1d2542",
   "metadata": {},
   "outputs": [
    {
     "data": {
      "text/plain": [
       "5"
      ]
     },
     "execution_count": 41,
     "metadata": {},
     "output_type": "execute_result"
    }
   ],
   "source": [
    "var >> 1    # 10 -- > 1010 in binary and it is right shift operator it will shift every bit in right.\n",
    "# i.e 1010 => 0101\n"
   ]
  },
  {
   "cell_type": "code",
   "execution_count": 42,
   "id": "aa61f837-b70d-4397-86a9-fee24b1467cf",
   "metadata": {},
   "outputs": [
    {
     "data": {
      "text/plain": [
       "20"
      ]
     },
     "execution_count": 42,
     "metadata": {},
     "output_type": "execute_result"
    }
   ],
   "source": [
    "# and shift in left direction using left shift <<\n",
    "var << 1"
   ]
  },
  {
   "cell_type": "markdown",
   "id": "8bdf65fc-6888-433f-936b-f1f3bae286cf",
   "metadata": {},
   "source": [
    "\n",
    "\n",
    "## Strings"
   ]
  },
  {
   "cell_type": "code",
   "execution_count": 43,
   "id": "7dc7ee9a-bf3f-4d4e-9739-befa72e26328",
   "metadata": {},
   "outputs": [],
   "source": [
    "str1 = \"Welcome\""
   ]
  },
  {
   "cell_type": "code",
   "execution_count": 44,
   "id": "96baf291-fe6d-42bf-94d4-3908644f932a",
   "metadata": {},
   "outputs": [
    {
     "data": {
      "text/plain": [
       "str"
      ]
     },
     "execution_count": 44,
     "metadata": {},
     "output_type": "execute_result"
    }
   ],
   "source": [
    "type(str1)"
   ]
  },
  {
   "cell_type": "code",
   "execution_count": 45,
   "id": "d180b8e3-111c-4109-8e0b-cc8c17ac5293",
   "metadata": {},
   "outputs": [
    {
     "data": {
      "text/plain": [
       "'W'"
      ]
     },
     "execution_count": 45,
     "metadata": {},
     "output_type": "execute_result"
    }
   ],
   "source": [
    "str1[0]"
   ]
  },
  {
   "cell_type": "markdown",
   "id": "f020ba5e-016d-425e-8c24-dd0d976b95e1",
   "metadata": {},
   "source": [
    "#### String is immutable we cannot change single element of string at a time but we can change whole string at once"
   ]
  },
  {
   "cell_type": "code",
   "execution_count": 47,
   "id": "6f10f4dc-f762-41a5-97c1-519f0fb3ebdc",
   "metadata": {},
   "outputs": [
    {
     "data": {
      "text/plain": [
       "'Hello World'"
      ]
     },
     "execution_count": 47,
     "metadata": {},
     "output_type": "execute_result"
    }
   ],
   "source": [
    "str1 = \"Hello World\"\n",
    "str1"
   ]
  },
  {
   "cell_type": "markdown",
   "id": "ded8b6c0-94e8-41eb-8531-9262f85a7c31",
   "metadata": {},
   "source": [
    "#### use str1.+(click Tab) to see the string related functions"
   ]
  },
  {
   "cell_type": "code",
   "execution_count": null,
   "id": "a3ef5385-1495-4d1f-8d0c-f2a3e6acdf8d",
   "metadata": {},
   "outputs": [],
   "source": [
    "#try => str1. + (Tab key)"
   ]
  },
  {
   "cell_type": "code",
   "execution_count": 48,
   "id": "e675b5c8-63c0-44e4-8208-5bbec5ec5009",
   "metadata": {},
   "outputs": [],
   "source": [
    "string = \"PW Skills Data Science\""
   ]
  },
  {
   "cell_type": "markdown",
   "id": "ca860f0a-e99b-47aa-8f38-ee55d8943b58",
   "metadata": {},
   "source": [
    "#### string[starting index for required string : ending index for required string : stepsize]"
   ]
  },
  {
   "cell_type": "code",
   "execution_count": 49,
   "id": "8e1abe2d-1c5d-40c4-a648-8b6e4288d9a6",
   "metadata": {},
   "outputs": [
    {
     "data": {
      "text/plain": [
       "'i'"
      ]
     },
     "execution_count": 49,
     "metadata": {},
     "output_type": "execute_result"
    }
   ],
   "source": [
    "string[5] ## prints string element from index 5 to till end."
   ]
  },
  {
   "cell_type": "markdown",
   "id": "69a00de7-92b6-410c-95f4-934bf928c746",
   "metadata": {},
   "source": [
    "### slice operation"
   ]
  },
  {
   "cell_type": "code",
   "execution_count": 50,
   "id": "2de24b93-46fa-488e-a2fa-c67f6495119d",
   "metadata": {},
   "outputs": [
    {
     "data": {
      "text/plain": [
       "'ills D'"
      ]
     },
     "execution_count": 50,
     "metadata": {},
     "output_type": "execute_result"
    }
   ],
   "source": [
    "string[5:11]  ## from 5 to 10 exclude 11 and also give spaces"
   ]
  },
  {
   "cell_type": "code",
   "execution_count": 52,
   "id": "e55fdb86-b818-4257-88ab-f1db60e29b32",
   "metadata": {},
   "outputs": [
    {
     "data": {
      "text/plain": [
       "'n'"
      ]
     },
     "execution_count": 52,
     "metadata": {},
     "output_type": "execute_result"
    }
   ],
   "source": [
    "## for last indexing is like -1, -2, ....\n",
    "## from front is 0, 1, 2, 3, ....\n",
    "string[-3] "
   ]
  },
  {
   "cell_type": "code",
   "execution_count": 53,
   "id": "dfa02231-af1b-44dd-92f6-36a38378205c",
   "metadata": {},
   "outputs": [
    {
     "data": {
      "text/plain": [
       "'nce'"
      ]
     },
     "execution_count": 53,
     "metadata": {},
     "output_type": "execute_result"
    }
   ],
   "source": [
    "string[-3:]"
   ]
  },
  {
   "cell_type": "code",
   "execution_count": 54,
   "id": "bc331187-804c-4083-96d5-54331d751144",
   "metadata": {},
   "outputs": [
    {
     "data": {
      "text/plain": [
       "'Scie'"
      ]
     },
     "execution_count": 54,
     "metadata": {},
     "output_type": "execute_result"
    }
   ],
   "source": [
    "string[-7:-3]"
   ]
  },
  {
   "cell_type": "code",
   "execution_count": 55,
   "id": "9020a1b5-81b0-4f1a-883a-a87f90744b7d",
   "metadata": {},
   "outputs": [
    {
     "data": {
      "text/plain": [
       "''"
      ]
     },
     "execution_count": 55,
     "metadata": {},
     "output_type": "execute_result"
    }
   ],
   "source": [
    "string[-10:10] "
   ]
  },
  {
   "cell_type": "code",
   "execution_count": 56,
   "id": "b02ec210-d209-4042-a26e-c6db8f7ea7a1",
   "metadata": {},
   "outputs": [
    {
     "data": {
      "text/plain": [
       "'PW Skills Data Science'"
      ]
     },
     "execution_count": 56,
     "metadata": {},
     "output_type": "execute_result"
    }
   ],
   "source": [
    "## if only use colon ':'\n",
    "string[:]"
   ]
  },
  {
   "cell_type": "code",
   "execution_count": 57,
   "id": "7148998b-9596-4ff8-b179-d532b8ec8a59",
   "metadata": {},
   "outputs": [
    {
     "data": {
      "text/plain": [
       "'ahe'"
      ]
     },
     "execution_count": 57,
     "metadata": {},
     "output_type": "execute_result"
    }
   ],
   "source": [
    "name = \"Mahesh\"\n",
    "name[-5:4]"
   ]
  },
  {
   "cell_type": "code",
   "execution_count": 58,
   "id": "a69154de-b459-429f-9abd-f67bcba64b69",
   "metadata": {},
   "outputs": [
    {
     "data": {
      "text/plain": [
       "''"
      ]
     },
     "execution_count": 58,
     "metadata": {},
     "output_type": "execute_result"
    }
   ],
   "source": [
    "string[-7:5]"
   ]
  },
  {
   "cell_type": "code",
   "execution_count": 59,
   "id": "9987a43e-5fde-47b3-8ee6-819e01c895ab",
   "metadata": {},
   "outputs": [
    {
     "data": {
      "text/plain": [
       "''"
      ]
     },
     "execution_count": 59,
     "metadata": {},
     "output_type": "execute_result"
    }
   ],
   "source": [
    "string[7:5]"
   ]
  },
  {
   "cell_type": "code",
   "execution_count": 60,
   "id": "f6f913d0-62c7-44ef-bb21-aa16ae001b58",
   "metadata": {},
   "outputs": [
    {
     "data": {
      "text/plain": [
       "'ecneicS ataD sllikS WP'"
      ]
     },
     "execution_count": 60,
     "metadata": {},
     "output_type": "execute_result"
    }
   ],
   "source": [
    "## here 1 is stepsize her string get reverse with step size -1 i.e whole string get reversed\n",
    "## best for reversing whole string.\n",
    "string[::-1]"
   ]
  },
  {
   "cell_type": "code",
   "execution_count": 61,
   "id": "6dc1fb73-f4b0-4755-8fac-78120d1cc338",
   "metadata": {},
   "outputs": [
    {
     "data": {
      "text/plain": [
       "'eniSaa liSW'"
      ]
     },
     "execution_count": 61,
     "metadata": {},
     "output_type": "execute_result"
    }
   ],
   "source": [
    "## here step size is -2 string reverse by skipping 1 element\n",
    "## here print every 2nd element i.e even index from back/last.\n",
    "string[::-2]"
   ]
  },
  {
   "cell_type": "code",
   "execution_count": 62,
   "id": "83819bda-d91b-48e0-9b64-f42d12081192",
   "metadata": {},
   "outputs": [
    {
     "data": {
      "text/plain": [
       "'ehaM'"
      ]
     },
     "execution_count": 62,
     "metadata": {},
     "output_type": "execute_result"
    }
   ],
   "source": [
    "## Reversing string from a particular index\n",
    "name[3::-1]"
   ]
  },
  {
   "cell_type": "code",
   "execution_count": 63,
   "id": "e435bf59-c27e-4023-af00-b3cfd5708009",
   "metadata": {},
   "outputs": [
    {
     "data": {
      "text/plain": [
       "'eh'"
      ]
     },
     "execution_count": 63,
     "metadata": {},
     "output_type": "execute_result"
    }
   ],
   "source": [
    "#from index 3 to 1\n",
    "name[3:1:-1]"
   ]
  },
  {
   "cell_type": "markdown",
   "id": "dda9ab67-d9dc-4877-84be-ec76f1b3941e",
   "metadata": {},
   "source": [
    "### write a slice and print 'science' in forward and backward from given sentence."
   ]
  },
  {
   "cell_type": "code",
   "execution_count": 64,
   "id": "cb6a0109-0657-45d1-8a90-9fa6754282e7",
   "metadata": {},
   "outputs": [
    {
     "data": {
      "text/plain": [
       "'science'"
      ]
     },
     "execution_count": 64,
     "metadata": {},
     "output_type": "execute_result"
    }
   ],
   "source": [
    "course_name = \"data science masters\"\n",
    "## forward\n",
    "course_name[5:12]"
   ]
  },
  {
   "cell_type": "code",
   "execution_count": 68,
   "id": "ed2bb81b-2958-4beb-a991-8d328bcc4c43",
   "metadata": {},
   "outputs": [
    {
     "data": {
      "text/plain": [
       "'ecneics'"
      ]
     },
     "execution_count": 68,
     "metadata": {},
     "output_type": "execute_result"
    }
   ],
   "source": [
    "## backward\n",
    "course_name[11:4:-1]"
   ]
  },
  {
   "cell_type": "code",
   "execution_count": 70,
   "id": "738ac7c3-fd86-448e-8669-622fa9722b41",
   "metadata": {},
   "outputs": [
    {
     "data": {
      "text/plain": [
       "'ecneics'"
      ]
     },
     "execution_count": 70,
     "metadata": {},
     "output_type": "execute_result"
    }
   ],
   "source": [
    "#backward\n",
    "course_name[-9:-16:-1]"
   ]
  },
  {
   "cell_type": "markdown",
   "id": "3afef91f-9867-437f-ae78-68a9bc6768dd",
   "metadata": {},
   "source": [
    "### Concatenation "
   ]
  },
  {
   "cell_type": "code",
   "execution_count": 87,
   "id": "b6dcf5c5-27ae-41af-98e8-bc7fb71c5dce",
   "metadata": {},
   "outputs": [
    {
     "data": {
      "text/plain": [
       "'Mahesh Sathe'"
      ]
     },
     "execution_count": 87,
     "metadata": {},
     "output_type": "execute_result"
    }
   ],
   "source": [
    "str1 = \"Mahesh\"\n",
    "str2 = \"Sathe\"\n",
    "string = str1+ \" \" + str2\n",
    "string"
   ]
  },
  {
   "cell_type": "code",
   "execution_count": 71,
   "id": "f93f48c0-3808-48d2-822b-9e8ea5a351c7",
   "metadata": {},
   "outputs": [
    {
     "data": {
      "text/plain": [
       "20"
      ]
     },
     "execution_count": 71,
     "metadata": {},
     "output_type": "execute_result"
    }
   ],
   "source": [
    "## length of String\n",
    "len(course_name)"
   ]
  },
  {
   "cell_type": "code",
   "execution_count": 72,
   "id": "7d0860db-7444-4716-a0fe-856e04453851",
   "metadata": {},
   "outputs": [
    {
     "data": {
      "text/plain": [
       "9"
      ]
     },
     "execution_count": 72,
     "metadata": {},
     "output_type": "execute_result"
    }
   ],
   "source": [
    "## string.find - gives lowest index at which substring is found\n",
    "course_name.find(\"n\")"
   ]
  },
  {
   "cell_type": "code",
   "execution_count": 74,
   "id": "2f56afe2-f045-4afb-97fe-8a1fe1f69ba2",
   "metadata": {},
   "outputs": [
    {
     "data": {
      "text/plain": [
       "3"
      ]
     },
     "execution_count": 74,
     "metadata": {},
     "output_type": "execute_result"
    }
   ],
   "source": [
    "course_name.find(\"a\", 2, 10)"
   ]
  },
  {
   "cell_type": "code",
   "execution_count": 76,
   "id": "6fe10d06-c0f4-49e3-9175-6b15eb32fcfb",
   "metadata": {},
   "outputs": [
    {
     "data": {
      "text/plain": [
       "3"
      ]
     },
     "execution_count": 76,
     "metadata": {},
     "output_type": "execute_result"
    }
   ],
   "source": [
    "## count - counts no. of repeations of character.\n",
    "course_name.count('a')"
   ]
  },
  {
   "cell_type": "code",
   "execution_count": 77,
   "id": "ed520a3b-3bcf-4b07-931b-6205dc5f9489",
   "metadata": {},
   "outputs": [
    {
     "data": {
      "text/plain": [
       "1"
      ]
     },
     "execution_count": 77,
     "metadata": {},
     "output_type": "execute_result"
    }
   ],
   "source": [
    "course_name.count('a', 2, 10)"
   ]
  },
  {
   "cell_type": "code",
   "execution_count": 79,
   "id": "fb161f05-22e1-4945-a03e-7bf6ae081c9f",
   "metadata": {},
   "outputs": [
    {
     "data": {
      "text/plain": [
       "21"
      ]
     },
     "execution_count": 79,
     "metadata": {},
     "output_type": "execute_result"
    }
   ],
   "source": [
    "course_name.count('')"
   ]
  },
  {
   "cell_type": "code",
   "execution_count": 90,
   "id": "70f95dcf-65ea-46a7-a114-e2bf3e53444c",
   "metadata": {},
   "outputs": [
    {
     "data": {
      "text/plain": [
       "2"
      ]
     },
     "execution_count": 90,
     "metadata": {},
     "output_type": "execute_result"
    }
   ],
   "source": [
    "course_name.count(' ')"
   ]
  },
  {
   "cell_type": "markdown",
   "id": "ba0e94d0-eacb-440f-9b8d-8a80f99eb8ff",
   "metadata": {},
   "source": [
    "### string split functions"
   ]
  },
  {
   "cell_type": "code",
   "execution_count": 78,
   "id": "e21b2805-87ba-430a-8815-7b0d9f0820ea",
   "metadata": {},
   "outputs": [
    {
     "data": {
      "text/plain": [
       "['data', 'science', 'masters']"
      ]
     },
     "execution_count": 78,
     "metadata": {},
     "output_type": "execute_result"
    }
   ],
   "source": [
    "course_name.split(' ') ## separation occurs when space occurs"
   ]
  },
  {
   "cell_type": "code",
   "execution_count": 80,
   "id": "1e1c375c-9458-4938-be35-00c1aedd4dc0",
   "metadata": {},
   "outputs": [
    {
     "data": {
      "text/plain": [
       "['data ', 'cience ma', 'ter', '']"
      ]
     },
     "execution_count": 80,
     "metadata": {},
     "output_type": "execute_result"
    }
   ],
   "source": [
    "course_name.split('s') ## separation when s occurs"
   ]
  },
  {
   "cell_type": "markdown",
   "id": "788b149c-de40-46f4-b4ee-e26f0994e64e",
   "metadata": {},
   "source": [
    "#### partition divides string in 3 parts.\n",
    "#### here one part is enetered substring itself. 1st part is substring before it and 3rd part is string after entered substring.\n"
   ]
  },
  {
   "cell_type": "code",
   "execution_count": 83,
   "id": "14455715-8020-4a18-bac0-fa14aac02a39",
   "metadata": {},
   "outputs": [
    {
     "data": {
      "text/plain": [
       "('data', ' ', 'science masters')"
      ]
     },
     "execution_count": 83,
     "metadata": {},
     "output_type": "execute_result"
    }
   ],
   "source": [
    "course_name.partition(' ')"
   ]
  },
  {
   "cell_type": "code",
   "execution_count": 84,
   "id": "7bb7673b-ed32-48bc-863b-4e1240c68467",
   "metadata": {},
   "outputs": [
    {
     "data": {
      "text/plain": [
       "'Data Science Masters'"
      ]
     },
     "execution_count": 84,
     "metadata": {},
     "output_type": "execute_result"
    }
   ],
   "source": [
    "## every first letter is capital\n",
    "course_name.title()"
   ]
  },
  {
   "cell_type": "code",
   "execution_count": 85,
   "id": "d940201d-c1e9-432a-81eb-d32317924919",
   "metadata": {},
   "outputs": [
    {
     "data": {
      "text/plain": [
       "'DATA SCIENCE MASTERS'"
      ]
     },
     "execution_count": 85,
     "metadata": {},
     "output_type": "execute_result"
    }
   ],
   "source": [
    "## .upper will convert string to upper case\n",
    "course_name.upper()"
   ]
  },
  {
   "cell_type": "code",
   "execution_count": 91,
   "id": "b76f90ba-fb15-4c04-b20c-2fd6a3026163",
   "metadata": {},
   "outputs": [
    {
     "data": {
      "text/plain": [
       "1"
      ]
     },
     "execution_count": 91,
     "metadata": {},
     "output_type": "execute_result"
    }
   ],
   "source": [
    "course_name.upper().count(\"N\")"
   ]
  }
 ],
 "metadata": {
  "kernelspec": {
   "display_name": "Python 3 (ipykernel)",
   "language": "python",
   "name": "python3"
  },
  "language_info": {
   "codemirror_mode": {
    "name": "ipython",
    "version": 3
   },
   "file_extension": ".py",
   "mimetype": "text/x-python",
   "name": "python",
   "nbconvert_exporter": "python",
   "pygments_lexer": "ipython3",
   "version": "3.10.8"
  }
 },
 "nbformat": 4,
 "nbformat_minor": 5
}
