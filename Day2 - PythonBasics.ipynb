{
 "cells": [
  {
   "cell_type": "markdown",
   "id": "8107c03a-b933-4d76-9896-8044e0ea8c1e",
   "metadata": {},
   "source": [
    "### Type to print value of variable inside print statement\n",
    "#### 1. Using .format\n",
    "#### 2. Using f letter inside print()"
   ]
  },
  {
   "cell_type": "code",
   "execution_count": 1,
   "id": "27840082-d119-4d35-b092-72d72285dc7f",
   "metadata": {},
   "outputs": [],
   "source": [
    "name = \"Mahesh\"\n",
    "age = 19\n",
    "degree = \"BTECH\""
   ]
  },
  {
   "cell_type": "code",
   "execution_count": 2,
   "id": "7513f48c-fcac-4930-827a-f75d52b6b303",
   "metadata": {},
   "outputs": [
    {
     "name": "stdout",
     "output_type": "stream",
     "text": [
      "My age is 19 and i have completed: my degree of BTECH with name of Mahesh\n"
     ]
    }
   ],
   "source": [
    "print(\"My age is {} and i have completed: my degree of {} with name of {}\".format(age, degree, name))"
   ]
  },
  {
   "cell_type": "code",
   "execution_count": 3,
   "id": "576be861-8bbb-4a00-9a06-a281116a892f",
   "metadata": {},
   "outputs": [
    {
     "name": "stdout",
     "output_type": "stream",
     "text": [
      "age = 19, name = Mahesh, degree = BTECH\n"
     ]
    }
   ],
   "source": [
    "print(f\"age = {age}, name = {name}, degree = {degree}\")"
   ]
  },
  {
   "cell_type": "code",
   "execution_count": 4,
   "id": "3b63e0ab-d4fb-4566-9285-f55f49ab0eed",
   "metadata": {},
   "outputs": [
    {
     "name": "stdout",
     "output_type": "stream",
     "text": [
      "My age is 19 and i have completed: my degree of BTECH with name of Mahesh\n"
     ]
    }
   ],
   "source": [
    "print(\"My age is {Age} and i have completed: my degree of {Degree} with name of {Name}\".format(Age = age, Degree = degree, Name = name))"
   ]
  },
  {
   "cell_type": "markdown",
   "id": "f9a5a64b-6f92-4be5-94f2-fd605156d4af",
   "metadata": {},
   "source": [
    "### Taking input"
   ]
  },
  {
   "cell_type": "code",
   "execution_count": 5,
   "id": "c2336826-00da-4a04-9248-104ca00dd052",
   "metadata": {},
   "outputs": [
    {
     "name": "stdin",
     "output_type": "stream",
     "text": [
      "Enter name Mahesh\n"
     ]
    }
   ],
   "source": [
    "name = input(\"Enter name\")"
   ]
  },
  {
   "cell_type": "code",
   "execution_count": 6,
   "id": "e73136dd-f73a-44fe-8e24-3d929a778b1b",
   "metadata": {},
   "outputs": [
    {
     "data": {
      "text/plain": [
       "'Mahesh'"
      ]
     },
     "execution_count": 6,
     "metadata": {},
     "output_type": "execute_result"
    }
   ],
   "source": [
    "name"
   ]
  },
  {
   "cell_type": "code",
   "execution_count": 7,
   "id": "b9eb68ce-95a8-4413-b541-dc6cd72fe985",
   "metadata": {},
   "outputs": [
    {
     "name": "stdin",
     "output_type": "stream",
     "text": [
      "Enter age 18\n"
     ]
    }
   ],
   "source": [
    "age = int(input(\"Enter age\"))"
   ]
  },
  {
   "cell_type": "code",
   "execution_count": 8,
   "id": "313b981c-9ee4-492c-89fc-5bfe63921f8c",
   "metadata": {},
   "outputs": [
    {
     "data": {
      "text/plain": [
       "int"
      ]
     },
     "execution_count": 8,
     "metadata": {},
     "output_type": "execute_result"
    }
   ],
   "source": [
    "type(age)"
   ]
  },
  {
   "cell_type": "markdown",
   "id": "b37193cc-f635-4020-ae0a-00e124d9d69b",
   "metadata": {},
   "source": [
    "## Task 1 \n",
    "1 take input of age.\n",
    "2 check whether age >=18 and age <=45.\n",
    "3 display you are young blood."
   ]
  },
  {
   "cell_type": "code",
   "execution_count": 9,
   "id": "f5c0de10-dc92-4ee3-9bca-869bde63d540",
   "metadata": {},
   "outputs": [
    {
     "name": "stdin",
     "output_type": "stream",
     "text": [
      "Enter age 19\n"
     ]
    },
    {
     "name": "stdout",
     "output_type": "stream",
     "text": [
      "you are young blood\n"
     ]
    }
   ],
   "source": [
    "## if \n",
    "age = int(input(\"Enter age\"))\n",
    "if age>=18 and age<=45 :\n",
    "    print(\"you are young blood\")"
   ]
  },
  {
   "cell_type": "markdown",
   "id": "b2908778-f792-4d15-979e-5d9a46aa19cc",
   "metadata": {},
   "source": [
    "## Task 2\n",
    "in mall, input product price\n",
    "if product > 1000rs 20% off  \n",
    "else product <= 1000rs 30% off\n",
    "print product price"
   ]
  },
  {
   "cell_type": "code",
   "execution_count": 11,
   "id": "68efaccd-aaed-4ab8-9ee8-aff4aa2d37c7",
   "metadata": {},
   "outputs": [
    {
     "name": "stdin",
     "output_type": "stream",
     "text": [
      "Enter product price 1002\n"
     ]
    },
    {
     "name": "stdout",
     "output_type": "stream",
     "text": [
      "The price of product is 801.6\n"
     ]
    }
   ],
   "source": [
    "product_price = int(input(\"Enter product price\"))\n",
    "if product_price>1000:\n",
    "    print(\"The price of product is {}\".format(product_price*0.8))\n",
    "else:\n",
    "    print(\"The price of product is {}\".format(product_price*0.7))"
   ]
  },
  {
   "cell_type": "markdown",
   "id": "3231dd0d-9b48-4c49-9afc-9a271ad36759",
   "metadata": {},
   "source": [
    "## Task 3\n",
    "in mall, input product price\n",
    "if product > 3000 rs 20% off  \n",
    "else if product >= 2000rs and product <= 3000rs 30% off \n",
    "else product >= 1000rs  and <=2000 rs 40% off\n",
    "print product price"
   ]
  },
  {
   "cell_type": "markdown",
   "id": "09487de1-594a-4c31-9f1e-31dbb2295201",
   "metadata": {},
   "source": [
    "## Note - \n",
    "1. if we use if, if, .... instead of 2. if, elif, elif, ..., else.\n",
    "in 1 example it each every condition while executing.\n",
    "in 2nd ex. if condition executed it skips other elif and else statements time and memory get saved."
   ]
  },
  {
   "cell_type": "code",
   "execution_count": 14,
   "id": "03a3c232-ce3b-44e0-b2c6-aaf43c45b9c7",
   "metadata": {},
   "outputs": [
    {
     "name": "stdin",
     "output_type": "stream",
     "text": [
      "Enter product price 4000\n"
     ]
    },
    {
     "name": "stdout",
     "output_type": "stream",
     "text": [
      "you get goa trip\n",
      "The price of product is 3200.0\n"
     ]
    }
   ],
   "source": [
    "product_price = int(input(\"Enter product price\"))\n",
    "if product_price>3000:\n",
    "    if product_price == 4000:\n",
    "        print(\"you get goa trip\")\n",
    "    print(\"The price of product is {}\".format(product_price*0.8))\n",
    "elif product_price>=2000 and product_price<=3000:\n",
    "    if product_price == 2999:\n",
    "        print(\"you get an addtional gift\")\n",
    "    print(\"The price of product is {}\".format(product_price*0.7))\n",
    "elif product_price>=100 and product_price<2000:\n",
    "    print(\"The price of product is {}\".format(product_price*0.6))\n",
    "else:\n",
    "    print(\"drink tea\")\n",
    "    "
   ]
  },
  {
   "cell_type": "markdown",
   "id": "d2241365-c013-41e2-99d9-e74ce9983397",
   "metadata": {},
   "source": [
    "## Single statement Suit"
   ]
  },
  {
   "cell_type": "code",
   "execution_count": 15,
   "id": "aa8a1819-f7c4-4304-953c-9ff5526cbb6d",
   "metadata": {},
   "outputs": [
    {
     "name": "stdin",
     "output_type": "stream",
     "text": [
      "Enter number 56\n"
     ]
    },
    {
     "name": "stdout",
     "output_type": "stream",
     "text": [
      "Value less than equal to 999\n"
     ]
    }
   ],
   "source": [
    "val = int(input(\"Enter number\"))\n",
    "if(val<=999):print(\"Value less than equal to 999\")\n",
    "else:\n",
    "    print(\"Home\")"
   ]
  },
  {
   "cell_type": "markdown",
   "id": "a468971c-d74f-4e07-95ae-b3ad14180281",
   "metadata": {},
   "source": [
    "## Loops Statement\n",
    "1. while loop\n",
    "2. for loop\n",
    "3. nested loops\n",
    "4. loop control (break, continue, pass)"
   ]
  },
  {
   "cell_type": "code",
   "execution_count": 17,
   "id": "834a5b28-6269-4b5d-bf74-fd265f2535ed",
   "metadata": {},
   "outputs": [
    {
     "name": "stdout",
     "output_type": "stream",
     "text": [
      "50\n",
      "51\n",
      "52\n",
      "53\n",
      "54\n",
      "55\n",
      "56\n",
      "57\n",
      "58\n",
      "59\n",
      "60\n",
      "Its time to retire.\n"
     ]
    }
   ],
   "source": [
    "# while loop\n",
    "joining_age = 50\n",
    "i = 1\n",
    "while joining_age<=60:\n",
    "    print(joining_age)\n",
    "    joining_age=joining_age+1\n",
    "else:\n",
    "    print(\"Its time to retire.\")"
   ]
  },
  {
   "cell_type": "markdown",
   "id": "7bbe1292-fa53-4258-9587-0e94adc0dd21",
   "metadata": {},
   "source": [
    "## List accessing using for loop"
   ]
  },
  {
   "cell_type": "code",
   "execution_count": 20,
   "id": "d8eae405-0ae8-40c6-aa69-49850f076826",
   "metadata": {},
   "outputs": [],
   "source": [
    "lst = ['mahesh', 1, 2, 3, 'apple', 'banana']"
   ]
  },
  {
   "cell_type": "code",
   "execution_count": 21,
   "id": "8c6885f4-4e75-40fe-a734-406c448ce4ff",
   "metadata": {},
   "outputs": [
    {
     "name": "stdout",
     "output_type": "stream",
     "text": [
      "mahesh\n",
      "1\n",
      "2\n",
      "3\n",
      "apple\n",
      "banana\n"
     ]
    }
   ],
   "source": [
    "for x in lst:\n",
    "       print(x)"
   ]
  },
  {
   "cell_type": "code",
   "execution_count": 22,
   "id": "ca7b8e86-3902-45d2-876d-ca494e252411",
   "metadata": {},
   "outputs": [
    {
     "name": "stdout",
     "output_type": "stream",
     "text": [
      "mahesh\n",
      "name is mahesh\n",
      "1\n",
      "2\n",
      "3\n",
      "apple\n",
      "banana\n"
     ]
    }
   ],
   "source": [
    "for a in lst:\n",
    "    print(a)\n",
    "    if a==\"mahesh\":\n",
    "        print(\"name is mahesh\")\n",
    "    "
   ]
  },
  {
   "cell_type": "code",
   "execution_count": 24,
   "id": "74a1a2a9-0835-4f8d-b35d-400b8076e5d6",
   "metadata": {},
   "outputs": [
    {
     "name": "stdout",
     "output_type": "stream",
     "text": [
      "m\n",
      "a\n",
      "n\n",
      "g\n",
      "o\n"
     ]
    }
   ],
   "source": [
    "## string - collection of element\n",
    "fruit = 'mango'\n",
    "for x in fruit:\n",
    "    print(x)"
   ]
  },
  {
   "cell_type": "code",
   "execution_count": 25,
   "id": "4d2a5736-78de-4ecf-81e0-6c7e2de7af5a",
   "metadata": {},
   "outputs": [
    {
     "data": {
      "text/plain": [
       "'n'"
      ]
     },
     "execution_count": 25,
     "metadata": {},
     "output_type": "execute_result"
    }
   ],
   "source": [
    "fruit[2]"
   ]
  },
  {
   "cell_type": "code",
   "execution_count": 27,
   "id": "573e13ef-ff08-454a-9c8c-a2217f490bc8",
   "metadata": {},
   "outputs": [
    {
     "name": "stdout",
     "output_type": "stream",
     "text": [
      "1\n",
      "2\n",
      "3\n",
      "4\n",
      "5\n"
     ]
    }
   ],
   "source": [
    "## Range\n",
    "for i in range(1,6):\n",
    "    print(i)"
   ]
  },
  {
   "cell_type": "code",
   "execution_count": 28,
   "id": "238da7f6-3bc4-4f36-b004-4a41c52758aa",
   "metadata": {},
   "outputs": [
    {
     "name": "stdout",
     "output_type": "stream",
     "text": [
      "1\n",
      "3\n",
      "5\n"
     ]
    }
   ],
   "source": [
    "## with stepsize\n",
    "for i in range(1,6,2):\n",
    "    print(i)"
   ]
  },
  {
   "cell_type": "code",
   "execution_count": 30,
   "id": "7134eed9-74ba-49a9-bf4f-4763d48a8f03",
   "metadata": {},
   "outputs": [
    {
     "name": "stdout",
     "output_type": "stream",
     "text": [
      "*\n",
      "**\n",
      "***\n",
      "****\n",
      "*****\n",
      "******\n",
      "*******\n"
     ]
    }
   ],
   "source": [
    "### Nested loops\n",
    "n = 7\n",
    "\n",
    "for i in range(0, n):\n",
    "    for j in range(0,i+1):\n",
    "        print(\"*\", end=\"\")\n",
    "    print(\"\\r\")"
   ]
  },
  {
   "cell_type": "code",
   "execution_count": 45,
   "id": "f63d278f-c6d7-45dd-806b-9d1aad04053a",
   "metadata": {},
   "outputs": [
    {
     "name": "stdout",
     "output_type": "stream",
     "text": [
      "    *\n",
      "   ***\n",
      "  *****\n",
      " *******\n",
      "*********\n"
     ]
    }
   ],
   "source": [
    "## equilateral triangular form \n",
    "n = 5\n",
    "for i in range(1, n+1):\n",
    "    for j in range(n - i):\n",
    "        print(' ', end='')\n",
    "    for k in range(2 * i - 1):\n",
    "        print('*', end='')\n",
    "    print(\"\\r\")"
   ]
  },
  {
   "cell_type": "code",
   "execution_count": 37,
   "id": "32e6e7eb-a863-4acc-838d-192042c8a5f0",
   "metadata": {},
   "outputs": [
    {
     "name": "stdout",
     "output_type": "stream",
     "text": [
      "*\n",
      "***\n",
      "*****\n",
      "*******\n"
     ]
    }
   ],
   "source": [
    "for i in range(0, 7, 2):\n",
    "    for j in range(0,i+1):\n",
    "        print(\"*\", end=\"\")\n",
    "    print(\"\\r\")"
   ]
  },
  {
   "cell_type": "code",
   "execution_count": 38,
   "id": "c790ef24-ebdc-45c6-a1b0-a639dbad4ed3",
   "metadata": {},
   "outputs": [
    {
     "name": "stdout",
     "output_type": "stream",
     "text": [
      "Mango\n",
      "appple\n"
     ]
    }
   ],
   "source": [
    "## Loop controls\n",
    "## break and continue\n",
    "fruits = ['Mango', 'apple', 'chiku']\n",
    "for i in fruits:\n",
    "    if i==\"apple\":\n",
    "        print(\"appple\")\n",
    "        break;\n",
    "    print(i)\n",
    "    "
   ]
  },
  {
   "cell_type": "code",
   "execution_count": 39,
   "id": "217ff90c-0985-48bf-ab5a-597ac61e562c",
   "metadata": {},
   "outputs": [
    {
     "name": "stdout",
     "output_type": "stream",
     "text": [
      "Mango\n",
      "appple\n",
      "apple\n",
      "chiku\n"
     ]
    }
   ],
   "source": [
    "fruits = ['Mango', 'apple', 'chiku']\n",
    "for i in fruits:\n",
    "    if i==\"apple\":\n",
    "        print(\"appple\")\n",
    "        pass;\n",
    "    print(i)"
   ]
  },
  {
   "cell_type": "code",
   "execution_count": 40,
   "id": "d13a7fc2-bd21-4e14-9205-65f3a992fdbd",
   "metadata": {},
   "outputs": [
    {
     "name": "stdout",
     "output_type": "stream",
     "text": [
      "Mango\n",
      "appple\n",
      "chiku\n"
     ]
    }
   ],
   "source": [
    "fruits = ['Mango', 'apple', 'chiku']\n",
    "for i in fruits:\n",
    "    if i==\"apple\":\n",
    "        print(\"appple\")\n",
    "        continue;\n",
    "    print(i)"
   ]
  },
  {
   "cell_type": "code",
   "execution_count": null,
   "id": "2e2901f0-0945-42c7-94f1-977d7a8a6e57",
   "metadata": {},
   "outputs": [],
   "source": []
  }
 ],
 "metadata": {
  "kernelspec": {
   "display_name": "Python 3 (ipykernel)",
   "language": "python",
   "name": "python3"
  },
  "language_info": {
   "codemirror_mode": {
    "name": "ipython",
    "version": 3
   },
   "file_extension": ".py",
   "mimetype": "text/x-python",
   "name": "python",
   "nbconvert_exporter": "python",
   "pygments_lexer": "ipython3",
   "version": "3.10.8"
  }
 },
 "nbformat": 4,
 "nbformat_minor": 5
}
