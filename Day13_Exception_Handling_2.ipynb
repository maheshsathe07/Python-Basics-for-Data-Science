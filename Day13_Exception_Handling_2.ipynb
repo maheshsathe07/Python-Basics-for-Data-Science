{
 "cells": [
  {
   "cell_type": "markdown",
   "id": "29e2f460-83c3-4228-af6b-4a654709b649",
   "metadata": {},
   "source": [
    "### General Exceptions"
   ]
  },
  {
   "cell_type": "code",
   "execution_count": 1,
   "id": "91fb100c-8625-464d-a638-8a0ebe76bddc",
   "metadata": {},
   "outputs": [
    {
     "name": "stdout",
     "output_type": "stream",
     "text": [
      "division by zero\n"
     ]
    }
   ],
   "source": [
    "try:\n",
    "    a = 10\n",
    "    10/0\n",
    "except ZeroDivisionError as e:\n",
    "    print(e)"
   ]
  },
  {
   "cell_type": "code",
   "execution_count": 2,
   "id": "0483f527-17cb-4bf4-a8dd-d85e67852a1a",
   "metadata": {},
   "outputs": [
    {
     "name": "stdout",
     "output_type": "stream",
     "text": [
      "invalid literal for int() with base 10: 'sudh'\n"
     ]
    }
   ],
   "source": [
    "try:\n",
    "    int(\"sudh\") # converting string to int\n",
    "except (ValueError, TypeError) as e:\n",
    "    print(e)"
   ]
  },
  {
   "cell_type": "code",
   "execution_count": 3,
   "id": "2e425da4-c80a-4396-835b-b96ba78738e1",
   "metadata": {},
   "outputs": [
    {
     "name": "stdout",
     "output_type": "stream",
     "text": [
      "this will catch a error\n"
     ]
    }
   ],
   "source": [
    "# not known about error\n",
    "try:\n",
    "    int(\"sudh\")\n",
    "except :\n",
    "    print(\"this will catch a error\")"
   ]
  },
  {
   "cell_type": "code",
   "execution_count": 4,
   "id": "1f287ec4-ad47-4c6b-ac68-0577ca31a23c",
   "metadata": {},
   "outputs": [
    {
     "name": "stdout",
     "output_type": "stream",
     "text": [
      "No module named 'sudh'\n"
     ]
    }
   ],
   "source": [
    "try:\n",
    "    import sudh\n",
    "except ImportError as e:\n",
    "    print(e)"
   ]
  },
  {
   "cell_type": "code",
   "execution_count": 5,
   "id": "476fd35f-acfa-410e-8c41-ba03c9d03486",
   "metadata": {},
   "outputs": [
    {
     "name": "stdout",
     "output_type": "stream",
     "text": [
      "'key10'\n"
     ]
    }
   ],
   "source": [
    "try:\n",
    "    d = {1:[3,4,5], \"key\":\"sudh\"}\n",
    "    d[\"key10\"]\n",
    "except KeyError as e:\n",
    "    print(e)"
   ]
  },
  {
   "cell_type": "code",
   "execution_count": 6,
   "id": "94f0de63-a6ce-4d62-bd19-6f07a2ee032f",
   "metadata": {},
   "outputs": [
    {
     "name": "stdout",
     "output_type": "stream",
     "text": [
      "'str' object has no attribute 'test'\n"
     ]
    }
   ],
   "source": [
    "try:\n",
    "    \"sudh\".test()\n",
    "except AttributeError as e:\n",
    "    print(e)"
   ]
  },
  {
   "cell_type": "code",
   "execution_count": 7,
   "id": "7ebb7e86-9d88-4b42-9177-07273ebfa685",
   "metadata": {},
   "outputs": [
    {
     "name": "stdout",
     "output_type": "stream",
     "text": [
      "list index out of range\n"
     ]
    }
   ],
   "source": [
    "try:\n",
    "    l = [1,2,3,3]\n",
    "    l[10]\n",
    "except IndexError as e:\n",
    "    print(e)"
   ]
  },
  {
   "cell_type": "code",
   "execution_count": 8,
   "id": "407e087f-1776-4c94-b7b5-5e568f466f38",
   "metadata": {},
   "outputs": [
    {
     "name": "stdout",
     "output_type": "stream",
     "text": [
      "unsupported operand type(s) for +: 'int' and 'str'\n"
     ]
    }
   ],
   "source": [
    "try:\n",
    "    123 + \"sudh\"\n",
    "except TypeError as e:\n",
    "    print(e)"
   ]
  },
  {
   "cell_type": "code",
   "execution_count": 9,
   "id": "1ba1c24b-a6e2-4452-ad0b-420c87784045",
   "metadata": {},
   "outputs": [
    {
     "name": "stdout",
     "output_type": "stream",
     "text": [
      "[Errno 2] No such file or directory: 'test8.txt'\n"
     ]
    }
   ],
   "source": [
    "try:\n",
    "    with open(\"test8.txt\", \"r\") as f:\n",
    "        f.read()\n",
    "except FileNotFoundError as e:\n",
    "    print(e)"
   ]
  },
  {
   "cell_type": "code",
   "execution_count": 1,
   "id": "462a39cf-0f0c-4614-ac00-a78e11ad38eb",
   "metadata": {},
   "outputs": [
    {
     "name": "stdout",
     "output_type": "stream",
     "text": [
      "this is FileNotFound Error\n"
     ]
    }
   ],
   "source": [
    "try:\n",
    "    with open(\"test8.txt\", \"r\") as f:\n",
    "        f.read()\n",
    "except FileNotFoundError as e:\n",
    "    print(\"this is FileNotFound Error\" )\n",
    "except Exception as e:# never write a super class at 1st place , firstly write generic/ specific error exception first.\n",
    "    print(e)\n"
   ]
  },
  {
   "cell_type": "code",
   "execution_count": 11,
   "id": "7bd05beb-7288-4ee3-8e6b-65ba20bcd442",
   "metadata": {},
   "outputs": [
    {
     "name": "stdout",
     "output_type": "stream",
     "text": [
      "test8 [Errno 2] No such file or directory: 'test8.txt'\n"
     ]
    }
   ],
   "source": [
    "try:\n",
    "    with open(\"test8.txt\", \"r\") as f:\n",
    "        f.read()\n",
    "except Exception as e:\n",
    "    print(\"test8\",e)\n",
    "except FileNotFoundError as e:\n",
    "    print(\"this is FileNotFound Error\" )"
   ]
  },
  {
   "cell_type": "markdown",
   "id": "939ab550-0f50-486f-a48f-964b35ad0c6f",
   "metadata": {},
   "source": [
    "### Best Practices "
   ]
  },
  {
   "cell_type": "code",
   "execution_count": 2,
   "id": "a4404387-713c-4198-8cb1-ebd251057a79",
   "metadata": {},
   "outputs": [
    {
     "name": "stdout",
     "output_type": "stream",
     "text": [
      "division by zero\n"
     ]
    }
   ],
   "source": [
    "# use always a specific Exception\n",
    "try:\n",
    "    10/0\n",
    "except Exception as e: # here we use supar exception class\n",
    "    print(e)"
   ]
  },
  {
   "cell_type": "code",
   "execution_count": 3,
   "id": "3d712991-6153-4f15-9db8-0d30d5f5da90",
   "metadata": {},
   "outputs": [
    {
     "name": "stdout",
     "output_type": "stream",
     "text": [
      "division by zero\n"
     ]
    }
   ],
   "source": [
    "try:\n",
    "    10/0\n",
    "except ZeroDivisionError as e:\n",
    "    print(e)"
   ]
  },
  {
   "cell_type": "code",
   "execution_count": 4,
   "id": "f39d07f9-0756-4d0e-9b8d-da064fc8dd84",
   "metadata": {},
   "outputs": [
    {
     "name": "stdout",
     "output_type": "stream",
     "text": [
      "this is zero division error division by zero\n"
     ]
    }
   ],
   "source": [
    "# print always valid msg\n",
    "try:\n",
    "    10/0\n",
    "except ZeroDivisionError as e:\n",
    "    print(\"this is zero division error\", e)"
   ]
  },
  {
   "cell_type": "code",
   "execution_count": 5,
   "id": "472fb7db-3e44-49c5-b51c-575093c0d58a",
   "metadata": {},
   "outputs": [],
   "source": [
    "# always try to log\n",
    "import logging\n",
    "logging.basicConfig(filename = \"error.log\", level = logging.ERROR)\n",
    "try:\n",
    "    10/0\n",
    "except ZeroDivisionError as e:\n",
    "    logging.error(\"this is zero division error i am handling {}\".format(e))"
   ]
  },
  {
   "cell_type": "code",
   "execution_count": 6,
   "id": "67aab3fd-419a-4bc2-9a24-fe7b42d58447",
   "metadata": {},
   "outputs": [],
   "source": [
    "# always avoid to write a multiple exception handling.\n",
    "try:\n",
    "    10/0\n",
    "except FileNotFoundError as e:\n",
    "    logging.error(\"this is my file not found {}\".format(e))\n",
    "except AttributeError as e:\n",
    "    logging.error(\"this my attribute error {}\".format(e))\n",
    "except ZeroDivisionError as e:\n",
    "    logging.error(\"this is zero division error i am handling {}\".format(e))"
   ]
  },
  {
   "cell_type": "code",
   "execution_count": 7,
   "id": "29a64e8a-9623-4ca7-a056-9e1eed66fb74",
   "metadata": {},
   "outputs": [],
   "source": [
    "# prepare a proper documentation"
   ]
  },
  {
   "cell_type": "code",
   "execution_count": 8,
   "id": "e411d081-72f9-40b7-b011-987267cd78b5",
   "metadata": {},
   "outputs": [],
   "source": [
    "# cleanup all the resources\n",
    "\n",
    "try:\n",
    "    with open(\"test.txt\", \"w\") as f:\n",
    "        f.write(\"this is my msg to file\")\n",
    "except FileNotFoundError as e:\n",
    "    looging.error(\"this is my file not found {}\".format(e))\n",
    "finally: # always execute\n",
    "    f.close()"
   ]
  }
 ],
 "metadata": {
  "kernelspec": {
   "display_name": "Python 3 (ipykernel)",
   "language": "python",
   "name": "python3"
  },
  "language_info": {
   "codemirror_mode": {
    "name": "ipython",
    "version": 3
   },
   "file_extension": ".py",
   "mimetype": "text/x-python",
   "name": "python",
   "nbconvert_exporter": "python",
   "pygments_lexer": "ipython3",
   "version": "3.10.8"
  }
 },
 "nbformat": 4,
 "nbformat_minor": 5
}
