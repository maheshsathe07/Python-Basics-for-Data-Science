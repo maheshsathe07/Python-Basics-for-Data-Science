{
 "cells": [
  {
   "cell_type": "markdown",
   "id": "3a4d29d4-c99b-4cf0-97d4-cb346fb0c36d",
   "metadata": {},
   "source": [
    "### Decorator"
   ]
  },
  {
   "cell_type": "code",
   "execution_count": 3,
   "id": "bda88468-e1f9-4576-8793-18d81c81e277",
   "metadata": {},
   "outputs": [],
   "source": [
    "def test():\n",
    "    print(\"this is the start\")\n",
    "    print(4+5)\n",
    "    print(\"this is end\")"
   ]
  },
  {
   "cell_type": "code",
   "execution_count": 4,
   "id": "84574d10-02c0-49a2-bb97-5920eead0d89",
   "metadata": {},
   "outputs": [
    {
     "name": "stdout",
     "output_type": "stream",
     "text": [
      "this is the start\n",
      "9\n",
      "this is end\n"
     ]
    }
   ],
   "source": [
    "test()"
   ]
  },
  {
   "cell_type": "code",
   "execution_count": 5,
   "id": "00452f14-7aaf-446d-89b2-5ab25926015a",
   "metadata": {},
   "outputs": [],
   "source": [
    "# we have to call above two lie each time with every function"
   ]
  },
  {
   "cell_type": "code",
   "execution_count": 6,
   "id": "c3efdc2d-04b4-428c-9fee-234d9ab63084",
   "metadata": {},
   "outputs": [],
   "source": [
    "# decorator - used to perform this task"
   ]
  },
  {
   "cell_type": "code",
   "execution_count": 9,
   "id": "9671e1e8-1d64-4280-b090-440ce5c29367",
   "metadata": {},
   "outputs": [],
   "source": [
    "def deco(func):\n",
    "    def inner_deco():\n",
    "         print(\"this is the start\")\n",
    "         func()\n",
    "         print(\"this is end\")\n",
    "    return inner_deco"
   ]
  },
  {
   "cell_type": "code",
   "execution_count": 11,
   "id": "e4a43c51-c7fd-4333-946b-f3cf8efb419b",
   "metadata": {},
   "outputs": [],
   "source": [
    "@deco\n",
    "def test1():\n",
    "    print (4+5)"
   ]
  },
  {
   "cell_type": "code",
   "execution_count": 12,
   "id": "54189c2f-1299-41cd-84d2-b771e56bdefc",
   "metadata": {},
   "outputs": [
    {
     "name": "stdout",
     "output_type": "stream",
     "text": [
      "this is the start\n",
      "9\n",
      "this is end\n"
     ]
    }
   ],
   "source": [
    "test1()"
   ]
  },
  {
   "cell_type": "code",
   "execution_count": 13,
   "id": "57992b8e-85ac-4625-9ea3-1e9ace655001",
   "metadata": {},
   "outputs": [],
   "source": [
    "# using deco we are trying to decorate"
   ]
  },
  {
   "cell_type": "code",
   "execution_count": 18,
   "id": "000a56c8-88b2-4d5e-8979-bc270efec078",
   "metadata": {},
   "outputs": [],
   "source": [
    "import time\n",
    "def timer_test(func):\n",
    "    def timer_test_inner():\n",
    "        start = time.time()\n",
    "        func()\n",
    "        end = time.time()\n",
    "        print(end-start)\n",
    "    return timer_test_inner"
   ]
  },
  {
   "cell_type": "code",
   "execution_count": 21,
   "id": "ee2ac0d3-5e38-4ea4-b063-627b5c5ea3d5",
   "metadata": {},
   "outputs": [],
   "source": [
    "@timer_test\n",
    "def test2():\n",
    "    print(45+67)"
   ]
  },
  {
   "cell_type": "code",
   "execution_count": 22,
   "id": "47604a09-418b-429d-b6bd-63c0dda6ea18",
   "metadata": {},
   "outputs": [
    {
     "name": "stdout",
     "output_type": "stream",
     "text": [
      "112\n",
      "4.696846008300781e-05\n"
     ]
    }
   ],
   "source": [
    "test2()"
   ]
  },
  {
   "cell_type": "code",
   "execution_count": 25,
   "id": "f7ef19b6-5754-4e85-862f-d212c0f6bbc6",
   "metadata": {},
   "outputs": [],
   "source": [
    "@timer_test\n",
    "def test3():\n",
    "    for i in range(1000):\n",
    "        pass"
   ]
  },
  {
   "cell_type": "code",
   "execution_count": 26,
   "id": "62816ad6-9460-4645-a1e7-49605e8e1c00",
   "metadata": {},
   "outputs": [
    {
     "name": "stdout",
     "output_type": "stream",
     "text": [
      "3.1948089599609375e-05\n"
     ]
    }
   ],
   "source": [
    "test3()"
   ]
  },
  {
   "cell_type": "code",
   "execution_count": 27,
   "id": "78f9619e-b73c-4498-8499-6ded9c4e570a",
   "metadata": {},
   "outputs": [],
   "source": [
    "#decorating function with another decorator function."
   ]
  },
  {
   "cell_type": "markdown",
   "id": "380a10f4-d7c1-4700-9a02-f3f66b54fedd",
   "metadata": {},
   "source": [
    "### Class Methods"
   ]
  },
  {
   "cell_type": "code",
   "execution_count": 30,
   "id": "7ec3ced8-e17c-4a9c-a043-852abfbe9363",
   "metadata": {},
   "outputs": [],
   "source": [
    "class pwskills:\n",
    "    def __init__(self, name, email):\n",
    "        self.name = name\n",
    "        self.email = email\n",
    "        \n",
    "    def student_details(self):\n",
    "        print(self.name, self.email)"
   ]
  },
  {
   "cell_type": "code",
   "execution_count": 31,
   "id": "f0a65fcf-c777-41db-a597-c8c458a5425a",
   "metadata": {},
   "outputs": [],
   "source": [
    "pw = pwskills(\"Mahesh\", \"ms07@gmail.com\")"
   ]
  },
  {
   "cell_type": "code",
   "execution_count": 32,
   "id": "f539bf43-85f2-4da3-958a-32207456092d",
   "metadata": {},
   "outputs": [
    {
     "data": {
      "text/plain": [
       "'Mahesh'"
      ]
     },
     "execution_count": 32,
     "metadata": {},
     "output_type": "execute_result"
    }
   ],
   "source": [
    "pw.name"
   ]
  },
  {
   "cell_type": "code",
   "execution_count": 33,
   "id": "df964baa-078f-484b-afba-b12054a8bcda",
   "metadata": {},
   "outputs": [
    {
     "data": {
      "text/plain": [
       "'ms07@gmail.com'"
      ]
     },
     "execution_count": 33,
     "metadata": {},
     "output_type": "execute_result"
    }
   ],
   "source": [
    "pw.email"
   ]
  },
  {
   "cell_type": "code",
   "execution_count": 35,
   "id": "507b7ad0-134f-4aa6-887a-0749cf04e87d",
   "metadata": {},
   "outputs": [
    {
     "name": "stdout",
     "output_type": "stream",
     "text": [
      "Mahesh ms07@gmail.com\n"
     ]
    }
   ],
   "source": [
    "pw.student_details()"
   ]
  },
  {
   "cell_type": "code",
   "execution_count": 1,
   "id": "ec7329dc-450b-4444-a9bb-a5a60ba597d1",
   "metadata": {},
   "outputs": [],
   "source": [
    "class pwskills1:\n",
    "    def __init__(self, name, email):\n",
    "        self.name = name\n",
    "        self.email = email\n",
    "        \n",
    "    @classmethod  # it is a decorator which is equivalent to above constructor\n",
    "    def details(cls, name1, email1):#cls binding methods to classname\n",
    "        return cls(name1, email1)\n",
    "    \n",
    "    def student_details(self):\n",
    "        print(self.name, self.email)"
   ]
  },
  {
   "cell_type": "code",
   "execution_count": 2,
   "id": "4929752b-be2c-4270-a784-9250739c81a9",
   "metadata": {},
   "outputs": [],
   "source": [
    "pw1 = pwskills1.details(\"mohan\", \"mohan@gmail.com\")"
   ]
  },
  {
   "cell_type": "code",
   "execution_count": 3,
   "id": "64f06391-dfdb-40bb-bd4c-5ebb32c50195",
   "metadata": {},
   "outputs": [
    {
     "data": {
      "text/plain": [
       "'mohan@gmail.com'"
      ]
     },
     "execution_count": 3,
     "metadata": {},
     "output_type": "execute_result"
    }
   ],
   "source": [
    "pw1.email"
   ]
  },
  {
   "cell_type": "code",
   "execution_count": 43,
   "id": "9fc4c3b9-38b9-4089-84a1-da9a1acf2782",
   "metadata": {},
   "outputs": [
    {
     "data": {
      "text/plain": [
       "'mohan'"
      ]
     },
     "execution_count": 43,
     "metadata": {},
     "output_type": "execute_result"
    }
   ],
   "source": [
    "pw1.name"
   ]
  },
  {
   "cell_type": "code",
   "execution_count": 44,
   "id": "8d3ffa29-b6f2-4a01-a19c-2fa11f4fd722",
   "metadata": {},
   "outputs": [],
   "source": [
    "# achieving function overloading"
   ]
  },
  {
   "cell_type": "code",
   "execution_count": 46,
   "id": "d7bcabb7-85fc-49e9-9a61-50ca7276b7ac",
   "metadata": {},
   "outputs": [
    {
     "name": "stdout",
     "output_type": "stream",
     "text": [
      "mohan mohan@gmail.com\n"
     ]
    }
   ],
   "source": [
    "pw1.student_details()"
   ]
  },
  {
   "cell_type": "code",
   "execution_count": 7,
   "id": "bda1c177-d28d-426b-bf29-3c0e6bbf95fc",
   "metadata": {},
   "outputs": [],
   "source": [
    "class pwskills2:\n",
    "    \n",
    "    mobile_number = 9134534535\n",
    "    \n",
    "    def __init__(self, name, email):\n",
    "        self.name = name\n",
    "        self.email = email\n",
    "    \n",
    "    @classmethod\n",
    "    def change_number(cls, mobile):\n",
    "        pwskills2.mobile_number = mobile\n",
    "    \n",
    "    @classmethod  # it i equivalent to above constructor\n",
    "    def details(cls, name1, email1):\n",
    "        return cls(name1, email1)\n",
    "    \n",
    "    def student_details(self):\n",
    "        print(self.name, self.email, pwskills2.mobile_number)"
   ]
  },
  {
   "cell_type": "code",
   "execution_count": 11,
   "id": "63772ea7-c7ef-41b6-ba1d-e9b8706c257e",
   "metadata": {},
   "outputs": [],
   "source": [
    "#cls binding towards class"
   ]
  },
  {
   "cell_type": "code",
   "execution_count": 8,
   "id": "120c0dc1-34b0-4fe7-85ec-165ef042a992",
   "metadata": {},
   "outputs": [],
   "source": [
    "pw2_obj = pwskills2(\"sohil\", \"sohil@gmail.com\")"
   ]
  },
  {
   "cell_type": "code",
   "execution_count": 9,
   "id": "c3a2ddea-3b89-4007-aabf-ada5bf58aa66",
   "metadata": {},
   "outputs": [
    {
     "data": {
      "text/plain": [
       "<__main__.pwskills2 at 0x7fe88462d240>"
      ]
     },
     "execution_count": 9,
     "metadata": {},
     "output_type": "execute_result"
    }
   ],
   "source": [
    "pw2_obj.details(\"mahesh\", \"ms@gmail.com\")"
   ]
  },
  {
   "cell_type": "code",
   "execution_count": 10,
   "id": "0ca34668-cf7d-464d-b8ae-fade8607f66d",
   "metadata": {},
   "outputs": [
    {
     "data": {
      "text/plain": [
       "'sohil'"
      ]
     },
     "execution_count": 10,
     "metadata": {},
     "output_type": "execute_result"
    }
   ],
   "source": [
    "pw2_obj.name"
   ]
  },
  {
   "cell_type": "code",
   "execution_count": 66,
   "id": "6cfb99f7-60c2-4a3a-a6d4-57a9d4ab1752",
   "metadata": {},
   "outputs": [],
   "source": [
    "pw2_obj.change_number(445455666)"
   ]
  },
  {
   "cell_type": "code",
   "execution_count": 68,
   "id": "e44aee90-42e0-4cee-bdb3-cdcea0279509",
   "metadata": {},
   "outputs": [
    {
     "data": {
      "text/plain": [
       "445455666"
      ]
     },
     "execution_count": 68,
     "metadata": {},
     "output_type": "execute_result"
    }
   ],
   "source": [
    "pw2_obj.mobile_number"
   ]
  },
  {
   "cell_type": "code",
   "execution_count": 13,
   "id": "83e91abd-4ad7-454a-8cbe-f997fb85b758",
   "metadata": {},
   "outputs": [
    {
     "data": {
      "text/plain": [
       "9134534535"
      ]
     },
     "execution_count": 13,
     "metadata": {},
     "output_type": "execute_result"
    }
   ],
   "source": [
    "pwskills2.mobile_number  #it is a class variable so it can be accessed directly using class name no need to create obj"
   ]
  },
  {
   "cell_type": "code",
   "execution_count": 59,
   "id": "0937f0d6-5868-4025-96f7-dc01df4aa625",
   "metadata": {},
   "outputs": [],
   "source": [
    "pwskills2.change_number(4466556565)"
   ]
  },
  {
   "cell_type": "code",
   "execution_count": 60,
   "id": "e543d278-c6ae-47dc-b991-0bbb0a5e685e",
   "metadata": {},
   "outputs": [
    {
     "data": {
      "text/plain": [
       "4466556565"
      ]
     },
     "execution_count": 60,
     "metadata": {},
     "output_type": "execute_result"
    }
   ],
   "source": [
    "pwskills2.mobile_number  # if it is class variable we can directly call like this using class name"
   ]
  },
  {
   "cell_type": "code",
   "execution_count": 53,
   "id": "14f3d84b-5189-4fc5-9c9a-3cf02c02bb2d",
   "metadata": {},
   "outputs": [],
   "source": [
    "pw2 = pwskills2.details(\"sohan\", \"sohan@gmail.com\")"
   ]
  },
  {
   "cell_type": "code",
   "execution_count": 54,
   "id": "c7d584e2-7360-4c64-aa14-be2f623a967c",
   "metadata": {},
   "outputs": [
    {
     "name": "stdout",
     "output_type": "stream",
     "text": [
      "sohan sohan@gmail.com 9134534535\n"
     ]
    }
   ],
   "source": [
    "pw2.student_details()"
   ]
  },
  {
   "cell_type": "code",
   "execution_count": 55,
   "id": "eb307c20-19a2-44ba-b469-461ce8957118",
   "metadata": {},
   "outputs": [],
   "source": [
    "pw2_obj = pwskills2(\"rohan\", \"rohan@gmail.com\")"
   ]
  },
  {
   "cell_type": "code",
   "execution_count": 56,
   "id": "8a6f8d15-f901-4a36-8446-2340487c836f",
   "metadata": {},
   "outputs": [
    {
     "name": "stdout",
     "output_type": "stream",
     "text": [
      "rohan rohan@gmail.com 9134534535\n"
     ]
    }
   ],
   "source": [
    "pw2_obj.student_details()"
   ]
  },
  {
   "cell_type": "code",
   "execution_count": 15,
   "id": "c85a7955-562f-4656-825e-0dac30832b13",
   "metadata": {},
   "outputs": [],
   "source": [
    "class pwskills3:\n",
    "    \n",
    "    mobile_number = 9134534535\n",
    "    \n",
    "    def __init__(self, name, email):\n",
    "        self.name = name\n",
    "        self.email = email\n",
    "    \n",
    "    @classmethod\n",
    "    def change_number(cls, mobile):\n",
    "        pwskills2.mobile_number = mobile\n",
    "    \n",
    "    @classmethod  # it i equivalent to above constructor\n",
    "    def details(cls, name1, email1):\n",
    "        return cls(name1, email1)\n",
    "    \n",
    "    def student_details(self):\n",
    "        print(self.name, self.email, pwskills2.mobile_number)"
   ]
  },
  {
   "cell_type": "code",
   "execution_count": 16,
   "id": "f9db62cb-5c97-48d7-bf87-11668139b9cc",
   "metadata": {},
   "outputs": [],
   "source": [
    "def course_details(cls, course_name):\n",
    "    print(\"course details: \", course_name)"
   ]
  },
  {
   "cell_type": "code",
   "execution_count": 71,
   "id": "7f01d698-ba8a-433b-ba3e-b23a76ac0849",
   "metadata": {},
   "outputs": [],
   "source": [
    "#adding above function to class directly"
   ]
  },
  {
   "cell_type": "code",
   "execution_count": 17,
   "id": "24cbecd9-5d35-47cb-ba90-f5b2ee5e76c3",
   "metadata": {},
   "outputs": [],
   "source": [
    "#adding external method to class.\n",
    "pwskills3.course_details = classmethod(course_details) "
   ]
  },
  {
   "cell_type": "markdown",
   "id": "1ad98be6-530b-41e5-9beb-c317ee00caa0",
   "metadata": {},
   "source": [
    "pwskills3.course_details(\"data science masters\")"
   ]
  },
  {
   "cell_type": "code",
   "execution_count": 74,
   "id": "35404df5-f668-477b-b131-7527e57592fa",
   "metadata": {},
   "outputs": [],
   "source": [
    "# accessing through object"
   ]
  },
  {
   "cell_type": "code",
   "execution_count": 75,
   "id": "c5ad3985-6936-47f2-9ddb-f833c7d71918",
   "metadata": {},
   "outputs": [],
   "source": [
    "pw3 = pwskills3(\"mahesh\", \"ms@gmail.com\")"
   ]
  },
  {
   "cell_type": "code",
   "execution_count": 77,
   "id": "31f32007-2ee9-48b0-a565-d597b6c9fae4",
   "metadata": {},
   "outputs": [
    {
     "name": "stdout",
     "output_type": "stream",
     "text": [
      "course details:  webdev\n"
     ]
    }
   ],
   "source": [
    "pw3.course_details(\"webdev\")"
   ]
  },
  {
   "cell_type": "code",
   "execution_count": 78,
   "id": "7525bf4e-87ee-44ec-ab30-84f48c4667e2",
   "metadata": {},
   "outputs": [],
   "source": [
    "# in this way we are able to add any number of external function to class"
   ]
  },
  {
   "cell_type": "code",
   "execution_count": 79,
   "id": "cb223a4d-6573-43cb-8cfd-847c19003dd1",
   "metadata": {},
   "outputs": [],
   "source": [
    "class pwskills4:\n",
    "    \n",
    "    mobile_number = 9134534535\n",
    "    \n",
    "    def __init__(self, name, email):\n",
    "        self.name = name\n",
    "        self.email = email\n",
    "    \n",
    "    @classmethod\n",
    "    def change_number(cls, mobile):\n",
    "        pwskills2.mobile_number = mobile\n",
    "    \n",
    "    @classmethod  # it i equivalent to above constructor\n",
    "    def details(cls, name1, email1):\n",
    "        return cls(name1, email1)\n",
    "    \n",
    "    def student_details(self):\n",
    "        print(self.name, self.email, pwskills2.mobile_number)"
   ]
  },
  {
   "cell_type": "code",
   "execution_count": 18,
   "id": "dc248c5b-d963-4a77-8cba-708e86add3bf",
   "metadata": {},
   "outputs": [],
   "source": [
    "# deleting preexisting method/variable from class"
   ]
  },
  {
   "cell_type": "code",
   "execution_count": 81,
   "id": "953a22a7-fa55-4798-a400-1ed280b4da99",
   "metadata": {},
   "outputs": [],
   "source": [
    "del pwskills4.change_number"
   ]
  },
  {
   "cell_type": "code",
   "execution_count": 82,
   "id": "b2554f1b-349a-4af7-bfc0-452cc1955065",
   "metadata": {},
   "outputs": [],
   "source": [
    "# no change number attribute is available to class"
   ]
  },
  {
   "cell_type": "code",
   "execution_count": 83,
   "id": "0f3b0597-76b6-4c80-98ed-29488559445c",
   "metadata": {},
   "outputs": [],
   "source": [
    "# another way"
   ]
  },
  {
   "cell_type": "code",
   "execution_count": 84,
   "id": "04601bc6-7acd-49ac-abee-e7c104a4794e",
   "metadata": {},
   "outputs": [],
   "source": [
    "delattr(pwskills4, \"details\")"
   ]
  },
  {
   "cell_type": "code",
   "execution_count": 86,
   "id": "77e91f2a-8503-47d9-b0c5-53ccafe12e08",
   "metadata": {},
   "outputs": [
    {
     "ename": "AttributeError",
     "evalue": "type object 'pwskills4' has no attribute 'change_number'",
     "output_type": "error",
     "traceback": [
      "\u001b[0;31m---------------------------------------------------------------------------\u001b[0m",
      "\u001b[0;31mAttributeError\u001b[0m                            Traceback (most recent call last)",
      "Cell \u001b[0;32mIn[86], line 1\u001b[0m\n\u001b[0;32m----> 1\u001b[0m \u001b[43mpwskills4\u001b[49m\u001b[38;5;241;43m.\u001b[39;49m\u001b[43mchange_number\u001b[49m\n",
      "\u001b[0;31mAttributeError\u001b[0m: type object 'pwskills4' has no attribute 'change_number'"
     ]
    }
   ],
   "source": [
    "pwskills4.change_number"
   ]
  },
  {
   "cell_type": "code",
   "execution_count": 87,
   "id": "41ad395a-8929-4423-99ee-f77e7923cdc3",
   "metadata": {},
   "outputs": [
    {
     "ename": "AttributeError",
     "evalue": "type object 'pwskills4' has no attribute 'details'",
     "output_type": "error",
     "traceback": [
      "\u001b[0;31m---------------------------------------------------------------------------\u001b[0m",
      "\u001b[0;31mAttributeError\u001b[0m                            Traceback (most recent call last)",
      "Cell \u001b[0;32mIn[87], line 1\u001b[0m\n\u001b[0;32m----> 1\u001b[0m \u001b[43mpwskills4\u001b[49m\u001b[38;5;241;43m.\u001b[39;49m\u001b[43mdetails\u001b[49m\n",
      "\u001b[0;31mAttributeError\u001b[0m: type object 'pwskills4' has no attribute 'details'"
     ]
    }
   ],
   "source": [
    "pwskills4.details"
   ]
  },
  {
   "cell_type": "code",
   "execution_count": 88,
   "id": "d0e98da7-bb1a-42ef-9cf6-b9b1b0773db0",
   "metadata": {},
   "outputs": [],
   "source": [
    "#  student details instance method deleting it"
   ]
  },
  {
   "cell_type": "code",
   "execution_count": 89,
   "id": "16cc5cc3-8cb0-4e7f-b535-ebc069c655b9",
   "metadata": {},
   "outputs": [],
   "source": [
    "delattr(pwskills4, \"student_details\")"
   ]
  },
  {
   "cell_type": "code",
   "execution_count": null,
   "id": "9c9e329c-e054-42df-84fa-512b5948b3e3",
   "metadata": {},
   "outputs": [],
   "source": [
    "#### Practicing "
   ]
  },
  {
   "cell_type": "code",
   "execution_count": 1,
   "id": "ade387c5-e5b7-4614-90ee-ac726b9432e9",
   "metadata": {},
   "outputs": [
    {
     "ename": "NameError",
     "evalue": "name 'pwskills4' is not defined",
     "output_type": "error",
     "traceback": [
      "\u001b[0;31m---------------------------------------------------------------------------\u001b[0m",
      "\u001b[0;31mNameError\u001b[0m                                 Traceback (most recent call last)",
      "Cell \u001b[0;32mIn[1], line 1\u001b[0m\n\u001b[0;32m----> 1\u001b[0m \u001b[43mpwskills4\u001b[49m\u001b[38;5;241m.\u001b[39mstudent_details()\n",
      "\u001b[0;31mNameError\u001b[0m: name 'pwskills4' is not defined"
     ]
    }
   ],
   "source": [
    "pwskills4.student_details()"
   ]
  },
  {
   "cell_type": "code",
   "execution_count": 2,
   "id": "4f2b83d1-a770-470e-b042-776670bfaba2",
   "metadata": {},
   "outputs": [],
   "source": [
    "def deco1(func):\n",
    "    def inner_deco1():\n",
    "        print(\"Start deco\")\n",
    "        func()\n",
    "        print(\"End deco\")\n",
    "    return inner_deco1  "
   ]
  },
  {
   "cell_type": "code",
   "execution_count": 4,
   "id": "a2e25985-f9a5-4c51-be69-760f3f1b964a",
   "metadata": {},
   "outputs": [],
   "source": [
    "@deco1\n",
    "def test():\n",
    "    print(\"hello\")"
   ]
  },
  {
   "cell_type": "code",
   "execution_count": 5,
   "id": "39f652cd-846d-407c-86df-ba8c1ba8501c",
   "metadata": {},
   "outputs": [
    {
     "name": "stdout",
     "output_type": "stream",
     "text": [
      "Start deco\n",
      "hello\n",
      "End deco\n"
     ]
    }
   ],
   "source": [
    "test()"
   ]
  },
  {
   "cell_type": "markdown",
   "id": "cd44b4d3-a977-4557-a016-f43226617b90",
   "metadata": {},
   "source": [
    "### Static method"
   ]
  },
  {
   "cell_type": "markdown",
   "id": "24d477ae-a2bf-4089-8ec5-f2642f77078f",
   "metadata": {},
   "source": [
    "#### it is directly available to class so it is available to all the objects that you are going to create function which is not dependent on object"
   ]
  },
  {
   "cell_type": "code",
   "execution_count": 1,
   "id": "882f60e9-955c-41b3-882f-f15ab82fcddc",
   "metadata": {},
   "outputs": [],
   "source": [
    "class pwskills:\n",
    "    def student_details(self, name, mail_id, number):\n",
    "        print(name, mail_id, number)"
   ]
  },
  {
   "cell_type": "code",
   "execution_count": 2,
   "id": "7767391b-5308-4f3e-b444-75f829f42589",
   "metadata": {},
   "outputs": [],
   "source": [
    "pw = pwskills()"
   ]
  },
  {
   "cell_type": "code",
   "execution_count": 4,
   "id": "067f2934-1d1a-4927-9755-8e3e416584e5",
   "metadata": {},
   "outputs": [
    {
     "name": "stdout",
     "output_type": "stream",
     "text": [
      "mahesh ms@gmail.com 78864654\n"
     ]
    }
   ],
   "source": [
    "pw.student_details(\"mahesh\", \"ms@gmail.com\", 78864654)"
   ]
  },
  {
   "cell_type": "code",
   "execution_count": 97,
   "id": "9e68982b-7b53-481b-8582-22f6e4bc4e27",
   "metadata": {},
   "outputs": [],
   "source": [
    "class pwskills1:\n",
    "    def student_details(self, name, mail_id, number):\n",
    "        print(name, mail_id, number)\n",
    "        \n",
    "    @staticmethod\n",
    "    def mentor_class(list_mentor):  #as this method is static we can call it directly using className\n",
    "        print(list_mentor) \n",
    "        \n",
    "    def mentor(self, mentor_list): #instance method/function\n",
    "        print(mentor_list)"
   ]
  },
  {
   "cell_type": "markdown",
   "id": "f7f714d1-9864-4784-86ea-1bdcc1f790bd",
   "metadata": {},
   "source": [
    "#### Ways to access static method"
   ]
  },
  {
   "cell_type": "code",
   "execution_count": 6,
   "id": "77176006-3bda-446f-95b4-c09d10b757cd",
   "metadata": {},
   "outputs": [
    {
     "name": "stdout",
     "output_type": "stream",
     "text": [
      "['sudh', 'kris']\n"
     ]
    }
   ],
   "source": [
    "#directly using className\n",
    "pwskills1.mentor_class([\"sudh\", \"kris\"]) "
   ]
  },
  {
   "cell_type": "code",
   "execution_count": 99,
   "id": "46a0d223-e163-4358-8cc2-8e6064d36740",
   "metadata": {},
   "outputs": [],
   "source": [
    "pw1 = pwskills1()"
   ]
  },
  {
   "cell_type": "code",
   "execution_count": 100,
   "id": "924ecb78-a3f1-4678-95d0-0db7fa61500c",
   "metadata": {},
   "outputs": [
    {
     "name": "stdout",
     "output_type": "stream",
     "text": [
      "['krish', 'sudh']\n"
     ]
    }
   ],
   "source": [
    "#calling instance method using object with another method\n",
    "pw1.mentor([\"krish\", \"sudh\"])"
   ]
  },
  {
   "cell_type": "code",
   "execution_count": 101,
   "id": "2605ead0-344c-4c9d-97a2-9334287641be",
   "metadata": {},
   "outputs": [
    {
     "name": "stdout",
     "output_type": "stream",
     "text": [
      "['sudh', 'krish']\n"
     ]
    }
   ],
   "source": [
    "#calling static method Through object creation \n",
    "pw1.mentor_class([\"sudh\",\"krish\"])"
   ]
  },
  {
   "cell_type": "code",
   "execution_count": 18,
   "id": "09bbb157-b07d-45f5-8086-68d2582cfc96",
   "metadata": {},
   "outputs": [],
   "source": [
    "# when something initialize with static it will be available to anything in similar way."
   ]
  },
  {
   "cell_type": "code",
   "execution_count": 8,
   "id": "612cf4ef-5a2f-4162-95fc-e0d40c288323",
   "metadata": {},
   "outputs": [],
   "source": [
    "# As objects is created instance of instance method is created. if we have many objects many replicas of these instance methods are created and this is burden on memory increases. So static method is used."
   ]
  },
  {
   "cell_type": "code",
   "execution_count": 20,
   "id": "32fcf6ac-384c-4408-bb54-c9428434b137",
   "metadata": {},
   "outputs": [],
   "source": [
    "# try to use static method inside instance method"
   ]
  },
  {
   "cell_type": "code",
   "execution_count": 26,
   "id": "0803be1f-8acf-4863-929a-da2d0f9f04bd",
   "metadata": {},
   "outputs": [],
   "source": [
    "class pwskills1:\n",
    "    def student_details(self, name, mail_id, number):\n",
    "        print(name, mail_id, number)\n",
    "    \n",
    "    @staticmethod\n",
    "    def mentor_mail_id(mail_id):\n",
    "        print(mail_id)\n",
    "        \n",
    "    @staticmethod\n",
    "    def mentor_class(list_mentor):  #as this method is static we can call it directly using className\n",
    "        print(list_mentor)\n",
    "        pwskills.mentor_mail_id([\"ms@gmail.com\", \"sudh@gmailcom\"])\n",
    "        \n",
    "    @classmethod\n",
    "    def class_name(cls, class_name):\n",
    "        cls.mentor_class([\"sudh\",\"krish\"])\n",
    "        \n",
    "    def mentor(self, mentor_list): #instance method/function\n",
    "        print(mentor_list)\n",
    "        self.mentor_class([\"krish\", \"sudh\"]) # in this way we can access static method inside instance"
   ]
  },
  {
   "cell_type": "code",
   "execution_count": 27,
   "id": "ea14cceb-66a5-4241-aa02-6dcd5bba1f0a",
   "metadata": {},
   "outputs": [],
   "source": [
    "pw1 = pwskills1()"
   ]
  },
  {
   "cell_type": "code",
   "execution_count": 28,
   "id": "d706d4f9-5f32-4fc5-bf30-22aeecc08400",
   "metadata": {},
   "outputs": [
    {
     "name": "stdout",
     "output_type": "stream",
     "text": [
      "mohan mohan@gmail.com 9989898999\n"
     ]
    }
   ],
   "source": [
    "pw1.student_details(\"mohan\", \"mohan@gmail.com\", 9989898999)"
   ]
  },
  {
   "cell_type": "code",
   "execution_count": 29,
   "id": "e279870e-3ff9-4e1a-8a51-a94f1b01fcf0",
   "metadata": {},
   "outputs": [
    {
     "name": "stdout",
     "output_type": "stream",
     "text": [
      "['krish@gmail.com', 'sudh@gmail.com']\n"
     ]
    }
   ],
   "source": [
    "pw1.mentor_mail_id([\"krish@gmail.com\", \"sudh@gmail.com\"])"
   ]
  },
  {
   "cell_type": "code",
   "execution_count": 30,
   "id": "4c09cd75-1db5-4acb-8f69-b31633aaac50",
   "metadata": {},
   "outputs": [],
   "source": [
    "#pw1.class_name(\"data science masters\")"
   ]
  },
  {
   "cell_type": "code",
   "execution_count": 32,
   "id": "3ee5e27f-083b-426c-b308-7de29dd720ce",
   "metadata": {},
   "outputs": [],
   "source": [
    "#pwskills1.class_name(\"pw\")"
   ]
  },
  {
   "cell_type": "markdown",
   "id": "4cbc696d-4b1b-43fc-8fd9-9871761bc27b",
   "metadata": {},
   "source": [
    "### Special (Magic or Dunder method)"
   ]
  },
  {
   "cell_type": "code",
   "execution_count": 36,
   "id": "b51e98e8-1d30-47b6-816e-92ee202352c4",
   "metadata": {},
   "outputs": [
    {
     "data": {
      "text/plain": [
       "['__abs__',\n",
       " '__add__',\n",
       " '__and__',\n",
       " '__bool__',\n",
       " '__ceil__',\n",
       " '__class__',\n",
       " '__delattr__',\n",
       " '__dir__',\n",
       " '__divmod__',\n",
       " '__doc__',\n",
       " '__eq__',\n",
       " '__float__',\n",
       " '__floor__',\n",
       " '__floordiv__',\n",
       " '__format__',\n",
       " '__ge__',\n",
       " '__getattribute__',\n",
       " '__getnewargs__',\n",
       " '__gt__',\n",
       " '__hash__',\n",
       " '__index__',\n",
       " '__init__',\n",
       " '__init_subclass__',\n",
       " '__int__',\n",
       " '__invert__',\n",
       " '__le__',\n",
       " '__lshift__',\n",
       " '__lt__',\n",
       " '__mod__',\n",
       " '__mul__',\n",
       " '__ne__',\n",
       " '__neg__',\n",
       " '__new__',\n",
       " '__or__',\n",
       " '__pos__',\n",
       " '__pow__',\n",
       " '__radd__',\n",
       " '__rand__',\n",
       " '__rdivmod__',\n",
       " '__reduce__',\n",
       " '__reduce_ex__',\n",
       " '__repr__',\n",
       " '__rfloordiv__',\n",
       " '__rlshift__',\n",
       " '__rmod__',\n",
       " '__rmul__',\n",
       " '__ror__',\n",
       " '__round__',\n",
       " '__rpow__',\n",
       " '__rrshift__',\n",
       " '__rshift__',\n",
       " '__rsub__',\n",
       " '__rtruediv__',\n",
       " '__rxor__',\n",
       " '__setattr__',\n",
       " '__sizeof__',\n",
       " '__str__',\n",
       " '__sub__',\n",
       " '__subclasshook__',\n",
       " '__truediv__',\n",
       " '__trunc__',\n",
       " '__xor__',\n",
       " 'as_integer_ratio',\n",
       " 'bit_count',\n",
       " 'bit_length',\n",
       " 'conjugate',\n",
       " 'denominator',\n",
       " 'from_bytes',\n",
       " 'imag',\n",
       " 'numerator',\n",
       " 'real',\n",
       " 'to_bytes']"
      ]
     },
     "execution_count": 36,
     "metadata": {},
     "output_type": "execute_result"
    }
   ],
   "source": [
    "dir(int)  # gives the functions which associated with int internally"
   ]
  },
  {
   "cell_type": "code",
   "execution_count": 37,
   "id": "2b69714a-d061-45b1-af41-88a06ec2ba12",
   "metadata": {},
   "outputs": [],
   "source": [
    "#above are dunder methods"
   ]
  },
  {
   "cell_type": "code",
   "execution_count": 38,
   "id": "0221759b-6f70-4f88-b0fd-472569a6305e",
   "metadata": {},
   "outputs": [
    {
     "data": {
      "text/plain": [
       "16"
      ]
     },
     "execution_count": 38,
     "metadata": {},
     "output_type": "execute_result"
    }
   ],
   "source": [
    "a = 10\n",
    "\n",
    "a+6"
   ]
  },
  {
   "cell_type": "code",
   "execution_count": 39,
   "id": "7439311b-0198-40a3-9679-645ba95444da",
   "metadata": {},
   "outputs": [
    {
     "data": {
      "text/plain": [
       "16"
      ]
     },
     "execution_count": 39,
     "metadata": {},
     "output_type": "execute_result"
    }
   ],
   "source": [
    "a.__add__(6)"
   ]
  },
  {
   "cell_type": "code",
   "execution_count": 40,
   "id": "df1e5413-70f6-4a67-b482-469617221336",
   "metadata": {},
   "outputs": [
    {
     "data": {
      "text/plain": [
       "['__add__',\n",
       " '__class__',\n",
       " '__contains__',\n",
       " '__delattr__',\n",
       " '__dir__',\n",
       " '__doc__',\n",
       " '__eq__',\n",
       " '__format__',\n",
       " '__ge__',\n",
       " '__getattribute__',\n",
       " '__getitem__',\n",
       " '__getnewargs__',\n",
       " '__gt__',\n",
       " '__hash__',\n",
       " '__init__',\n",
       " '__init_subclass__',\n",
       " '__iter__',\n",
       " '__le__',\n",
       " '__len__',\n",
       " '__lt__',\n",
       " '__mod__',\n",
       " '__mul__',\n",
       " '__ne__',\n",
       " '__new__',\n",
       " '__reduce__',\n",
       " '__reduce_ex__',\n",
       " '__repr__',\n",
       " '__rmod__',\n",
       " '__rmul__',\n",
       " '__setattr__',\n",
       " '__sizeof__',\n",
       " '__str__',\n",
       " '__subclasshook__',\n",
       " 'capitalize',\n",
       " 'casefold',\n",
       " 'center',\n",
       " 'count',\n",
       " 'encode',\n",
       " 'endswith',\n",
       " 'expandtabs',\n",
       " 'find',\n",
       " 'format',\n",
       " 'format_map',\n",
       " 'index',\n",
       " 'isalnum',\n",
       " 'isalpha',\n",
       " 'isascii',\n",
       " 'isdecimal',\n",
       " 'isdigit',\n",
       " 'isidentifier',\n",
       " 'islower',\n",
       " 'isnumeric',\n",
       " 'isprintable',\n",
       " 'isspace',\n",
       " 'istitle',\n",
       " 'isupper',\n",
       " 'join',\n",
       " 'ljust',\n",
       " 'lower',\n",
       " 'lstrip',\n",
       " 'maketrans',\n",
       " 'partition',\n",
       " 'removeprefix',\n",
       " 'removesuffix',\n",
       " 'replace',\n",
       " 'rfind',\n",
       " 'rindex',\n",
       " 'rjust',\n",
       " 'rpartition',\n",
       " 'rsplit',\n",
       " 'rstrip',\n",
       " 'split',\n",
       " 'splitlines',\n",
       " 'startswith',\n",
       " 'strip',\n",
       " 'swapcase',\n",
       " 'title',\n",
       " 'translate',\n",
       " 'upper',\n",
       " 'zfill']"
      ]
     },
     "execution_count": 40,
     "metadata": {},
     "output_type": "execute_result"
    }
   ],
   "source": [
    "dir(str)"
   ]
  },
  {
   "cell_type": "code",
   "execution_count": 107,
   "id": "b6acd92e-3a7e-4512-b304-4208ec0d9ce4",
   "metadata": {},
   "outputs": [],
   "source": [
    "class pwskills:\n",
    "    \n",
    "    def __init__(self):\n",
    "        print(\"init\")\n",
    "        \n",
    "    def __new__(cls):\n",
    "        print(\"new\")\n",
    "        \n",
    "        "
   ]
  },
  {
   "cell_type": "code",
   "execution_count": 108,
   "id": "d0e10138-c678-4f48-9d2b-210926e512bd",
   "metadata": {},
   "outputs": [
    {
     "name": "stdout",
     "output_type": "stream",
     "text": [
      "new\n"
     ]
    }
   ],
   "source": [
    "pw = pwskills()"
   ]
  },
  {
   "cell_type": "code",
   "execution_count": 105,
   "id": "27dc8161-392b-457e-87e7-0a3ce20eeec7",
   "metadata": {},
   "outputs": [],
   "source": [
    "class pwskills1:\n",
    "    \n",
    "    def __str__(self):\n",
    "        return \"this is magic method\" \n",
    "    \n",
    "    def __init__(self):\n",
    "        self.mobile_number = 554545454\n",
    "        print(\"hi\")\n",
    "         "
   ]
  },
  {
   "cell_type": "code",
   "execution_count": 106,
   "id": "9dcce3f0-68cb-465f-92e7-366aef1ed497",
   "metadata": {},
   "outputs": [
    {
     "name": "stdout",
     "output_type": "stream",
     "text": [
      "hi\n"
     ]
    }
   ],
   "source": [
    "pw1 = pwskills1()"
   ]
  },
  {
   "cell_type": "code",
   "execution_count": 64,
   "id": "0f02bcd6-dff7-48ea-8c60-c6d65c5d1c0e",
   "metadata": {},
   "outputs": [
    {
     "name": "stdout",
     "output_type": "stream",
     "text": [
      "this is magic method\n"
     ]
    }
   ],
   "source": [
    "print(pw1)"
   ]
  },
  {
   "cell_type": "markdown",
   "id": "c42844b6-9635-4ad6-bee0-9b054587145e",
   "metadata": {},
   "source": [
    "### Property Decorators - Getters, Setters and deletes"
   ]
  },
  {
   "cell_type": "code",
   "execution_count": 91,
   "id": "5aa4d6da-e0fc-4457-9c1d-e373862a3ffd",
   "metadata": {},
   "outputs": [],
   "source": [
    "class pwskills:\n",
    "    def __init__(self, course_price, course_name):\n",
    "        self.__course_price = course_price #__ means i create a private variable\n",
    "        self.course_name = course_name\n",
    "        \n",
    "    @property # which will expose class property to outer world\n",
    "    def course_price_access(self):\n",
    "        return self.__course_price\n",
    "    # no one will able to do modification\n",
    "    #to give access to user-\n",
    "    \n",
    "    @course_price_access.setter  # this way we can modify private and protected variables values\n",
    "    def course_price_set(self, price):\n",
    "        if price<= 3500:\n",
    "            pass\n",
    "        else:\n",
    "            self.__course_price = price\n",
    "            \n",
    "    @course_price_access.deleter\n",
    "    def course_price_del(self):\n",
    "        del self.__course_price\n",
    "        \n",
    "    \n",
    "    "
   ]
  },
  {
   "cell_type": "code",
   "execution_count": 92,
   "id": "aa3292a1-c1bd-43ff-b266-737cf91d9bad",
   "metadata": {},
   "outputs": [],
   "source": [
    "pw = pwskills(3500, \"DSM\")"
   ]
  },
  {
   "cell_type": "code",
   "execution_count": 86,
   "id": "b4473782-32dc-45cb-8d4a-90d445faa2cc",
   "metadata": {},
   "outputs": [
    {
     "data": {
      "text/plain": [
       "3500"
      ]
     },
     "execution_count": 86,
     "metadata": {},
     "output_type": "execute_result"
    }
   ],
   "source": [
    "pw.course_price_access"
   ]
  },
  {
   "cell_type": "code",
   "execution_count": 87,
   "id": "8f24e6ee-bf9d-401e-af68-d798af50bd83",
   "metadata": {},
   "outputs": [],
   "source": [
    "pw.course_price_set = 45000"
   ]
  },
  {
   "cell_type": "code",
   "execution_count": 79,
   "id": "d9958358-016a-410f-b315-57744376f9fd",
   "metadata": {},
   "outputs": [
    {
     "data": {
      "text/plain": [
       "'DSM'"
      ]
     },
     "execution_count": 79,
     "metadata": {},
     "output_type": "execute_result"
    }
   ],
   "source": [
    "pw.course_name"
   ]
  },
  {
   "cell_type": "code",
   "execution_count": 88,
   "id": "ac6b0124-e875-43ea-bbe4-502a19b76bb4",
   "metadata": {},
   "outputs": [
    {
     "data": {
      "text/plain": [
       "45000"
      ]
     },
     "execution_count": 88,
     "metadata": {},
     "output_type": "execute_result"
    }
   ],
   "source": [
    "pw.course_price_access"
   ]
  },
  {
   "cell_type": "code",
   "execution_count": 69,
   "id": "bdd56a9c-f98b-430f-82c0-db6b18248eba",
   "metadata": {},
   "outputs": [],
   "source": [
    "#pw.__course_price - gives error as it is private variable"
   ]
  },
  {
   "cell_type": "code",
   "execution_count": 71,
   "id": "2eb29487-e7dc-4b61-8514-9fd9872cca12",
   "metadata": {},
   "outputs": [
    {
     "data": {
      "text/plain": [
       "3500"
      ]
     },
     "execution_count": 71,
     "metadata": {},
     "output_type": "execute_result"
    }
   ],
   "source": [
    "pw._pwskills__course_price  #accessible but only as a creator"
   ]
  },
  {
   "cell_type": "code",
   "execution_count": 72,
   "id": "deaf440f-150b-4040-bcd3-0f15d13148ce",
   "metadata": {},
   "outputs": [],
   "source": [
    "#user unable get hint about private variable"
   ]
  },
  {
   "cell_type": "code",
   "execution_count": 73,
   "id": "089253a6-3f5b-4db8-9fb9-aea84aedb722",
   "metadata": {},
   "outputs": [],
   "source": [
    "# __ means private , _ means protected and no _ means public"
   ]
  },
  {
   "cell_type": "code",
   "execution_count": 90,
   "id": "8347196d-f180-45c7-b700-18cdfddff6a6",
   "metadata": {},
   "outputs": [],
   "source": [
    "# deleting private variable"
   ]
  },
  {
   "cell_type": "code",
   "execution_count": 93,
   "id": "759b5485-04cd-45e5-bfda-3c50459588dc",
   "metadata": {},
   "outputs": [],
   "source": [
    "del pw.course_price_del"
   ]
  },
  {
   "cell_type": "code",
   "execution_count": 95,
   "id": "828efe19-6a36-4d46-8d3b-8a256a78abee",
   "metadata": {},
   "outputs": [],
   "source": [
    "#pw.course_price_access  - no attribute error"
   ]
  },
  {
   "cell_type": "code",
   "execution_count": null,
   "id": "91c9e919-3640-4fdf-9748-57b4567aa5b3",
   "metadata": {},
   "outputs": [],
   "source": []
  }
 ],
 "metadata": {
  "kernelspec": {
   "display_name": "Python 3 (ipykernel)",
   "language": "python",
   "name": "python3"
  },
  "language_info": {
   "codemirror_mode": {
    "name": "ipython",
    "version": 3
   },
   "file_extension": ".py",
   "mimetype": "text/x-python",
   "name": "python",
   "nbconvert_exporter": "python",
   "pygments_lexer": "ipython3",
   "version": "3.10.8"
  }
 },
 "nbformat": 4,
 "nbformat_minor": 5
}
