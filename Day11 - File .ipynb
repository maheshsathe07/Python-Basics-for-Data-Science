{
 "cells": [
  {
   "cell_type": "markdown",
   "id": "0ad0c155-1049-4da4-9dd2-bff83f75b343",
   "metadata": {},
   "source": [
    "### Working with File"
   ]
  },
  {
   "cell_type": "code",
   "execution_count": 2,
   "id": "70e8ef79-8269-4368-9d09-ec39e35afc46",
   "metadata": {},
   "outputs": [],
   "source": [
    "f = open(\"test.txt\", 'w') #in same directory"
   ]
  },
  {
   "cell_type": "code",
   "execution_count": 6,
   "id": "179a8409-9b92-40a6-bb1a-e53aea9cd949",
   "metadata": {},
   "outputs": [],
   "source": [
    "#present working directory"
   ]
  },
  {
   "cell_type": "code",
   "execution_count": 5,
   "id": "2227f993-c66f-47c9-ba2d-86810c2b6a33",
   "metadata": {},
   "outputs": [
    {
     "data": {
      "text/plain": [
       "'/home/jovyan/work'"
      ]
     },
     "execution_count": 5,
     "metadata": {},
     "output_type": "execute_result"
    }
   ],
   "source": [
    "pwd"
   ]
  },
  {
   "cell_type": "code",
   "execution_count": 7,
   "id": "381053d9-cf14-43dc-878c-fda219a4ca5e",
   "metadata": {},
   "outputs": [],
   "source": [
    "# all files inside present working directory"
   ]
  },
  {
   "cell_type": "code",
   "execution_count": 8,
   "id": "b77e9c32-9b24-4c05-840f-ab7ea9075397",
   "metadata": {},
   "outputs": [
    {
     "name": "stdout",
     "output_type": "stream",
     "text": [
      " Assignment_02_Feb.ipynb\n",
      " Assignment_03_Feb.ipynb\n",
      " Assignment_04_Feb.ipynb\n",
      " Assignment_05_Feb.ipynb\n",
      " Assignment_09_Feb.ipynb\n",
      "'Day04- Strings(continue) + List.ipynb'\n",
      "'Day10 - Decorator, class method.ipynb'\n",
      " Day2.ipynb\n",
      " Day3.ipynb\n",
      "'Day5- Tuple, Set and Dictionary.ipynb'\n",
      "'Day6 - Functions, generator function.ipynb'\n",
      "'Day7 - Lambda function, Map, Reduce and Filter.ipynb'\n",
      "'Day8 - OOPs_part-1.ipynb'\n",
      "'Day9- Polymorphism, Encapsulation and Inheritance.ipynb'\n",
      " README.md\n",
      " sample-code.ipynb\n",
      " test.txt\n",
      " Untitled1.ipynb\n",
      " Untitled2.ipynb\n",
      " Untitled3.ipynb\n",
      " Untitled.ipynb\n"
     ]
    }
   ],
   "source": [
    "ls"
   ]
  },
  {
   "cell_type": "code",
   "execution_count": 9,
   "id": "4e7f1dad-7bd2-4a4b-b488-061e46e47712",
   "metadata": {},
   "outputs": [
    {
     "data": {
      "text/plain": [
       "32"
      ]
     },
     "execution_count": 9,
     "metadata": {},
     "output_type": "execute_result"
    }
   ],
   "source": [
    "f.write(\"this is my first write operation\")"
   ]
  },
  {
   "cell_type": "code",
   "execution_count": 10,
   "id": "cd5f9835-d3f3-4cee-a585-01d07de5b6bb",
   "metadata": {},
   "outputs": [],
   "source": [
    "# unless we close file changes not seen in file."
   ]
  },
  {
   "cell_type": "code",
   "execution_count": 12,
   "id": "447e0a53-8596-4adb-b528-48eed72d7e4c",
   "metadata": {},
   "outputs": [],
   "source": [
    "f.close()"
   ]
  },
  {
   "cell_type": "code",
   "execution_count": 13,
   "id": "d244a3f2-5651-49ef-9e61-e838b58b2c25",
   "metadata": {},
   "outputs": [],
   "source": [
    "# as if we again write something to file this previously written text will get removed."
   ]
  },
  {
   "cell_type": "code",
   "execution_count": 14,
   "id": "7fe71cdb-ec7d-41de-91b5-20115dfa6c7d",
   "metadata": {},
   "outputs": [],
   "source": [
    "## if we use 'a' - append operation and write something it will append it to previously written data"
   ]
  },
  {
   "cell_type": "code",
   "execution_count": 15,
   "id": "a2ebd0a3-4b49-444d-bd2a-b5a5a5d33553",
   "metadata": {},
   "outputs": [],
   "source": [
    "# i.e never delete previous data."
   ]
  },
  {
   "cell_type": "code",
   "execution_count": 16,
   "id": "bb11fd3b-a59c-409a-bc73-3fec1bcbc171",
   "metadata": {},
   "outputs": [],
   "source": [
    "# read operation\n",
    "data = open(\"test.txt\", \"r\")"
   ]
  },
  {
   "cell_type": "code",
   "execution_count": 17,
   "id": "8b29dda9-9271-4fca-b92f-b999c062a02f",
   "metadata": {},
   "outputs": [
    {
     "data": {
      "text/plain": [
       "'this is my first write operation'"
      ]
     },
     "execution_count": 17,
     "metadata": {},
     "output_type": "execute_result"
    }
   ],
   "source": [
    "data.read()"
   ]
  },
  {
   "cell_type": "code",
   "execution_count": 50,
   "id": "e5913e53-de26-4b2f-84e8-e98c53e6a3ed",
   "metadata": {},
   "outputs": [
    {
     "ename": "AttributeError",
     "evalue": "'list' object has no attribute 'read'",
     "output_type": "error",
     "traceback": [
      "\u001b[0;31m---------------------------------------------------------------------------\u001b[0m",
      "\u001b[0;31mAttributeError\u001b[0m                            Traceback (most recent call last)",
      "Cell \u001b[0;32mIn[50], line 1\u001b[0m\n\u001b[0;32m----> 1\u001b[0m \u001b[43mdata\u001b[49m\u001b[38;5;241;43m.\u001b[39;49m\u001b[43mread\u001b[49m()  \u001b[38;5;66;03m# this is because now cursor is at the end of data\u001b[39;00m\n",
      "\u001b[0;31mAttributeError\u001b[0m: 'list' object has no attribute 'read'"
     ]
    }
   ],
   "source": [
    "data.read()  # this is because now cursor is at the end of data"
   ]
  },
  {
   "cell_type": "code",
   "execution_count": 20,
   "id": "1ef2f088-806c-445f-92f4-a587d81660a3",
   "metadata": {},
   "outputs": [
    {
     "data": {
      "text/plain": [
       "0"
      ]
     },
     "execution_count": 20,
     "metadata": {},
     "output_type": "execute_result"
    }
   ],
   "source": [
    "# reset cursor to the position we want\n",
    "data.seek(0)"
   ]
  },
  {
   "cell_type": "code",
   "execution_count": 21,
   "id": "cf4c17f5-ec4c-41e2-9db6-81811f01052e",
   "metadata": {},
   "outputs": [
    {
     "data": {
      "text/plain": [
       "'this is my first write operation'"
      ]
     },
     "execution_count": 21,
     "metadata": {},
     "output_type": "execute_result"
    }
   ],
   "source": [
    "data.read()"
   ]
  },
  {
   "cell_type": "code",
   "execution_count": 22,
   "id": "89ec689e-2fb2-49c5-a640-32b1ab6172b9",
   "metadata": {},
   "outputs": [],
   "source": [
    "# able to set cursor at any place after which if we try to read it reads from that place."
   ]
  },
  {
   "cell_type": "code",
   "execution_count": 23,
   "id": "b9f53206-9afc-432c-bbb6-9056472aa317",
   "metadata": {},
   "outputs": [],
   "source": [
    "data1 = open(\"test.txt\", \"r\")"
   ]
  },
  {
   "cell_type": "code",
   "execution_count": 24,
   "id": "80231ebc-d56a-4491-a6b0-56f44d8e8403",
   "metadata": {},
   "outputs": [
    {
     "name": "stdout",
     "output_type": "stream",
     "text": [
      "this is my first write operation\n"
     ]
    }
   ],
   "source": [
    "for i in data1:\n",
    "    print(i)"
   ]
  },
  {
   "cell_type": "code",
   "execution_count": 25,
   "id": "ef2dfc8c-e600-4f0e-9469-6a0aa08762aa",
   "metadata": {},
   "outputs": [],
   "source": [
    "# finding file size"
   ]
  },
  {
   "cell_type": "code",
   "execution_count": 26,
   "id": "31d7829b-2738-425b-b436-b33e93ee8db7",
   "metadata": {},
   "outputs": [],
   "source": [
    "import os"
   ]
  },
  {
   "cell_type": "code",
   "execution_count": 28,
   "id": "debc828a-abb4-4ee6-8256-160b7fe3ad34",
   "metadata": {},
   "outputs": [
    {
     "data": {
      "text/plain": [
       "32"
      ]
     },
     "execution_count": 28,
     "metadata": {},
     "output_type": "execute_result"
    }
   ],
   "source": [
    "os.path.getsize(\"test.txt\")  # in bytes"
   ]
  },
  {
   "cell_type": "code",
   "execution_count": 29,
   "id": "e535d84e-81d1-439b-8fed-2a217ea9ae9d",
   "metadata": {},
   "outputs": [],
   "source": [
    "# create copy of file"
   ]
  },
  {
   "cell_type": "code",
   "execution_count": 30,
   "id": "a4522b52-3365-4791-a365-be387cad2060",
   "metadata": {},
   "outputs": [],
   "source": [
    "import shutil"
   ]
  },
  {
   "cell_type": "code",
   "execution_count": 31,
   "id": "cf7f5ba1-7457-4489-810c-7b4cdebd3cd3",
   "metadata": {},
   "outputs": [
    {
     "data": {
      "text/plain": [
       "'new_test.txt'"
      ]
     },
     "execution_count": 31,
     "metadata": {},
     "output_type": "execute_result"
    }
   ],
   "source": [
    "shutil.copy(\"test.txt\", \"new_test.txt\")"
   ]
  },
  {
   "cell_type": "code",
   "execution_count": 32,
   "id": "3b4f848f-f1a6-4e85-80fc-65c3ed548b18",
   "metadata": {},
   "outputs": [],
   "source": [
    "# delete file\n",
    "os.remove(\"test.txt\")"
   ]
  },
  {
   "cell_type": "code",
   "execution_count": 33,
   "id": "c9f1747d-dd37-4aca-ac33-b58470569978",
   "metadata": {},
   "outputs": [
    {
     "name": "stdout",
     "output_type": "stream",
     "text": [
      "this is my first write operation\n"
     ]
    }
   ],
   "source": [
    "# open file in different way-\n",
    "with open(\"new_test.txt\", \"r\") as f:\n",
    "    print(f.read())"
   ]
  },
  {
   "cell_type": "code",
   "execution_count": 34,
   "id": "8e7fad4c-6637-4e89-9635-7076495ac3cf",
   "metadata": {},
   "outputs": [],
   "source": [
    "# rename file\n",
    "os.rename(\"new_test.txt\", \"test1.txt\")"
   ]
  },
  {
   "cell_type": "code",
   "execution_count": 35,
   "id": "42fb6670-5825-46e9-8b13-9af78c203375",
   "metadata": {},
   "outputs": [],
   "source": [
    "# reading and writing - "
   ]
  },
  {
   "cell_type": "code",
   "execution_count": 36,
   "id": "0ce49fa9-44be-4c82-aa7a-778223ce5e69",
   "metadata": {},
   "outputs": [],
   "source": [
    "data = {\n",
    "    \"name\": \"mahesh\",\n",
    "    \"mail_id\": \"ms@gmail.com\",\n",
    "    \"phone_number\": 546656656,\n",
    "    \"subject\":[\"data science\", \"big data\", \"data analytics\"]\n",
    "}"
   ]
  },
  {
   "cell_type": "code",
   "execution_count": null,
   "id": "cb09574f-2eca-4ec3-90d9-7523e9fb2459",
   "metadata": {},
   "outputs": [],
   "source": [
    "# reading and writing json file - "
   ]
  },
  {
   "cell_type": "code",
   "execution_count": 37,
   "id": "f8f911c3-8965-442b-b7df-8a10162bcdb5",
   "metadata": {},
   "outputs": [],
   "source": [
    "import json"
   ]
  },
  {
   "cell_type": "code",
   "execution_count": 38,
   "id": "de2c6653-33f4-4a29-8684-ff4dffc3346a",
   "metadata": {},
   "outputs": [],
   "source": [
    "with open(\"test1.json\", \"w\") as f:\n",
    "    json.dump(data, f)  #dumping data in file"
   ]
  },
  {
   "cell_type": "code",
   "execution_count": 39,
   "id": "5064633a-479a-44ea-9908-01f079bad32d",
   "metadata": {},
   "outputs": [],
   "source": [
    "with open(\"test1.json\", \"r\") as f:\n",
    "    data1 = json.load(f)"
   ]
  },
  {
   "cell_type": "code",
   "execution_count": 40,
   "id": "e4a8e415-d3f0-4232-970d-010840fec01c",
   "metadata": {},
   "outputs": [
    {
     "data": {
      "text/plain": [
       "{'name': 'mahesh',\n",
       " 'mail_id': 'ms@gmail.com',\n",
       " 'phone_number': 546656656,\n",
       " 'subject': ['data science', 'big data', 'data analytics']}"
      ]
     },
     "execution_count": 40,
     "metadata": {},
     "output_type": "execute_result"
    }
   ],
   "source": [
    "data1"
   ]
  },
  {
   "cell_type": "code",
   "execution_count": 41,
   "id": "43acdeab-8333-4081-ae82-a0cd0e8e96a4",
   "metadata": {},
   "outputs": [
    {
     "data": {
      "text/plain": [
       "'big data'"
      ]
     },
     "execution_count": 41,
     "metadata": {},
     "output_type": "execute_result"
    }
   ],
   "source": [
    "data1[\"subject\"][1]"
   ]
  },
  {
   "cell_type": "code",
   "execution_count": 42,
   "id": "79e90330-ed42-4ac8-b1c5-479fe8a4e2aa",
   "metadata": {},
   "outputs": [],
   "source": [
    "data = [[\"name\", \"email_id\", \"number\"], [\"mahesh\", \"ms@gmail.com\", 48454545], [\"lrish\", \"k@gmail.com\", 55213223]]"
   ]
  },
  {
   "cell_type": "code",
   "execution_count": 43,
   "id": "760967e7-d2a3-4cec-901f-802f9467376b",
   "metadata": {},
   "outputs": [],
   "source": [
    "import csv"
   ]
  },
  {
   "cell_type": "code",
   "execution_count": 44,
   "id": "880a8e05-608a-4aec-9163-0cc6c7e52e52",
   "metadata": {},
   "outputs": [],
   "source": [
    "with open(\"test3.csv\", \"w\") as f:\n",
    "    w = csv.writer(f)\n",
    "    for i in data:\n",
    "        w.writerow(i)"
   ]
  },
  {
   "cell_type": "code",
   "execution_count": 46,
   "id": "ee7d0a33-b657-453b-999d-1b9e8e285552",
   "metadata": {},
   "outputs": [
    {
     "name": "stdout",
     "output_type": "stream",
     "text": [
      "['name', 'email_id', 'number']\n",
      "['mahesh', 'ms@gmail.com', '48454545']\n",
      "['lrish', 'k@gmail.com', '55213223']\n"
     ]
    }
   ],
   "source": [
    "# data read operation\n",
    "with open(\"test3.csv\", 'r') as f:\n",
    "    read = csv.reader(f)\n",
    "    for i in read:\n",
    "        print(i)"
   ]
  },
  {
   "cell_type": "code",
   "execution_count": 47,
   "id": "e2d5925c-e510-4be0-83d7-6e9c6b4b55a5",
   "metadata": {},
   "outputs": [],
   "source": [
    "# here data must be separated by ','"
   ]
  },
  {
   "cell_type": "code",
   "execution_count": 48,
   "id": "f204ba6d-a773-4c16-bdaa-626f75335a72",
   "metadata": {},
   "outputs": [],
   "source": [
    "with open(\"test4.bin\", 'wb') as f:\n",
    "    f.write(b\"\\x01\\x02\\x03\")"
   ]
  },
  {
   "cell_type": "code",
   "execution_count": 49,
   "id": "9d88104e-864b-4078-ba76-04704112543a",
   "metadata": {},
   "outputs": [
    {
     "name": "stdout",
     "output_type": "stream",
     "text": [
      "b'\\x01\\x02\\x03'\n"
     ]
    }
   ],
   "source": [
    "with open(\"test4.bin\", \"rb\") as f:\n",
    "    print(f.read())"
   ]
  },
  {
   "cell_type": "markdown",
   "id": "dbff13c1-7644-40b4-8833-6818afa71170",
   "metadata": {},
   "source": [
    "#### Buffered Read and Write"
   ]
  },
  {
   "cell_type": "code",
   "execution_count": 2,
   "id": "64fbe3a8-3822-41a7-a0d7-a5991e335dd8",
   "metadata": {},
   "outputs": [],
   "source": [
    "import io"
   ]
  },
  {
   "cell_type": "code",
   "execution_count": 52,
   "id": "a2a0ddf9-f058-406b-b7f6-a9aa8b030517",
   "metadata": {},
   "outputs": [],
   "source": [
    "# where we have very big file size and we have to perform read / wrtie operation there we use buffere read/write op"
   ]
  },
  {
   "cell_type": "code",
   "execution_count": 3,
   "id": "e246ebe0-2415-42d6-ac07-1672a2594909",
   "metadata": {},
   "outputs": [],
   "source": [
    "with open(\"test.txt\", \"wb\") as f:\n",
    "    file = io.BufferedWriter(f)\n",
    "    file.write(b\"this is my buffer write\\n\")\n",
    "    file.write(b\"2nd line\")\n",
    "    file.flush()"
   ]
  },
  {
   "cell_type": "code",
   "execution_count": 4,
   "id": "d41cd6cf-8875-4557-8cab-f1f3c46e9907",
   "metadata": {},
   "outputs": [
    {
     "name": "stdout",
     "output_type": "stream",
     "text": [
      "b'this is my buffer write\\n2nd line'\n"
     ]
    }
   ],
   "source": [
    "with open(\"test.txt\", 'rb') as f:\n",
    "    file = io.BufferedReader(f)\n",
    "    data = file.read()  # number written in read it will read that much of data.\n",
    "    print(data)"
   ]
  },
  {
   "cell_type": "markdown",
   "id": "58e2f7df-d9b5-4a34-9550-2d17ea3b8340",
   "metadata": {},
   "source": [
    "### Logging and Debugger"
   ]
  },
  {
   "cell_type": "code",
   "execution_count": 22,
   "id": "a382bdcf-7ed4-4192-8234-7cbf421e18e3",
   "metadata": {},
   "outputs": [],
   "source": [
    "import logging"
   ]
  },
  {
   "cell_type": "code",
   "execution_count": 23,
   "id": "04fb6565-7af5-4076-8019-ba66ff50bc7c",
   "metadata": {},
   "outputs": [],
   "source": [
    "# 1. NOSET\n",
    "# 2. DEBUG\n",
    "# 3. INFO\n",
    "# 4. WARNING\n",
    "# 5. ERROR \n",
    "# 6. CRITICAL\n",
    "\n",
    "# as in below example level = info so level above info which is NOSET and DEBUG wont get logged."
   ]
  },
  {
   "cell_type": "code",
   "execution_count": 32,
   "id": "8f121910-163a-408c-a11d-d3a09a330f95",
   "metadata": {},
   "outputs": [],
   "source": [
    "logging.basicConfig(filename = \"test.log\", level = logging.INFO)"
   ]
  },
  {
   "cell_type": "code",
   "execution_count": 25,
   "id": "0d3d89ef-92e8-4b7a-b5e9-de248fd2133b",
   "metadata": {},
   "outputs": [],
   "source": [
    "logging.info(\"this is my line of execution\")"
   ]
  },
  {
   "cell_type": "code",
   "execution_count": 26,
   "id": "a7bb4e87-eb22-4281-a302-b38dc6d4f76b",
   "metadata": {},
   "outputs": [],
   "source": [
    "logging.error(\"this is my error\")"
   ]
  },
  {
   "cell_type": "code",
   "execution_count": 27,
   "id": "cd5b82ec-8e17-4c86-baa4-6a47e35e09cf",
   "metadata": {},
   "outputs": [],
   "source": [
    "logging.critical(\"this is my critical\")"
   ]
  },
  {
   "cell_type": "code",
   "execution_count": 28,
   "id": "589326b3-c26a-4e90-a472-98f1c55225f0",
   "metadata": {},
   "outputs": [],
   "source": [
    "logging.warning(\"this is my warning\")"
   ]
  },
  {
   "cell_type": "code",
   "execution_count": 29,
   "id": "8265a30f-a525-4d32-b6f6-8cedf64afe10",
   "metadata": {},
   "outputs": [],
   "source": [
    "logging.debug(\"this is my debug\")"
   ]
  },
  {
   "cell_type": "code",
   "execution_count": 30,
   "id": "c4342325-1d9f-418d-aea0-b356ff8361b6",
   "metadata": {},
   "outputs": [],
   "source": [
    "logging.shutdown()"
   ]
  },
  {
   "cell_type": "code",
   "execution_count": 11,
   "id": "c9955690-2912-4ffc-899e-e0f07000ed99",
   "metadata": {},
   "outputs": [],
   "source": [
    "logging.basicConfig(filename = \"test1.log\", level = logging.DEBUG, format = '%(asctime)s %(message)s')"
   ]
  },
  {
   "cell_type": "code",
   "execution_count": 12,
   "id": "37fe86b4-5db8-4281-b0fb-faaebf7665dd",
   "metadata": {},
   "outputs": [],
   "source": [
    "logging.info(\"my info\")"
   ]
  },
  {
   "cell_type": "code",
   "execution_count": 13,
   "id": "9506baea-9850-41c0-b9a8-097a9ca9a3a3",
   "metadata": {},
   "outputs": [],
   "source": [
    "logging.debug(\"debug log\")"
   ]
  },
  {
   "cell_type": "code",
   "execution_count": 14,
   "id": "17209ada-e620-47b7-a0e9-36d4efb0e3b4",
   "metadata": {},
   "outputs": [],
   "source": [
    "logging.warning(\"warning\")"
   ]
  },
  {
   "cell_type": "code",
   "execution_count": 15,
   "id": "18753f2d-8996-4961-aa7d-ac2be1414ed9",
   "metadata": {},
   "outputs": [],
   "source": [
    "logging.shutdown()"
   ]
  },
  {
   "cell_type": "code",
   "execution_count": 16,
   "id": "bb15886e-af79-467b-81dd-c4de97c3ba04",
   "metadata": {},
   "outputs": [],
   "source": [
    "logging.basicConfig(filename = \"test3.log\", level = logging.DEBUG, format = '%(asctime)s %(name)s %(levelname)s %(message)s')"
   ]
  },
  {
   "cell_type": "code",
   "execution_count": 17,
   "id": "e19640a8-7c5c-4eae-b471-f60fe0241d39",
   "metadata": {},
   "outputs": [],
   "source": [
    "logging.info(\"info1\")"
   ]
  },
  {
   "cell_type": "code",
   "execution_count": 31,
   "id": "6e3b4a0f-74c5-4d08-9f0a-8f1a1e8ec316",
   "metadata": {},
   "outputs": [],
   "source": [
    "logging.basicConfig(filename = \"test5.log\", level = logging.DEBUG, format = '%(asctime)s %(name)s %(levelname)s %(message)s')"
   ]
  },
  {
   "cell_type": "code",
   "execution_count": null,
   "id": "c644d610-4eb6-4d78-880e-0924a3496ade",
   "metadata": {},
   "outputs": [],
   "source": []
  },
  {
   "cell_type": "code",
   "execution_count": null,
   "id": "3a9ec0cf-1e2a-4284-b37c-278b568cbdfc",
   "metadata": {},
   "outputs": [],
   "source": []
  }
 ],
 "metadata": {
  "kernelspec": {
   "display_name": "Python 3 (ipykernel)",
   "language": "python",
   "name": "python3"
  },
  "language_info": {
   "codemirror_mode": {
    "name": "ipython",
    "version": 3
   },
   "file_extension": ".py",
   "mimetype": "text/x-python",
   "name": "python",
   "nbconvert_exporter": "python",
   "pygments_lexer": "ipython3",
   "version": "3.10.8"
  }
 },
 "nbformat": 4,
 "nbformat_minor": 5
}
