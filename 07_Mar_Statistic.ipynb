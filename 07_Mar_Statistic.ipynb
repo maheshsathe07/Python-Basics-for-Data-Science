{
 "cells": [
  {
   "cell_type": "markdown",
   "id": "bb8abaf6-d1b6-46df-b273-1539eb7cf55c",
   "metadata": {},
   "source": [
    "Q1. What are the three measures of central tendency?\n",
    "Ans - Mean, Median and Mode are the three measures of central tendency."
   ]
  },
  {
   "cell_type": "markdown",
   "id": "c8e28cb4-acbd-4285-980d-4c612271eadb",
   "metadata": {},
   "source": [
    "Q2. What is the difference between the mean, median, and mode? How are they used to measure the\n",
    "central tendency of a dataset?\n",
    "Ans - \n",
    "The mean, median, and mode are all measures of central tendency.\n",
    "\n",
    "i. The mean is the average of all the values in a data set.\n",
    "It is calculated by adding up all the values and dividing by the number of values.\n",
    "\n",
    "ii. The median is the middle value in a data set after it has been sorted from least to greatest.\n",
    "\n",
    "iii. The mode is the most frequently occurring value in a data set.\n",
    "\n",
    "The mean is often used because it is easy to calculate and understand. However, it\n",
    "can be skewed by extreme values, so it is not always the most accurate measure of central tendency.\n",
    "The median is not affected by extreme values, so it is often used when the data set is skewed. \n",
    "The mode is the least commonly used measure of central tendency, but it can be useful for identifying\n",
    "the most popular value in a data set."
   ]
  },
  {
   "cell_type": "markdown",
   "id": "93aaf24b-2654-423c-9126-a84ea17f497e",
   "metadata": {},
   "source": [
    "Q3. Measure the three measures of central tendency for the given height data:\n",
    "[178,177,176,177,178.2,178,175,179,180,175,178.9,176.2,177,172.5,178,176.5]\n",
    "\n",
    "\n",
    "Ans - \n",
    "mean = (178+177+176+177+178.2+178+175+179+180+175+178.9+176.2+177+172.5+178+176.5)/16 = 177.02\n",
    "median = (177+177)/2=177\n",
    "mode = 177 and 178"
   ]
  },
  {
   "cell_type": "markdown",
   "id": "e164f479-1b58-41ff-8ed7-d6b4e3f6b320",
   "metadata": {},
   "source": [
    "Q4. Find the standard deviation for the given data:\n",
    "[178,177,176,177,178.2,178,175,179,180,175,178.9,176.2,177,172.5,178,176.5]\n",
    "\n",
    "Ans - as, mean = 177.02, n = 16\n",
    "(0.0225 + 0.0225 + 1.3225 + 0.0225 + 1.1025 + 0.7225 + 4.3225 + 3.3225 + 7.8225 + 4.3225 + 3.0625 + 0.9025 + 0.0225 + 21.6225 + 0.7225 + 0.4225) / 16 = 3.6975\n",
    "standard deviation = sqrt(3.6975) = 1.922"
   ]
  },
  {
   "cell_type": "markdown",
   "id": "86f0c04a-d339-41b3-b41e-f2aa08fe96ff",
   "metadata": {},
   "source": [
    "Q5. How are measures of dispersion such as range, variance, and standard deviation used to describe\n",
    "the spread of a dataset? Provide an example.\n",
    "\n",
    "Ans- i. Range: It is a measure of dispersion, calculated by subtracting the minimum value from the maximum value in a dataset. It provides an idea of the total spread but does not consider the distribution of values in between. For example, suppose you have a dataset of exam scores: {65, 70, 75, 80, 85}. The range would be 85 - 65 = 20, indicating that the scores vary by 20 points.\n",
    "\n",
    "ii. Variance: The variance measures the average squared deviation of each data point from the mean. It provides a more understanding of the spread by considering all values in the dataset. To calculate the variance, you take each data point, subtract the mean from it, square the result, and calculate the average of these squared deviations. For example, let's consider a dataset of ages: {25, 30, 35, 40, 45}. The mean is 35, and the variance can be calculated as follows:\n",
    "\n",
    "Variance = [(25-35)² + (30-35)² + (35-35)² + (40-35)² + (45-35)²] / 5\n",
    "= [(-10)² + (-5)² + (0)² + (5)² + (10)²] / 5\n",
    "= [100 + 25 + 0 + 25 + 100] / 5\n",
    "= 250 / 5\n",
    "= 50\n",
    "\n",
    "Thus, the variance is 50, indicating the average squared deviation from the mean is 50.\n",
    "\n",
    "iii. Standard Deviation: The standard deviation is the square root of the variance. It provides a measure of dispersion in the same units as the original data, making it easier to interpret. In the previous example, the standard deviation would be the square root of the variance, which is the square root of 50, approximately 7.07. So, the standard deviation indicates that the average deviation from the mean is around 7.07."
   ]
  },
  {
   "cell_type": "markdown",
   "id": "7368b37d-3379-4fe9-a72d-9d8ea2f8b001",
   "metadata": {},
   "source": [
    "Q6. What is a Venn diagram?\n",
    "\n",
    "Ans- i. A Venn diagram is a visual representation that uses overlapping circles or shapes to show the relationships between different sets or groups.\n",
    "ii. It helps illustrate the similarities, differences, and intersections between the sets.\n",
    "iii. The circles represent the sets, and the overlapping areas represent elements shared by multiple sets.\n",
    "iv. Venn diagrams are commonly used in mathematics, logic, and data analysis to aid in understanding and problem-solving."
   ]
  },
  {
   "cell_type": "markdown",
   "id": "023d28c9-d34a-41d2-857c-b3d5ec34ddb1",
   "metadata": {},
   "source": [
    "Q7. For the two given sets A = (2,3,4,5,6,7) & B = (0,2,6,8,10). Find:\n",
    "(i) A intersection B\n",
    "(ii) A union B\n",
    "\n",
    "Ans- i. A intersection B = (2,6) ,\n",
    "     ii. A union B = (0,2,3,4,5,6,7,8,10)"
   ]
  },
  {
   "cell_type": "markdown",
   "id": "55791db4-b1dd-4fc4-87f6-f913007f5575",
   "metadata": {},
   "source": [
    "Q8. What do you understand about skewness in data?\n",
    "\n",
    "Ans- i. It is a measure of asymmetry in the distribution.\n",
    "\n",
    "ii. It may have left, right or zero skewness.\n",
    "\n",
    "iii. Zero skewness - it is a symmetric distribution that is Area under the curve at right side = Area under the curve at left side. Also, here mean=median=mode.\n",
    "\n",
    "iv. Right skewness - here, entire distribution is skewed(moved) towards right i.e Area under the curve at right side > Area under the curve at left side. Also, mean>median>mode.\n",
    "\n",
    "v. Left skewness - here, entire distribution is skewed(moved) towards left i.e Area under the curve at right side < Area under the curve at left side. Also, mean<median<mode."
   ]
  },
  {
   "cell_type": "markdown",
   "id": "c62e0ab9-f391-4291-a3b4-5f9bf02d4352",
   "metadata": {},
   "source": [
    "Q9. If a data is right skewed then what will be the position of median with respect to mean?\n",
    "\n",
    "Ans- If a data set is right-skewed, the median will typically be lower than the mean. Hence, position of median is before the mean in the distribution."
   ]
  },
  {
   "cell_type": "markdown",
   "id": "c140c642-3c5d-4216-81e1-4b4d2f021843",
   "metadata": {},
   "source": [
    "Q10. Explain the difference between covariance and correlation. How are these measures used in\n",
    "statistical analysis?\n",
    "\n",
    "Ans - Covariance and correlation are both measures used to quantify the relationship between two variables in statistical analysis, but they differ in terms of scale and interpretation.\n",
    "\n",
    "a. Covariance:\n",
    "\n",
    "i. Covariance measures the extent to which two variables vary together. It indicates the direction and magnitude of the linear relationship between the variables.\n",
    "ii. Covariance can be positive, indicating that the variables tend to move in the same direction.\n",
    "iii. And when Covariance is negative, indicating that the variables move in opposite directions.\n",
    "iv. The magnitude of covariance is affected by the scale of the variables. And, it becomes challenging to interpret the strength of the relationship or compare covariances between different pairs of variables.\n",
    "v. Also, Covariance does not have a standardized range, making it difficult to determine the degree of association based on the covariance value.\n",
    "\n",
    "b. Correlation:\n",
    "\n",
    "i. Correlation, overcomes the limitations of covariance by standardizing the measure. It measures the strength and direction of the linear relationship between two variables while ranging from -1 to 1.\n",
    "ii. A correlation of +1 indicates a perfect positive linear relationship, where the variables move in the same direction.\n",
    "iii. A correlation of 0 indicates no linear relationship between the variables\n",
    "iv. A correlation of -1 indicates a perfect negative linear relationship, where the variables move in opposite directions.\n",
    "v. By using the correlation, it becomes easier to compare the strength and direction of relationships between different pairs of variables. Correlation is a more commonly used measure as it provides a standardized value that allows for better interpretation and comparison.\n",
    "\n",
    "c. Statistical Analysis:\n",
    "\n",
    "i. Covariance is useful in understanding how changes in one variable are associated with changes in another variable. Covariance is used in various statistical calculations, such as estimating regression coefficients, portfolio analysis, and understanding multivariate data patterns.\n",
    "\n",
    "ii. Correlation goes beyond covariance by providing a standardized measure of the relationship. It is extensively used in statistical analysis to assess the strength and direction of relationships between variables. Correlation is particularly valuable in analyzing large datasets, identifying associations between variables, feature selection in machine learning, determining the effectiveness of predictive models, and examining the strength of linear relationships in research studies.\n"
   ]
  },
  {
   "cell_type": "markdown",
   "id": "4a4057ab-0661-47b5-8456-f4cb527b4216",
   "metadata": {},
   "source": [
    "Q11. What is the formula for calculating the sample mean? Provide an example calculation for a\n",
    "dataset.\n",
    "\n",
    "Ans- \n",
    "The formula for calculating the sample mean is:\n",
    "\n",
    "Sample mean = (x₁ + x₂ + x₃ + ... + xn) / n\n",
    "\n",
    "Where, 'x₁,x₂,x₃,...,xn' are the individual values in the dataset and 'n' is the number of values in the dataset.\n",
    "\n",
    "for example:  a dataset of exam scores: {85, 90, 75, 80, 95}.\n",
    "\n",
    "Sample mean = (85 + 90 + 75 + 80 + 95) / 5\n",
    "= 425 / 5\n",
    "= 85\n",
    "\n",
    "Therefore, the sample mean for this dataset is 85."
   ]
  },
  {
   "cell_type": "markdown",
   "id": "a89f5262-2a13-432c-8738-5fce289daa16",
   "metadata": {},
   "source": [
    "Q12. For a normal distribution data what is the relationship between its measure of central tendency?\n",
    "\n",
    "Ans- For a normal distribution, the three measures of central tendency the mean, median, and mode are equal and coincide at the center of the distribution. This is one of the defining characteristics of a symmetrical normal distribution."
   ]
  },
  {
   "cell_type": "markdown",
   "id": "e8463816-0eb9-466c-ac3f-0f52d0892181",
   "metadata": {},
   "source": [
    "Q13. How is covariance different from correlation?\n",
    "\n",
    "Ans- Difference between Covariance and Correlation are-\n",
    "\n",
    "i. Covariance is not standardized and depends on the units of the variables, while correlation is a standardized measure ranging from -1 to 1.\n",
    "ii. Covariance only indicates the direction and extent of the linear relationship, while correlation provides a standardized interpretation of the strength and direction of the relationship.\n",
    "iii. Covariance values are not directly comparable, whereas correlation values are standardized and can be easily compared.\n",
    "iv. Covariance has no specific range, while correlation always ranges from -1 to 1."
   ]
  },
  {
   "cell_type": "markdown",
   "id": "a52d1506-75e4-43ef-a7fa-b9610d00168e",
   "metadata": {},
   "source": [
    "Q14. How do outliers affect measures of central tendency and dispersion? Provide an example.\n",
    "\n",
    "Ans- Outliers can have a notable impact on measures of central tendency and dispersion in a dataset:\n",
    "\n",
    "a. Measures of Central Tendency:\n",
    "\n",
    "i. Mean: Outliers can significantly influence the mean, pulling it towards extreme values. For example, in a dataset of {10, 20, 30, 40, 1000}, the outlier \"1000\" would cause the mean to be larger than the typical values.\n",
    "ii. Median: Outliers have less effect on the median. In the previous example, the median initially 25 and after adding outlier to dataset meadian becomes 30 i.e it is slightly increase.\n",
    "iii. Mode: Outliers do not directly impact the mode, as it represents the most frequent values. for example, in a dataset {10,12,10,13,10,12,1000}, before adding outlier to dataset mode is 10 and after adding outlier '1000' to dataset mode is again 10 i.e Outliers less effect on mode.\n",
    "\n",
    "b. Measures of Dispersion:\n",
    "\n",
    "i. Range: Outliers can substantially impact the range, which is the difference between the maximum and minimum values. For instance, in a dataset of {5, 10, 15, 20, 100}, the outlier \"100\" would greatly increase the range from 20-5=15 to 100-5=95.\n",
    "\n",
    "ii. Variance and Standard Deviation: Outliers can increase the variance and standard deviation, as these measures consider the deviation of each data point from the mean. Outliers with large deviations contribute significantly to the overall variability, resulting in higher variance and standard deviation.\n",
    "for example - \n",
    "\n",
    "Consider the following dataset representing the weights (in kilograms) of a group of individuals: {65, 70, 72, 75, 80, 85, 120}. The value \"120\" is an outlier, significantly higher than the other weights.\n",
    "\n",
    "Without the outlier:\n",
    "\n",
    "Variance: [(65 - 71.17)^2 + (70 - 71.17)^2 + (72 - 71.17)^2 + (75 - 71.17)^2 + (80 - 71.17)^2 + (85 - 71.17)^2] / 6 ≈ 60.97\n",
    "Standard Deviation: √(Variance) ≈ √60.97 ≈ 7.81\n",
    "\n",
    "With the outlier included:\n",
    "\n",
    "Variance: [(65 - 81)^2 + (70 - 81)^2 + (72 - 81)^2 + (75 - 81)^2 + (80 - 81)^2 + (85 - 81)^2 + (120 - 81)^2] / 7 ≈ 342.29\n",
    "Standard Deviation: √(Variance) ≈ √342.29 ≈ 18.50"
   ]
  },
  {
   "cell_type": "code",
   "execution_count": null,
   "id": "87d2919a-1dcc-49de-acfd-67cee4b47494",
   "metadata": {},
   "outputs": [],
   "source": []
  }
 ],
 "metadata": {
  "kernelspec": {
   "display_name": "Python 3 (ipykernel)",
   "language": "python",
   "name": "python3"
  },
  "language_info": {
   "codemirror_mode": {
    "name": "ipython",
    "version": 3
   },
   "file_extension": ".py",
   "mimetype": "text/x-python",
   "name": "python",
   "nbconvert_exporter": "python",
   "pygments_lexer": "ipython3",
   "version": "3.10.8"
  }
 },
 "nbformat": 4,
 "nbformat_minor": 5
}
