{
 "cells": [
  {
   "cell_type": "code",
   "execution_count": 1,
   "id": "053b6701-2b40-4b57-84f2-297a74ca1d8f",
   "metadata": {},
   "outputs": [],
   "source": [
    "#Q1. Which keyword is used to create a function? Create a function to return a list of odd numbers in the\n",
    "#range of 1 to 25."
   ]
  },
  {
   "cell_type": "code",
   "execution_count": 9,
   "id": "2f61f2f2-ecad-4e1d-9f4d-16c647ae1c82",
   "metadata": {},
   "outputs": [],
   "source": [
    "#Ans - 'def' keyword is used to create a function\n",
    "# Creating a function to return a list of odd numbers in the range of 1 to 25.\n",
    "\n",
    "def odd(a) :\n",
    "    lst = []\n",
    "    for i in range(a+1) :\n",
    "        if i%2 != 0 :\n",
    "            lst.append(i)\n",
    "    print(lst)"
   ]
  },
  {
   "cell_type": "code",
   "execution_count": 10,
   "id": "0dfb379b-dd1b-4fb0-9efd-a561451f287a",
   "metadata": {},
   "outputs": [
    {
     "name": "stdout",
     "output_type": "stream",
     "text": [
      "[1, 3, 5, 7, 9, 11, 13, 15, 17, 19, 21, 23, 25]\n"
     ]
    }
   ],
   "source": [
    "odd(25)"
   ]
  },
  {
   "cell_type": "markdown",
   "id": "0b0e5256-9173-4b4a-af42-878beb27154f",
   "metadata": {},
   "source": [
    "______________________________________"
   ]
  },
  {
   "cell_type": "code",
   "execution_count": 11,
   "id": "5b8a7894-7ad6-4787-9be2-0259cad48abc",
   "metadata": {},
   "outputs": [],
   "source": [
    "#Q2. Why *args and **kwargs is used in some functions? Create a function each for *args and **kwargs to\n",
    "#demonstrate their use."
   ]
  },
  {
   "cell_type": "code",
   "execution_count": 12,
   "id": "bccdf8fa-d559-49c5-bf78-50ce31ff9e62",
   "metadata": {},
   "outputs": [],
   "source": [
    "# Ans - *args and **kwargs are used when we are not sure about how many to arguments to pass.\n",
    "# using *args we can able to pass any number of arguments.\n",
    "# using **kwargs we can able to pass any number of arguments but in key-value pair form."
   ]
  },
  {
   "cell_type": "code",
   "execution_count": 13,
   "id": "2f128ebf-bf1c-4dac-bc40-4944f4fdf3a7",
   "metadata": {},
   "outputs": [],
   "source": [
    "# example for *args\n",
    "def test(*args):\n",
    "    return args"
   ]
  },
  {
   "cell_type": "code",
   "execution_count": 14,
   "id": "89fae202-431f-4596-927e-7eba3662febf",
   "metadata": {},
   "outputs": [
    {
     "data": {
      "text/plain": [
       "(1, 2, 3, 4, 5, 'Mahesh')"
      ]
     },
     "execution_count": 14,
     "metadata": {},
     "output_type": "execute_result"
    }
   ],
   "source": [
    "test(1,2,3,4,5,\"Mahesh\")"
   ]
  },
  {
   "cell_type": "code",
   "execution_count": 15,
   "id": "97f9ca3e-6462-4a40-b8f3-a8d7e91d14b9",
   "metadata": {},
   "outputs": [],
   "source": [
    "#example for **kwargs\n",
    "def test1(**kwargs):\n",
    "    return kwargs"
   ]
  },
  {
   "cell_type": "code",
   "execution_count": 16,
   "id": "04a5633a-c1c8-43e5-877b-d68fa05c2b37",
   "metadata": {},
   "outputs": [
    {
     "data": {
      "text/plain": [
       "{'a': 1, 'b': 2, 'c': 3, 'd': 'mahesh', 'e': (1, 2, 3, 4)}"
      ]
     },
     "execution_count": 16,
     "metadata": {},
     "output_type": "execute_result"
    }
   ],
   "source": [
    "test1(a=1,b=2,c=3,d=\"mahesh\", e = (1,2,3,4))"
   ]
  },
  {
   "cell_type": "markdown",
   "id": "bace9ea5-a6de-4897-94db-aceb3dac7284",
   "metadata": {},
   "source": [
    "__________________________________________"
   ]
  },
  {
   "cell_type": "code",
   "execution_count": 19,
   "id": "0fddadcc-7300-429a-9cc3-81c16cbe589f",
   "metadata": {},
   "outputs": [],
   "source": [
    "# Q3. What is an iterator in python? Name the method used to initialise the iterator object and the methodused for iteration. Use these methods to print the first five elements of the given list [2, 4, 6, 8, 10, 12, 14, 16,\n",
    "#18, 20]."
   ]
  },
  {
   "cell_type": "code",
   "execution_count": 20,
   "id": "a50325d1-aadf-4e4d-aa44-57051d88f6aa",
   "metadata": {},
   "outputs": [],
   "source": [
    "# Ans - Iterator in Python is an object that is used to iterate over iterable objects like lists, tuples, dicts, and sets.\n",
    "# The iterator object is initialized using the iter() method. It uses the next() method for iteration\n"
   ]
  },
  {
   "cell_type": "code",
   "execution_count": 24,
   "id": "2004cb19-dc22-42af-8651-fd4a9fcb3170",
   "metadata": {},
   "outputs": [
    {
     "name": "stdout",
     "output_type": "stream",
     "text": [
      "2\n",
      "4\n",
      "6\n",
      "8\n",
      "10\n"
     ]
    }
   ],
   "source": [
    "#iterating over 1st 5 element of list\n",
    "l1 = [2, 4, 6, 8, 10, 12, 14, 16, 18, 20]\n",
    "ch = iter(l1)\n",
    "print(next(ch))\n",
    "print(next(ch))\n",
    "print(next(ch))\n",
    "print(next(ch))\n",
    "print(next(ch))"
   ]
  },
  {
   "cell_type": "code",
   "execution_count": 25,
   "id": "7f6a1552-bac0-45d9-a6d5-1de463315e92",
   "metadata": {},
   "outputs": [],
   "source": [
    "# Q4. What is a generator function in python? Why yield keyword is used? Give an example of a generatorfunction."
   ]
  },
  {
   "cell_type": "code",
   "execution_count": 26,
   "id": "59ce6043-6b4b-478c-a954-0fc358dbb9c3",
   "metadata": {},
   "outputs": [],
   "source": [
    "# Ans - A generator function returns an iterator that produces  sequence values when iterated over it.\n",
    "# yield keyword is used when we want to iterate over a sequence, but don't want to store the entire sequence in memory.\n",
    "# it is used in generator functions."
   ]
  },
  {
   "cell_type": "code",
   "execution_count": 28,
   "id": "267a5ddd-449d-4e76-854d-29de25797521",
   "metadata": {},
   "outputs": [],
   "source": [
    "# Example of generator function\n",
    "def fact(n) :\n",
    "    a = 1\n",
    "    for i in range(n):\n",
    "        yield a\n",
    "        a = a*(i+1)"
   ]
  },
  {
   "cell_type": "code",
   "execution_count": 29,
   "id": "ac48cc1e-8fb8-4f06-b32c-8013c753466d",
   "metadata": {},
   "outputs": [
    {
     "name": "stdout",
     "output_type": "stream",
     "text": [
      "1\n",
      "1\n",
      "2\n",
      "6\n",
      "24\n",
      "120\n",
      "720\n",
      "5040\n",
      "40320\n",
      "362880\n"
     ]
    }
   ],
   "source": [
    "for i in fact(10) :\n",
    "    print(i)"
   ]
  },
  {
   "cell_type": "code",
   "execution_count": 30,
   "id": "4530c708-ed22-4128-946c-975b650dbcc7",
   "metadata": {},
   "outputs": [],
   "source": [
    "#Q5. Create a generator function for prime numbers less than 1000. Use the next() method to print thefirst 20 prime numbers."
   ]
  },
  {
   "cell_type": "code",
   "execution_count": null,
   "id": "3ae93885-d106-45b4-91d2-8db5e5cfc351",
   "metadata": {},
   "outputs": [],
   "source": [
    "# Ans -\n",
    "def prime_numbers():\n",
    "    yield 2\n",
    "    p = [2]\n",
    "    number = 3\n",
    "    while number < 1000:\n",
    "        is_prime = True\n",
    "        for prime in p:\n",
    "            if prime > number ** 0.5:\n",
    "                break\n",
    "            if number % prime == 0:\n",
    "                is_prime = False\n",
    "                break\n",
    "        if is_prime:\n",
    "            p.append(number)\n",
    "            yield number\n",
    "        number += 2\n",
    "\n",
    "p = prime_numbers()\n",
    "for i in range(20):\n",
    "    print(next(p))"
   ]
  },
  {
   "cell_type": "code",
   "execution_count": null,
   "id": "8a653a42-0ea1-4a84-91cb-281221e006cb",
   "metadata": {},
   "outputs": [],
   "source": []
  },
  {
   "cell_type": "code",
   "execution_count": null,
   "id": "6a3855bd-70d7-4d24-9192-8ed17ec6542e",
   "metadata": {},
   "outputs": [],
   "source": []
  }
 ],
 "metadata": {
  "kernelspec": {
   "display_name": "Python 3 (ipykernel)",
   "language": "python",
   "name": "python3"
  },
  "language_info": {
   "codemirror_mode": {
    "name": "ipython",
    "version": 3
   },
   "file_extension": ".py",
   "mimetype": "text/x-python",
   "name": "python",
   "nbconvert_exporter": "python",
   "pygments_lexer": "ipython3",
   "version": "3.10.8"
  }
 },
 "nbformat": 4,
 "nbformat_minor": 5
}
