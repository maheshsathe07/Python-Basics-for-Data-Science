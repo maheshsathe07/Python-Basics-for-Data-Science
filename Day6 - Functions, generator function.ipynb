{
 "cells": [
  {
   "cell_type": "markdown",
   "id": "8eb32836-fe94-4301-a34e-9ee33b28cb49",
   "metadata": {},
   "source": [
    "### Functions"
   ]
  },
  {
   "cell_type": "code",
   "execution_count": 1,
   "id": "94df3154-bcf5-4ff0-b9ec-b8f9f7e16ef5",
   "metadata": {},
   "outputs": [
    {
     "data": {
      "text/plain": [
       "5"
      ]
     },
     "execution_count": 1,
     "metadata": {},
     "output_type": "execute_result"
    }
   ],
   "source": [
    "l = [1,2,3,4,5]\n",
    "len(l)"
   ]
  },
  {
   "cell_type": "code",
   "execution_count": 2,
   "id": "6c6934b7-6c06-4e2e-9596-85ea5c14ec66",
   "metadata": {},
   "outputs": [],
   "source": [
    "#declaring function\n",
    "def test():\n",
    "    pass"
   ]
  },
  {
   "cell_type": "code",
   "execution_count": 3,
   "id": "b817f16d-fbad-43c5-aaf7-6eb69c33e10d",
   "metadata": {},
   "outputs": [],
   "source": [
    "#declaring and defining function\n",
    "def test1():\n",
    "    print(\"1st function\")"
   ]
  },
  {
   "cell_type": "code",
   "execution_count": 5,
   "id": "27b6c5e1-69f1-4c9a-a8dc-a4b9e7d664b6",
   "metadata": {},
   "outputs": [
    {
     "name": "stdout",
     "output_type": "stream",
     "text": [
      "1st function\n"
     ]
    }
   ],
   "source": [
    "test1()   #function call"
   ]
  },
  {
   "cell_type": "code",
   "execution_count": 6,
   "id": "57939d9d-bc9e-4519-9423-c7f3fd465d64",
   "metadata": {},
   "outputs": [],
   "source": [
    "## function always tries to increase reusability."
   ]
  },
  {
   "cell_type": "code",
   "execution_count": 9,
   "id": "bb4b841f-b34b-4f4c-8afe-50a3fe11e4e7",
   "metadata": {},
   "outputs": [],
   "source": [
    "#test1() + \"mahesh\"   # gives error unsupported operand type\n",
    "# concatenation is not possible between 'NoneType' and 'str'\n",
    "# as test1() is only performing print operation it is of NoneType.\n",
    "# As print by default wants to return None type"
   ]
  },
  {
   "cell_type": "code",
   "execution_count": 10,
   "id": "367277f5-274b-4ac1-a6b8-4fb3cf5fd4f3",
   "metadata": {},
   "outputs": [],
   "source": [
    "def test2():\n",
    "    return \"this is my function with return\""
   ]
  },
  {
   "cell_type": "code",
   "execution_count": 11,
   "id": "4959702b-cf48-4344-8607-a0ee68819378",
   "metadata": {},
   "outputs": [
    {
     "data": {
      "text/plain": [
       "'this is my function with return'"
      ]
     },
     "execution_count": 11,
     "metadata": {},
     "output_type": "execute_result"
    }
   ],
   "source": [
    "test2()"
   ]
  },
  {
   "cell_type": "code",
   "execution_count": 12,
   "id": "8ce4a8ef-74be-42ca-85e1-bd7906b6ffa4",
   "metadata": {},
   "outputs": [
    {
     "data": {
      "text/plain": [
       "'this is my function with returnmahesh'"
      ]
     },
     "execution_count": 12,
     "metadata": {},
     "output_type": "execute_result"
    }
   ],
   "source": [
    "test2() + \"mahesh\""
   ]
  },
  {
   "cell_type": "code",
   "execution_count": 13,
   "id": "d9e61873-46cc-4d83-bc58-2c72c65fd6cd",
   "metadata": {},
   "outputs": [],
   "source": [
    "# you to return instead print when you define a function"
   ]
  },
  {
   "cell_type": "code",
   "execution_count": 14,
   "id": "4b714380-acc5-4fc9-a967-45478bcef2da",
   "metadata": {},
   "outputs": [],
   "source": [
    "def test3():\n",
    "    return 1, 4, \"pwskills\", 34.56  # giving multiple return with a different datatypes"
   ]
  },
  {
   "cell_type": "code",
   "execution_count": 15,
   "id": "1867afa8-615b-46b1-b4b1-2d794441c248",
   "metadata": {},
   "outputs": [
    {
     "data": {
      "text/plain": [
       "(1, 4, 'pwskills', 34.56)"
      ]
     },
     "execution_count": 15,
     "metadata": {},
     "output_type": "execute_result"
    }
   ],
   "source": [
    "test3()"
   ]
  },
  {
   "cell_type": "code",
   "execution_count": 16,
   "id": "474a84ae-1aa7-47ee-bbbc-5ba83b2c044a",
   "metadata": {},
   "outputs": [
    {
     "data": {
      "text/plain": [
       "(1, 2, 3, 4, 5)"
      ]
     },
     "execution_count": 16,
     "metadata": {},
     "output_type": "execute_result"
    }
   ],
   "source": [
    "a = 1,2,3,4,5\n",
    "a  # a try to hold every thing"
   ]
  },
  {
   "cell_type": "code",
   "execution_count": 17,
   "id": "052d057c-043c-4bee-81f8-4025fb7f3043",
   "metadata": {},
   "outputs": [],
   "source": [
    "a,b,c,d = 1,2,34.56,True"
   ]
  },
  {
   "cell_type": "code",
   "execution_count": 18,
   "id": "71a92617-b1d7-4bec-b078-0bc42f776a12",
   "metadata": {},
   "outputs": [
    {
     "data": {
      "text/plain": [
       "1"
      ]
     },
     "execution_count": 18,
     "metadata": {},
     "output_type": "execute_result"
    }
   ],
   "source": [
    "a"
   ]
  },
  {
   "cell_type": "code",
   "execution_count": 19,
   "id": "c523f141-e9c5-4e6d-96ac-4f592c68efac",
   "metadata": {},
   "outputs": [
    {
     "data": {
      "text/plain": [
       "2"
      ]
     },
     "execution_count": 19,
     "metadata": {},
     "output_type": "execute_result"
    }
   ],
   "source": [
    "b"
   ]
  },
  {
   "cell_type": "code",
   "execution_count": 20,
   "id": "82b884fe-a17b-4297-ac4a-9bf463dfe123",
   "metadata": {},
   "outputs": [
    {
     "data": {
      "text/plain": [
       "34.56"
      ]
     },
     "execution_count": 20,
     "metadata": {},
     "output_type": "execute_result"
    }
   ],
   "source": [
    "c"
   ]
  },
  {
   "cell_type": "code",
   "execution_count": 21,
   "id": "5552099e-d56d-4060-9818-edf00c65c39d",
   "metadata": {},
   "outputs": [
    {
     "data": {
      "text/plain": [
       "True"
      ]
     },
     "execution_count": 21,
     "metadata": {},
     "output_type": "execute_result"
    }
   ],
   "source": [
    "d"
   ]
  },
  {
   "cell_type": "code",
   "execution_count": 26,
   "id": "0e5d8ab2-a2e3-479b-b849-88faa4cce2e9",
   "metadata": {},
   "outputs": [
    {
     "data": {
      "text/plain": [
       "(1, 4, 'pwskills', 34.56)"
      ]
     },
     "execution_count": 26,
     "metadata": {},
     "output_type": "execute_result"
    }
   ],
   "source": [
    "test3()   # returns data in form of tuple always"
   ]
  },
  {
   "cell_type": "code",
   "execution_count": 23,
   "id": "4d7f6101-f39f-421f-9f32-98c9e6998424",
   "metadata": {},
   "outputs": [
    {
     "data": {
      "text/plain": [
       "1"
      ]
     },
     "execution_count": 23,
     "metadata": {},
     "output_type": "execute_result"
    }
   ],
   "source": [
    "test3()[0]"
   ]
  },
  {
   "cell_type": "code",
   "execution_count": 24,
   "id": "f46f963c-95c9-48cb-9c9d-da3a351aef1a",
   "metadata": {},
   "outputs": [
    {
     "data": {
      "text/plain": [
       "4"
      ]
     },
     "execution_count": 24,
     "metadata": {},
     "output_type": "execute_result"
    }
   ],
   "source": [
    "test3()[1]"
   ]
  },
  {
   "cell_type": "code",
   "execution_count": 25,
   "id": "747a8c61-6dc9-4491-8113-7a30de07c09f",
   "metadata": {},
   "outputs": [
    {
     "data": {
      "text/plain": [
       "'pwskills'"
      ]
     },
     "execution_count": 25,
     "metadata": {},
     "output_type": "execute_result"
    }
   ],
   "source": [
    "test3()[2]"
   ]
  },
  {
   "cell_type": "code",
   "execution_count": 27,
   "id": "57dcd295-beb5-452d-a494-156f358a02a6",
   "metadata": {},
   "outputs": [],
   "source": [
    "a,b,c,d = test3() # assigning value to different variable."
   ]
  },
  {
   "cell_type": "code",
   "execution_count": 28,
   "id": "ce88d0e1-820a-4b1e-b3fc-e2b7ae44cbf8",
   "metadata": {},
   "outputs": [
    {
     "data": {
      "text/plain": [
       "1"
      ]
     },
     "execution_count": 28,
     "metadata": {},
     "output_type": "execute_result"
    }
   ],
   "source": [
    "a"
   ]
  },
  {
   "cell_type": "code",
   "execution_count": 29,
   "id": "9c598f8a-6a30-418c-8255-135590af26cc",
   "metadata": {},
   "outputs": [
    {
     "data": {
      "text/plain": [
       "4"
      ]
     },
     "execution_count": 29,
     "metadata": {},
     "output_type": "execute_result"
    }
   ],
   "source": [
    "b"
   ]
  },
  {
   "cell_type": "code",
   "execution_count": 30,
   "id": "09c40d84-ad33-431a-af78-ff699f685258",
   "metadata": {},
   "outputs": [
    {
     "data": {
      "text/plain": [
       "'pwskills'"
      ]
     },
     "execution_count": 30,
     "metadata": {},
     "output_type": "execute_result"
    }
   ],
   "source": [
    "c"
   ]
  },
  {
   "cell_type": "code",
   "execution_count": 31,
   "id": "c2ff338f-87c4-4663-a846-70959197c5af",
   "metadata": {},
   "outputs": [
    {
     "data": {
      "text/plain": [
       "34.56"
      ]
     },
     "execution_count": 31,
     "metadata": {},
     "output_type": "execute_result"
    }
   ],
   "source": [
    "d"
   ]
  },
  {
   "cell_type": "code",
   "execution_count": 32,
   "id": "0575e3bd-8838-44aa-818b-fe3b2fbeb321",
   "metadata": {},
   "outputs": [],
   "source": [
    "def test4():\n",
    "    a = 3*4+5\n",
    "    return a"
   ]
  },
  {
   "cell_type": "code",
   "execution_count": 35,
   "id": "83338447-586a-415d-ba81-4bdc8e3d521a",
   "metadata": {},
   "outputs": [
    {
     "data": {
      "text/plain": [
       "int"
      ]
     },
     "execution_count": 35,
     "metadata": {},
     "output_type": "execute_result"
    }
   ],
   "source": [
    "type(test4()) # can be consume at any point of time"
   ]
  },
  {
   "cell_type": "code",
   "execution_count": 36,
   "id": "12531324-0d40-477f-ba74-eed2d21dd6d7",
   "metadata": {},
   "outputs": [],
   "source": [
    "#passing argument\n",
    "def test5(a,b):\n",
    "    c = a+b\n",
    "    return c"
   ]
  },
  {
   "cell_type": "code",
   "execution_count": 38,
   "id": "2e278908-39fe-4eac-84a1-06fbfd02d61f",
   "metadata": {},
   "outputs": [],
   "source": [
    "#test5()  # Type error it missing two required argument."
   ]
  },
  {
   "cell_type": "code",
   "execution_count": 39,
   "id": "f8ba3e9d-2d10-48cd-bbc9-e356c434fd9d",
   "metadata": {},
   "outputs": [
    {
     "data": {
      "text/plain": [
       "4"
      ]
     },
     "execution_count": 39,
     "metadata": {},
     "output_type": "execute_result"
    }
   ],
   "source": [
    "test5(1,3)"
   ]
  },
  {
   "cell_type": "code",
   "execution_count": 40,
   "id": "db754f26-e4ff-412a-8fbd-d5761143c186",
   "metadata": {},
   "outputs": [
    {
     "data": {
      "text/plain": [
       "'mahesh sathe'"
      ]
     },
     "execution_count": 40,
     "metadata": {},
     "output_type": "execute_result"
    }
   ],
   "source": [
    "test5(\"mahesh \", \"sathe\")"
   ]
  },
  {
   "cell_type": "code",
   "execution_count": 42,
   "id": "1f1a017c-8702-420f-8e0b-a52e5cde4402",
   "metadata": {},
   "outputs": [
    {
     "data": {
      "text/plain": [
       "[1, 2, 3, 4, 5, 6, 7]"
      ]
     },
     "execution_count": 42,
     "metadata": {},
     "output_type": "execute_result"
    }
   ],
   "source": [
    "test5([1,2,3,4], [5,6,7])  # performs list concatenation "
   ]
  },
  {
   "cell_type": "code",
   "execution_count": 43,
   "id": "1b0e4223-bd86-4581-aabd-a6066e56ca09",
   "metadata": {},
   "outputs": [
    {
     "data": {
      "text/plain": [
       "'sathemahesh'"
      ]
     },
     "execution_count": 43,
     "metadata": {},
     "output_type": "execute_result"
    }
   ],
   "source": [
    "test5(b = \"mahesh\", a = \"sathe\")"
   ]
  },
  {
   "cell_type": "code",
   "execution_count": 44,
   "id": "8c3a1260-a2b7-4921-b67f-50355d15e821",
   "metadata": {},
   "outputs": [],
   "source": [
    "l = [1,2,33,4,\"mahesh\", 'pwskilss', [1,2,3,4,5]]"
   ]
  },
  {
   "cell_type": "code",
   "execution_count": 48,
   "id": "01c51e46-18c7-40b0-aebf-0d6bdd3d23fa",
   "metadata": {},
   "outputs": [],
   "source": [
    "#create a function which will take list as a input and give final list with only numeric values inside a list."
   ]
  },
  {
   "cell_type": "code",
   "execution_count": 46,
   "id": "b803baae-0e93-4a80-8bb3-35b7e1ced201",
   "metadata": {},
   "outputs": [],
   "source": [
    "def test6(a):\n",
    "    n = []\n",
    "    for i in a:\n",
    "        if type(i) == int or type(i) == float :\n",
    "            n.append(i)\n",
    "            \n",
    "    return n"
   ]
  },
  {
   "cell_type": "code",
   "execution_count": 47,
   "id": "8256c588-f49f-4146-b138-1cc5206eddde",
   "metadata": {},
   "outputs": [
    {
     "data": {
      "text/plain": [
       "[1, 2, 33, 4]"
      ]
     },
     "execution_count": 47,
     "metadata": {},
     "output_type": "execute_result"
    }
   ],
   "source": [
    "test6(l)"
   ]
  },
  {
   "cell_type": "code",
   "execution_count": 49,
   "id": "c606aa83-b5ff-439a-8e20-eae4d5739030",
   "metadata": {},
   "outputs": [],
   "source": [
    "# also extract as int in list inside list"
   ]
  },
  {
   "cell_type": "code",
   "execution_count": 50,
   "id": "8d28684e-c11d-4324-8d22-3c726031e57d",
   "metadata": {},
   "outputs": [
    {
     "data": {
      "text/plain": [
       "[1, 2, 33, 4, 'mahesh', 'pwskilss', [1, 2, 3, 4, 5]]"
      ]
     },
     "execution_count": 50,
     "metadata": {},
     "output_type": "execute_result"
    }
   ],
   "source": [
    "l"
   ]
  },
  {
   "cell_type": "code",
   "execution_count": 51,
   "id": "26ad8861-9faf-4114-8965-4aba1c7ab9ea",
   "metadata": {},
   "outputs": [],
   "source": [
    "def test7(a) :\n",
    "    n = []\n",
    "    for i in a :\n",
    "        if type(i) == list :\n",
    "            for j in i :\n",
    "                if type(j) == int or type() == float :\n",
    "                    n.append(j)\n",
    "        else:\n",
    "            if type(i) == int or type(i) == float :\n",
    "                n.append(i)\n",
    "    return n"
   ]
  },
  {
   "cell_type": "code",
   "execution_count": 52,
   "id": "a8b8f457-95cf-41e5-aad7-1dcdc189b25e",
   "metadata": {},
   "outputs": [
    {
     "data": {
      "text/plain": [
       "[1, 2, 33, 4, 1, 2, 3, 4, 5]"
      ]
     },
     "execution_count": 52,
     "metadata": {},
     "output_type": "execute_result"
    }
   ],
   "source": [
    "test7(l)"
   ]
  },
  {
   "cell_type": "code",
   "execution_count": 2,
   "id": "72003e40-db5b-42d3-a583-8910d49d9266",
   "metadata": {},
   "outputs": [],
   "source": [
    "def t(a,b,c,d,e):\n",
    "    pass"
   ]
  },
  {
   "cell_type": "code",
   "execution_count": 3,
   "id": "0015b0bb-5b7c-4ef0-9fd0-ea7a2ff972d9",
   "metadata": {},
   "outputs": [],
   "source": [
    "# creating function which accept any no. of arguments without giving error"
   ]
  },
  {
   "cell_type": "code",
   "execution_count": 10,
   "id": "a10caff3-8797-40e2-abe5-0db9a9152f03",
   "metadata": {},
   "outputs": [],
   "source": [
    "def t1(*args): #*args mean it able to take any number of arguments.\n",
    "    return args"
   ]
  },
  {
   "cell_type": "code",
   "execution_count": 8,
   "id": "910357ea-091c-44dc-add0-6e81351a0fae",
   "metadata": {},
   "outputs": [
    {
     "data": {
      "text/plain": [
       "(1, 2, 3, 4, 5, 5)"
      ]
     },
     "execution_count": 8,
     "metadata": {},
     "output_type": "execute_result"
    }
   ],
   "source": [
    "t1(1,2,3,4,5,5)"
   ]
  },
  {
   "cell_type": "code",
   "execution_count": 9,
   "id": "9a1ab14f-82d9-4d72-9863-f611ba7ef39a",
   "metadata": {},
   "outputs": [
    {
     "data": {
      "text/plain": [
       "('Mahesh', [1, 2, 3, 4, 4], (1, 2, 3, 4, 5))"
      ]
     },
     "execution_count": 9,
     "metadata": {},
     "output_type": "execute_result"
    }
   ],
   "source": [
    "t1(\"Mahesh\", [1,2,3,4,4], (1,2,3,4,5))"
   ]
  },
  {
   "cell_type": "code",
   "execution_count": 13,
   "id": "18866ebb-72ee-4811-97d0-9f0ceb21c0c7",
   "metadata": {},
   "outputs": [],
   "source": [
    "# we can write anything instead of write args.\n",
    "def t2(*mahesh):\n",
    "    return mahesh"
   ]
  },
  {
   "cell_type": "code",
   "execution_count": 12,
   "id": "6219364d-92df-4b30-9ad7-049b914e8189",
   "metadata": {},
   "outputs": [
    {
     "data": {
      "text/plain": [
       "(33, 44, 5, 5)"
      ]
     },
     "execution_count": 12,
     "metadata": {},
     "output_type": "execute_result"
    }
   ],
   "source": [
    "t2(33,44,5,5)"
   ]
  },
  {
   "cell_type": "code",
   "execution_count": 14,
   "id": "1dffa5a0-4c02-4bd7-ad56-98684793d5ff",
   "metadata": {},
   "outputs": [],
   "source": [
    "def t3(*args,a):\n",
    "    return args, a"
   ]
  },
  {
   "cell_type": "code",
   "execution_count": 17,
   "id": "f28e3c0b-5cfc-49a5-849f-aea5fd4ffc5a",
   "metadata": {},
   "outputs": [],
   "source": [
    "#t3(3) - t3() missing 1 required keyword-only argument: 'a'"
   ]
  },
  {
   "cell_type": "markdown",
   "id": "aeff40ad-8269-40b2-a556-110c8cf6abce",
   "metadata": {},
   "source": [
    "#### in above case we use\n",
    "t3(1,2,3,4, a='mahesh')"
   ]
  },
  {
   "cell_type": "code",
   "execution_count": 21,
   "id": "a4ebdd97-b3c1-40db-a0da-ce45ef436ec5",
   "metadata": {},
   "outputs": [],
   "source": [
    "# able to pass multiple datasets\n",
    "def t4(*args) :\n",
    "    l = []\n",
    "    for i in args:\n",
    "        if type(i) == list:\n",
    "            l.append(i)\n",
    "            \n",
    "    return l"
   ]
  },
  {
   "cell_type": "code",
   "execution_count": 20,
   "id": "176abdbb-1e0e-4fe5-9927-45ab157561ca",
   "metadata": {},
   "outputs": [
    {
     "data": {
      "text/plain": [
       "[[1, 2, 3, 4, 4], [4, 5, 6]]"
      ]
     },
     "execution_count": 20,
     "metadata": {},
     "output_type": "execute_result"
    }
   ],
   "source": [
    "t4(1,2,3, [1,2,3,4,4], (1,2,3,4), 'Mahesh', [4,5,6])"
   ]
  },
  {
   "cell_type": "code",
   "execution_count": 22,
   "id": "8d347b27-4c92-4973-afe8-e83ebe246a25",
   "metadata": {},
   "outputs": [],
   "source": [
    "def t5(**kwargs): # ** kwargs means it accepts any number input in the form of key-value pairs\n",
    "        return kwargs"
   ]
  },
  {
   "cell_type": "code",
   "execution_count": 23,
   "id": "c32341d9-4847-4c7b-86ce-882d1625e8b0",
   "metadata": {},
   "outputs": [
    {
     "data": {
      "text/plain": [
       "{}"
      ]
     },
     "execution_count": 23,
     "metadata": {},
     "output_type": "execute_result"
    }
   ],
   "source": [
    "t5()"
   ]
  },
  {
   "cell_type": "code",
   "execution_count": 24,
   "id": "29590f3d-52cf-470f-841b-69e7836c2464",
   "metadata": {},
   "outputs": [
    {
     "data": {
      "text/plain": [
       "dict"
      ]
     },
     "execution_count": 24,
     "metadata": {},
     "output_type": "execute_result"
    }
   ],
   "source": [
    "type(t5())"
   ]
  },
  {
   "cell_type": "code",
   "execution_count": 29,
   "id": "3ae39673-7ed9-49d7-ade5-68113c1cf2c1",
   "metadata": {},
   "outputs": [
    {
     "data": {
      "text/plain": [
       "{'a': 34, 'b': 23, 'c': [1, 2, 3, 4], 'd': ('mahesh', 'sathe')}"
      ]
     },
     "execution_count": 29,
     "metadata": {},
     "output_type": "execute_result"
    }
   ],
   "source": [
    "t5(a = 34, b = 23, c = [1,2,3,4], d = ('mahesh', 'sathe'))"
   ]
  },
  {
   "cell_type": "code",
   "execution_count": 30,
   "id": "122cdca0-8c35-4184-abd5-e9f4bbcf7548",
   "metadata": {},
   "outputs": [],
   "source": [
    "# we can write anything instead of kwargs\n",
    "def t6(**kwargs) :\n",
    "    for i in kwargs.keys():\n",
    "        if type(kwargs[i]) == list :\n",
    "            return i, kwargs[i]"
   ]
  },
  {
   "cell_type": "code",
   "execution_count": 27,
   "id": "0581f9f3-3303-47b8-8877-cbcc003cd198",
   "metadata": {},
   "outputs": [
    {
     "data": {
      "text/plain": [
       "('c', [1, 2, 3, 4])"
      ]
     },
     "execution_count": 27,
     "metadata": {},
     "output_type": "execute_result"
    }
   ],
   "source": [
    "t6(a=34, b = 23, c = [1,2,3,4], d = ('mahesh', 'sathe'))"
   ]
  },
  {
   "cell_type": "markdown",
   "id": "b6c26c36-65e0-479c-9e60-0e3dbde7b784",
   "metadata": {},
   "source": [
    "### *args - any number of inputs \n",
    "### **kwargs - any number of inputs in key value forms"
   ]
  },
  {
   "cell_type": "code",
   "execution_count": 31,
   "id": "851427c0-9e47-4329-a126-f397e30faa6c",
   "metadata": {},
   "outputs": [],
   "source": [
    "def t7(*args, **kwargs) :\n",
    "    return args, kwargs"
   ]
  },
  {
   "cell_type": "code",
   "execution_count": 33,
   "id": "876d03c3-a466-40be-ad9f-43665efbe78a",
   "metadata": {},
   "outputs": [
    {
     "data": {
      "text/plain": [
       "((2, 3, 4, 5), {'a': 34, 'b': 98})"
      ]
     },
     "execution_count": 33,
     "metadata": {},
     "output_type": "execute_result"
    }
   ],
   "source": [
    "t7(2,3,4,5, a=34,b=98)  #here we are able input both type of arguments single and key-value based also."
   ]
  },
  {
   "cell_type": "markdown",
   "id": "80be2eff-08e9-4eb6-8299-80112f0c0e9e",
   "metadata": {},
   "source": [
    "\n",
    "### Genarator Function"
   ]
  },
  {
   "cell_type": "code",
   "execution_count": 37,
   "id": "6dfdc39f-7625-4668-a4bc-c27ec0011180",
   "metadata": {},
   "outputs": [
    {
     "data": {
      "text/plain": [
       "range(1, 10)"
      ]
     },
     "execution_count": 37,
     "metadata": {},
     "output_type": "execute_result"
    }
   ],
   "source": [
    "range(1, 10) # if we want to generate values from it we have to perform for loop as given below"
   ]
  },
  {
   "cell_type": "code",
   "execution_count": 35,
   "id": "7560e465-2c82-466a-8675-d307003f2328",
   "metadata": {},
   "outputs": [
    {
     "name": "stdout",
     "output_type": "stream",
     "text": [
      "1\n",
      "2\n",
      "3\n",
      "4\n",
      "5\n",
      "6\n",
      "7\n",
      "8\n",
      "9\n"
     ]
    }
   ],
   "source": [
    "for i in range(1, 10):\n",
    "    print(i)"
   ]
  },
  {
   "cell_type": "code",
   "execution_count": 36,
   "id": "49108b1d-4030-4f8c-8e8e-d5926afc55f8",
   "metadata": {},
   "outputs": [],
   "source": [
    "l = [1,2,3,4,4,\"mahesh\",\"sathe\"]"
   ]
  },
  {
   "cell_type": "code",
   "execution_count": 38,
   "id": "0c2cbc0b-9376-4aa7-891d-df62e3e65472",
   "metadata": {},
   "outputs": [],
   "source": [
    "def p1(a) :\n",
    "    n = []\n",
    "    for i in a :\n",
    "        if type(i) == int :\n",
    "            n.append(i)\n",
    "    return n"
   ]
  },
  {
   "cell_type": "code",
   "execution_count": 39,
   "id": "93e72cb3-4c64-4c0c-82f3-e952eaec669f",
   "metadata": {},
   "outputs": [
    {
     "data": {
      "text/plain": [
       "[1, 2, 3, 4, 4]"
      ]
     },
     "execution_count": 39,
     "metadata": {},
     "output_type": "execute_result"
    }
   ],
   "source": [
    "p1(l)"
   ]
  },
  {
   "cell_type": "code",
   "execution_count": 41,
   "id": "7434cb99-9470-4e25-94e1-7c19c3009fd6",
   "metadata": {},
   "outputs": [],
   "source": [
    "## for infinite element the above will infinite time to display result\n",
    "## such function create bottleneck"
   ]
  },
  {
   "cell_type": "code",
   "execution_count": 44,
   "id": "2379fb92-4231-4d18-a1cb-dcad5aafd85c",
   "metadata": {},
   "outputs": [],
   "source": [
    "## generator function - range like element gives element on iteration i.e generate data one-by one i.e it cant remeber whole data it generate one by one."
   ]
  },
  {
   "cell_type": "code",
   "execution_count": 45,
   "id": "0cf7875a-f1dc-4ff9-b1a6-f49262ec0f03",
   "metadata": {},
   "outputs": [],
   "source": [
    "## for such functions we use 'yield' keyword\n",
    "## also save main memory"
   ]
  },
  {
   "cell_type": "code",
   "execution_count": 46,
   "id": "8b738935-9ae3-4ac1-a3e1-9fe8a90c66a5",
   "metadata": {},
   "outputs": [],
   "source": [
    "# generate fibonacci series-\n",
    "\n",
    "def test_fib(n) :\n",
    "    a,b = 0,1\n",
    "    for i in range(n):\n",
    "        yield a  # it gives record one by one\n",
    "        a,b = b, a+b"
   ]
  },
  {
   "cell_type": "code",
   "execution_count": 47,
   "id": "c8062124-6b08-466c-921d-16f9f560faf5",
   "metadata": {},
   "outputs": [
    {
     "data": {
      "text/plain": [
       "<generator object test_fib at 0x7f2bd66366c0>"
      ]
     },
     "execution_count": 47,
     "metadata": {},
     "output_type": "execute_result"
    }
   ],
   "source": [
    "test_fib(10)"
   ]
  },
  {
   "cell_type": "code",
   "execution_count": 48,
   "id": "3645d75d-cb0d-45b6-af2a-aba80155ba8a",
   "metadata": {},
   "outputs": [
    {
     "name": "stdout",
     "output_type": "stream",
     "text": [
      "0\n",
      "1\n",
      "1\n",
      "2\n",
      "3\n",
      "5\n",
      "8\n",
      "13\n",
      "21\n",
      "34\n"
     ]
    }
   ],
   "source": [
    "# for taking data out of generator function\n",
    "for i in test_fib(10):\n",
    "    print(i)"
   ]
  },
  {
   "cell_type": "code",
   "execution_count": 50,
   "id": "b71c45d6-5c71-48a4-85fd-7f76a5cab983",
   "metadata": {},
   "outputs": [],
   "source": [
    "##generator function - it will not prepared entire result at once\n",
    "## optimizely use memory"
   ]
  }
 ],
 "metadata": {
  "kernelspec": {
   "display_name": "Python 3 (ipykernel)",
   "language": "python",
   "name": "python3"
  },
  "language_info": {
   "codemirror_mode": {
    "name": "ipython",
    "version": 3
   },
   "file_extension": ".py",
   "mimetype": "text/x-python",
   "name": "python",
   "nbconvert_exporter": "python",
   "pygments_lexer": "ipython3",
   "version": "3.10.8"
  }
 },
 "nbformat": 4,
 "nbformat_minor": 5
}
