{
 "cells": [
  {
   "cell_type": "markdown",
   "id": "b543b8d2-7504-49a5-9396-10e8a3dda78c",
   "metadata": {},
   "source": [
    "### Exception Handling"
   ]
  },
  {
   "cell_type": "code",
   "execution_count": 3,
   "id": "0c812dfd-60e9-4fc8-9159-83fc0ba04f0e",
   "metadata": {},
   "outputs": [],
   "source": [
    "# try-except syntax-\n",
    "# try:\n",
    "#     #risky code\n",
    "# except Exception as e:\n",
    "#     #clear code"
   ]
  },
  {
   "cell_type": "code",
   "execution_count": 2,
   "id": "b3e2ff36-d9d7-415b-9daf-8d1bbb01bf72",
   "metadata": {
    "tags": []
   },
   "outputs": [
    {
     "name": "stdout",
     "output_type": "stream",
     "text": [
      "there is some issue with file [Errno 2] No such file or directory: 'test6.txt'\n"
     ]
    }
   ],
   "source": [
    "try:\n",
    "    f = open(\"test6.txt\", \"r\")\n",
    "except Exception as e:\n",
    "    print(\"there is some issue with file\", e)"
   ]
  },
  {
   "cell_type": "code",
   "execution_count": 8,
   "id": "68f06a06-cca0-4fb7-9321-fec057993981",
   "metadata": {},
   "outputs": [
    {
     "name": "stdout",
     "output_type": "stream",
     "text": [
      "this block will execute once try will execute itself without an exception\n"
     ]
    }
   ],
   "source": [
    "try:\n",
    "    f = open(\"test6.txt\", \"w\")\n",
    "    f.write(\"this is my msg\") # i have to close file otherwise change not seen\n",
    "except Exception as e:\n",
    "    print(\"there is some issue with file\", e)\n",
    "else:\n",
    "    f.close()\n",
    "    print(\"this block will execute once try will execute itself without an exception\")\n"
   ]
  },
  {
   "cell_type": "code",
   "execution_count": 7,
   "id": "b54e60a4-a12f-45d8-bc2c-7a8ca136336a",
   "metadata": {},
   "outputs": [
    {
     "name": "stdout",
     "output_type": "stream",
     "text": [
      "there is some issue with file [Errno 2] No such file or directory: 'test7.txt'\n"
     ]
    }
   ],
   "source": [
    "try:\n",
    "    f = open(\"test7.txt\", \"r\")\n",
    "    f.write(\"this is my msg\") # i have to close file otherwise change not seen\n",
    "except Exception as e:\n",
    "    print(\"there is some issue with file\", e)\n",
    "else:\n",
    "    f.close()\n",
    "    print(\"this block will execute once try will execute itself with an exception\")\n",
    "# as here try block cant execute else block also not get execute"
   ]
  },
  {
   "cell_type": "code",
   "execution_count": 9,
   "id": "f828d125-5863-4232-85e5-e81e98d97526",
   "metadata": {},
   "outputs": [
    {
     "name": "stdout",
     "output_type": "stream",
     "text": [
      "this will always execute\n"
     ]
    },
    {
     "ename": "FileNotFoundError",
     "evalue": "[Errno 2] No such file or directory: 'test7.txt'",
     "output_type": "error",
     "traceback": [
      "\u001b[0;31m---------------------------------------------------------------------------\u001b[0m",
      "\u001b[0;31mFileNotFoundError\u001b[0m                         Traceback (most recent call last)",
      "Cell \u001b[0;32mIn[9], line 2\u001b[0m\n\u001b[1;32m      1\u001b[0m \u001b[38;5;28;01mtry\u001b[39;00m:\n\u001b[0;32m----> 2\u001b[0m     f \u001b[38;5;241m=\u001b[39m \u001b[38;5;28;43mopen\u001b[39;49m\u001b[43m(\u001b[49m\u001b[38;5;124;43m\"\u001b[39;49m\u001b[38;5;124;43mtest7.txt\u001b[39;49m\u001b[38;5;124;43m\"\u001b[39;49m\u001b[43m,\u001b[49m\u001b[43m \u001b[49m\u001b[38;5;124;43m\"\u001b[39;49m\u001b[38;5;124;43mr\u001b[39;49m\u001b[38;5;124;43m\"\u001b[39;49m\u001b[43m)\u001b[49m\n\u001b[1;32m      3\u001b[0m     f\u001b[38;5;241m.\u001b[39mwrite(\u001b[38;5;124m\"\u001b[39m\u001b[38;5;124mthis is my msg\u001b[39m\u001b[38;5;124m\"\u001b[39m) \n\u001b[1;32m      4\u001b[0m \u001b[38;5;28;01mfinally\u001b[39;00m:\n",
      "File \u001b[0;32m/opt/conda/lib/python3.10/site-packages/IPython/core/interactiveshell.py:282\u001b[0m, in \u001b[0;36m_modified_open\u001b[0;34m(file, *args, **kwargs)\u001b[0m\n\u001b[1;32m    275\u001b[0m \u001b[38;5;28;01mif\u001b[39;00m file \u001b[38;5;129;01min\u001b[39;00m {\u001b[38;5;241m0\u001b[39m, \u001b[38;5;241m1\u001b[39m, \u001b[38;5;241m2\u001b[39m}:\n\u001b[1;32m    276\u001b[0m     \u001b[38;5;28;01mraise\u001b[39;00m \u001b[38;5;167;01mValueError\u001b[39;00m(\n\u001b[1;32m    277\u001b[0m         \u001b[38;5;124mf\u001b[39m\u001b[38;5;124m\"\u001b[39m\u001b[38;5;124mIPython won\u001b[39m\u001b[38;5;124m'\u001b[39m\u001b[38;5;124mt let you open fd=\u001b[39m\u001b[38;5;132;01m{\u001b[39;00mfile\u001b[38;5;132;01m}\u001b[39;00m\u001b[38;5;124m by default \u001b[39m\u001b[38;5;124m\"\u001b[39m\n\u001b[1;32m    278\u001b[0m         \u001b[38;5;124m\"\u001b[39m\u001b[38;5;124mas it is likely to crash IPython. If you know what you are doing, \u001b[39m\u001b[38;5;124m\"\u001b[39m\n\u001b[1;32m    279\u001b[0m         \u001b[38;5;124m\"\u001b[39m\u001b[38;5;124myou can use builtins\u001b[39m\u001b[38;5;124m'\u001b[39m\u001b[38;5;124m open.\u001b[39m\u001b[38;5;124m\"\u001b[39m\n\u001b[1;32m    280\u001b[0m     )\n\u001b[0;32m--> 282\u001b[0m \u001b[38;5;28;01mreturn\u001b[39;00m \u001b[43mio_open\u001b[49m\u001b[43m(\u001b[49m\u001b[43mfile\u001b[49m\u001b[43m,\u001b[49m\u001b[43m \u001b[49m\u001b[38;5;241;43m*\u001b[39;49m\u001b[43margs\u001b[49m\u001b[43m,\u001b[49m\u001b[43m \u001b[49m\u001b[38;5;241;43m*\u001b[39;49m\u001b[38;5;241;43m*\u001b[39;49m\u001b[43mkwargs\u001b[49m\u001b[43m)\u001b[49m\n",
      "\u001b[0;31mFileNotFoundError\u001b[0m: [Errno 2] No such file or directory: 'test7.txt'"
     ]
    }
   ],
   "source": [
    "try:\n",
    "    f = open(\"test7.txt\", \"r\")\n",
    "    f.write(\"this is my msg\") \n",
    "finally:\n",
    "    print(\"this will always execute\")\n",
    "    #finally always try to execute itself.\n",
    "    # keep code which you would like execute at any cost"
   ]
  },
  {
   "cell_type": "code",
   "execution_count": 10,
   "id": "480a8046-244c-4ebb-9858-26c9fdc6b640",
   "metadata": {},
   "outputs": [
    {
     "name": "stdout",
     "output_type": "stream",
     "text": [
      "this block will execute once try will execute itself without an exception\n",
      "i will execute always\n"
     ]
    }
   ],
   "source": [
    "try:\n",
    "    f = open(\"test6.txt\", \"w\")\n",
    "    f.write(\"this is my msg\") # i have to close file otherwise change not seen\n",
    "except Exception as e:\n",
    "    print(\"there is some issue with file\", e)\n",
    "else:\n",
    "    f.close()\n",
    "    print(\"this block will execute once try will execute itself without an exception\")\n",
    "finally:\n",
    "    print(\"i will execute always\")"
   ]
  },
  {
   "cell_type": "code",
   "execution_count": 11,
   "id": "2e00aee3-393a-4915-bbe7-4b6eda063998",
   "metadata": {},
   "outputs": [],
   "source": [
    "# else will execute only on success of try\n",
    "# finally will always occurs."
   ]
  },
  {
   "cell_type": "markdown",
   "id": "0adf1479-0a30-4e57-a38c-9869771d3c4d",
   "metadata": {},
   "source": [
    "### Custom Exception Handling"
   ]
  },
  {
   "cell_type": "code",
   "execution_count": 3,
   "id": "6341d07c-b8a8-4f23-bf1b-29b6f1269fb5",
   "metadata": {},
   "outputs": [
    {
     "name": "stdin",
     "output_type": "stream",
     "text": [
      "Enter your age -2312\n"
     ]
    }
   ],
   "source": [
    "age = int(input(\"Enter your age\"))"
   ]
  },
  {
   "cell_type": "code",
   "execution_count": 11,
   "id": "7f323289-1b19-4b25-9ce5-bfda3dfe71c2",
   "metadata": {},
   "outputs": [],
   "source": [
    "#the above age is not valid for us but system has no problem with it\n",
    "# so for such reason we can use custom exception"
   ]
  },
  {
   "cell_type": "code",
   "execution_count": 6,
   "id": "5d3637d1-bc77-4152-a3fd-fe71fd0ee754",
   "metadata": {},
   "outputs": [],
   "source": [
    "#custom exception class\n",
    "class validateage(Exception):\n",
    "    def __init__(self, msg):\n",
    "        self.msg = msg"
   ]
  },
  {
   "cell_type": "code",
   "execution_count": 7,
   "id": "5ff405bc-343f-4a28-a11b-566bc9e2be4f",
   "metadata": {},
   "outputs": [],
   "source": [
    "def validate_age(age):\n",
    "    if age<0 :\n",
    "        raise validateage(\"Age shouldn't be lesser than 0\")\n",
    "        \n",
    "    elif age>200:\n",
    "        raise validateage(\"age too high\")\n",
    "        \n",
    "    else:\n",
    "        print(\"age is valid\")"
   ]
  },
  {
   "cell_type": "code",
   "execution_count": 10,
   "id": "e542bf65-01bb-4664-9afd-9d47a875cfcb",
   "metadata": {},
   "outputs": [
    {
     "name": "stdin",
     "output_type": "stream",
     "text": [
      "enter age 555\n"
     ]
    },
    {
     "name": "stdout",
     "output_type": "stream",
     "text": [
      "age too high\n"
     ]
    }
   ],
   "source": [
    "try:\n",
    "    age = int(input(\"enter age\"))\n",
    "    validate_age(age)\n",
    "except validateage as e:\n",
    "    print(e)"
   ]
  },
  {
   "cell_type": "code",
   "execution_count": null,
   "id": "8b815aa6-5283-4805-90a3-4ac198c1d802",
   "metadata": {},
   "outputs": [],
   "source": []
  }
 ],
 "metadata": {
  "kernelspec": {
   "display_name": "Python 3 (ipykernel)",
   "language": "python",
   "name": "python3"
  },
  "language_info": {
   "codemirror_mode": {
    "name": "ipython",
    "version": 3
   },
   "file_extension": ".py",
   "mimetype": "text/x-python",
   "name": "python",
   "nbconvert_exporter": "python",
   "pygments_lexer": "ipython3",
   "version": "3.10.8"
  }
 },
 "nbformat": 4,
 "nbformat_minor": 5
}
