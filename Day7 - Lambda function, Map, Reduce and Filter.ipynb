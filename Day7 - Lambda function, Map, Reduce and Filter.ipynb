{
 "cells": [
  {
   "cell_type": "markdown",
   "id": "02da0355-3f0a-412c-9405-988c2a6e80fc",
   "metadata": {},
   "source": [
    "### Lamba Function"
   ]
  },
  {
   "cell_type": "code",
   "execution_count": 1,
   "id": "57aa1e81-e940-466b-96bb-6c336595f7a7",
   "metadata": {},
   "outputs": [],
   "source": [
    "n = 3\n",
    "p = 2"
   ]
  },
  {
   "cell_type": "code",
   "execution_count": 2,
   "id": "ff6c2174-2e72-4a29-967e-b4277708f9e5",
   "metadata": {},
   "outputs": [],
   "source": [
    "def test(n, p):\n",
    "    return n**p"
   ]
  },
  {
   "cell_type": "code",
   "execution_count": 4,
   "id": "5e27e02c-5a40-4df7-ace7-70f737589113",
   "metadata": {},
   "outputs": [
    {
     "data": {
      "text/plain": [
       "9"
      ]
     },
     "execution_count": 4,
     "metadata": {},
     "output_type": "execute_result"
    }
   ],
   "source": [
    "test(3, 2)"
   ]
  },
  {
   "cell_type": "code",
   "execution_count": 8,
   "id": "b0bd458c-7f14-42ba-b0f2-5b42f8e18d22",
   "metadata": {},
   "outputs": [
    {
     "data": {
      "text/plain": [
       "<function __main__.<lambda>(n, p)>"
      ]
     },
     "execution_count": 8,
     "metadata": {},
     "output_type": "execute_result"
    }
   ],
   "source": [
    "# function without name lamba anonymous function\n",
    "lambda n,p : n**p"
   ]
  },
  {
   "cell_type": "code",
   "execution_count": 7,
   "id": "19a0f61e-44b8-40fc-83fc-50310e77c0c3",
   "metadata": {},
   "outputs": [
    {
     "data": {
      "text/plain": [
       "81"
      ]
     },
     "execution_count": 7,
     "metadata": {},
     "output_type": "execute_result"
    }
   ],
   "source": [
    "a = lambda n,p : n**p\n",
    "a(3,4)"
   ]
  },
  {
   "cell_type": "code",
   "execution_count": 11,
   "id": "ef024d1e-e033-4e3f-81c5-e4891d14a8ef",
   "metadata": {},
   "outputs": [],
   "source": [
    "add = lambda x,y : x+y   # also called sort hand function"
   ]
  },
  {
   "cell_type": "code",
   "execution_count": 10,
   "id": "b981eb40-9351-45a4-a309-599abf5cc574",
   "metadata": {},
   "outputs": [
    {
     "data": {
      "text/plain": [
       "1255"
      ]
     },
     "execution_count": 10,
     "metadata": {},
     "output_type": "execute_result"
    }
   ],
   "source": [
    "add(14,1241)"
   ]
  },
  {
   "cell_type": "code",
   "execution_count": 12,
   "id": "d5c497d6-d416-468d-96bd-568f107316de",
   "metadata": {},
   "outputs": [],
   "source": [
    "c_to_f = lambda c : (9/5)*c+32"
   ]
  },
  {
   "cell_type": "code",
   "execution_count": 13,
   "id": "f481a31b-7adb-4150-9451-9aee1c677188",
   "metadata": {},
   "outputs": [
    {
     "data": {
      "text/plain": [
       "93.2"
      ]
     },
     "execution_count": 13,
     "metadata": {},
     "output_type": "execute_result"
    }
   ],
   "source": [
    "c_to_f(34)"
   ]
  },
  {
   "cell_type": "code",
   "execution_count": 14,
   "id": "16d79bc9-2025-4839-80d2-7f7468a44885",
   "metadata": {},
   "outputs": [],
   "source": [
    "max_two = lambda x,y : x if x>y else y"
   ]
  },
  {
   "cell_type": "code",
   "execution_count": 15,
   "id": "d99d4b31-0f0e-4ea7-a06b-7044e97a4e1b",
   "metadata": {},
   "outputs": [
    {
     "data": {
      "text/plain": [
       "56"
      ]
     },
     "execution_count": 15,
     "metadata": {},
     "output_type": "execute_result"
    }
   ],
   "source": [
    "max_two(4,56)"
   ]
  },
  {
   "cell_type": "code",
   "execution_count": 16,
   "id": "c3ee38d3-eb69-4a1b-ad37-fd4effd12e31",
   "metadata": {},
   "outputs": [],
   "source": [
    "s = \"pwskills\""
   ]
  },
  {
   "cell_type": "code",
   "execution_count": 17,
   "id": "571394a9-7767-43bf-8487-35c878748a2b",
   "metadata": {},
   "outputs": [],
   "source": [
    "len_str = lambda s : len(s)"
   ]
  },
  {
   "cell_type": "code",
   "execution_count": 18,
   "id": "61dc1015-6852-41ce-97aa-3fb5aff3c213",
   "metadata": {},
   "outputs": [
    {
     "data": {
      "text/plain": [
       "8"
      ]
     },
     "execution_count": 18,
     "metadata": {},
     "output_type": "execute_result"
    }
   ],
   "source": [
    "len_str(s)"
   ]
  },
  {
   "cell_type": "markdown",
   "id": "ea76c599-965c-4ac0-a769-6271d5a8ce20",
   "metadata": {},
   "source": [
    "### Map, Reduce and Filter"
   ]
  },
  {
   "cell_type": "code",
   "execution_count": null,
   "id": "fd6c9c65-eb9a-415a-b4e1-bf43d3dbf141",
   "metadata": {},
   "outputs": [],
   "source": [
    "#for writing function in single line"
   ]
  },
  {
   "cell_type": "code",
   "execution_count": 19,
   "id": "dc484d6c-0818-42ef-aee2-00f1315e5911",
   "metadata": {},
   "outputs": [],
   "source": [
    "l = [1,2,3,4,5]"
   ]
  },
  {
   "cell_type": "code",
   "execution_count": 20,
   "id": "8ae12cd7-1cc7-4e73-abb3-65d05f466ec3",
   "metadata": {},
   "outputs": [],
   "source": [
    "def test(l):\n",
    "    l1 = []\n",
    "    for i in l:\n",
    "        l1.append(i**2)\n",
    "    return l1"
   ]
  },
  {
   "cell_type": "code",
   "execution_count": 21,
   "id": "8215be76-d3f6-4e34-91b1-4c690abf830a",
   "metadata": {},
   "outputs": [
    {
     "data": {
      "text/plain": [
       "[1, 4, 9, 16, 25]"
      ]
     },
     "execution_count": 21,
     "metadata": {},
     "output_type": "execute_result"
    }
   ],
   "source": [
    "test(l)"
   ]
  },
  {
   "cell_type": "markdown",
   "id": "cceea9a2-38d6-4a4a-a4b3-2806099373cb",
   "metadata": {},
   "source": [
    "### Map function"
   ]
  },
  {
   "cell_type": "markdown",
   "id": "a492b2d3-b526-40f3-862b-adb85c860259",
   "metadata": {},
   "source": [
    "#### it will try to map function with each elements of the iterable"
   ]
  },
  {
   "cell_type": "code",
   "execution_count": 22,
   "id": "e21c415b-3ab8-4366-860a-148d056ea606",
   "metadata": {},
   "outputs": [],
   "source": [
    "#it takes function and iterables as parameter\n",
    "def sq(x):\n",
    "    return x**2"
   ]
  },
  {
   "cell_type": "code",
   "execution_count": 26,
   "id": "f743a07e-c659-4175-9deb-db09a98ed05a",
   "metadata": {},
   "outputs": [
    {
     "data": {
      "text/plain": [
       "<map at 0x7f33600d40d0>"
      ]
     },
     "execution_count": 26,
     "metadata": {},
     "output_type": "execute_result"
    }
   ],
   "source": [
    "map(sq, l) # gives mapper object"
   ]
  },
  {
   "cell_type": "code",
   "execution_count": 37,
   "id": "0a7c2e64-143a-4ae6-bdf1-194c5853aa0c",
   "metadata": {},
   "outputs": [
    {
     "data": {
      "text/plain": [
       "[1, 4, 9, 16, 25]"
      ]
     },
     "execution_count": 37,
     "metadata": {},
     "output_type": "execute_result"
    }
   ],
   "source": [
    "list(map(sq, l))   # it will try to map function with each elements"
   ]
  },
  {
   "cell_type": "code",
   "execution_count": 27,
   "id": "9d7808cc-475d-4c1e-9b22-118006db1ad5",
   "metadata": {},
   "outputs": [
    {
     "data": {
      "text/plain": [
       "[1, 4, 9, 16, 25]"
      ]
     },
     "execution_count": 27,
     "metadata": {},
     "output_type": "execute_result"
    }
   ],
   "source": [
    "list(map(lambda x : x**2, l))"
   ]
  },
  {
   "cell_type": "code",
   "execution_count": 28,
   "id": "cc1ef486-e683-48d4-89bc-193df8188423",
   "metadata": {},
   "outputs": [
    {
     "data": {
      "text/plain": [
       "[11, 12, 13, 14, 15]"
      ]
     },
     "execution_count": 28,
     "metadata": {},
     "output_type": "execute_result"
    }
   ],
   "source": [
    "list(map(lambda x : x+10, l))"
   ]
  },
  {
   "cell_type": "code",
   "execution_count": 29,
   "id": "7752fae9-8015-4f9d-b8d9-2184fbf7ca81",
   "metadata": {},
   "outputs": [
    {
     "data": {
      "text/plain": [
       "['1', '2', '3', '4', '5']"
      ]
     },
     "execution_count": 29,
     "metadata": {},
     "output_type": "execute_result"
    }
   ],
   "source": [
    "list(map(lambda x : str(x), l))"
   ]
  },
  {
   "cell_type": "code",
   "execution_count": 32,
   "id": "4e04b487-3adb-49ce-a786-090ea1f34194",
   "metadata": {},
   "outputs": [],
   "source": [
    "l1 = [1,2,3,4,5]\n",
    "l2 = [6,7,8,9,10]\n",
    "# do addition based on index"
   ]
  },
  {
   "cell_type": "code",
   "execution_count": 33,
   "id": "7e31aa4b-aa7f-4777-8d5a-6085dab8369f",
   "metadata": {},
   "outputs": [
    {
     "data": {
      "text/plain": [
       "[7, 9, 11, 13, 15]"
      ]
     },
     "execution_count": 33,
     "metadata": {},
     "output_type": "execute_result"
    }
   ],
   "source": [
    "list(map(lambda x,y : x+y, l1, l2))"
   ]
  },
  {
   "cell_type": "code",
   "execution_count": 35,
   "id": "7148743b-7cf1-4963-aa72-da1873b009f2",
   "metadata": {},
   "outputs": [],
   "source": [
    "f = lambda x, y :x+y"
   ]
  },
  {
   "cell_type": "code",
   "execution_count": 36,
   "id": "56436a69-0a3c-4229-a6ac-6233b7a380e3",
   "metadata": {},
   "outputs": [
    {
     "data": {
      "text/plain": [
       "[7, 9, 11, 13, 15]"
      ]
     },
     "execution_count": 36,
     "metadata": {},
     "output_type": "execute_result"
    }
   ],
   "source": [
    "list(map(f, l1, l2))"
   ]
  },
  {
   "cell_type": "code",
   "execution_count": 38,
   "id": "912bea1e-2928-4aed-9dd5-6b852e45fb0c",
   "metadata": {},
   "outputs": [],
   "source": [
    "s = 'pwskills'"
   ]
  },
  {
   "cell_type": "code",
   "execution_count": 39,
   "id": "d8d97581-8fa6-4002-b1cd-fedee7699a64",
   "metadata": {},
   "outputs": [
    {
     "data": {
      "text/plain": [
       "['P', 'W', 'S', 'K', 'I', 'L', 'L', 'S']"
      ]
     },
     "execution_count": 39,
     "metadata": {},
     "output_type": "execute_result"
    }
   ],
   "source": [
    "list(map(lambda x:x.upper(), s))"
   ]
  },
  {
   "cell_type": "markdown",
   "id": "f04ba63a-4676-43eb-ba53-30150383c642",
   "metadata": {},
   "source": [
    "### Reduce()"
   ]
  },
  {
   "cell_type": "markdown",
   "id": "675f12b1-b3ab-4328-a224-67f24e75eebc",
   "metadata": {},
   "source": [
    "#### the reduce(fun,seq) function is used to apply a particular function passed in its argument to all of the list elements mentioned in the sequence passed along.This function is defined in “functools” module."
   ]
  },
  {
   "cell_type": "code",
   "execution_count": 40,
   "id": "b85b860e-7522-4c58-8d9d-ddce16f1d097",
   "metadata": {},
   "outputs": [],
   "source": [
    "from functools import reduce"
   ]
  },
  {
   "cell_type": "code",
   "execution_count": 41,
   "id": "020eeba8-6712-4abf-b3fd-baa0d75bbeb4",
   "metadata": {},
   "outputs": [],
   "source": [
    "l = [1,2,3,4,5,4]"
   ]
  },
  {
   "cell_type": "code",
   "execution_count": 42,
   "id": "7f7bdd5a-0aba-4167-8689-56b369858015",
   "metadata": {},
   "outputs": [],
   "source": [
    "# reduce or colapse entire iterables"
   ]
  },
  {
   "cell_type": "code",
   "execution_count": 43,
   "id": "286e3e11-f0bc-4b35-8daf-aee6a8a16988",
   "metadata": {},
   "outputs": [
    {
     "data": {
      "text/plain": [
       "19"
      ]
     },
     "execution_count": 43,
     "metadata": {},
     "output_type": "execute_result"
    }
   ],
   "source": [
    "reduce(lambda x,y : x+y, l)"
   ]
  },
  {
   "cell_type": "code",
   "execution_count": 48,
   "id": "c924406c-0294-4b04-af11-a44e484e6b55",
   "metadata": {},
   "outputs": [],
   "source": [
    "# how it calculates the result\n",
    "# in first case, 1 is x and 2 is y x+y = 3 then now this output 3 is x and next 3 is y their sum result is 6 now 6 is x and 4 is y thier sum is 10 , now 10 is x and 5 is y their sum is 15 now x is 15 and 4 is y and their sum is 19 and hence total sum of list element is 19\n",
    "# it keep on reducing elements"
   ]
  },
  {
   "cell_type": "code",
   "execution_count": 49,
   "id": "42a0ad05-882e-47d2-ab15-76dff48a88f6",
   "metadata": {},
   "outputs": [
    {
     "data": {
      "text/plain": [
       "19"
      ]
     },
     "execution_count": 49,
     "metadata": {},
     "output_type": "execute_result"
    }
   ],
   "source": [
    "def add(x,y):\n",
    "    return x+y\n",
    "\n",
    "reduce(add, l) # it on parameter as function and other is iterable."
   ]
  },
  {
   "cell_type": "code",
   "execution_count": 52,
   "id": "2a9e4e2e-19c8-4bc2-ab1e-eed614ae38f0",
   "metadata": {},
   "outputs": [],
   "source": [
    "#reduce(lambda x,y,z : x+y+z, l)  #it is alwas better to take 2 argument\n",
    "# because at one point it has element for x and y but not for z so function will miss one argument."
   ]
  },
  {
   "cell_type": "code",
   "execution_count": 55,
   "id": "6745d2c3-1280-45a6-983d-317a4301d3d6",
   "metadata": {},
   "outputs": [
    {
     "data": {
      "text/plain": [
       "1"
      ]
     },
     "execution_count": 55,
     "metadata": {},
     "output_type": "execute_result"
    }
   ],
   "source": [
    "# two argument at any point is going work. So always try to use 2 arguments in lambda function\n",
    "reduce(lambda x,y: x+y, [1])"
   ]
  },
  {
   "cell_type": "code",
   "execution_count": 56,
   "id": "110bd51a-fd29-4921-bb72-779378dc6396",
   "metadata": {},
   "outputs": [
    {
     "data": {
      "text/plain": [
       "1"
      ]
     },
     "execution_count": 56,
     "metadata": {},
     "output_type": "execute_result"
    }
   ],
   "source": [
    "reduce(lambda x,y: x*y, [1])"
   ]
  },
  {
   "cell_type": "code",
   "execution_count": 57,
   "id": "c81ace55-5b3d-45ca-a565-e33cd51ce1a7",
   "metadata": {},
   "outputs": [
    {
     "data": {
      "text/plain": [
       "[1, 2, 3, 4, 5, 4]"
      ]
     },
     "execution_count": 57,
     "metadata": {},
     "output_type": "execute_result"
    }
   ],
   "source": [
    "l"
   ]
  },
  {
   "cell_type": "code",
   "execution_count": 59,
   "id": "c583e8fb-7c12-4a66-a764-8bd280f05f11",
   "metadata": {},
   "outputs": [
    {
     "data": {
      "text/plain": [
       "5"
      ]
     },
     "execution_count": 59,
     "metadata": {},
     "output_type": "execute_result"
    }
   ],
   "source": [
    "reduce(lambda x,y : x if x>y else y, l) # it performs comparison internally"
   ]
  },
  {
   "cell_type": "markdown",
   "id": "814bd43f-b810-4500-bc59-c7380db68252",
   "metadata": {},
   "source": [
    "### Filter()"
   ]
  },
  {
   "cell_type": "markdown",
   "id": "fb8db3f1-730c-4146-9b80-f0f75e763417",
   "metadata": {},
   "source": [
    "#### The filter() method filters the given sequence with the help of a function that tests each element in the sequence to be true or not."
   ]
  },
  {
   "cell_type": "code",
   "execution_count": 60,
   "id": "9d84b850-4bd5-4a22-b7ba-30e675ebbd68",
   "metadata": {},
   "outputs": [
    {
     "data": {
      "text/plain": [
       "[1, 2, 3, 4, 5, 4]"
      ]
     },
     "execution_count": 60,
     "metadata": {},
     "output_type": "execute_result"
    }
   ],
   "source": [
    "l"
   ]
  },
  {
   "cell_type": "code",
   "execution_count": 63,
   "id": "fcf940f2-9a0d-4ddd-b942-6058e69982e6",
   "metadata": {},
   "outputs": [
    {
     "data": {
      "text/plain": [
       "[2, 4, 4]"
      ]
     },
     "execution_count": 63,
     "metadata": {},
     "output_type": "execute_result"
    }
   ],
   "source": [
    "#even element\n",
    "list(filter(lambda x : x%2 == 0, l))"
   ]
  },
  {
   "cell_type": "code",
   "execution_count": 64,
   "id": "19988495-2754-4608-9c6d-d475d55d9fd6",
   "metadata": {},
   "outputs": [
    {
     "data": {
      "text/plain": [
       "[1, 3, 5]"
      ]
     },
     "execution_count": 64,
     "metadata": {},
     "output_type": "execute_result"
    }
   ],
   "source": [
    "#odd \n",
    "list(filter(lambda x : x%2 != 0, l))"
   ]
  },
  {
   "cell_type": "code",
   "execution_count": 65,
   "id": "0accd7e7-84b4-4ed1-be91-28e13a9b69fa",
   "metadata": {},
   "outputs": [],
   "source": [
    "l1 = [-2,4,5,6,-3,-6,-7]"
   ]
  },
  {
   "cell_type": "code",
   "execution_count": 67,
   "id": "9f7a44e9-bda4-4065-8f3c-8c13e617eb9f",
   "metadata": {},
   "outputs": [
    {
     "data": {
      "text/plain": [
       "[-2, -3, -6, -7]"
      ]
     },
     "execution_count": 67,
     "metadata": {},
     "output_type": "execute_result"
    }
   ],
   "source": [
    "#filter negative no.\n",
    "list(filter(lambda x : x<0, l1))"
   ]
  },
  {
   "cell_type": "code",
   "execution_count": 69,
   "id": "c99654e8-7216-4e1a-be8c-023f87d1a722",
   "metadata": {},
   "outputs": [
    {
     "data": {
      "text/plain": [
       "[4, 5, 6]"
      ]
     },
     "execution_count": 69,
     "metadata": {},
     "output_type": "execute_result"
    }
   ],
   "source": [
    "#positive\n",
    "list(filter(lambda x : x>=0, l1))"
   ]
  },
  {
   "cell_type": "code",
   "execution_count": 70,
   "id": "99dead5a-2e45-4425-ac17-684f994eda08",
   "metadata": {},
   "outputs": [],
   "source": [
    "l2 = ['sudh', 'pwskills', 'kumar', 'bengalore', 'mahesh']"
   ]
  },
  {
   "cell_type": "code",
   "execution_count": 73,
   "id": "0a2c7a7a-0222-45f4-be04-9ddc8e976bba",
   "metadata": {},
   "outputs": [
    {
     "data": {
      "text/plain": [
       "['sudh', 'kumar']"
      ]
     },
     "execution_count": 73,
     "metadata": {},
     "output_type": "execute_result"
    }
   ],
   "source": [
    "#element with length<6\n",
    "list(filter(lambda x : len(x)<6, l2))"
   ]
  }
 ],
 "metadata": {
  "kernelspec": {
   "display_name": "Python 3 (ipykernel)",
   "language": "python",
   "name": "python3"
  },
  "language_info": {
   "codemirror_mode": {
    "name": "ipython",
    "version": 3
   },
   "file_extension": ".py",
   "mimetype": "text/x-python",
   "name": "python",
   "nbconvert_exporter": "python",
   "pygments_lexer": "ipython3",
   "version": "3.10.8"
  }
 },
 "nbformat": 4,
 "nbformat_minor": 5
}
