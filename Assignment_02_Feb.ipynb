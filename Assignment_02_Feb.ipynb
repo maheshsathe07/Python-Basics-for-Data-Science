{
 "cells": [
  {
   "cell_type": "code",
   "execution_count": 1,
   "id": "5781f8ee-0c4c-41bd-94e5-06d72dab2f35",
   "metadata": {},
   "outputs": [],
   "source": [
    "#Q1. What are the characteristics of the tuples? Is tuple immutable?\n",
    "#Ans - Tuples are indexed, ordered, stores heterogenous and homogenous data, allows duplicates and preserves data sequence. Yes, tuples are immutable.\n"
   ]
  },
  {
   "cell_type": "code",
   "execution_count": 2,
   "id": "35bda0da-d1ac-4966-859d-fba5f10d7c9a",
   "metadata": {},
   "outputs": [],
   "source": [
    "#Q2. What are the two tuple methods in python? Give an example of each method. Give a reason why tuples have only two in-built methods as compared to Lists.\n",
    "#Ans -  count() and index() are the two methods of tuple in python. Where ‘count()’, counts the number of occurrence of an element in tuple. And ‘index()’ gives the index of very first occurrence of element inside the tuple.\n",
    " "
   ]
  },
  {
   "cell_type": "code",
   "execution_count": 4,
   "id": "efb9d530-1b1c-4608-ac61-e7f655e4fc72",
   "metadata": {},
   "outputs": [
    {
     "data": {
      "text/plain": [
       "4"
      ]
     },
     "execution_count": 4,
     "metadata": {},
     "output_type": "execute_result"
    }
   ],
   "source": [
    "#Example for ‘count()’ -\n",
    "t1 = (1,2,1,3,2,4,1,1,5)\n",
    "t1.count(1)"
   ]
  },
  {
   "cell_type": "code",
   "execution_count": 5,
   "id": "bb348652-02d9-4ff6-8b04-421c33d66289",
   "metadata": {},
   "outputs": [
    {
     "data": {
      "text/plain": [
       "2"
      ]
     },
     "execution_count": 5,
     "metadata": {},
     "output_type": "execute_result"
    }
   ],
   "source": [
    "#Example for 'index()' -\n",
    "t1 = (1,2,3,4,3,5,3)\n",
    "t1.index(3)"
   ]
  },
  {
   "cell_type": "code",
   "execution_count": 6,
   "id": "7f3e79d3-3e2b-4545-b2b6-5b2a337f4fbc",
   "metadata": {},
   "outputs": [],
   "source": [
    "#Reason the tuple have only two in built methods as compared to list is that the lists and mutable whereas tuples are immutable."
   ]
  },
  {
   "cell_type": "code",
   "execution_count": 7,
   "id": "cb65bdce-0e79-4715-849d-43c2a945be94",
   "metadata": {},
   "outputs": [
    {
     "data": {
      "text/plain": [
       "[1, 2, 3, 4]"
      ]
     },
     "execution_count": 7,
     "metadata": {},
     "output_type": "execute_result"
    }
   ],
   "source": [
    "#Q 3 Which collection datatypes in python do not allow duplicate items? Write a code using a set to remove duplicates from the given list.\n",
    "#List = [1, 1, 1, 2, 1, 3, 1, 4, 2, 1, 2, 2, 2, 3, 2, 4, 3, 1, 3, 2, 3, 3, 3, 4, 4, 1, 4, 2, 4, 3, 4, 4]\n",
    "#Ans - Sets is the collection which do not allows duplicate items.\n",
    "#Removing duplicates items from list : \n",
    "l= [1, 1, 1, 2, 1, 3, 1, 4, 2, 1, 2, 2, 2, 3, 2, 4, 3, 1, 3, 2, 3, 3, 3, 4, 4, 1, 4, 2, 4, 3, 4, 4]\n",
    "l2=set(l)\n",
    "l3=list(l2)\n",
    "l3"
   ]
  },
  {
   "cell_type": "code",
   "execution_count": 9,
   "id": "0d091661-fadc-40e2-b63c-8532a26aacc7",
   "metadata": {},
   "outputs": [
    {
     "name": "stdout",
     "output_type": "stream",
     "text": [
      "{1, 2, 3, 4, 5}\n"
     ]
    }
   ],
   "source": [
    "#Q4. Explain the difference between the union() and update() methods for a set. Give an example of each method.\n",
    "#Ans - For getting ‘union()’ of 2 sets we have to store their union in another set i.e it doesn’t make changes in original set.\n",
    "#For ex = > \n",
    "s1 = {1,2,3}\n",
    "s2 = {3,4,5}\n",
    "s3 = s1.union(s2)\n",
    "print(s3)\n"
   ]
  },
  {
   "cell_type": "code",
   "execution_count": 10,
   "id": "fb2400f2-f13e-4e97-90c5-234ab84e2e82",
   "metadata": {},
   "outputs": [
    {
     "name": "stdout",
     "output_type": "stream",
     "text": [
      "{1, 2, 3}\n"
     ]
    }
   ],
   "source": [
    "#While in case of ‘update()’  of 2 sets, here also union of 2 sets occurs but here changes is done in original set.\n",
    "#For ex =>\n",
    "s1 = {1,2,3}\n",
    "s2 = {3,4,5}\n",
    "s1.union(s2)\n",
    "print(s1)"
   ]
  },
  {
   "cell_type": "code",
   "execution_count": null,
   "id": "45522913-57a9-4a46-b0d4-c67a550d7628",
   "metadata": {},
   "outputs": [],
   "source": [
    "#Q5. What is a dictionary? Give an example. Also, state whether a dictionary is ordered or unordered.\n",
    "#Ans - Dictionary is a collection of data values in key- value pairs. It is ordered, unchangable and do not allows duplicates."
   ]
  },
  {
   "cell_type": "code",
   "execution_count": 11,
   "id": "6175f0e0-0f0a-40d5-ab5e-cd76f3f74832",
   "metadata": {},
   "outputs": [
    {
     "name": "stdout",
     "output_type": "stream",
     "text": [
      "{'key1': {'name': 'Mahesh', 'surname': 'Sathe'}, 'key2': 14}\n"
     ]
    }
   ],
   "source": [
    "#Q6. Can we create a nested dictionary? If so, please give an example by creating a simple one-level nested dictionary.\n",
    "#Ans - Yes, we are able to create nested dictionary.\n",
    "#For ex =>\n",
    "d1 = {\"key1\" : {\"name\":\"Mahesh\", \"surname\":\"Sathe\"}, \"key2\":14}\n",
    "print(d1)"
   ]
  },
  {
   "cell_type": "code",
   "execution_count": 12,
   "id": "fa2e04c3-34e1-4bfa-9a11-61918c98bb9a",
   "metadata": {},
   "outputs": [
    {
     "name": "stdout",
     "output_type": "stream",
     "text": [
      "{'language': 'Python', 'course': 'Data Science Masters', 'topics': ['Python', 'Machine Learning', 'Deep Learning']}\n"
     ]
    }
   ],
   "source": [
    "#Q7. Using setdefault() method, create key named topics in the given dictionary and also add the value of the key as this list ['Python', 'Machine Learning’, 'Deep Learning']\n",
    "#dict1 = {'language' : 'Python', 'course': 'Data Science Masters'}\n",
    "#Ans -  setdefault() method for inserting new key value pair or if key already exists it makes changes in key's value.\n",
    "dict1 = {'language' : 'Python', 'course': 'Data Science Masters'}\n",
    "dict1.setdefault('topics', ['Python', 'Machine Learning', 'Deep Learning'])\n",
    "print(dict1)"
   ]
  },
  {
   "cell_type": "code",
   "execution_count": 15,
   "id": "b34880de-6dd5-4a44-acaf-85d7d4087718",
   "metadata": {},
   "outputs": [
    {
     "data": {
      "text/plain": [
       "dict_keys(['language', 'course', 'topics'])"
      ]
     },
     "execution_count": 15,
     "metadata": {},
     "output_type": "execute_result"
    }
   ],
   "source": [
    "#Q8. What are the three view objects in dictionaries? Use the three in-built methods in python to display these three view objects for the given dictionary.\n",
    "#dict1 = {'Sport': 'Cricket' , 'Teams': ['India', 'Australia', 'England', 'South Africa', 'Sri Lanka', 'New Zealand']}\n",
    "#Ans - The three view objects in dictionary are key, value and items.\n",
    "# displaying keys-\n",
    "dict1.keys()"
   ]
  },
  {
   "cell_type": "code",
   "execution_count": 17,
   "id": "b87db58e-9c32-43a5-9284-a661b20bae2c",
   "metadata": {},
   "outputs": [
    {
     "data": {
      "text/plain": [
       "dict_values(['Python', 'Data Science Masters', ['Python', 'Machine Learning', 'Deep Learning']])"
      ]
     },
     "execution_count": 17,
     "metadata": {},
     "output_type": "execute_result"
    }
   ],
   "source": [
    "#displaying values - \n",
    "dict1.values()"
   ]
  },
  {
   "cell_type": "code",
   "execution_count": 18,
   "id": "3c85cc0d-bf95-40d0-88a1-51cf75c94073",
   "metadata": {},
   "outputs": [
    {
     "data": {
      "text/plain": [
       "dict_items([('language', 'Python'), ('course', 'Data Science Masters'), ('topics', ['Python', 'Machine Learning', 'Deep Learning'])])"
      ]
     },
     "execution_count": 18,
     "metadata": {},
     "output_type": "execute_result"
    }
   ],
   "source": [
    "# displaying items -\n",
    "dict1.items()"
   ]
  }
 ],
 "metadata": {
  "kernelspec": {
   "display_name": "Python 3 (ipykernel)",
   "language": "python",
   "name": "python3"
  },
  "language_info": {
   "codemirror_mode": {
    "name": "ipython",
    "version": 3
   },
   "file_extension": ".py",
   "mimetype": "text/x-python",
   "name": "python",
   "nbconvert_exporter": "python",
   "pygments_lexer": "ipython3",
   "version": "3.10.8"
  }
 },
 "nbformat": 4,
 "nbformat_minor": 5
}
