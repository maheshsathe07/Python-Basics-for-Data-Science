{
 "cells": [
  {
   "cell_type": "markdown",
   "id": "4f1df383-d4ee-47ae-87f6-835d0a27ecbd",
   "metadata": {},
   "source": [
    "### MultiThreading"
   ]
  },
  {
   "cell_type": "code",
   "execution_count": 19,
   "id": "a3bbc9a4-7a4b-4609-b243-cf7bf6e640ec",
   "metadata": {},
   "outputs": [],
   "source": [
    "#  try to create multiple processes  in same core.\n",
    "# in single core you try to occupy all resources and then you will be to execute the program"
   ]
  },
  {
   "cell_type": "code",
   "execution_count": 2,
   "id": "6e356371-a793-4b46-be3d-4083f6d7b894",
   "metadata": {},
   "outputs": [],
   "source": [
    "import threading"
   ]
  },
  {
   "cell_type": "code",
   "execution_count": 3,
   "id": "b855b98c-06a3-4c81-96e8-0218d1bc6e39",
   "metadata": {},
   "outputs": [],
   "source": [
    "def test(id):\n",
    "    print(\"this is my test if %d\" %id)"
   ]
  },
  {
   "cell_type": "code",
   "execution_count": 4,
   "id": "45b96c9b-6ba8-4426-b7b8-8b9e520c056c",
   "metadata": {},
   "outputs": [
    {
     "name": "stdout",
     "output_type": "stream",
     "text": [
      "this is my test if 10\n"
     ]
    }
   ],
   "source": [
    "test(10)"
   ]
  },
  {
   "cell_type": "code",
   "execution_count": 20,
   "id": "e748ed71-b00c-4e12-bd4c-6a64234a29b6",
   "metadata": {},
   "outputs": [
    {
     "name": "stdout",
     "output_type": "stream",
     "text": [
      "this is my test if 1\n"
     ]
    }
   ],
   "source": [
    "test(1)"
   ]
  },
  {
   "cell_type": "markdown",
   "id": "281a6da1-7987-4a4b-aa09-a683ddc3e03d",
   "metadata": {},
   "source": [
    "test(3)"
   ]
  },
  {
   "cell_type": "code",
   "execution_count": 11,
   "id": "b467db53-6e3a-43ea-bfcf-e386ca81c5c7",
   "metadata": {},
   "outputs": [],
   "source": [
    "thread = [threading.Thread(target=test, args = (i,)) for i in [10, 1, 3]]"
   ]
  },
  {
   "cell_type": "code",
   "execution_count": 12,
   "id": "b8cbb5e7-b0ed-41bd-97b2-21f4002b3870",
   "metadata": {},
   "outputs": [
    {
     "data": {
      "text/plain": [
       "[<Thread(Thread-8 (test), initial)>,\n",
       " <Thread(Thread-9 (test), initial)>,\n",
       " <Thread(Thread-10 (test), initial)>]"
      ]
     },
     "execution_count": 12,
     "metadata": {},
     "output_type": "execute_result"
    }
   ],
   "source": [
    "thread"
   ]
  },
  {
   "cell_type": "code",
   "execution_count": 13,
   "id": "072f298e-51e4-4cf6-8d06-d4f26e96801e",
   "metadata": {},
   "outputs": [
    {
     "name": "stdout",
     "output_type": "stream",
     "text": [
      "this is my test if 10\n",
      "this is my test if 1\n",
      "this is my test if 3\n"
     ]
    }
   ],
   "source": [
    "for i in thread: #execute in a single core\n",
    "    i.start()"
   ]
  },
  {
   "cell_type": "code",
   "execution_count": 14,
   "id": "977b5cdb-7610-41dd-9a6d-08c068c701eb",
   "metadata": {},
   "outputs": [],
   "source": [
    "# to fetch data from different websites\n",
    "import urllib.request\n",
    "\n",
    "def file_download(url, filename):\n",
    "    urllib.request.urlretrieve(url, filename)"
   ]
  },
  {
   "cell_type": "code",
   "execution_count": 21,
   "id": "58dbad56-dd84-4e0c-9b8c-596b44f57c19",
   "metadata": {},
   "outputs": [],
   "source": [
    "file_download('https://raw.githubusercontent.com/itsfoss/text-files/master/agatha.txt' , \"test1.txt\")"
   ]
  },
  {
   "cell_type": "code",
   "execution_count": 16,
   "id": "91a52a14-b69c-47c2-bdc7-fccf030ea669",
   "metadata": {},
   "outputs": [],
   "source": [
    "url_list = ['https://raw.githubusercontent.com/itsfoss/text-files/master/agatha.txt' , 'https://raw.githubusercontent.com/itsfoss/text-files/master/sherlock.txt' ,'https://raw.githubusercontent.com/itsfoss/text-files/master/sample_log_file.txt' ]"
   ]
  },
  {
   "cell_type": "code",
   "execution_count": 17,
   "id": "3f4a07ab-4b44-4ea3-aaf0-b3324b5b6e8c",
   "metadata": {},
   "outputs": [
    {
     "data": {
      "text/plain": [
       "['https://raw.githubusercontent.com/itsfoss/text-files/master/agatha.txt',\n",
       " 'https://raw.githubusercontent.com/itsfoss/text-files/master/sherlock.txt',\n",
       " 'https://raw.githubusercontent.com/itsfoss/text-files/master/sample_log_file.txt']"
      ]
     },
     "execution_count": 17,
     "metadata": {},
     "output_type": "execute_result"
    }
   ],
   "source": [
    "url_list"
   ]
  },
  {
   "cell_type": "code",
   "execution_count": 22,
   "id": "aa8c455a-2918-4694-b408-c803e93a5357",
   "metadata": {},
   "outputs": [],
   "source": [
    "data_file_list = ['data1.txt', 'data2.txt','data3.txt'] "
   ]
  },
  {
   "cell_type": "code",
   "execution_count": 23,
   "id": "4e6f3988-a3f2-476a-b179-e1c554840a7d",
   "metadata": {},
   "outputs": [
    {
     "data": {
      "text/plain": [
       "['data1.txt', 'data2.txt', 'data3.txt']"
      ]
     },
     "execution_count": 23,
     "metadata": {},
     "output_type": "execute_result"
    }
   ],
   "source": [
    "data_file_list"
   ]
  },
  {
   "cell_type": "code",
   "execution_count": 24,
   "id": "03c1bf5c-796b-402e-911b-4d4a3d72fb4d",
   "metadata": {},
   "outputs": [],
   "source": [
    "thread1 = [threading.Thread(target=file_download, args=(url_list[i], data_file_list[i])) for i in range(len(url_list))]"
   ]
  },
  {
   "cell_type": "code",
   "execution_count": 25,
   "id": "5ee46225-c674-4093-9f78-831894abb624",
   "metadata": {},
   "outputs": [],
   "source": [
    "for t in thread1:\n",
    "    t.start()"
   ]
  },
  {
   "cell_type": "code",
   "execution_count": 26,
   "id": "6c9bc254-aad6-4489-8197-dfd8295dda93",
   "metadata": {},
   "outputs": [
    {
     "data": {
      "text/plain": [
       "[<Thread(Thread-11 (file_download), stopped 140603320948288)>,\n",
       " <Thread(Thread-12 (file_download), stopped 140603312555584)>,\n",
       " <Thread(Thread-13 (file_download), stopped 140603304162880)>]"
      ]
     },
     "execution_count": 26,
     "metadata": {},
     "output_type": "execute_result"
    }
   ],
   "source": [
    "thread1"
   ]
  },
  {
   "cell_type": "code",
   "execution_count": 27,
   "id": "b4b4983f-5305-465d-bc3f-3de8b4bc6e1f",
   "metadata": {},
   "outputs": [],
   "source": [
    "import time"
   ]
  },
  {
   "cell_type": "code",
   "execution_count": 33,
   "id": "82d91112-82e5-4b4b-849b-a7f02b074a02",
   "metadata": {},
   "outputs": [],
   "source": [
    "def test2(x):\n",
    "    for i in range(10):\n",
    "        print(\"x %d and i %d\" %(x, i))\n",
    "        time.sleep(1) # gives output after 1-1 sec"
   ]
  },
  {
   "cell_type": "code",
   "execution_count": 34,
   "id": "94256134-f8c5-4cee-95bd-29c81c7bbe33",
   "metadata": {},
   "outputs": [],
   "source": [
    "thread2 = [threading.Thread(target = test2, args=(i, )) for i in [100, 10, 20, 5]]"
   ]
  },
  {
   "cell_type": "code",
   "execution_count": 35,
   "id": "6b4c85bd-3e47-4c7d-9432-8dfc16d2993f",
   "metadata": {},
   "outputs": [
    {
     "name": "stdout",
     "output_type": "stream",
     "text": [
      "x 100 and i 0\n",
      "x 10 and i 0\n",
      "x 20 and i 0\n",
      "x 5 and i 0\n",
      "x 100 and i 1\n",
      "x 10 and i 1\n",
      "x 20 and i 1\n",
      "x 5 and i 1\n",
      "x 100 and i 2\n",
      "x 10 and i 2\n",
      "x 20 and i 2\n",
      "x 5 and i 2\n",
      "x 100 and i 3\n",
      "x 10 and i 3\n",
      "x 5 and i 3\n",
      "x 20 and i 3\n",
      "x 100 and i 4\n",
      "x 10 and i 4\n",
      "x 5 and i 4\n",
      "x 20 and i 4\n",
      "x 100 and i 5\n",
      "x 10 and i 5\n",
      "x 20 and i 5\n",
      "x 5 and i 5\n",
      "x 100 and i 6x 10 and i 6\n",
      "\n",
      "x 20 and i 6\n",
      "x 5 and i 6\n",
      "x 10 and i 7x 100 and i 7\n",
      "\n",
      "x 20 and i 7\n",
      "x 5 and i 7\n",
      "x 10 and i 8x 100 and i 8\n",
      "\n",
      "x 20 and i 8\n",
      "x 5 and i 8\n",
      "x 100 and i 9\n",
      "x 10 and i 9\n",
      "x 20 and i 9\n",
      "x 5 and i 9\n"
     ]
    }
   ],
   "source": [
    "for t in thread2:\n",
    "    t.start()"
   ]
  },
  {
   "cell_type": "code",
   "execution_count": 32,
   "id": "6ef33279-f79e-48f9-9c15-b68ea0371177",
   "metadata": {},
   "outputs": [
    {
     "name": "stdout",
     "output_type": "stream",
     "text": [
      "x 10 and i 0\n",
      "x 10 and i 1\n",
      "x 10 and i 2\n",
      "x 10 and i 3\n",
      "x 10 and i 4\n",
      "x 10 and i 5\n",
      "x 10 and i 6\n",
      "x 10 and i 7\n",
      "x 10 and i 8\n",
      "x 10 and i 9\n"
     ]
    }
   ],
   "source": [
    "test2(10)"
   ]
  },
  {
   "cell_type": "code",
   "execution_count": 40,
   "id": "c63f6132-26b9-44fe-b9e1-a8bc330295cc",
   "metadata": {},
   "outputs": [
    {
     "name": "stdout",
     "output_type": "stream",
     "text": [
      "value of x 1 and value of shared_var 1 \n",
      "value of x 2 and value of shared_var 2 \n",
      "value of x 3 and value of shared_var 3 \n",
      "value of x 4 and value of shared_var 4 \n",
      "value of x 5 and value of shared_var 5 \n"
     ]
    }
   ],
   "source": [
    "shared_var = 0\n",
    "lock_var = threading.Lock()\n",
    "def test4(x):\n",
    "    global shared_var\n",
    "    with lock_var:\n",
    "        shared_var = shared_var+1\n",
    "        print(\"value of x %d and value of shared_var %d \" %(x, shared_var))\n",
    "        time.sleep(1)\n",
    "\n",
    "thread5 = [threading.Thread(target= test3, args = (i,)) for i in [1,2,3,4,5]]\n",
    "for t in thread5:\n",
    "    t.start()"
   ]
  },
  {
   "cell_type": "code",
   "execution_count": 38,
   "id": "8733fa8c-5776-421a-9c74-e26e1dc276a0",
   "metadata": {},
   "outputs": [
    {
     "name": "stdout",
     "output_type": "stream",
     "text": [
      "value of x 1 and value of shared_var 1 \n"
     ]
    }
   ],
   "source": [
    "test3(1)"
   ]
  },
  {
   "cell_type": "code",
   "execution_count": 39,
   "id": "601c28b1-ccb4-4950-a316-48143f03e1b2",
   "metadata": {},
   "outputs": [
    {
     "name": "stdout",
     "output_type": "stream",
     "text": [
      "value of x 2 and value of shared_var 2 \n"
     ]
    }
   ],
   "source": [
    "test3(2)"
   ]
  }
 ],
 "metadata": {
  "kernelspec": {
   "display_name": "Python 3 (ipykernel)",
   "language": "python",
   "name": "python3"
  },
  "language_info": {
   "codemirror_mode": {
    "name": "ipython",
    "version": 3
   },
   "file_extension": ".py",
   "mimetype": "text/x-python",
   "name": "python",
   "nbconvert_exporter": "python",
   "pygments_lexer": "ipython3",
   "version": "3.10.8"
  }
 },
 "nbformat": 4,
 "nbformat_minor": 5
}
